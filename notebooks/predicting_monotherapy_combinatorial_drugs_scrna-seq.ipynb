{
 "cells": [
  {
   "cell_type": "markdown",
   "metadata": {},
   "source": [
    "# CaDRReS-SC for predicting mono- and combinatorial drug response\n",
    "This notebook explains how load a pre-trained CaDRReS-SC model and predict drug response combination for your own data. In this example, we used scRNA-seq data of patient-derived cell lines obtained from head and neck patients. Cell clustering result is based on Scanpy package. For the detail of data preprocessing, cell clustering, and drug response prediction, please refer to our manuscript."
   ]
  },
  {
   "cell_type": "code",
   "execution_count": 3,
   "metadata": {
    "ExecuteTime": {
     "end_time": "2020-11-24T02:14:04.268386Z",
     "start_time": "2020-11-24T02:14:02.652252Z"
    }
   },
   "outputs": [],
   "source": [
    "import sys, os, pickle\n",
    "from collections import Counter\n",
    "import importlib\n",
    "from ipywidgets import widgets\n",
    "import warnings\n",
    "warnings.filterwarnings('ignore')\n",
    "import pandas as pd\n",
    "import numpy as np\n",
    "\n",
    "scriptpath = '..'\n",
    "sys.path.append(os.path.abspath(scriptpath))\n",
    "\n",
    "from cadrres_sc import pp, model, evaluation, utility"
   ]
  },
  {
   "cell_type": "markdown",
   "metadata": {},
   "source": [
    "# Load pre-trained model\n",
    "We will load a model and make a prediction based on HNSC pretrained model. Alternatively, a model trained previously in [notebook_02_model_prediction.ipynb](./notebook_02_model_prediction.ipynb) can also be used."
   ]
  },
  {
   "cell_type": "markdown",
   "metadata": {},
   "source": [
    "### Load the pre-trained model based on your selection\n"
   ]
  },
  {
   "cell_type": "code",
   "execution_count": 2,
   "metadata": {
    "ExecuteTime": {
     "end_time": "2020-11-19T02:55:34.384791Z",
     "start_time": "2020-11-19T02:55:34.368530Z"
    }
   },
   "outputs": [],
   "source": [
    "model_dir = '../data/pretrained_model/'\n",
    "model_name = 'hn_drug_cw_dw10_100000'\n",
    "model_file = model_dir + '{}_param_dict.pickle'.format(model_name)\n",
    "\n",
    "cadrres_model = model.load_model(model_file)"
   ]
  },
  {
   "cell_type": "markdown",
   "metadata": {},
   "source": [
    "# Read test data\n",
    "Again, for this example we load GDSC dataset.\n",
    "Note: GDSC_exp.tsv can be downloaded from https://www.dropbox.com/s/3v576mspw5yewbm/GDSC_exp.tsv?dl=0\n",
    "\n",
    "## Notes for other test data\n",
    "\n",
    "You can apply the model to other gene expression dataset. The input gene expression matrix should have been normalized, i.e. **for each sample, expression values are comparable across genes**. \n",
    "\n",
    "In this example the gene expression matrix provided by GDSC is already normalized using RMA.\n",
    "\n",
    "For RNA-seq data, read count should be normalized by gene length, using normalization methods such as TPM."
   ]
  },
  {
   "cell_type": "code",
   "execution_count": 3,
   "metadata": {
    "ExecuteTime": {
     "end_time": "2020-11-19T02:55:37.712711Z",
     "start_time": "2020-11-19T02:55:34.386765Z"
    }
   },
   "outputs": [
    {
     "name": "stdout",
     "output_type": "stream",
     "text": [
      "Dataframe shape: (17419, 1018) \n",
      "\n"
     ]
    },
    {
     "data": {
      "text/html": [
       "<div>\n",
       "<style scoped>\n",
       "    .dataframe tbody tr th:only-of-type {\n",
       "        vertical-align: middle;\n",
       "    }\n",
       "\n",
       "    .dataframe tbody tr th {\n",
       "        vertical-align: top;\n",
       "    }\n",
       "\n",
       "    .dataframe thead th {\n",
       "        text-align: right;\n",
       "    }\n",
       "</style>\n",
       "<table border=\"1\" class=\"dataframe\">\n",
       "  <thead>\n",
       "    <tr style=\"text-align: right;\">\n",
       "      <th></th>\n",
       "      <th>906826</th>\n",
       "      <th>687983</th>\n",
       "      <th>910927</th>\n",
       "      <th>1240138</th>\n",
       "      <th>1240139</th>\n",
       "      <th>906792</th>\n",
       "      <th>910688</th>\n",
       "      <th>1240135</th>\n",
       "      <th>1290812</th>\n",
       "      <th>907045</th>\n",
       "      <th>...</th>\n",
       "      <th>753584</th>\n",
       "      <th>907044</th>\n",
       "      <th>998184</th>\n",
       "      <th>908145</th>\n",
       "      <th>1659787</th>\n",
       "      <th>1298157</th>\n",
       "      <th>1480372</th>\n",
       "      <th>1298533</th>\n",
       "      <th>930299</th>\n",
       "      <th>905954.1</th>\n",
       "    </tr>\n",
       "    <tr>\n",
       "      <th>GENE</th>\n",
       "      <th></th>\n",
       "      <th></th>\n",
       "      <th></th>\n",
       "      <th></th>\n",
       "      <th></th>\n",
       "      <th></th>\n",
       "      <th></th>\n",
       "      <th></th>\n",
       "      <th></th>\n",
       "      <th></th>\n",
       "      <th></th>\n",
       "      <th></th>\n",
       "      <th></th>\n",
       "      <th></th>\n",
       "      <th></th>\n",
       "      <th></th>\n",
       "      <th></th>\n",
       "      <th></th>\n",
       "      <th></th>\n",
       "      <th></th>\n",
       "      <th></th>\n",
       "    </tr>\n",
       "  </thead>\n",
       "  <tbody>\n",
       "    <tr>\n",
       "      <th>A1BG</th>\n",
       "      <td>6.208447</td>\n",
       "      <td>5.025810</td>\n",
       "      <td>5.506955</td>\n",
       "      <td>4.208349</td>\n",
       "      <td>3.399366</td>\n",
       "      <td>4.917872</td>\n",
       "      <td>3.828088</td>\n",
       "      <td>5.146903</td>\n",
       "      <td>3.107543</td>\n",
       "      <td>5.062066</td>\n",
       "      <td>...</td>\n",
       "      <td>4.272172</td>\n",
       "      <td>3.435025</td>\n",
       "      <td>4.930052</td>\n",
       "      <td>2.900213</td>\n",
       "      <td>4.523712</td>\n",
       "      <td>5.074951</td>\n",
       "      <td>2.957153</td>\n",
       "      <td>3.089628</td>\n",
       "      <td>4.047364</td>\n",
       "      <td>5.329524</td>\n",
       "    </tr>\n",
       "    <tr>\n",
       "      <th>A1CF</th>\n",
       "      <td>2.981775</td>\n",
       "      <td>2.947547</td>\n",
       "      <td>2.872071</td>\n",
       "      <td>3.075478</td>\n",
       "      <td>2.853231</td>\n",
       "      <td>3.221491</td>\n",
       "      <td>2.996355</td>\n",
       "      <td>2.893977</td>\n",
       "      <td>2.755668</td>\n",
       "      <td>2.985650</td>\n",
       "      <td>...</td>\n",
       "      <td>2.941659</td>\n",
       "      <td>3.155536</td>\n",
       "      <td>2.983619</td>\n",
       "      <td>3.118312</td>\n",
       "      <td>2.975409</td>\n",
       "      <td>2.905804</td>\n",
       "      <td>2.944488</td>\n",
       "      <td>2.780003</td>\n",
       "      <td>2.870819</td>\n",
       "      <td>2.926353</td>\n",
       "    </tr>\n",
       "  </tbody>\n",
       "</table>\n",
       "<p>2 rows × 1018 columns</p>\n",
       "</div>"
      ],
      "text/plain": [
       "        906826    687983    910927   1240138   1240139    906792    910688  \\\n",
       "GENE                                                                         \n",
       "A1BG  6.208447  5.025810  5.506955  4.208349  3.399366  4.917872  3.828088   \n",
       "A1CF  2.981775  2.947547  2.872071  3.075478  2.853231  3.221491  2.996355   \n",
       "\n",
       "       1240135   1290812    907045  ...    753584    907044    998184  \\\n",
       "GENE                                ...                                 \n",
       "A1BG  5.146903  3.107543  5.062066  ...  4.272172  3.435025  4.930052   \n",
       "A1CF  2.893977  2.755668  2.985650  ...  2.941659  3.155536  2.983619   \n",
       "\n",
       "        908145   1659787   1298157   1480372   1298533    930299  905954.1  \n",
       "GENE                                                                        \n",
       "A1BG  2.900213  4.523712  5.074951  2.957153  3.089628  4.047364  5.329524  \n",
       "A1CF  3.118312  2.975409  2.905804  2.944488  2.780003  2.870819  2.926353  \n",
       "\n",
       "[2 rows x 1018 columns]"
      ]
     },
     "execution_count": 3,
     "metadata": {},
     "output_type": "execute_result"
    }
   ],
   "source": [
    "gene_exp_df = pd.read_csv('../data/GDSC/GDSC_exp.tsv', sep='\\t', index_col=0)\n",
    "gene_exp_df = gene_exp_df.groupby(gene_exp_df.index).mean()\n",
    "print(\"Dataframe shape:\", gene_exp_df.shape, \"\\n\")\n",
    "gene_exp_df.head(2)"
   ]
  },
  {
   "cell_type": "markdown",
   "metadata": {},
   "source": [
    "## Calculate fold-change\n",
    "We normalized baseline gene expression values for each gene by computing fold-changes compared to the median value across cell-lines"
   ]
  },
  {
   "cell_type": "code",
   "execution_count": 4,
   "metadata": {
    "ExecuteTime": {
     "end_time": "2020-11-19T02:55:41.828797Z",
     "start_time": "2020-11-19T02:55:37.714882Z"
    }
   },
   "outputs": [],
   "source": [
    "cell_line_log2_mean_fc_exp_df, cell_line_mean_exp_df = pp.gexp.normalize_log2_mean_fc(gene_exp_df)"
   ]
  },
  {
   "cell_type": "markdown",
   "metadata": {},
   "source": [
    "## Load cluster-specific gene expression profile\n",
    "Dimensions: genes x clusters."
   ]
  },
  {
   "cell_type": "code",
   "execution_count": 5,
   "metadata": {
    "ExecuteTime": {
     "end_time": "2020-11-19T02:55:41.834561Z",
     "start_time": "2020-11-19T02:55:41.830329Z"
    }
   },
   "outputs": [],
   "source": [
    "cluster_norm_exp_fname = '../data/patient/log2_fc_cluster_tpm.csv'\n",
    "output_dir = '../example_result/'"
   ]
  },
  {
   "cell_type": "code",
   "execution_count": 6,
   "metadata": {
    "ExecuteTime": {
     "end_time": "2020-11-19T02:55:41.928004Z",
     "start_time": "2020-11-19T02:55:41.836138Z"
    }
   },
   "outputs": [],
   "source": [
    "cluster_norm_exp_df = pd.read_csv(cluster_norm_exp_fname, index_col=0).T"
   ]
  },
  {
   "cell_type": "code",
   "execution_count": 7,
   "metadata": {
    "ExecuteTime": {
     "end_time": "2020-11-19T02:55:41.950967Z",
     "start_time": "2020-11-19T02:55:41.929466Z"
    }
   },
   "outputs": [
    {
     "data": {
      "text/html": [
       "<div>\n",
       "<style scoped>\n",
       "    .dataframe tbody tr th:only-of-type {\n",
       "        vertical-align: middle;\n",
       "    }\n",
       "\n",
       "    .dataframe tbody tr th {\n",
       "        vertical-align: top;\n",
       "    }\n",
       "\n",
       "    .dataframe thead th {\n",
       "        text-align: right;\n",
       "    }\n",
       "</style>\n",
       "<table border=\"1\" class=\"dataframe\">\n",
       "  <thead>\n",
       "    <tr style=\"text-align: right;\">\n",
       "      <th>cluster</th>\n",
       "      <th>A1</th>\n",
       "      <th>A2</th>\n",
       "      <th>B1</th>\n",
       "      <th>B2</th>\n",
       "      <th>C1</th>\n",
       "      <th>C2</th>\n",
       "      <th>D1</th>\n",
       "      <th>D2</th>\n",
       "      <th>E1</th>\n",
       "      <th>E2</th>\n",
       "      <th>...</th>\n",
       "      <th>G1</th>\n",
       "      <th>G2</th>\n",
       "      <th>H1</th>\n",
       "      <th>I1</th>\n",
       "      <th>I2</th>\n",
       "      <th>J1</th>\n",
       "      <th>J2</th>\n",
       "      <th>K1</th>\n",
       "      <th>L</th>\n",
       "      <th>M</th>\n",
       "    </tr>\n",
       "  </thead>\n",
       "  <tbody>\n",
       "    <tr>\n",
       "      <th>AAAS</th>\n",
       "      <td>0.336828</td>\n",
       "      <td>0.733255</td>\n",
       "      <td>-0.100211</td>\n",
       "      <td>0.040937</td>\n",
       "      <td>-0.750019</td>\n",
       "      <td>0.441902</td>\n",
       "      <td>0.974277</td>\n",
       "      <td>0.645204</td>\n",
       "      <td>0.244784</td>\n",
       "      <td>-0.114589</td>\n",
       "      <td>...</td>\n",
       "      <td>0.019484</td>\n",
       "      <td>0.136722</td>\n",
       "      <td>0.925250</td>\n",
       "      <td>-0.500852</td>\n",
       "      <td>-0.559264</td>\n",
       "      <td>-0.233178</td>\n",
       "      <td>-2.153421</td>\n",
       "      <td>-0.672916</td>\n",
       "      <td>-1.381729</td>\n",
       "      <td>0.455242</td>\n",
       "    </tr>\n",
       "    <tr>\n",
       "      <th>AAMP</th>\n",
       "      <td>0.473194</td>\n",
       "      <td>0.809530</td>\n",
       "      <td>-0.538478</td>\n",
       "      <td>-0.886829</td>\n",
       "      <td>-1.262913</td>\n",
       "      <td>0.205791</td>\n",
       "      <td>0.197723</td>\n",
       "      <td>-0.083110</td>\n",
       "      <td>0.637455</td>\n",
       "      <td>-0.549449</td>\n",
       "      <td>...</td>\n",
       "      <td>-0.297165</td>\n",
       "      <td>-0.565510</td>\n",
       "      <td>0.710484</td>\n",
       "      <td>-0.937867</td>\n",
       "      <td>-0.961804</td>\n",
       "      <td>-0.854976</td>\n",
       "      <td>-1.168757</td>\n",
       "      <td>-1.749972</td>\n",
       "      <td>-1.927377</td>\n",
       "      <td>0.724136</td>\n",
       "    </tr>\n",
       "  </tbody>\n",
       "</table>\n",
       "<p>2 rows × 24 columns</p>\n",
       "</div>"
      ],
      "text/plain": [
       "cluster        A1        A2        B1        B2        C1        C2        D1  \\\n",
       "AAAS     0.336828  0.733255 -0.100211  0.040937 -0.750019  0.441902  0.974277   \n",
       "AAMP     0.473194  0.809530 -0.538478 -0.886829 -1.262913  0.205791  0.197723   \n",
       "\n",
       "cluster        D2        E1        E2  ...        G1        G2        H1  \\\n",
       "AAAS     0.645204  0.244784 -0.114589  ...  0.019484  0.136722  0.925250   \n",
       "AAMP    -0.083110  0.637455 -0.549449  ... -0.297165 -0.565510  0.710484   \n",
       "\n",
       "cluster        I1        I2        J1        J2        K1         L         M  \n",
       "AAAS    -0.500852 -0.559264 -0.233178 -2.153421 -0.672916 -1.381729  0.455242  \n",
       "AAMP    -0.937867 -0.961804 -0.854976 -1.168757 -1.749972 -1.927377  0.724136  \n",
       "\n",
       "[2 rows x 24 columns]"
      ]
     },
     "execution_count": 7,
     "metadata": {},
     "output_type": "execute_result"
    }
   ],
   "source": [
    "cluster_norm_exp_df.head(2)"
   ]
  },
  {
   "cell_type": "markdown",
   "metadata": {},
   "source": [
    "## Read essential genes list\n",
    "\n",
    "Or in case you want your training using one specific set of genes."
   ]
  },
  {
   "cell_type": "code",
   "execution_count": 8,
   "metadata": {
    "ExecuteTime": {
     "end_time": "2020-11-19T02:55:41.960272Z",
     "start_time": "2020-11-19T02:55:41.954187Z"
    }
   },
   "outputs": [],
   "source": [
    "ess_gene_list = utility.get_gene_list('../data/essential_genes.txt')"
   ]
  },
  {
   "cell_type": "code",
   "execution_count": 9,
   "metadata": {
    "ExecuteTime": {
     "end_time": "2020-11-19T02:55:41.967932Z",
     "start_time": "2020-11-19T02:55:41.962391Z"
    }
   },
   "outputs": [
    {
     "data": {
      "text/plain": [
       "1724"
      ]
     },
     "execution_count": 9,
     "metadata": {},
     "output_type": "execute_result"
    }
   ],
   "source": [
    "selected_gene_list = [g for g in ess_gene_list if g in cluster_norm_exp_df.index]\n",
    "len(selected_gene_list)"
   ]
  },
  {
   "cell_type": "markdown",
   "metadata": {},
   "source": [
    "## Calculate kernel feature \n",
    "\n",
    "Now we will compute the kernel features between your loaded dataset (e.g, clustered patient data) and cell lines (or any other model you trained previously, e.g. CaDRReS-SC trained on PDX data)"
   ]
  },
  {
   "cell_type": "code",
   "execution_count": 10,
   "metadata": {
    "ExecuteTime": {
     "end_time": "2020-11-19T02:55:44.857603Z",
     "start_time": "2020-11-19T02:55:41.969765Z"
    }
   },
   "outputs": [
    {
     "name": "stdout",
     "output_type": "stream",
     "text": [
      "Calculating kernel features based on 1543 common genes\n",
      "(1724, 24) (17419, 1018)\n"
     ]
    }
   ],
   "source": [
    "test_kernel_df = pp.gexp.calculate_kernel_feature(cluster_norm_exp_df, cell_line_log2_mean_fc_exp_df, selected_gene_list)"
   ]
  },
  {
   "cell_type": "code",
   "execution_count": 11,
   "metadata": {
    "ExecuteTime": {
     "end_time": "2020-11-19T02:55:44.880380Z",
     "start_time": "2020-11-19T02:55:44.859431Z"
    }
   },
   "outputs": [
    {
     "name": "stdout",
     "output_type": "stream",
     "text": [
      "Dataframe shape: (24, 1018) \n",
      "\n"
     ]
    },
    {
     "data": {
      "text/html": [
       "<div>\n",
       "<style scoped>\n",
       "    .dataframe tbody tr th:only-of-type {\n",
       "        vertical-align: middle;\n",
       "    }\n",
       "\n",
       "    .dataframe tbody tr th {\n",
       "        vertical-align: top;\n",
       "    }\n",
       "\n",
       "    .dataframe thead th {\n",
       "        text-align: right;\n",
       "    }\n",
       "</style>\n",
       "<table border=\"1\" class=\"dataframe\">\n",
       "  <thead>\n",
       "    <tr style=\"text-align: right;\">\n",
       "      <th></th>\n",
       "      <th>906826</th>\n",
       "      <th>687983</th>\n",
       "      <th>910927</th>\n",
       "      <th>1240138</th>\n",
       "      <th>1240139</th>\n",
       "      <th>906792</th>\n",
       "      <th>910688</th>\n",
       "      <th>1240135</th>\n",
       "      <th>1290812</th>\n",
       "      <th>907045</th>\n",
       "      <th>...</th>\n",
       "      <th>753584</th>\n",
       "      <th>907044</th>\n",
       "      <th>998184</th>\n",
       "      <th>908145</th>\n",
       "      <th>1659787</th>\n",
       "      <th>1298157</th>\n",
       "      <th>1480372</th>\n",
       "      <th>1298533</th>\n",
       "      <th>930299</th>\n",
       "      <th>905954.1</th>\n",
       "    </tr>\n",
       "  </thead>\n",
       "  <tbody>\n",
       "    <tr>\n",
       "      <th>A1</th>\n",
       "      <td>-0.088693</td>\n",
       "      <td>0.006077</td>\n",
       "      <td>0.012800</td>\n",
       "      <td>0.053498</td>\n",
       "      <td>-0.023202</td>\n",
       "      <td>-0.028584</td>\n",
       "      <td>-0.016583</td>\n",
       "      <td>-0.028805</td>\n",
       "      <td>-0.014307</td>\n",
       "      <td>0.011490</td>\n",
       "      <td>...</td>\n",
       "      <td>0.045924</td>\n",
       "      <td>0.041197</td>\n",
       "      <td>0.092171</td>\n",
       "      <td>-0.055669</td>\n",
       "      <td>0.034366</td>\n",
       "      <td>0.028952</td>\n",
       "      <td>0.062804</td>\n",
       "      <td>0.054353</td>\n",
       "      <td>-0.099233</td>\n",
       "      <td>0.023063</td>\n",
       "    </tr>\n",
       "    <tr>\n",
       "      <th>A2</th>\n",
       "      <td>-0.091537</td>\n",
       "      <td>0.025458</td>\n",
       "      <td>0.023092</td>\n",
       "      <td>0.019596</td>\n",
       "      <td>-0.033255</td>\n",
       "      <td>-0.024068</td>\n",
       "      <td>-0.106061</td>\n",
       "      <td>-0.042283</td>\n",
       "      <td>-0.061509</td>\n",
       "      <td>-0.056078</td>\n",
       "      <td>...</td>\n",
       "      <td>0.069380</td>\n",
       "      <td>0.086493</td>\n",
       "      <td>0.109811</td>\n",
       "      <td>-0.145411</td>\n",
       "      <td>0.005792</td>\n",
       "      <td>0.058383</td>\n",
       "      <td>0.086940</td>\n",
       "      <td>0.095181</td>\n",
       "      <td>-0.085723</td>\n",
       "      <td>-0.025749</td>\n",
       "    </tr>\n",
       "  </tbody>\n",
       "</table>\n",
       "<p>2 rows × 1018 columns</p>\n",
       "</div>"
      ],
      "text/plain": [
       "      906826    687983    910927   1240138   1240139    906792    910688  \\\n",
       "A1 -0.088693  0.006077  0.012800  0.053498 -0.023202 -0.028584 -0.016583   \n",
       "A2 -0.091537  0.025458  0.023092  0.019596 -0.033255 -0.024068 -0.106061   \n",
       "\n",
       "     1240135   1290812    907045  ...    753584    907044    998184    908145  \\\n",
       "A1 -0.028805 -0.014307  0.011490  ...  0.045924  0.041197  0.092171 -0.055669   \n",
       "A2 -0.042283 -0.061509 -0.056078  ...  0.069380  0.086493  0.109811 -0.145411   \n",
       "\n",
       "     1659787   1298157   1480372   1298533    930299  905954.1  \n",
       "A1  0.034366  0.028952  0.062804  0.054353 -0.099233  0.023063  \n",
       "A2  0.005792  0.058383  0.086940  0.095181 -0.085723 -0.025749  \n",
       "\n",
       "[2 rows x 1018 columns]"
      ]
     },
     "execution_count": 11,
     "metadata": {},
     "output_type": "execute_result"
    }
   ],
   "source": [
    "print(\"Dataframe shape:\", test_kernel_df.shape, \"\\n\")\n",
    "test_kernel_df.head(2)"
   ]
  },
  {
   "cell_type": "markdown",
   "metadata": {},
   "source": [
    "# Drug response prediction\n",
    "Given the pre-trained model we will predict now for your clustered data"
   ]
  },
  {
   "cell_type": "code",
   "execution_count": 12,
   "metadata": {
    "ExecuteTime": {
     "end_time": "2020-11-19T02:55:44.891166Z",
     "start_time": "2020-11-19T02:55:44.882421Z"
    }
   },
   "outputs": [
    {
     "name": "stdout",
     "output_type": "stream",
     "text": [
      "Predicting drug response using CaDRReS: hn_drug_cw_dw10_100000\n",
      "done!\n"
     ]
    }
   ],
   "source": [
    "print('Predicting drug response using CaDRReS: {}'.format(model_name))\n",
    "pred_df, P_test_df= model.predict_from_model(cadrres_model, test_kernel_df)\n",
    "print('done!')"
   ]
  },
  {
   "cell_type": "markdown",
   "metadata": {},
   "source": [
    "Inspecting the model predictions and save the predictions"
   ]
  },
  {
   "cell_type": "code",
   "execution_count": 13,
   "metadata": {
    "ExecuteTime": {
     "end_time": "2020-11-19T02:55:44.912007Z",
     "start_time": "2020-11-19T02:55:44.892775Z"
    }
   },
   "outputs": [
    {
     "data": {
      "text/html": [
       "<div>\n",
       "<style scoped>\n",
       "    .dataframe tbody tr th:only-of-type {\n",
       "        vertical-align: middle;\n",
       "    }\n",
       "\n",
       "    .dataframe tbody tr th {\n",
       "        vertical-align: top;\n",
       "    }\n",
       "\n",
       "    .dataframe thead th {\n",
       "        text-align: right;\n",
       "    }\n",
       "</style>\n",
       "<table border=\"1\" class=\"dataframe\">\n",
       "  <thead>\n",
       "    <tr style=\"text-align: right;\">\n",
       "      <th>Drug ID</th>\n",
       "      <th>1001</th>\n",
       "      <th>1003</th>\n",
       "      <th>1004</th>\n",
       "      <th>1006</th>\n",
       "      <th>1007</th>\n",
       "      <th>1010</th>\n",
       "      <th>1012</th>\n",
       "      <th>1014</th>\n",
       "      <th>1015</th>\n",
       "      <th>1016</th>\n",
       "      <th>...</th>\n",
       "      <th>299</th>\n",
       "      <th>301</th>\n",
       "      <th>302</th>\n",
       "      <th>303</th>\n",
       "      <th>305</th>\n",
       "      <th>306</th>\n",
       "      <th>308</th>\n",
       "      <th>328</th>\n",
       "      <th>331</th>\n",
       "      <th>346</th>\n",
       "    </tr>\n",
       "  </thead>\n",
       "  <tbody>\n",
       "    <tr>\n",
       "      <th>A1</th>\n",
       "      <td>10.398524</td>\n",
       "      <td>-4.984888</td>\n",
       "      <td>-6.042325</td>\n",
       "      <td>0.982309</td>\n",
       "      <td>-6.936394</td>\n",
       "      <td>-0.012527</td>\n",
       "      <td>0.738146</td>\n",
       "      <td>2.654245</td>\n",
       "      <td>3.533897</td>\n",
       "      <td>-1.852266</td>\n",
       "      <td>...</td>\n",
       "      <td>0.565490</td>\n",
       "      <td>2.476670</td>\n",
       "      <td>0.206201</td>\n",
       "      <td>3.186974</td>\n",
       "      <td>3.689912</td>\n",
       "      <td>2.494804</td>\n",
       "      <td>-0.697373</td>\n",
       "      <td>-1.430192</td>\n",
       "      <td>1.614384</td>\n",
       "      <td>-3.958066</td>\n",
       "    </tr>\n",
       "    <tr>\n",
       "      <th>A2</th>\n",
       "      <td>9.961491</td>\n",
       "      <td>-6.814161</td>\n",
       "      <td>-7.065584</td>\n",
       "      <td>-0.291026</td>\n",
       "      <td>-7.484753</td>\n",
       "      <td>0.024981</td>\n",
       "      <td>0.003014</td>\n",
       "      <td>2.133796</td>\n",
       "      <td>2.968269</td>\n",
       "      <td>-2.287011</td>\n",
       "      <td>...</td>\n",
       "      <td>0.527419</td>\n",
       "      <td>2.163049</td>\n",
       "      <td>0.405491</td>\n",
       "      <td>2.869054</td>\n",
       "      <td>3.224147</td>\n",
       "      <td>2.274660</td>\n",
       "      <td>-1.156717</td>\n",
       "      <td>-2.388423</td>\n",
       "      <td>1.395083</td>\n",
       "      <td>-4.555484</td>\n",
       "    </tr>\n",
       "  </tbody>\n",
       "</table>\n",
       "<p>2 rows × 81 columns</p>\n",
       "</div>"
      ],
      "text/plain": [
       "Drug ID       1001      1003      1004      1006      1007      1010  \\\n",
       "A1       10.398524 -4.984888 -6.042325  0.982309 -6.936394 -0.012527   \n",
       "A2        9.961491 -6.814161 -7.065584 -0.291026 -7.484753  0.024981   \n",
       "\n",
       "Drug ID      1012      1014      1015      1016  ...       299       301  \\\n",
       "A1       0.738146  2.654245  3.533897 -1.852266  ...  0.565490  2.476670   \n",
       "A2       0.003014  2.133796  2.968269 -2.287011  ...  0.527419  2.163049   \n",
       "\n",
       "Drug ID       302       303       305       306       308       328       331  \\\n",
       "A1       0.206201  3.186974  3.689912  2.494804 -0.697373 -1.430192  1.614384   \n",
       "A2       0.405491  2.869054  3.224147  2.274660 -1.156717 -2.388423  1.395083   \n",
       "\n",
       "Drug ID       346  \n",
       "A1      -3.958066  \n",
       "A2      -4.555484  \n",
       "\n",
       "[2 rows x 81 columns]"
      ]
     },
     "execution_count": 13,
     "metadata": {},
     "output_type": "execute_result"
    }
   ],
   "source": [
    "#cluster vs drugs\n",
    "pred_df.head(2)"
   ]
  },
  {
   "cell_type": "code",
   "execution_count": 14,
   "metadata": {
    "ExecuteTime": {
     "end_time": "2020-11-19T02:55:44.930051Z",
     "start_time": "2020-11-19T02:55:44.914184Z"
    }
   },
   "outputs": [
    {
     "name": "stdout",
     "output_type": "stream",
     "text": [
      "Saving ../data/pretrained_model/hn_drug_cw_dw10_100000_test_pred.csv\n"
     ]
    }
   ],
   "source": [
    "print('Saving ' + model_dir + '{}_test_pred.csv'.format(model_name))\n",
    "pred_df.to_csv(output_dir + '{}_test_pred.csv'.format(model_name))"
   ]
  },
  {
   "cell_type": "markdown",
   "metadata": {},
   "source": [
    "# Predicting overall drug response and cell death percentage"
   ]
  },
  {
   "cell_type": "code",
   "execution_count": 1,
   "metadata": {
    "ExecuteTime": {
     "end_time": "2020-11-19T03:59:31.884541Z",
     "start_time": "2020-11-19T03:59:31.881762Z"
    }
   },
   "outputs": [],
   "source": [
    "# for each patient, if cell cluster is less than 5%, then we don't consider that cluster \n",
    "freq_cutoff = 0.05\n",
    "# estimate cell death percentage based on log2 of the median IC50 observed in HNSC cell lines (GDSC)\n",
    "ref_type = 'log2_median_ic50_hn'"
   ]
  },
  {
   "cell_type": "markdown",
   "metadata": {},
   "source": [
    "## Read drug statistics"
   ]
  },
  {
   "cell_type": "code",
   "execution_count": 16,
   "metadata": {
    "ExecuteTime": {
     "end_time": "2020-11-19T02:55:44.950856Z",
     "start_time": "2020-11-19T02:55:44.936998Z"
    }
   },
   "outputs": [
    {
     "name": "stdout",
     "output_type": "stream",
     "text": [
      "(81, 27)\n"
     ]
    }
   ],
   "source": [
    "drug_info_df = pd.read_csv('../preprocessed_data/GDSC/hn_drug_stat.csv', index_col=0)\n",
    "drug_info_df.index = drug_info_df.index.astype(str)\n",
    "\n",
    "drug_id_name_dict = dict(zip(drug_info_df.index, drug_info_df['Drug Name']))\n",
    "print (drug_info_df.shape)"
   ]
  },
  {
   "cell_type": "code",
   "execution_count": 17,
   "metadata": {
    "ExecuteTime": {
     "end_time": "2020-11-19T02:55:44.974410Z",
     "start_time": "2020-11-19T02:55:44.952631Z"
    }
   },
   "outputs": [
    {
     "data": {
      "text/html": [
       "<div>\n",
       "<style scoped>\n",
       "    .dataframe tbody tr th:only-of-type {\n",
       "        vertical-align: middle;\n",
       "    }\n",
       "\n",
       "    .dataframe tbody tr th {\n",
       "        vertical-align: top;\n",
       "    }\n",
       "\n",
       "    .dataframe thead th {\n",
       "        text-align: right;\n",
       "    }\n",
       "</style>\n",
       "<table border=\"1\" class=\"dataframe\">\n",
       "  <thead>\n",
       "    <tr style=\"text-align: right;\">\n",
       "      <th></th>\n",
       "      <th>Drug Name</th>\n",
       "      <th>Synonyms</th>\n",
       "      <th>Target</th>\n",
       "      <th>Target Pathway</th>\n",
       "      <th>Selleckchem Cat#</th>\n",
       "      <th>CAS number</th>\n",
       "      <th>PubCHEM</th>\n",
       "      <th>Others</th>\n",
       "      <th>entropy</th>\n",
       "      <th>max_conc</th>\n",
       "      <th>...</th>\n",
       "      <th>median_ic50_9f</th>\n",
       "      <th>log2_median_ic50_9f</th>\n",
       "      <th>log2_median_ic50_hn</th>\n",
       "      <th>median_ic50_hn</th>\n",
       "      <th>median_ic50_3f_hn</th>\n",
       "      <th>log2_median_ic50_3f_hn</th>\n",
       "      <th>median_ic50_9f_hn</th>\n",
       "      <th>log2_median_ic50_9f_hn</th>\n",
       "      <th>num_sensitive</th>\n",
       "      <th>num_sensitive_hn</th>\n",
       "    </tr>\n",
       "    <tr>\n",
       "      <th>Drug ID</th>\n",
       "      <th></th>\n",
       "      <th></th>\n",
       "      <th></th>\n",
       "      <th></th>\n",
       "      <th></th>\n",
       "      <th></th>\n",
       "      <th></th>\n",
       "      <th></th>\n",
       "      <th></th>\n",
       "      <th></th>\n",
       "      <th></th>\n",
       "      <th></th>\n",
       "      <th></th>\n",
       "      <th></th>\n",
       "      <th></th>\n",
       "      <th></th>\n",
       "      <th></th>\n",
       "      <th></th>\n",
       "      <th></th>\n",
       "      <th></th>\n",
       "      <th></th>\n",
       "    </tr>\n",
       "  </thead>\n",
       "  <tbody>\n",
       "    <tr>\n",
       "      <th>1001</th>\n",
       "      <td>AICA Ribonucleotide</td>\n",
       "      <td>AICAR, N1-(b-D-Ribofuranosyl)-5-aminoimidazole...</td>\n",
       "      <td>AMPK agonist</td>\n",
       "      <td>Metabolism</td>\n",
       "      <td>S1802</td>\n",
       "      <td>2627-69-2</td>\n",
       "      <td>65110</td>\n",
       "      <td>NaN</td>\n",
       "      <td>6.034272</td>\n",
       "      <td>2000.0</td>\n",
       "      <td>...</td>\n",
       "      <td>206.748380</td>\n",
       "      <td>7.691732</td>\n",
       "      <td>9.939784</td>\n",
       "      <td>982.139588</td>\n",
       "      <td>327.379863</td>\n",
       "      <td>8.354822</td>\n",
       "      <td>109.126621</td>\n",
       "      <td>6.769859</td>\n",
       "      <td>476</td>\n",
       "      <td>27</td>\n",
       "    </tr>\n",
       "    <tr>\n",
       "      <th>1003</th>\n",
       "      <td>Camptothecin</td>\n",
       "      <td>7-Ethyl-10-Hydroxy-Camptothecin, SN-38, Irinot...</td>\n",
       "      <td>TOP1</td>\n",
       "      <td>DNA replication</td>\n",
       "      <td>S1288</td>\n",
       "      <td>7689-03-4</td>\n",
       "      <td>104842</td>\n",
       "      <td>(SN-38, S4908, 86639-52-3) (Irinotecan, S1198,...</td>\n",
       "      <td>4.609530</td>\n",
       "      <td>0.1</td>\n",
       "      <td>...</td>\n",
       "      <td>0.002003</td>\n",
       "      <td>-8.963413</td>\n",
       "      <td>-7.587491</td>\n",
       "      <td>0.005199</td>\n",
       "      <td>0.001733</td>\n",
       "      <td>-9.172454</td>\n",
       "      <td>0.000578</td>\n",
       "      <td>-10.757416</td>\n",
       "      <td>688</td>\n",
       "      <td>30</td>\n",
       "    </tr>\n",
       "  </tbody>\n",
       "</table>\n",
       "<p>2 rows × 27 columns</p>\n",
       "</div>"
      ],
      "text/plain": [
       "                   Drug Name  \\\n",
       "Drug ID                        \n",
       "1001     AICA Ribonucleotide   \n",
       "1003            Camptothecin   \n",
       "\n",
       "                                                  Synonyms        Target  \\\n",
       "Drug ID                                                                    \n",
       "1001     AICAR, N1-(b-D-Ribofuranosyl)-5-aminoimidazole...  AMPK agonist   \n",
       "1003     7-Ethyl-10-Hydroxy-Camptothecin, SN-38, Irinot...          TOP1   \n",
       "\n",
       "          Target Pathway Selleckchem Cat# CAS number PubCHEM  \\\n",
       "Drug ID                                                        \n",
       "1001          Metabolism            S1802  2627-69-2   65110   \n",
       "1003     DNA replication            S1288  7689-03-4  104842   \n",
       "\n",
       "                                                    Others   entropy  \\\n",
       "Drug ID                                                                \n",
       "1001                                                   NaN  6.034272   \n",
       "1003     (SN-38, S4908, 86639-52-3) (Irinotecan, S1198,...  4.609530   \n",
       "\n",
       "         max_conc  ...  median_ic50_9f  log2_median_ic50_9f  \\\n",
       "Drug ID            ...                                        \n",
       "1001       2000.0  ...      206.748380             7.691732   \n",
       "1003          0.1  ...        0.002003            -8.963413   \n",
       "\n",
       "         log2_median_ic50_hn  median_ic50_hn  median_ic50_3f_hn  \\\n",
       "Drug ID                                                           \n",
       "1001                9.939784      982.139588         327.379863   \n",
       "1003               -7.587491        0.005199           0.001733   \n",
       "\n",
       "         log2_median_ic50_3f_hn  median_ic50_9f_hn  log2_median_ic50_9f_hn  \\\n",
       "Drug ID                                                                      \n",
       "1001                   8.354822         109.126621                6.769859   \n",
       "1003                  -9.172454           0.000578              -10.757416   \n",
       "\n",
       "         num_sensitive  num_sensitive_hn  \n",
       "Drug ID                                   \n",
       "1001               476                27  \n",
       "1003               688                30  \n",
       "\n",
       "[2 rows x 27 columns]"
      ]
     },
     "execution_count": 17,
     "metadata": {},
     "output_type": "execute_result"
    }
   ],
   "source": [
    "drug_info_df.head(2)"
   ]
  },
  {
   "cell_type": "markdown",
   "metadata": {},
   "source": [
    "## Load cluster-specific drug response prediction"
   ]
  },
  {
   "cell_type": "code",
   "execution_count": 1,
   "metadata": {
    "ExecuteTime": {
     "end_time": "2020-11-24T02:12:27.402521Z",
     "start_time": "2020-11-24T02:12:27.400107Z"
    }
   },
   "outputs": [],
   "source": [
    "cadrres_cluster_df = pd.read_csv(output_dir + '{}_test_pred.csv'.format(model_name), index_col=0)"
   ]
  },
  {
   "cell_type": "code",
   "execution_count": 19,
   "metadata": {
    "ExecuteTime": {
     "end_time": "2020-11-19T02:55:44.994070Z",
     "start_time": "2020-11-19T02:55:44.988468Z"
    }
   },
   "outputs": [
    {
     "name": "stdout",
     "output_type": "stream",
     "text": [
      "81 24\n"
     ]
    }
   ],
   "source": [
    "#load prediction for a certain set of drugs\n",
    "drug_list = drug_info_df.index\n",
    "cluster_list = cadrres_cluster_df.index\n",
    "print(len(drug_list), len(cluster_list))\n",
    "\n",
    "drug_info_df = drug_info_df.loc[drug_list]\n",
    "cadrres_cluster_df = cadrres_cluster_df[drug_list]"
   ]
  },
  {
   "cell_type": "markdown",
   "metadata": {},
   "source": [
    "## Load cluster proportion information"
   ]
  },
  {
   "cell_type": "code",
   "execution_count": 20,
   "metadata": {
    "ExecuteTime": {
     "end_time": "2020-11-19T02:55:45.035290Z",
     "start_time": "2020-11-19T02:55:44.996241Z"
    }
   },
   "outputs": [
    {
     "data": {
      "text/html": [
       "<div>\n",
       "<style scoped>\n",
       "    .dataframe tbody tr th:only-of-type {\n",
       "        vertical-align: middle;\n",
       "    }\n",
       "\n",
       "    .dataframe tbody tr th {\n",
       "        vertical-align: top;\n",
       "    }\n",
       "\n",
       "    .dataframe thead th {\n",
       "        text-align: right;\n",
       "    }\n",
       "</style>\n",
       "<table border=\"1\" class=\"dataframe\">\n",
       "  <thead>\n",
       "    <tr style=\"text-align: right;\">\n",
       "      <th>cluster</th>\n",
       "      <th>A1</th>\n",
       "      <th>A2</th>\n",
       "      <th>B1</th>\n",
       "      <th>B2</th>\n",
       "      <th>C1</th>\n",
       "      <th>C2</th>\n",
       "      <th>D1</th>\n",
       "      <th>D2</th>\n",
       "      <th>E1</th>\n",
       "      <th>E2</th>\n",
       "      <th>...</th>\n",
       "      <th>F3</th>\n",
       "      <th>G1</th>\n",
       "      <th>G2</th>\n",
       "      <th>H1</th>\n",
       "      <th>I1</th>\n",
       "      <th>I2</th>\n",
       "      <th>J1</th>\n",
       "      <th>J2</th>\n",
       "      <th>K1</th>\n",
       "      <th>L</th>\n",
       "    </tr>\n",
       "    <tr>\n",
       "      <th>patient_id</th>\n",
       "      <th></th>\n",
       "      <th></th>\n",
       "      <th></th>\n",
       "      <th></th>\n",
       "      <th></th>\n",
       "      <th></th>\n",
       "      <th></th>\n",
       "      <th></th>\n",
       "      <th></th>\n",
       "      <th></th>\n",
       "      <th></th>\n",
       "      <th></th>\n",
       "      <th></th>\n",
       "      <th></th>\n",
       "      <th></th>\n",
       "      <th></th>\n",
       "      <th></th>\n",
       "      <th></th>\n",
       "      <th></th>\n",
       "      <th></th>\n",
       "      <th></th>\n",
       "    </tr>\n",
       "  </thead>\n",
       "  <tbody>\n",
       "    <tr>\n",
       "      <th>HN120</th>\n",
       "      <td>0.010989</td>\n",
       "      <td>0.005495</td>\n",
       "      <td>0.0</td>\n",
       "      <td>0.0</td>\n",
       "      <td>0.0</td>\n",
       "      <td>0.0</td>\n",
       "      <td>0.313187</td>\n",
       "      <td>0.175824</td>\n",
       "      <td>0.000000</td>\n",
       "      <td>0.000000</td>\n",
       "      <td>...</td>\n",
       "      <td>0.000000</td>\n",
       "      <td>0.340659</td>\n",
       "      <td>0.120879</td>\n",
       "      <td>0.0</td>\n",
       "      <td>0.0</td>\n",
       "      <td>0.0</td>\n",
       "      <td>0.0</td>\n",
       "      <td>0.0</td>\n",
       "      <td>0.0</td>\n",
       "      <td>0.032967</td>\n",
       "    </tr>\n",
       "    <tr>\n",
       "      <th>HN137</th>\n",
       "      <td>0.000000</td>\n",
       "      <td>0.000000</td>\n",
       "      <td>0.0</td>\n",
       "      <td>0.0</td>\n",
       "      <td>0.0</td>\n",
       "      <td>0.0</td>\n",
       "      <td>0.005682</td>\n",
       "      <td>0.000000</td>\n",
       "      <td>0.340909</td>\n",
       "      <td>0.085227</td>\n",
       "      <td>...</td>\n",
       "      <td>0.096591</td>\n",
       "      <td>0.000000</td>\n",
       "      <td>0.000000</td>\n",
       "      <td>0.0</td>\n",
       "      <td>0.0</td>\n",
       "      <td>0.0</td>\n",
       "      <td>0.0</td>\n",
       "      <td>0.0</td>\n",
       "      <td>0.0</td>\n",
       "      <td>0.011364</td>\n",
       "    </tr>\n",
       "  </tbody>\n",
       "</table>\n",
       "<p>2 rows × 23 columns</p>\n",
       "</div>"
      ],
      "text/plain": [
       "cluster           A1        A2   B1   B2   C1   C2        D1        D2  \\\n",
       "patient_id                                                               \n",
       "HN120       0.010989  0.005495  0.0  0.0  0.0  0.0  0.313187  0.175824   \n",
       "HN137       0.000000  0.000000  0.0  0.0  0.0  0.0  0.005682  0.000000   \n",
       "\n",
       "cluster           E1        E2  ...        F3        G1        G2   H1   I1  \\\n",
       "patient_id                      ...                                           \n",
       "HN120       0.000000  0.000000  ...  0.000000  0.340659  0.120879  0.0  0.0   \n",
       "HN137       0.340909  0.085227  ...  0.096591  0.000000  0.000000  0.0  0.0   \n",
       "\n",
       "cluster      I2   J1   J2   K1         L  \n",
       "patient_id                                \n",
       "HN120       0.0  0.0  0.0  0.0  0.032967  \n",
       "HN137       0.0  0.0  0.0  0.0  0.011364  \n",
       "\n",
       "[2 rows x 23 columns]"
      ]
     },
     "execution_count": 20,
     "metadata": {},
     "output_type": "execute_result"
    }
   ],
   "source": [
    "freq_df = pd.read_excel('../data/patient/percent_patient_tpm_cluster.xlsx', index_col=[0, 1]).reset_index()\n",
    "freq_df = freq_df.pivot(index='patient_id', columns='cluster', values='percent').fillna(0) / 100\n",
    "\n",
    "patient_list = freq_df.index\n",
    "\n",
    "freq_df.head(2)\n",
    "#show patient by cluster percentage"
   ]
  },
  {
   "cell_type": "markdown",
   "metadata": {},
   "source": [
    "## Predict cell death percentage at the `ref_type` dosage"
   ]
  },
  {
   "cell_type": "code",
   "execution_count": 21,
   "metadata": {
    "ExecuteTime": {
     "end_time": "2020-11-19T02:55:45.045531Z",
     "start_time": "2020-11-19T02:55:45.037274Z"
    }
   },
   "outputs": [],
   "source": [
    "pred_delta_df = pd.DataFrame(cadrres_cluster_df.values - drug_info_df[ref_type].values, columns=drug_list, index=cluster_list)\n",
    "pred_cv_df = 100 / (1 + (np.power(2, -pred_delta_df)))\n",
    "pred_kill_df = 100 - pred_cv_df"
   ]
  },
  {
   "cell_type": "code",
   "execution_count": 22,
   "metadata": {
    "ExecuteTime": {
     "end_time": "2020-11-19T02:55:45.094651Z",
     "start_time": "2020-11-19T02:55:45.048797Z"
    }
   },
   "outputs": [
    {
     "name": "stdout",
     "output_type": "stream",
     "text": [
      "List of cluster in each patient\n",
      "HN120 ['D1' 'D2' 'G1' 'G2'] [0.31318681 0.17582418 0.34065934 0.12087912]\n",
      "HN137 ['E1' 'E2' 'E3' 'F1' 'F2' 'F3'] [0.34090909 0.08522727 0.07386364 0.26704545 0.11931818 0.09659091]\n",
      "HN148 ['C1' 'C2' 'H1'] [0.31351351 0.20540541 0.45945946]\n",
      "HN159 ['I1' 'I2' 'K1'] [0.31736527 0.18562874 0.48502994]\n",
      "HN160 ['B1' 'B2' 'L'] [0.42222222 0.41481481 0.16296296]\n",
      "HN182 ['J1' 'J2' 'L'] [0.71910112 0.20224719 0.07865169]\n"
     ]
    }
   ],
   "source": [
    "rows = []\n",
    "print('List of cluster in each patient')\n",
    "for p in patient_list:\n",
    "    c_list = freq_df.loc[p][freq_df.loc[p] >= freq_cutoff].index.values\n",
    "    freqs = freq_df.loc[p][freq_df.loc[p] >= freq_cutoff].values\n",
    "\n",
    "    print(p, c_list, freqs)\n",
    "\n",
    "    p_pred_delta_weighted = np.matmul(pred_delta_df.loc[c_list].values.T, freqs)\n",
    "    p_pred_delta_mat = pred_delta_df.loc[c_list].values\n",
    "    \n",
    "    p_pred_kill_weighted = np.matmul(pred_kill_df.loc[c_list].values.T, freqs)\n",
    "    p_pred_kill_mat = pred_kill_df.loc[c_list].values\n",
    "\n",
    "    for d_i, d_id in enumerate(drug_list):\n",
    "        rows += [[p, d_id] + ['|'.join(c_list)] + ['|'.join([\"{:.14}\".format(f) for f in freqs])] + \n",
    "                 ['|'.join([\"{:.14}\".format(f) for f in p_pred_delta_mat[:, d_i]])] + \n",
    "                 [\"{:.14}\".format(p_pred_delta_weighted[d_i])] +\n",
    "                 ['|'.join([\"{:.14}\".format(f) for f in p_pred_kill_mat[:, d_i]])] + \n",
    "                 [\"{:.14}\".format(p_pred_kill_weighted[d_i])]\n",
    "                ]"
   ]
  },
  {
   "cell_type": "code",
   "execution_count": 23,
   "metadata": {
    "ExecuteTime": {
     "end_time": "2020-11-19T02:55:45.113097Z",
     "start_time": "2020-11-19T02:55:45.098872Z"
    }
   },
   "outputs": [
    {
     "data": {
      "text/html": [
       "<div>\n",
       "<style scoped>\n",
       "    .dataframe tbody tr th:only-of-type {\n",
       "        vertical-align: middle;\n",
       "    }\n",
       "\n",
       "    .dataframe tbody tr th {\n",
       "        vertical-align: top;\n",
       "    }\n",
       "\n",
       "    .dataframe thead th {\n",
       "        text-align: right;\n",
       "    }\n",
       "</style>\n",
       "<table border=\"1\" class=\"dataframe\">\n",
       "  <thead>\n",
       "    <tr style=\"text-align: right;\">\n",
       "      <th></th>\n",
       "      <th>patient</th>\n",
       "      <th>drug_id</th>\n",
       "      <th>cluster</th>\n",
       "      <th>cluster_p</th>\n",
       "      <th>cluster_delta</th>\n",
       "      <th>delta</th>\n",
       "      <th>cluster_kill</th>\n",
       "      <th>kill</th>\n",
       "    </tr>\n",
       "  </thead>\n",
       "  <tbody>\n",
       "    <tr>\n",
       "      <th>0</th>\n",
       "      <td>HN120</td>\n",
       "      <td>1001</td>\n",
       "      <td>D1|D2|G1|G2</td>\n",
       "      <td>0.31318681318681|0.17582417582418|0.3406593406...</td>\n",
       "      <td>0.89891787646367|0.7950907549512|0.74073149856...</td>\n",
       "      <td>0.76608828181776</td>\n",
       "      <td>34.908073458363|36.560577887311|37.43884047451...</td>\n",
       "      <td>34.593677608186</td>\n",
       "    </tr>\n",
       "    <tr>\n",
       "      <th>1</th>\n",
       "      <td>HN120</td>\n",
       "      <td>1003</td>\n",
       "      <td>D1|D2|G1|G2</td>\n",
       "      <td>0.31318681318681|0.17582417582418|0.3406593406...</td>\n",
       "      <td>0.98686783677045|1.0705926967102|1.51153962438...</td>\n",
       "      <td>1.1697813179586</td>\n",
       "      <td>33.535917537247|32.254984202963|25.96632734701...</td>\n",
       "      <td>28.505381464623</td>\n",
       "    </tr>\n",
       "    <tr>\n",
       "      <th>2</th>\n",
       "      <td>HN120</td>\n",
       "      <td>1004</td>\n",
       "      <td>D1|D2|G1|G2</td>\n",
       "      <td>0.31318681318681|0.17582417582418|0.3406593406...</td>\n",
       "      <td>1.2280740256921|1.0045035858118|1.542851524626...</td>\n",
       "      <td>1.2676836647428</td>\n",
       "      <td>29.917363245775|33.263999510979|25.55127940412...</td>\n",
       "      <td>27.086112378265</td>\n",
       "    </tr>\n",
       "    <tr>\n",
       "      <th>3</th>\n",
       "      <td>HN120</td>\n",
       "      <td>1006</td>\n",
       "      <td>D1|D2|G1|G2</td>\n",
       "      <td>0.31318681318681|0.17582417582418|0.3406593406...</td>\n",
       "      <td>0.78745659587898|0.90971502511471|1.8838663034...</td>\n",
       "      <td>1.2245948422257</td>\n",
       "      <td>36.683397262759|34.738211834014|21.31910722766...</td>\n",
       "      <td>28.084570239709</td>\n",
       "    </tr>\n",
       "    <tr>\n",
       "      <th>4</th>\n",
       "      <td>HN120</td>\n",
       "      <td>1007</td>\n",
       "      <td>D1|D2|G1|G2</td>\n",
       "      <td>0.31318681318681|0.17582417582418|0.3406593406...</td>\n",
       "      <td>3.0508057471845|2.68344052681|4.0167768343325|...</td>\n",
       "      <td>3.2576613093829</td>\n",
       "      <td>10.768034058802|13.470080993016|5.818301286009...</td>\n",
       "      <td>8.5209921135827</td>\n",
       "    </tr>\n",
       "  </tbody>\n",
       "</table>\n",
       "</div>"
      ],
      "text/plain": [
       "  patient drug_id      cluster  \\\n",
       "0   HN120    1001  D1|D2|G1|G2   \n",
       "1   HN120    1003  D1|D2|G1|G2   \n",
       "2   HN120    1004  D1|D2|G1|G2   \n",
       "3   HN120    1006  D1|D2|G1|G2   \n",
       "4   HN120    1007  D1|D2|G1|G2   \n",
       "\n",
       "                                           cluster_p  \\\n",
       "0  0.31318681318681|0.17582417582418|0.3406593406...   \n",
       "1  0.31318681318681|0.17582417582418|0.3406593406...   \n",
       "2  0.31318681318681|0.17582417582418|0.3406593406...   \n",
       "3  0.31318681318681|0.17582417582418|0.3406593406...   \n",
       "4  0.31318681318681|0.17582417582418|0.3406593406...   \n",
       "\n",
       "                                       cluster_delta             delta  \\\n",
       "0  0.89891787646367|0.7950907549512|0.74073149856...  0.76608828181776   \n",
       "1  0.98686783677045|1.0705926967102|1.51153962438...   1.1697813179586   \n",
       "2  1.2280740256921|1.0045035858118|1.542851524626...   1.2676836647428   \n",
       "3  0.78745659587898|0.90971502511471|1.8838663034...   1.2245948422257   \n",
       "4  3.0508057471845|2.68344052681|4.0167768343325|...   3.2576613093829   \n",
       "\n",
       "                                        cluster_kill             kill  \n",
       "0  34.908073458363|36.560577887311|37.43884047451...  34.593677608186  \n",
       "1  33.535917537247|32.254984202963|25.96632734701...  28.505381464623  \n",
       "2  29.917363245775|33.263999510979|25.55127940412...  27.086112378265  \n",
       "3  36.683397262759|34.738211834014|21.31910722766...  28.084570239709  \n",
       "4  10.768034058802|13.470080993016|5.818301286009...  8.5209921135827  "
      ]
     },
     "execution_count": 23,
     "metadata": {},
     "output_type": "execute_result"
    }
   ],
   "source": [
    "single_drug_pred_df = pd.DataFrame(rows, columns=['patient', 'drug_id', 'cluster', 'cluster_p', 'cluster_delta', 'delta', 'cluster_kill', 'kill'])\n",
    "single_drug_pred_df.head()"
   ]
  },
  {
   "cell_type": "code",
   "execution_count": 24,
   "metadata": {
    "ExecuteTime": {
     "end_time": "2020-11-19T02:55:45.128412Z",
     "start_time": "2020-11-19T02:55:45.115664Z"
    }
   },
   "outputs": [],
   "source": [
    "single_drug_pred_df.to_csv(output_dir + 'pred_drug_kill_{}.csv'.format(model_name), index=False)"
   ]
  },
  {
   "cell_type": "markdown",
   "metadata": {},
   "source": [
    "## Predict patient respose to combinatorial drugs"
   ]
  },
  {
   "cell_type": "code",
   "execution_count": 25,
   "metadata": {
    "ExecuteTime": {
     "end_time": "2020-11-19T02:55:45.136585Z",
     "start_time": "2020-11-19T02:55:45.130684Z"
    }
   },
   "outputs": [
    {
     "data": {
      "text/plain": [
       "['Docetaxel',\n",
       " 'Doxorubicin',\n",
       " 'Epothilone B',\n",
       " 'Gefitinib',\n",
       " 'Obatoclax Mesylate',\n",
       " 'PHA-793887',\n",
       " 'PI-103',\n",
       " 'Vorinostat']"
      ]
     },
     "execution_count": 25,
     "metadata": {},
     "output_type": "execute_result"
    }
   ],
   "source": [
    "tested_drug_list = [1007, 133, 201, 1010, 182, 301, 302, 1012]\n",
    "[drug_id_name_dict[str(d)] for d in tested_drug_list]"
   ]
  },
  {
   "cell_type": "code",
   "execution_count": 26,
   "metadata": {
    "ExecuteTime": {
     "end_time": "2020-11-19T02:55:45.165310Z",
     "start_time": "2020-11-19T02:55:45.138559Z"
    }
   },
   "outputs": [
    {
     "data": {
      "text/html": [
       "<div>\n",
       "<style scoped>\n",
       "    .dataframe tbody tr th:only-of-type {\n",
       "        vertical-align: middle;\n",
       "    }\n",
       "\n",
       "    .dataframe tbody tr th {\n",
       "        vertical-align: top;\n",
       "    }\n",
       "\n",
       "    .dataframe thead th {\n",
       "        text-align: right;\n",
       "    }\n",
       "</style>\n",
       "<table border=\"1\" class=\"dataframe\">\n",
       "  <thead>\n",
       "    <tr style=\"text-align: right;\">\n",
       "      <th></th>\n",
       "      <th>patient</th>\n",
       "      <th>drug_id</th>\n",
       "      <th>cluster</th>\n",
       "      <th>cluster_p</th>\n",
       "      <th>cluster_delta</th>\n",
       "      <th>delta</th>\n",
       "      <th>cluster_kill</th>\n",
       "      <th>kill</th>\n",
       "      <th>drug_name</th>\n",
       "    </tr>\n",
       "  </thead>\n",
       "  <tbody>\n",
       "    <tr>\n",
       "      <th>0</th>\n",
       "      <td>HN120</td>\n",
       "      <td>1001</td>\n",
       "      <td>D1|D2|G1|G2</td>\n",
       "      <td>0.31318681318681|0.17582417582418|0.3406593406...</td>\n",
       "      <td>0.89891787646367|0.7950907549512|0.74073149856...</td>\n",
       "      <td>0.76608828181776</td>\n",
       "      <td>34.908073458363|36.560577887311|37.43884047451...</td>\n",
       "      <td>34.593677608186</td>\n",
       "      <td>AICA Ribonucleotide</td>\n",
       "    </tr>\n",
       "    <tr>\n",
       "      <th>1</th>\n",
       "      <td>HN120</td>\n",
       "      <td>1003</td>\n",
       "      <td>D1|D2|G1|G2</td>\n",
       "      <td>0.31318681318681|0.17582417582418|0.3406593406...</td>\n",
       "      <td>0.98686783677045|1.0705926967102|1.51153962438...</td>\n",
       "      <td>1.1697813179586</td>\n",
       "      <td>33.535917537247|32.254984202963|25.96632734701...</td>\n",
       "      <td>28.505381464623</td>\n",
       "      <td>Camptothecin</td>\n",
       "    </tr>\n",
       "    <tr>\n",
       "      <th>2</th>\n",
       "      <td>HN120</td>\n",
       "      <td>1004</td>\n",
       "      <td>D1|D2|G1|G2</td>\n",
       "      <td>0.31318681318681|0.17582417582418|0.3406593406...</td>\n",
       "      <td>1.2280740256921|1.0045035858118|1.542851524626...</td>\n",
       "      <td>1.2676836647428</td>\n",
       "      <td>29.917363245775|33.263999510979|25.55127940412...</td>\n",
       "      <td>27.086112378265</td>\n",
       "      <td>Vinblastine</td>\n",
       "    </tr>\n",
       "    <tr>\n",
       "      <th>3</th>\n",
       "      <td>HN120</td>\n",
       "      <td>1006</td>\n",
       "      <td>D1|D2|G1|G2</td>\n",
       "      <td>0.31318681318681|0.17582417582418|0.3406593406...</td>\n",
       "      <td>0.78745659587898|0.90971502511471|1.8838663034...</td>\n",
       "      <td>1.2245948422257</td>\n",
       "      <td>36.683397262759|34.738211834014|21.31910722766...</td>\n",
       "      <td>28.084570239709</td>\n",
       "      <td>Cytarabine</td>\n",
       "    </tr>\n",
       "    <tr>\n",
       "      <th>4</th>\n",
       "      <td>HN120</td>\n",
       "      <td>1007</td>\n",
       "      <td>D1|D2|G1|G2</td>\n",
       "      <td>0.31318681318681|0.17582417582418|0.3406593406...</td>\n",
       "      <td>3.0508057471845|2.68344052681|4.0167768343325|...</td>\n",
       "      <td>3.2576613093829</td>\n",
       "      <td>10.768034058802|13.470080993016|5.818301286009...</td>\n",
       "      <td>8.5209921135827</td>\n",
       "      <td>Docetaxel</td>\n",
       "    </tr>\n",
       "  </tbody>\n",
       "</table>\n",
       "</div>"
      ],
      "text/plain": [
       "  patient drug_id      cluster  \\\n",
       "0   HN120    1001  D1|D2|G1|G2   \n",
       "1   HN120    1003  D1|D2|G1|G2   \n",
       "2   HN120    1004  D1|D2|G1|G2   \n",
       "3   HN120    1006  D1|D2|G1|G2   \n",
       "4   HN120    1007  D1|D2|G1|G2   \n",
       "\n",
       "                                           cluster_p  \\\n",
       "0  0.31318681318681|0.17582417582418|0.3406593406...   \n",
       "1  0.31318681318681|0.17582417582418|0.3406593406...   \n",
       "2  0.31318681318681|0.17582417582418|0.3406593406...   \n",
       "3  0.31318681318681|0.17582417582418|0.3406593406...   \n",
       "4  0.31318681318681|0.17582417582418|0.3406593406...   \n",
       "\n",
       "                                       cluster_delta             delta  \\\n",
       "0  0.89891787646367|0.7950907549512|0.74073149856...  0.76608828181776   \n",
       "1  0.98686783677045|1.0705926967102|1.51153962438...   1.1697813179586   \n",
       "2  1.2280740256921|1.0045035858118|1.542851524626...   1.2676836647428   \n",
       "3  0.78745659587898|0.90971502511471|1.8838663034...   1.2245948422257   \n",
       "4  3.0508057471845|2.68344052681|4.0167768343325|...   3.2576613093829   \n",
       "\n",
       "                                        cluster_kill             kill  \\\n",
       "0  34.908073458363|36.560577887311|37.43884047451...  34.593677608186   \n",
       "1  33.535917537247|32.254984202963|25.96632734701...  28.505381464623   \n",
       "2  29.917363245775|33.263999510979|25.55127940412...  27.086112378265   \n",
       "3  36.683397262759|34.738211834014|21.31910722766...  28.084570239709   \n",
       "4  10.768034058802|13.470080993016|5.818301286009...  8.5209921135827   \n",
       "\n",
       "             drug_name  \n",
       "0  AICA Ribonucleotide  \n",
       "1         Camptothecin  \n",
       "2          Vinblastine  \n",
       "3           Cytarabine  \n",
       "4            Docetaxel  "
      ]
     },
     "execution_count": 26,
     "metadata": {},
     "output_type": "execute_result"
    }
   ],
   "source": [
    "single_drug_pred_df.loc[:, 'drug_id'] = single_drug_pred_df.loc[:, 'drug_id'].values.astype(str)\n",
    "single_drug_pred_df.loc[:, 'drug_name'] = [drug_id_name_dict[d] for d in single_drug_pred_df.loc[:, 'drug_id'].values]\n",
    "patient_list = sorted(list(set(single_drug_pred_df['patient'])))\n",
    "\n",
    "single_drug_pred_df.head()"
   ]
  },
  {
   "cell_type": "markdown",
   "metadata": {},
   "source": [
    "### Setup all drug combinations by patient"
   ]
  },
  {
   "cell_type": "code",
   "execution_count": 27,
   "metadata": {
    "ExecuteTime": {
     "end_time": "2020-11-19T02:55:45.179981Z",
     "start_time": "2020-11-19T02:55:45.167362Z"
    }
   },
   "outputs": [
    {
     "name": "stdout",
     "output_type": "stream",
     "text": [
      "(168, 3)\n"
     ]
    },
    {
     "data": {
      "text/html": [
       "<div>\n",
       "<style scoped>\n",
       "    .dataframe tbody tr th:only-of-type {\n",
       "        vertical-align: middle;\n",
       "    }\n",
       "\n",
       "    .dataframe tbody tr th {\n",
       "        vertical-align: top;\n",
       "    }\n",
       "\n",
       "    .dataframe thead th {\n",
       "        text-align: right;\n",
       "    }\n",
       "</style>\n",
       "<table border=\"1\" class=\"dataframe\">\n",
       "  <thead>\n",
       "    <tr style=\"text-align: right;\">\n",
       "      <th></th>\n",
       "      <th>patient</th>\n",
       "      <th>A</th>\n",
       "      <th>B</th>\n",
       "    </tr>\n",
       "  </thead>\n",
       "  <tbody>\n",
       "    <tr>\n",
       "      <th>0</th>\n",
       "      <td>HN120</td>\n",
       "      <td>1007</td>\n",
       "      <td>133</td>\n",
       "    </tr>\n",
       "    <tr>\n",
       "      <th>1</th>\n",
       "      <td>HN120</td>\n",
       "      <td>1007</td>\n",
       "      <td>201</td>\n",
       "    </tr>\n",
       "    <tr>\n",
       "      <th>2</th>\n",
       "      <td>HN120</td>\n",
       "      <td>1007</td>\n",
       "      <td>1010</td>\n",
       "    </tr>\n",
       "    <tr>\n",
       "      <th>3</th>\n",
       "      <td>HN120</td>\n",
       "      <td>1007</td>\n",
       "      <td>182</td>\n",
       "    </tr>\n",
       "    <tr>\n",
       "      <th>4</th>\n",
       "      <td>HN120</td>\n",
       "      <td>1007</td>\n",
       "      <td>301</td>\n",
       "    </tr>\n",
       "  </tbody>\n",
       "</table>\n",
       "</div>"
      ],
      "text/plain": [
       "  patient     A     B\n",
       "0   HN120  1007   133\n",
       "1   HN120  1007   201\n",
       "2   HN120  1007  1010\n",
       "3   HN120  1007   182\n",
       "4   HN120  1007   301"
      ]
     },
     "execution_count": 27,
     "metadata": {},
     "output_type": "execute_result"
    }
   ],
   "source": [
    "drug_combi_list = []\n",
    "n_drugs = len(tested_drug_list)\n",
    "\n",
    "for p in patient_list:\n",
    "    for x in range(0, n_drugs-1):\n",
    "        for y in range(x+1, n_drugs):\n",
    "            drug_x = str(tested_drug_list[x])\n",
    "            drug_y = str(tested_drug_list[y])\n",
    "\n",
    "            drug_combi_list += [[p, drug_x, drug_y]]\n",
    "\n",
    "drug_combi_df = pd.DataFrame(drug_combi_list, columns=['patient', 'A', 'B'])\n",
    "\n",
    "print (drug_combi_df.shape)\n",
    "drug_combi_df.head()"
   ]
  },
  {
   "cell_type": "code",
   "execution_count": 28,
   "metadata": {
    "ExecuteTime": {
     "end_time": "2020-11-19T02:55:45.196375Z",
     "start_time": "2020-11-19T02:55:45.181944Z"
    }
   },
   "outputs": [],
   "source": [
    "merge_df = pd.merge(drug_combi_df, single_drug_pred_df, how='left', left_on=['patient', 'A'], right_on=['patient', 'drug_id'])\n",
    "drug_combi_pred_df = pd.merge(merge_df, single_drug_pred_df[['patient', 'drug_id', 'drug_name', 'cluster_delta', 'delta', 'cluster_kill', 'kill']], how='left', left_on=['patient', 'B'], right_on=['patient', 'drug_id'], suffixes=['_A', '_B'])"
   ]
  },
  {
   "cell_type": "code",
   "execution_count": 29,
   "metadata": {
    "ExecuteTime": {
     "end_time": "2020-11-19T02:55:45.331307Z",
     "start_time": "2020-11-19T02:55:45.198027Z"
    }
   },
   "outputs": [],
   "source": [
    "rows = []\n",
    "for _, data in drug_combi_pred_df.iterrows():\n",
    "    \n",
    "    cluster_p = np.array([float(p) for p in data['cluster_p'].split('|')])\n",
    "    \n",
    "    cluster_kill_A = np.array([float(k) for k in data['cluster_kill_A'].split('|')])\n",
    "    cluster_kill_B = np.array([float(k) for k in data['cluster_kill_B'].split('|')])\n",
    "    \n",
    "    kill_A = drug_combi_pred_df['kill_A'].astype('float')\n",
    "    kill_B = drug_combi_pred_df['kill_B'].astype('float')\n",
    "    \n",
    "    cluster_kill_C = cluster_kill_A + cluster_kill_B - np.multiply(cluster_kill_A/100, cluster_kill_B/100)*100\n",
    "    kill_C = np.sum(cluster_p * cluster_kill_C)\n",
    "    \n",
    "    best_kill = np.max([kill_A, kill_B])\n",
    "    improve = kill_C - best_kill\n",
    "    improve_p = (kill_C - best_kill) / best_kill\n",
    "    \n",
    "    ##### specificity (entropy) #####\n",
    "    \n",
    "    temp_A = np.sum(cluster_p[cluster_kill_A > cluster_kill_B])\n",
    "    temp_B = np.sum(cluster_p[cluster_kill_A <= cluster_kill_B])\n",
    "    if temp_A == 0 or temp_B == 0:\n",
    "        entropy = 0\n",
    "    else:\n",
    "        entropy = -(temp_A * np.log2(temp_A) + temp_B * np.log2(temp_B))\n",
    "    \n",
    "    sum_kill_dif = np.sum(np.abs(cluster_kill_A - cluster_kill_B))\n",
    "    \n",
    "    ##### save output #####\n",
    "    \n",
    "    rows += [['|'.join([\"{:.14}\".format(k) for k in cluster_kill_C])] + [kill_C, improve, improve_p, entropy, sum_kill_dif]]"
   ]
  },
  {
   "cell_type": "code",
   "execution_count": 30,
   "metadata": {
    "ExecuteTime": {
     "end_time": "2020-11-19T02:55:45.342547Z",
     "start_time": "2020-11-19T02:55:45.334534Z"
    }
   },
   "outputs": [
    {
     "data": {
      "text/plain": [
       "(168, 23)"
      ]
     },
     "execution_count": 30,
     "metadata": {},
     "output_type": "execute_result"
    }
   ],
   "source": [
    "drug_combi_pred_df = pd.concat([drug_combi_pred_df, pd.DataFrame(rows, columns=['cluster_kill_C', 'kill_C', 'improve', 'improve_p', 'kill_entropy', 'sum_kill_dif'])], axis=1)\n",
    "drug_combi_pred_df.shape"
   ]
  },
  {
   "cell_type": "markdown",
   "metadata": {},
   "source": [
    "### Final drug combination predictions for patients"
   ]
  },
  {
   "cell_type": "code",
   "execution_count": 31,
   "metadata": {
    "ExecuteTime": {
     "end_time": "2020-11-19T02:55:45.366320Z",
     "start_time": "2020-11-19T02:55:45.344456Z"
    }
   },
   "outputs": [
    {
     "data": {
      "text/html": [
       "<div>\n",
       "<style scoped>\n",
       "    .dataframe tbody tr th:only-of-type {\n",
       "        vertical-align: middle;\n",
       "    }\n",
       "\n",
       "    .dataframe tbody tr th {\n",
       "        vertical-align: top;\n",
       "    }\n",
       "\n",
       "    .dataframe thead th {\n",
       "        text-align: right;\n",
       "    }\n",
       "</style>\n",
       "<table border=\"1\" class=\"dataframe\">\n",
       "  <thead>\n",
       "    <tr style=\"text-align: right;\">\n",
       "      <th></th>\n",
       "      <th>patient</th>\n",
       "      <th>drug_id_A</th>\n",
       "      <th>drug_name_A</th>\n",
       "      <th>drug_id_B</th>\n",
       "      <th>drug_name_B</th>\n",
       "      <th>cluster</th>\n",
       "      <th>cluster_p</th>\n",
       "      <th>cluster_kill_A</th>\n",
       "      <th>cluster_kill_B</th>\n",
       "      <th>cluster_kill_C</th>\n",
       "      <th>kill_A</th>\n",
       "      <th>kill_B</th>\n",
       "      <th>kill_C</th>\n",
       "      <th>improve</th>\n",
       "      <th>improve_p</th>\n",
       "      <th>kill_entropy</th>\n",
       "      <th>sum_kill_dif</th>\n",
       "    </tr>\n",
       "  </thead>\n",
       "  <tbody>\n",
       "    <tr>\n",
       "      <th>0</th>\n",
       "      <td>HN120</td>\n",
       "      <td>1007</td>\n",
       "      <td>Docetaxel</td>\n",
       "      <td>133</td>\n",
       "      <td>Doxorubicin</td>\n",
       "      <td>D1|D2|G1|G2</td>\n",
       "      <td>0.31318681318681|0.17582417582418|0.3406593406...</td>\n",
       "      <td>10.768034058802|13.470080993016|5.818301286009...</td>\n",
       "      <td>87.32965858477|84.087272226485|70.694442969728...</td>\n",
       "      <td>88.694005263728|86.230729545776|72.39952857129...</td>\n",
       "      <td>8.5209921135827</td>\n",
       "      <td>75.63044860423</td>\n",
       "      <td>77.192115</td>\n",
       "      <td>-8.495648</td>\n",
       "      <td>-0.099147</td>\n",
       "      <td>0.0</td>\n",
       "      <td>283.320302</td>\n",
       "    </tr>\n",
       "    <tr>\n",
       "      <th>1</th>\n",
       "      <td>HN120</td>\n",
       "      <td>1007</td>\n",
       "      <td>Docetaxel</td>\n",
       "      <td>201</td>\n",
       "      <td>Epothilone B</td>\n",
       "      <td>D1|D2|G1|G2</td>\n",
       "      <td>0.31318681318681|0.17582417582418|0.3406593406...</td>\n",
       "      <td>10.768034058802|13.470080993016|5.818301286009...</td>\n",
       "      <td>82.559569253274|75.901345747413|42.11102158023...</td>\n",
       "      <td>84.437560776083|79.147453993463|45.47917675608...</td>\n",
       "      <td>8.5209921135827</td>\n",
       "      <td>60.390313965552</td>\n",
       "      <td>63.042938</td>\n",
       "      <td>-22.644826</td>\n",
       "      <td>-0.264271</td>\n",
       "      <td>0.0</td>\n",
       "      <td>220.522336</td>\n",
       "    </tr>\n",
       "    <tr>\n",
       "      <th>2</th>\n",
       "      <td>HN120</td>\n",
       "      <td>1007</td>\n",
       "      <td>Docetaxel</td>\n",
       "      <td>1010</td>\n",
       "      <td>Gefitinib</td>\n",
       "      <td>D1|D2|G1|G2</td>\n",
       "      <td>0.31318681318681|0.17582417582418|0.3406593406...</td>\n",
       "      <td>10.768034058802|13.470080993016|5.818301286009...</td>\n",
       "      <td>17.658569782699|19.388553836629|13.51896421525...</td>\n",
       "      <td>26.525123033003|30.246980924477|18.55069143247...</td>\n",
       "      <td>8.5209921135827</td>\n",
       "      <td>15.312538173024</td>\n",
       "      <td>22.394141</td>\n",
       "      <td>-63.293623</td>\n",
       "      <td>-0.738654</td>\n",
       "      <td>0.0</td>\n",
       "      <td>28.530972</td>\n",
       "    </tr>\n",
       "    <tr>\n",
       "      <th>3</th>\n",
       "      <td>HN120</td>\n",
       "      <td>1007</td>\n",
       "      <td>Docetaxel</td>\n",
       "      <td>182</td>\n",
       "      <td>Obatoclax Mesylate</td>\n",
       "      <td>D1|D2|G1|G2</td>\n",
       "      <td>0.31318681318681|0.17582417582418|0.3406593406...</td>\n",
       "      <td>10.768034058802|13.470080993016|5.818301286009...</td>\n",
       "      <td>77.719989977921|69.112193712182|59.66956727385...</td>\n",
       "      <td>80.119109045403|73.272806236117|62.01611335981...</td>\n",
       "      <td>8.5209921135827</td>\n",
       "      <td>64.658542403814</td>\n",
       "      <td>67.221373</td>\n",
       "      <td>-18.466390</td>\n",
       "      <td>-0.215508</td>\n",
       "      <td>0.0</td>\n",
       "      <td>234.692906</td>\n",
       "    </tr>\n",
       "    <tr>\n",
       "      <th>4</th>\n",
       "      <td>HN120</td>\n",
       "      <td>1007</td>\n",
       "      <td>Docetaxel</td>\n",
       "      <td>301</td>\n",
       "      <td>PHA-793887</td>\n",
       "      <td>D1|D2|G1|G2</td>\n",
       "      <td>0.31318681318681|0.17582417582418|0.3406593406...</td>\n",
       "      <td>10.768034058802|13.470080993016|5.818301286009...</td>\n",
       "      <td>59.299276450398|63.186291930058|74.30263492377...</td>\n",
       "      <td>63.681944224398|68.145128223612|75.79778504647...</td>\n",
       "      <td>8.5209921135827</td>\n",
       "      <td>63.393584136265</td>\n",
       "      <td>66.390892</td>\n",
       "      <td>-19.296872</td>\n",
       "      <td>-0.225200</td>\n",
       "      <td>0.0</td>\n",
       "      <td>229.621946</td>\n",
       "    </tr>\n",
       "  </tbody>\n",
       "</table>\n",
       "</div>"
      ],
      "text/plain": [
       "  patient drug_id_A drug_name_A drug_id_B         drug_name_B      cluster  \\\n",
       "0   HN120      1007   Docetaxel       133         Doxorubicin  D1|D2|G1|G2   \n",
       "1   HN120      1007   Docetaxel       201        Epothilone B  D1|D2|G1|G2   \n",
       "2   HN120      1007   Docetaxel      1010           Gefitinib  D1|D2|G1|G2   \n",
       "3   HN120      1007   Docetaxel       182  Obatoclax Mesylate  D1|D2|G1|G2   \n",
       "4   HN120      1007   Docetaxel       301          PHA-793887  D1|D2|G1|G2   \n",
       "\n",
       "                                           cluster_p  \\\n",
       "0  0.31318681318681|0.17582417582418|0.3406593406...   \n",
       "1  0.31318681318681|0.17582417582418|0.3406593406...   \n",
       "2  0.31318681318681|0.17582417582418|0.3406593406...   \n",
       "3  0.31318681318681|0.17582417582418|0.3406593406...   \n",
       "4  0.31318681318681|0.17582417582418|0.3406593406...   \n",
       "\n",
       "                                      cluster_kill_A  \\\n",
       "0  10.768034058802|13.470080993016|5.818301286009...   \n",
       "1  10.768034058802|13.470080993016|5.818301286009...   \n",
       "2  10.768034058802|13.470080993016|5.818301286009...   \n",
       "3  10.768034058802|13.470080993016|5.818301286009...   \n",
       "4  10.768034058802|13.470080993016|5.818301286009...   \n",
       "\n",
       "                                      cluster_kill_B  \\\n",
       "0  87.32965858477|84.087272226485|70.694442969728...   \n",
       "1  82.559569253274|75.901345747413|42.11102158023...   \n",
       "2  17.658569782699|19.388553836629|13.51896421525...   \n",
       "3  77.719989977921|69.112193712182|59.66956727385...   \n",
       "4  59.299276450398|63.186291930058|74.30263492377...   \n",
       "\n",
       "                                      cluster_kill_C           kill_A  \\\n",
       "0  88.694005263728|86.230729545776|72.39952857129...  8.5209921135827   \n",
       "1  84.437560776083|79.147453993463|45.47917675608...  8.5209921135827   \n",
       "2  26.525123033003|30.246980924477|18.55069143247...  8.5209921135827   \n",
       "3  80.119109045403|73.272806236117|62.01611335981...  8.5209921135827   \n",
       "4  63.681944224398|68.145128223612|75.79778504647...  8.5209921135827   \n",
       "\n",
       "            kill_B     kill_C    improve  improve_p  kill_entropy  \\\n",
       "0   75.63044860423  77.192115  -8.495648  -0.099147           0.0   \n",
       "1  60.390313965552  63.042938 -22.644826  -0.264271           0.0   \n",
       "2  15.312538173024  22.394141 -63.293623  -0.738654           0.0   \n",
       "3  64.658542403814  67.221373 -18.466390  -0.215508           0.0   \n",
       "4  63.393584136265  66.390892 -19.296872  -0.225200           0.0   \n",
       "\n",
       "   sum_kill_dif  \n",
       "0    283.320302  \n",
       "1    220.522336  \n",
       "2     28.530972  \n",
       "3    234.692906  \n",
       "4    229.621946  "
      ]
     },
     "execution_count": 31,
     "metadata": {},
     "output_type": "execute_result"
    }
   ],
   "source": [
    "drug_combi_pred_df = drug_combi_pred_df[['patient', 'drug_id_A', 'drug_name_A', 'drug_id_B', 'drug_name_B', 'cluster', 'cluster_p', 'cluster_kill_A', 'cluster_kill_B', 'cluster_kill_C', 'kill_A', 'kill_B', 'kill_C', 'improve', 'improve_p', 'kill_entropy', 'sum_kill_dif']]\n",
    "\n",
    "drug_combi_pred_df.head()"
   ]
  },
  {
   "cell_type": "code",
   "execution_count": 32,
   "metadata": {
    "ExecuteTime": {
     "end_time": "2020-11-19T02:55:45.380623Z",
     "start_time": "2020-11-19T02:55:45.368146Z"
    }
   },
   "outputs": [],
   "source": [
    "drug_combi_pred_df.to_csv(output_dir + 'pred_combi_kill_{}.csv'.format(ref_type, model_name), index=False)"
   ]
  },
  {
   "cell_type": "markdown",
   "metadata": {},
   "source": [
    "---\n",
    "\n",
    "**Authors:** [Chayaporn Suphavilai](mailto:@.com), [Rafael Peres da Silva](), Genome Institute of Singapore, Nagarajan Lab, November 2020\n",
    "\n",
    "---"
   ]
  },
  {
   "cell_type": "markdown",
   "metadata": {},
   "source": [
    "Reproducibility tips from https://github.com/jupyter-guide/ten-rules-jupyter"
   ]
  }
 ],
 "metadata": {
  "kernelspec": {
   "display_name": "Python 3",
   "language": "python",
   "name": "python3"
  },
  "language_info": {
   "codemirror_mode": {
    "name": "ipython",
    "version": 3
   },
   "file_extension": ".py",
   "mimetype": "text/x-python",
   "name": "python",
   "nbconvert_exporter": "python",
   "pygments_lexer": "ipython3",
   "version": "3.7.7"
  },
  "toc": {
   "base_numbering": 1,
   "nav_menu": {},
   "number_sections": false,
   "sideBar": true,
   "skip_h1_title": false,
   "title_cell": "Table of Contents",
   "title_sidebar": "Contents",
   "toc_cell": false,
   "toc_position": {},
   "toc_section_display": true,
   "toc_window_display": true
  }
 },
 "nbformat": 4,
 "nbformat_minor": 2
}
