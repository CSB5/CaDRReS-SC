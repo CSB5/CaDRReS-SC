{
 "cells": [
  {
   "cell_type": "markdown",
   "metadata": {},
   "source": [
    "# Prediction based on CaDRReS-Sc pre-trained model\n",
    "This notebook show an example of how load a pre-trained CaDRReS-SC model and predict drug response based on new data."
   ]
  },
  {
   "cell_type": "code",
   "execution_count": 1,
   "metadata": {
    "ExecuteTime": {
     "end_time": "2020-11-25T07:52:15.178752Z",
     "start_time": "2020-11-25T07:52:13.223776Z"
    }
   },
   "outputs": [],
   "source": [
    "import sys, os, pickle\n",
    "from collections import Counter\n",
    "import importlib\n",
    "from ipywidgets import widgets\n",
    "import warnings\n",
    "warnings.filterwarnings('ignore')\n",
    "import pandas as pd\n",
    "import numpy as np\n",
    "\n",
    "scriptpath = '..'\n",
    "sys.path.append(os.path.abspath(scriptpath))\n",
    "\n",
    "from cadrres_sc import pp, model, evaluation, utility"
   ]
  },
  {
   "cell_type": "markdown",
   "metadata": {},
   "source": [
    "# Read pre-trained model"
   ]
  },
  {
   "cell_type": "code",
   "execution_count": 2,
   "metadata": {
    "ExecuteTime": {
     "end_time": "2020-11-25T07:52:15.183152Z",
     "start_time": "2020-11-25T07:52:15.180458Z"
    }
   },
   "outputs": [],
   "source": [
    "model_dir = '../example_result/'"
   ]
  },
  {
   "cell_type": "code",
   "execution_count": 3,
   "metadata": {
    "ExecuteTime": {
     "end_time": "2020-11-25T07:52:15.214776Z",
     "start_time": "2020-11-25T07:52:15.201381Z"
    }
   },
   "outputs": [],
   "source": [
    "obj_function = widgets.Dropdown(options=['cadrres-wo-sample-bias', 'cadrres-wo-sample-bias-weight', 'cadrres'],description='Objetice function')"
   ]
  },
  {
   "cell_type": "code",
   "execution_count": 4,
   "metadata": {
    "ExecuteTime": {
     "end_time": "2020-11-25T07:52:15.389810Z",
     "start_time": "2020-11-25T07:52:15.383807Z"
    }
   },
   "outputs": [
    {
     "data": {
      "application/vnd.jupyter.widget-view+json": {
       "model_id": "b7101313c7c243cbb2629b75dd08361b",
       "version_major": 2,
       "version_minor": 0
      },
      "text/plain": [
       "Dropdown(description='Objetice function', options=('cadrres-wo-sample-bias', 'cadrres-wo-sample-bias-weight', …"
      ]
     },
     "metadata": {},
     "output_type": "display_data"
    }
   ],
   "source": [
    "#choose which model you have trained previously\n",
    "display(obj_function)"
   ]
  },
  {
   "cell_type": "markdown",
   "metadata": {},
   "source": [
    "## Load the pre-trained model based on your selection\n"
   ]
  },
  {
   "cell_type": "code",
   "execution_count": 5,
   "metadata": {
    "ExecuteTime": {
     "end_time": "2020-11-25T07:52:15.782896Z",
     "start_time": "2020-11-25T07:52:15.758995Z"
    }
   },
   "outputs": [],
   "source": [
    "model_spec_name = obj_function.value\n",
    "model_file = model_dir + '{}_param_dict.pickle'.format(model_spec_name)\n",
    "\n",
    "cadrres_model = model.load_model(model_file)"
   ]
  },
  {
   "cell_type": "markdown",
   "metadata": {},
   "source": [
    "# Read test data\n",
    "Again, for this example we load GDSC dataset.\n",
    "@TODO: GDSC dataset using only essential gene list?\n",
    "\n",
    "Note: GDSC_exp.tsv can be downloaded from https://www.dropbox.com/s/3v576mspw5yewbm/GDSC_exp.tsv?dl=0\n",
    "\n",
    "## Notes for other test data\n",
    "\n",
    "You can apply the model to other gene expression dataset. The input gene expression matrix should have been normalized, i.e. **for each sample, expression values are comparable across genes**. \n",
    "\n",
    "In this example the gene expression matrix provided by GDSC is already normalized using RMA.\n",
    "\n",
    "For RNA-seq data, read count should be normalized by gene length, using normalization methods such as TPM."
   ]
  },
  {
   "cell_type": "code",
   "execution_count": 6,
   "metadata": {
    "ExecuteTime": {
     "end_time": "2020-11-25T07:52:20.289350Z",
     "start_time": "2020-11-25T07:52:16.137958Z"
    }
   },
   "outputs": [
    {
     "name": "stdout",
     "output_type": "stream",
     "text": [
      "Dataframe shape: (17419, 1018) \n",
      "\n"
     ]
    },
    {
     "data": {
      "text/html": [
       "<div>\n",
       "<style scoped>\n",
       "    .dataframe tbody tr th:only-of-type {\n",
       "        vertical-align: middle;\n",
       "    }\n",
       "\n",
       "    .dataframe tbody tr th {\n",
       "        vertical-align: top;\n",
       "    }\n",
       "\n",
       "    .dataframe thead th {\n",
       "        text-align: right;\n",
       "    }\n",
       "</style>\n",
       "<table border=\"1\" class=\"dataframe\">\n",
       "  <thead>\n",
       "    <tr style=\"text-align: right;\">\n",
       "      <th></th>\n",
       "      <th>906826</th>\n",
       "      <th>687983</th>\n",
       "      <th>910927</th>\n",
       "      <th>1240138</th>\n",
       "      <th>1240139</th>\n",
       "      <th>906792</th>\n",
       "      <th>910688</th>\n",
       "      <th>1240135</th>\n",
       "      <th>1290812</th>\n",
       "      <th>907045</th>\n",
       "      <th>...</th>\n",
       "      <th>753584</th>\n",
       "      <th>907044</th>\n",
       "      <th>998184</th>\n",
       "      <th>908145</th>\n",
       "      <th>1659787</th>\n",
       "      <th>1298157</th>\n",
       "      <th>1480372</th>\n",
       "      <th>1298533</th>\n",
       "      <th>930299</th>\n",
       "      <th>905954.1</th>\n",
       "    </tr>\n",
       "    <tr>\n",
       "      <th>GENE</th>\n",
       "      <th></th>\n",
       "      <th></th>\n",
       "      <th></th>\n",
       "      <th></th>\n",
       "      <th></th>\n",
       "      <th></th>\n",
       "      <th></th>\n",
       "      <th></th>\n",
       "      <th></th>\n",
       "      <th></th>\n",
       "      <th></th>\n",
       "      <th></th>\n",
       "      <th></th>\n",
       "      <th></th>\n",
       "      <th></th>\n",
       "      <th></th>\n",
       "      <th></th>\n",
       "      <th></th>\n",
       "      <th></th>\n",
       "      <th></th>\n",
       "      <th></th>\n",
       "    </tr>\n",
       "  </thead>\n",
       "  <tbody>\n",
       "    <tr>\n",
       "      <th>A1BG</th>\n",
       "      <td>6.208447</td>\n",
       "      <td>5.025810</td>\n",
       "      <td>5.506955</td>\n",
       "      <td>4.208349</td>\n",
       "      <td>3.399366</td>\n",
       "      <td>4.917872</td>\n",
       "      <td>3.828088</td>\n",
       "      <td>5.146903</td>\n",
       "      <td>3.107543</td>\n",
       "      <td>5.062066</td>\n",
       "      <td>...</td>\n",
       "      <td>4.272172</td>\n",
       "      <td>3.435025</td>\n",
       "      <td>4.930052</td>\n",
       "      <td>2.900213</td>\n",
       "      <td>4.523712</td>\n",
       "      <td>5.074951</td>\n",
       "      <td>2.957153</td>\n",
       "      <td>3.089628</td>\n",
       "      <td>4.047364</td>\n",
       "      <td>5.329524</td>\n",
       "    </tr>\n",
       "    <tr>\n",
       "      <th>A1CF</th>\n",
       "      <td>2.981775</td>\n",
       "      <td>2.947547</td>\n",
       "      <td>2.872071</td>\n",
       "      <td>3.075478</td>\n",
       "      <td>2.853231</td>\n",
       "      <td>3.221491</td>\n",
       "      <td>2.996355</td>\n",
       "      <td>2.893977</td>\n",
       "      <td>2.755668</td>\n",
       "      <td>2.985650</td>\n",
       "      <td>...</td>\n",
       "      <td>2.941659</td>\n",
       "      <td>3.155536</td>\n",
       "      <td>2.983619</td>\n",
       "      <td>3.118312</td>\n",
       "      <td>2.975409</td>\n",
       "      <td>2.905804</td>\n",
       "      <td>2.944488</td>\n",
       "      <td>2.780003</td>\n",
       "      <td>2.870819</td>\n",
       "      <td>2.926353</td>\n",
       "    </tr>\n",
       "  </tbody>\n",
       "</table>\n",
       "<p>2 rows × 1018 columns</p>\n",
       "</div>"
      ],
      "text/plain": [
       "        906826    687983    910927   1240138   1240139    906792    910688  \\\n",
       "GENE                                                                         \n",
       "A1BG  6.208447  5.025810  5.506955  4.208349  3.399366  4.917872  3.828088   \n",
       "A1CF  2.981775  2.947547  2.872071  3.075478  2.853231  3.221491  2.996355   \n",
       "\n",
       "       1240135   1290812    907045  ...    753584    907044    998184  \\\n",
       "GENE                                ...                                 \n",
       "A1BG  5.146903  3.107543  5.062066  ...  4.272172  3.435025  4.930052   \n",
       "A1CF  2.893977  2.755668  2.985650  ...  2.941659  3.155536  2.983619   \n",
       "\n",
       "        908145   1659787   1298157   1480372   1298533    930299  905954.1  \n",
       "GENE                                                                        \n",
       "A1BG  2.900213  4.523712  5.074951  2.957153  3.089628  4.047364  5.329524  \n",
       "A1CF  3.118312  2.975409  2.905804  2.944488  2.780003  2.870819  2.926353  \n",
       "\n",
       "[2 rows x 1018 columns]"
      ]
     },
     "execution_count": 6,
     "metadata": {},
     "output_type": "execute_result"
    }
   ],
   "source": [
    "gene_exp_df = pd.read_csv('../data/GDSC/GDSC_exp.tsv', sep='\\t', index_col=0)\n",
    "gene_exp_df = gene_exp_df.groupby(gene_exp_df.index).mean()\n",
    "print(\"Dataframe shape:\", gene_exp_df.shape, \"\\n\")\n",
    "gene_exp_df.head(2)"
   ]
  },
  {
   "cell_type": "markdown",
   "metadata": {},
   "source": [
    "## Calculate fold-change\n",
    "We normalized baseline gene expression values for each gene by computing fold-changes compared to the median value across cell-lines"
   ]
  },
  {
   "cell_type": "code",
   "execution_count": 7,
   "metadata": {
    "ExecuteTime": {
     "end_time": "2020-11-25T07:52:25.477116Z",
     "start_time": "2020-11-25T07:52:20.291312Z"
    }
   },
   "outputs": [],
   "source": [
    "cell_line_log2_mean_fc_exp_df, cell_line_mean_exp_df = pp.gexp.normalize_log2_mean_fc(gene_exp_df)"
   ]
  },
  {
   "cell_type": "markdown",
   "metadata": {},
   "source": [
    "## Read essential genes list\n",
    "\n",
    "Or in case you want your training using one specific set of genes."
   ]
  },
  {
   "cell_type": "code",
   "execution_count": 8,
   "metadata": {
    "ExecuteTime": {
     "end_time": "2020-11-25T07:52:25.486170Z",
     "start_time": "2020-11-25T07:52:25.479136Z"
    }
   },
   "outputs": [],
   "source": [
    "ess_gene_list = utility.get_gene_list('../data/essential_genes.txt')"
   ]
  },
  {
   "cell_type": "markdown",
   "metadata": {},
   "source": [
    "## Calculate kernel feature \n",
    "\n",
    "Based on all given cell line samples with gene expression profiles and a list of genes (e.g. essential gene list). This step might take a bit more time than usual."
   ]
  },
  {
   "cell_type": "code",
   "execution_count": 9,
   "metadata": {
    "ExecuteTime": {
     "end_time": "2020-11-25T07:54:51.956177Z",
     "start_time": "2020-11-25T07:52:25.488596Z"
    }
   },
   "outputs": [
    {
     "name": "stdout",
     "output_type": "stream",
     "text": [
      "Calculating kernel features based on 1610 common genes\n",
      "(17419, 1018) (17419, 1018)\n",
      "100 of 1018 (16.12)s\n",
      "200 of 1018 (16.22)s\n",
      "300 of 1018 (16.10)s\n",
      "400 of 1018 (16.22)s\n",
      "500 of 1018 (16.33)s\n",
      "600 of 1018 (16.28)s\n",
      "700 of 1018 (15.88)s\n",
      "800 of 1018 (10.46)s\n",
      "900 of 1018 (10.49)s\n",
      "1000 of 1018 (10.34)s\n"
     ]
    }
   ],
   "source": [
    "test_kernel_df = pp.gexp.calculate_kernel_feature(cell_line_log2_mean_fc_exp_df, cell_line_log2_mean_fc_exp_df, ess_gene_list)"
   ]
  },
  {
   "cell_type": "code",
   "execution_count": 10,
   "metadata": {
    "ExecuteTime": {
     "end_time": "2020-11-25T07:54:51.982397Z",
     "start_time": "2020-11-25T07:54:51.957803Z"
    }
   },
   "outputs": [
    {
     "name": "stdout",
     "output_type": "stream",
     "text": [
      "Dataframe shape: (1018, 1018) \n",
      "\n"
     ]
    },
    {
     "data": {
      "text/html": [
       "<div>\n",
       "<style scoped>\n",
       "    .dataframe tbody tr th:only-of-type {\n",
       "        vertical-align: middle;\n",
       "    }\n",
       "\n",
       "    .dataframe tbody tr th {\n",
       "        vertical-align: top;\n",
       "    }\n",
       "\n",
       "    .dataframe thead th {\n",
       "        text-align: right;\n",
       "    }\n",
       "</style>\n",
       "<table border=\"1\" class=\"dataframe\">\n",
       "  <thead>\n",
       "    <tr style=\"text-align: right;\">\n",
       "      <th></th>\n",
       "      <th>906826</th>\n",
       "      <th>687983</th>\n",
       "      <th>910927</th>\n",
       "      <th>1240138</th>\n",
       "      <th>1240139</th>\n",
       "      <th>906792</th>\n",
       "      <th>910688</th>\n",
       "      <th>1240135</th>\n",
       "      <th>1290812</th>\n",
       "      <th>907045</th>\n",
       "      <th>...</th>\n",
       "      <th>753584</th>\n",
       "      <th>907044</th>\n",
       "      <th>998184</th>\n",
       "      <th>908145</th>\n",
       "      <th>1659787</th>\n",
       "      <th>1298157</th>\n",
       "      <th>1480372</th>\n",
       "      <th>1298533</th>\n",
       "      <th>930299</th>\n",
       "      <th>905954.1</th>\n",
       "    </tr>\n",
       "  </thead>\n",
       "  <tbody>\n",
       "    <tr>\n",
       "      <th>906826</th>\n",
       "      <td>1.000000</td>\n",
       "      <td>0.054507</td>\n",
       "      <td>0.026621</td>\n",
       "      <td>0.000195</td>\n",
       "      <td>0.181043</td>\n",
       "      <td>-0.010206</td>\n",
       "      <td>-0.091207</td>\n",
       "      <td>0.255585</td>\n",
       "      <td>0.256516</td>\n",
       "      <td>-0.043044</td>\n",
       "      <td>...</td>\n",
       "      <td>0.178078</td>\n",
       "      <td>-0.033405</td>\n",
       "      <td>-0.128262</td>\n",
       "      <td>-0.020860</td>\n",
       "      <td>0.226647</td>\n",
       "      <td>0.225082</td>\n",
       "      <td>0.146886</td>\n",
       "      <td>0.041669</td>\n",
       "      <td>-0.099332</td>\n",
       "      <td>0.044356</td>\n",
       "    </tr>\n",
       "    <tr>\n",
       "      <th>687983</th>\n",
       "      <td>0.054507</td>\n",
       "      <td>1.000000</td>\n",
       "      <td>0.151500</td>\n",
       "      <td>-0.017105</td>\n",
       "      <td>0.047332</td>\n",
       "      <td>0.061474</td>\n",
       "      <td>-0.115470</td>\n",
       "      <td>0.040432</td>\n",
       "      <td>-0.113185</td>\n",
       "      <td>-0.073907</td>\n",
       "      <td>...</td>\n",
       "      <td>-0.024037</td>\n",
       "      <td>0.027242</td>\n",
       "      <td>0.121310</td>\n",
       "      <td>-0.018611</td>\n",
       "      <td>0.009571</td>\n",
       "      <td>0.044496</td>\n",
       "      <td>0.087031</td>\n",
       "      <td>-0.149296</td>\n",
       "      <td>0.118897</td>\n",
       "      <td>-0.056471</td>\n",
       "    </tr>\n",
       "  </tbody>\n",
       "</table>\n",
       "<p>2 rows × 1018 columns</p>\n",
       "</div>"
      ],
      "text/plain": [
       "          906826    687983    910927   1240138   1240139    906792    910688  \\\n",
       "906826  1.000000  0.054507  0.026621  0.000195  0.181043 -0.010206 -0.091207   \n",
       "687983  0.054507  1.000000  0.151500 -0.017105  0.047332  0.061474 -0.115470   \n",
       "\n",
       "         1240135   1290812    907045  ...    753584    907044    998184  \\\n",
       "906826  0.255585  0.256516 -0.043044  ...  0.178078 -0.033405 -0.128262   \n",
       "687983  0.040432 -0.113185 -0.073907  ... -0.024037  0.027242  0.121310   \n",
       "\n",
       "          908145   1659787   1298157   1480372   1298533    930299  905954.1  \n",
       "906826 -0.020860  0.226647  0.225082  0.146886  0.041669 -0.099332  0.044356  \n",
       "687983 -0.018611  0.009571  0.044496  0.087031 -0.149296  0.118897 -0.056471  \n",
       "\n",
       "[2 rows x 1018 columns]"
      ]
     },
     "execution_count": 10,
     "metadata": {},
     "output_type": "execute_result"
    }
   ],
   "source": [
    "print(\"Dataframe shape:\", test_kernel_df.shape, \"\\n\")\n",
    "test_kernel_df.head(2)"
   ]
  },
  {
   "cell_type": "markdown",
   "metadata": {},
   "source": [
    "# Drug response prediction"
   ]
  },
  {
   "cell_type": "code",
   "execution_count": 11,
   "metadata": {
    "ExecuteTime": {
     "end_time": "2020-11-25T07:54:52.008068Z",
     "start_time": "2020-11-25T07:54:51.983844Z"
    }
   },
   "outputs": [
    {
     "name": "stdout",
     "output_type": "stream",
     "text": [
      "Predicting drug response using CaDRReS: cadrres-wo-sample-bias\n",
      "done!\n"
     ]
    }
   ],
   "source": [
    "print('Predicting drug response using CaDRReS: {}'.format(model_spec_name))\n",
    "pred_df, P_test_df= model.predict_from_model(cadrres_model, test_kernel_df, model_spec_name)\n",
    "print('done!')"
   ]
  },
  {
   "cell_type": "markdown",
   "metadata": {},
   "source": [
    "Inspecting the model predictions and save the predictions"
   ]
  },
  {
   "cell_type": "code",
   "execution_count": 12,
   "metadata": {
    "ExecuteTime": {
     "end_time": "2020-11-25T07:54:52.038452Z",
     "start_time": "2020-11-25T07:54:52.010233Z"
    }
   },
   "outputs": [
    {
     "data": {
      "text/html": [
       "<div>\n",
       "<style scoped>\n",
       "    .dataframe tbody tr th:only-of-type {\n",
       "        vertical-align: middle;\n",
       "    }\n",
       "\n",
       "    .dataframe tbody tr th {\n",
       "        vertical-align: top;\n",
       "    }\n",
       "\n",
       "    .dataframe thead th {\n",
       "        text-align: right;\n",
       "    }\n",
       "</style>\n",
       "<table border=\"1\" class=\"dataframe\">\n",
       "  <thead>\n",
       "    <tr style=\"text-align: right;\">\n",
       "      <th>Drug ID</th>\n",
       "      <th>1</th>\n",
       "      <th>1001</th>\n",
       "      <th>1003</th>\n",
       "      <th>1004</th>\n",
       "      <th>1005</th>\n",
       "      <th>1006</th>\n",
       "      <th>1007</th>\n",
       "      <th>1008</th>\n",
       "      <th>1009</th>\n",
       "      <th>1010</th>\n",
       "      <th>...</th>\n",
       "      <th>64</th>\n",
       "      <th>71</th>\n",
       "      <th>83</th>\n",
       "      <th>86</th>\n",
       "      <th>87</th>\n",
       "      <th>88</th>\n",
       "      <th>89</th>\n",
       "      <th>9</th>\n",
       "      <th>91</th>\n",
       "      <th>94</th>\n",
       "    </tr>\n",
       "  </thead>\n",
       "  <tbody>\n",
       "    <tr>\n",
       "      <th>906826</th>\n",
       "      <td>3.856865</td>\n",
       "      <td>11.115356</td>\n",
       "      <td>-5.714982</td>\n",
       "      <td>-5.561752</td>\n",
       "      <td>4.129691</td>\n",
       "      <td>0.238772</td>\n",
       "      <td>-6.829151</td>\n",
       "      <td>4.397136</td>\n",
       "      <td>8.115744</td>\n",
       "      <td>5.342511</td>\n",
       "      <td>...</td>\n",
       "      <td>1.401109</td>\n",
       "      <td>3.573971</td>\n",
       "      <td>-2.102823</td>\n",
       "      <td>-0.961198</td>\n",
       "      <td>-2.844079</td>\n",
       "      <td>0.929385</td>\n",
       "      <td>2.908931</td>\n",
       "      <td>-0.799364</td>\n",
       "      <td>4.880714</td>\n",
       "      <td>3.463480</td>\n",
       "    </tr>\n",
       "    <tr>\n",
       "      <th>687983</th>\n",
       "      <td>6.997003</td>\n",
       "      <td>11.521834</td>\n",
       "      <td>-4.124010</td>\n",
       "      <td>-4.482363</td>\n",
       "      <td>4.611786</td>\n",
       "      <td>1.867274</td>\n",
       "      <td>-4.146659</td>\n",
       "      <td>3.453969</td>\n",
       "      <td>8.049282</td>\n",
       "      <td>6.977233</td>\n",
       "      <td>...</td>\n",
       "      <td>3.112575</td>\n",
       "      <td>6.961551</td>\n",
       "      <td>-0.660826</td>\n",
       "      <td>-0.461482</td>\n",
       "      <td>-1.560920</td>\n",
       "      <td>2.261902</td>\n",
       "      <td>5.131415</td>\n",
       "      <td>0.747301</td>\n",
       "      <td>7.120768</td>\n",
       "      <td>6.596741</td>\n",
       "    </tr>\n",
       "    <tr>\n",
       "      <th>910927</th>\n",
       "      <td>1.744297</td>\n",
       "      <td>10.845635</td>\n",
       "      <td>-7.329617</td>\n",
       "      <td>-6.772134</td>\n",
       "      <td>2.870419</td>\n",
       "      <td>-2.584782</td>\n",
       "      <td>-9.059966</td>\n",
       "      <td>2.719736</td>\n",
       "      <td>6.778657</td>\n",
       "      <td>3.453523</td>\n",
       "      <td>...</td>\n",
       "      <td>1.004838</td>\n",
       "      <td>3.189792</td>\n",
       "      <td>-2.231047</td>\n",
       "      <td>-1.457975</td>\n",
       "      <td>-4.227088</td>\n",
       "      <td>1.318033</td>\n",
       "      <td>2.129338</td>\n",
       "      <td>-0.941594</td>\n",
       "      <td>3.979322</td>\n",
       "      <td>3.618429</td>\n",
       "    </tr>\n",
       "    <tr>\n",
       "      <th>1240138</th>\n",
       "      <td>3.554745</td>\n",
       "      <td>11.422337</td>\n",
       "      <td>-4.789660</td>\n",
       "      <td>-4.818663</td>\n",
       "      <td>4.886816</td>\n",
       "      <td>0.998196</td>\n",
       "      <td>-6.061090</td>\n",
       "      <td>4.280636</td>\n",
       "      <td>7.975548</td>\n",
       "      <td>3.718647</td>\n",
       "      <td>...</td>\n",
       "      <td>2.550148</td>\n",
       "      <td>5.412402</td>\n",
       "      <td>-1.177267</td>\n",
       "      <td>-0.423846</td>\n",
       "      <td>-1.763688</td>\n",
       "      <td>1.567855</td>\n",
       "      <td>3.344768</td>\n",
       "      <td>0.003893</td>\n",
       "      <td>5.520441</td>\n",
       "      <td>3.834303</td>\n",
       "    </tr>\n",
       "    <tr>\n",
       "      <th>1240139</th>\n",
       "      <td>2.768286</td>\n",
       "      <td>10.702980</td>\n",
       "      <td>-7.889551</td>\n",
       "      <td>-7.422914</td>\n",
       "      <td>2.489097</td>\n",
       "      <td>-2.378537</td>\n",
       "      <td>-9.622192</td>\n",
       "      <td>1.767213</td>\n",
       "      <td>6.404831</td>\n",
       "      <td>3.030787</td>\n",
       "      <td>...</td>\n",
       "      <td>1.142023</td>\n",
       "      <td>2.761482</td>\n",
       "      <td>-2.372420</td>\n",
       "      <td>-0.878104</td>\n",
       "      <td>-3.828454</td>\n",
       "      <td>0.801083</td>\n",
       "      <td>2.171508</td>\n",
       "      <td>-1.591526</td>\n",
       "      <td>4.433969</td>\n",
       "      <td>3.871057</td>\n",
       "    </tr>\n",
       "  </tbody>\n",
       "</table>\n",
       "<p>5 rows × 226 columns</p>\n",
       "</div>"
      ],
      "text/plain": [
       "Drug ID         1       1001      1003      1004      1005      1006  \\\n",
       "906826   3.856865  11.115356 -5.714982 -5.561752  4.129691  0.238772   \n",
       "687983   6.997003  11.521834 -4.124010 -4.482363  4.611786  1.867274   \n",
       "910927   1.744297  10.845635 -7.329617 -6.772134  2.870419 -2.584782   \n",
       "1240138  3.554745  11.422337 -4.789660 -4.818663  4.886816  0.998196   \n",
       "1240139  2.768286  10.702980 -7.889551 -7.422914  2.489097 -2.378537   \n",
       "\n",
       "Drug ID      1007      1008      1009      1010  ...        64        71  \\\n",
       "906826  -6.829151  4.397136  8.115744  5.342511  ...  1.401109  3.573971   \n",
       "687983  -4.146659  3.453969  8.049282  6.977233  ...  3.112575  6.961551   \n",
       "910927  -9.059966  2.719736  6.778657  3.453523  ...  1.004838  3.189792   \n",
       "1240138 -6.061090  4.280636  7.975548  3.718647  ...  2.550148  5.412402   \n",
       "1240139 -9.622192  1.767213  6.404831  3.030787  ...  1.142023  2.761482   \n",
       "\n",
       "Drug ID        83        86        87        88        89         9        91  \\\n",
       "906826  -2.102823 -0.961198 -2.844079  0.929385  2.908931 -0.799364  4.880714   \n",
       "687983  -0.660826 -0.461482 -1.560920  2.261902  5.131415  0.747301  7.120768   \n",
       "910927  -2.231047 -1.457975 -4.227088  1.318033  2.129338 -0.941594  3.979322   \n",
       "1240138 -1.177267 -0.423846 -1.763688  1.567855  3.344768  0.003893  5.520441   \n",
       "1240139 -2.372420 -0.878104 -3.828454  0.801083  2.171508 -1.591526  4.433969   \n",
       "\n",
       "Drug ID        94  \n",
       "906826   3.463480  \n",
       "687983   6.596741  \n",
       "910927   3.618429  \n",
       "1240138  3.834303  \n",
       "1240139  3.871057  \n",
       "\n",
       "[5 rows x 226 columns]"
      ]
     },
     "execution_count": 12,
     "metadata": {},
     "output_type": "execute_result"
    }
   ],
   "source": [
    "pred_df.head()"
   ]
  },
  {
   "cell_type": "code",
   "execution_count": 15,
   "metadata": {
    "ExecuteTime": {
     "end_time": "2020-11-25T08:02:10.904104Z",
     "start_time": "2020-11-25T08:02:10.887452Z"
    }
   },
   "outputs": [
    {
     "data": {
      "text/html": [
       "<div>\n",
       "<style scoped>\n",
       "    .dataframe tbody tr th:only-of-type {\n",
       "        vertical-align: middle;\n",
       "    }\n",
       "\n",
       "    .dataframe tbody tr th {\n",
       "        vertical-align: top;\n",
       "    }\n",
       "\n",
       "    .dataframe thead th {\n",
       "        text-align: right;\n",
       "    }\n",
       "</style>\n",
       "<table border=\"1\" class=\"dataframe\">\n",
       "  <thead>\n",
       "    <tr style=\"text-align: right;\">\n",
       "      <th></th>\n",
       "      <th>1</th>\n",
       "      <th>2</th>\n",
       "      <th>3</th>\n",
       "      <th>4</th>\n",
       "      <th>5</th>\n",
       "      <th>6</th>\n",
       "      <th>7</th>\n",
       "      <th>8</th>\n",
       "      <th>9</th>\n",
       "      <th>10</th>\n",
       "    </tr>\n",
       "  </thead>\n",
       "  <tbody>\n",
       "    <tr>\n",
       "      <th>906826</th>\n",
       "      <td>0.381871</td>\n",
       "      <td>-1.392874</td>\n",
       "      <td>-1.258435</td>\n",
       "      <td>-0.149721</td>\n",
       "      <td>-0.367136</td>\n",
       "      <td>-1.354308</td>\n",
       "      <td>1.090426</td>\n",
       "      <td>0.041576</td>\n",
       "      <td>-0.778599</td>\n",
       "      <td>0.374818</td>\n",
       "    </tr>\n",
       "    <tr>\n",
       "      <th>687983</th>\n",
       "      <td>0.277867</td>\n",
       "      <td>-0.675402</td>\n",
       "      <td>0.467139</td>\n",
       "      <td>1.312239</td>\n",
       "      <td>0.606508</td>\n",
       "      <td>0.933870</td>\n",
       "      <td>-0.090949</td>\n",
       "      <td>-0.768077</td>\n",
       "      <td>-2.203680</td>\n",
       "      <td>-0.416650</td>\n",
       "    </tr>\n",
       "    <tr>\n",
       "      <th>910927</th>\n",
       "      <td>-0.518720</td>\n",
       "      <td>0.468541</td>\n",
       "      <td>0.124029</td>\n",
       "      <td>-0.096551</td>\n",
       "      <td>-1.556721</td>\n",
       "      <td>-2.986613</td>\n",
       "      <td>1.151280</td>\n",
       "      <td>-0.062440</td>\n",
       "      <td>-0.584276</td>\n",
       "      <td>-1.211875</td>\n",
       "    </tr>\n",
       "    <tr>\n",
       "      <th>1240138</th>\n",
       "      <td>0.717129</td>\n",
       "      <td>0.512490</td>\n",
       "      <td>-1.164903</td>\n",
       "      <td>-0.343803</td>\n",
       "      <td>1.564474</td>\n",
       "      <td>-1.212826</td>\n",
       "      <td>1.060513</td>\n",
       "      <td>-0.592996</td>\n",
       "      <td>0.081074</td>\n",
       "      <td>-0.533514</td>\n",
       "    </tr>\n",
       "    <tr>\n",
       "      <th>1240139</th>\n",
       "      <td>-0.080744</td>\n",
       "      <td>-0.454950</td>\n",
       "      <td>0.451206</td>\n",
       "      <td>-0.185165</td>\n",
       "      <td>-0.754197</td>\n",
       "      <td>-2.929592</td>\n",
       "      <td>0.502527</td>\n",
       "      <td>0.665691</td>\n",
       "      <td>-0.111447</td>\n",
       "      <td>0.267623</td>\n",
       "    </tr>\n",
       "  </tbody>\n",
       "</table>\n",
       "</div>"
      ],
      "text/plain": [
       "                1         2         3         4         5         6         7  \\\n",
       "906826   0.381871 -1.392874 -1.258435 -0.149721 -0.367136 -1.354308  1.090426   \n",
       "687983   0.277867 -0.675402  0.467139  1.312239  0.606508  0.933870 -0.090949   \n",
       "910927  -0.518720  0.468541  0.124029 -0.096551 -1.556721 -2.986613  1.151280   \n",
       "1240138  0.717129  0.512490 -1.164903 -0.343803  1.564474 -1.212826  1.060513   \n",
       "1240139 -0.080744 -0.454950  0.451206 -0.185165 -0.754197 -2.929592  0.502527   \n",
       "\n",
       "                8         9        10  \n",
       "906826   0.041576 -0.778599  0.374818  \n",
       "687983  -0.768077 -2.203680 -0.416650  \n",
       "910927  -0.062440 -0.584276 -1.211875  \n",
       "1240138 -0.592996  0.081074 -0.533514  \n",
       "1240139  0.665691 -0.111447  0.267623  "
      ]
     },
     "execution_count": 15,
     "metadata": {},
     "output_type": "execute_result"
    }
   ],
   "source": [
    "P_test_df.head()"
   ]
  },
  {
   "cell_type": "code",
   "execution_count": 13,
   "metadata": {
    "ExecuteTime": {
     "end_time": "2020-11-25T07:54:52.535144Z",
     "start_time": "2020-11-25T07:54:52.040560Z"
    }
   },
   "outputs": [
    {
     "name": "stdout",
     "output_type": "stream",
     "text": [
      "Saving ../example_result/cadrres-wo-sample-bias_test_pred.csv\n"
     ]
    }
   ],
   "source": [
    "print('Saving ' + model_dir + '{}_test_pred.csv'.format(model_spec_name))\n",
    "pred_df.to_csv(model_dir + '{}_test_pred.csv'.format(model_spec_name))"
   ]
  },
  {
   "cell_type": "markdown",
   "metadata": {},
   "source": [
    "---\n",
    "\n",
    "**Authors:** [Chayaporn Suphavilai](mailto:@.com), [Rafael Peres da Silva](), Genome Institute of Singapore, Nagarajan Lab, January 14, 2020\n",
    "\n",
    "---"
   ]
  },
  {
   "cell_type": "markdown",
   "metadata": {},
   "source": [
    "Reproducibility tips from https://github.com/jupyter-guide/ten-rules-jupyter"
   ]
  },
  {
   "cell_type": "code",
   "execution_count": null,
   "metadata": {},
   "outputs": [],
   "source": []
  }
 ],
 "metadata": {
  "kernelspec": {
   "display_name": "Python 3",
   "language": "python",
   "name": "python3"
  },
  "language_info": {
   "codemirror_mode": {
    "name": "ipython",
    "version": 3
   },
   "file_extension": ".py",
   "mimetype": "text/x-python",
   "name": "python",
   "nbconvert_exporter": "python",
   "pygments_lexer": "ipython3",
   "version": "3.7.7"
  },
  "toc": {
   "base_numbering": 1,
   "nav_menu": {},
   "number_sections": false,
   "sideBar": true,
   "skip_h1_title": false,
   "title_cell": "Table of Contents",
   "title_sidebar": "Contents",
   "toc_cell": false,
   "toc_position": {},
   "toc_section_display": true,
   "toc_window_display": false
  }
 },
 "nbformat": 4,
 "nbformat_minor": 2
}
