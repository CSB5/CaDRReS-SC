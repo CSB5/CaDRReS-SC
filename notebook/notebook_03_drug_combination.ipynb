{
 "cells": [
  {
   "cell_type": "markdown",
   "metadata": {},
   "source": [
    "# CaDRReS-SC for Drug combination prediction\n",
    "This notebook show an example of how load a pre-trained CaDRReS-SC model and predict drug response combination for your own data."
   ]
  },
  {
   "cell_type": "code",
   "execution_count": 315,
   "metadata": {
    "ExecuteTime": {
     "end_time": "2020-04-27T03:30:12.294668Z",
     "start_time": "2020-04-27T03:30:12.289829Z"
    }
   },
   "outputs": [],
   "source": [
    "import sys, os, pickle\n",
    "from collections import Counter\n",
    "import importlib\n",
    "from ipywidgets import widgets\n",
    "import pandas as pd\n",
    "import numpy as np\n",
    "\n",
    "scriptpath = '..'\n",
    "sys.path.append(os.path.abspath(scriptpath))\n",
    "\n",
    "from cadrres import pp, model, evaluation, utility"
   ]
  },
  {
   "cell_type": "markdown",
   "metadata": {},
   "source": [
    "# Read pre-trained model\n",
    "We will load and predict using a model trained previously. Please check how to train CaDRReS-SC using your data here [notebook_02_model_prediction.ipynb](./notebook_02_model_prediction.ipynb)."
   ]
  },
  {
   "cell_type": "code",
   "execution_count": 316,
   "metadata": {
    "ExecuteTime": {
     "end_time": "2020-04-27T03:30:30.537124Z",
     "start_time": "2020-04-27T03:30:30.534398Z"
    }
   },
   "outputs": [],
   "source": [
    "model_dir = '../example_result/'"
   ]
  },
  {
   "cell_type": "code",
   "execution_count": 317,
   "metadata": {
    "ExecuteTime": {
     "end_time": "2020-04-27T03:30:32.015889Z",
     "start_time": "2020-04-27T03:30:32.006317Z"
    }
   },
   "outputs": [],
   "source": [
    "obj_function = widgets.Dropdown(options=['cadrres-wo-sample-bias', 'cadrres-wo-sample-bias-weight', 'cadrres'],description='Objetice function')"
   ]
  },
  {
   "cell_type": "code",
   "execution_count": 318,
   "metadata": {
    "ExecuteTime": {
     "end_time": "2020-04-27T03:30:33.531362Z",
     "start_time": "2020-04-27T03:30:33.526100Z"
    }
   },
   "outputs": [
    {
     "data": {
      "application/vnd.jupyter.widget-view+json": {
       "model_id": "df757925528f47cf9f9243a1a2b8cd2c",
       "version_major": 2,
       "version_minor": 0
      },
      "text/plain": [
       "Dropdown(description='Objetice function', options=('cadrres-wo-sample-bias', 'cadrres-wo-sample-bias-weight', …"
      ]
     },
     "metadata": {},
     "output_type": "display_data"
    }
   ],
   "source": [
    "#choose which model you have trained previously\n",
    "display(obj_function)"
   ]
  },
  {
   "cell_type": "markdown",
   "metadata": {},
   "source": [
    "### Load the pre-trained model based on your selection\n"
   ]
  },
  {
   "cell_type": "code",
   "execution_count": 319,
   "metadata": {
    "ExecuteTime": {
     "end_time": "2020-04-27T03:43:13.563962Z",
     "start_time": "2020-04-27T03:43:13.559847Z"
    }
   },
   "outputs": [],
   "source": [
    "model_spec_name = obj_function.value\n",
    "model_file = model_dir + '{}_param_dict.pickle'.format(model_spec_name)\n",
    "\n",
    "cadrres_model = model.load_model(model_file)"
   ]
  },
  {
   "cell_type": "markdown",
   "metadata": {},
   "source": [
    "# Read test data\n",
    "Again, for this example we load GDSC dataset.\n",
    "Note: GDSC_exp.tsv can be downloaded from https://www.dropbox.com/s/3v576mspw5yewbm/GDSC_exp.tsv?dl=0\n",
    "\n",
    "## Notes for other test data\n",
    "\n",
    "You can apply the model to other gene expression dataset. The input gene expression matrix should have been normalized, i.e. **for each sample, expression values are comparable across genes**. \n",
    "\n",
    "In this example the gene expression matrix provided by GDSC is already normalized using RMA.\n",
    "\n",
    "For RNA-seq data, read count should be normalized by gene length, using normalization methods such as TPM."
   ]
  },
  {
   "cell_type": "code",
   "execution_count": 320,
   "metadata": {
    "ExecuteTime": {
     "end_time": "2020-04-27T03:40:16.919657Z",
     "start_time": "2020-04-27T03:40:12.186190Z"
    }
   },
   "outputs": [
    {
     "name": "stdout",
     "output_type": "stream",
     "text": [
      "Dataframe shape: (17419, 1018) \n",
      "\n"
     ]
    },
    {
     "data": {
      "text/html": [
       "<div>\n",
       "<style scoped>\n",
       "    .dataframe tbody tr th:only-of-type {\n",
       "        vertical-align: middle;\n",
       "    }\n",
       "\n",
       "    .dataframe tbody tr th {\n",
       "        vertical-align: top;\n",
       "    }\n",
       "\n",
       "    .dataframe thead th {\n",
       "        text-align: right;\n",
       "    }\n",
       "</style>\n",
       "<table border=\"1\" class=\"dataframe\">\n",
       "  <thead>\n",
       "    <tr style=\"text-align: right;\">\n",
       "      <th></th>\n",
       "      <th>906826</th>\n",
       "      <th>687983</th>\n",
       "      <th>910927</th>\n",
       "      <th>1240138</th>\n",
       "      <th>1240139</th>\n",
       "      <th>906792</th>\n",
       "      <th>910688</th>\n",
       "      <th>1240135</th>\n",
       "      <th>1290812</th>\n",
       "      <th>907045</th>\n",
       "      <th>...</th>\n",
       "      <th>753584</th>\n",
       "      <th>907044</th>\n",
       "      <th>998184</th>\n",
       "      <th>908145</th>\n",
       "      <th>1659787</th>\n",
       "      <th>1298157</th>\n",
       "      <th>1480372</th>\n",
       "      <th>1298533</th>\n",
       "      <th>930299</th>\n",
       "      <th>905954.1</th>\n",
       "    </tr>\n",
       "    <tr>\n",
       "      <th>GENE</th>\n",
       "      <th></th>\n",
       "      <th></th>\n",
       "      <th></th>\n",
       "      <th></th>\n",
       "      <th></th>\n",
       "      <th></th>\n",
       "      <th></th>\n",
       "      <th></th>\n",
       "      <th></th>\n",
       "      <th></th>\n",
       "      <th></th>\n",
       "      <th></th>\n",
       "      <th></th>\n",
       "      <th></th>\n",
       "      <th></th>\n",
       "      <th></th>\n",
       "      <th></th>\n",
       "      <th></th>\n",
       "      <th></th>\n",
       "      <th></th>\n",
       "      <th></th>\n",
       "    </tr>\n",
       "  </thead>\n",
       "  <tbody>\n",
       "    <tr>\n",
       "      <th>A1BG</th>\n",
       "      <td>6.208447</td>\n",
       "      <td>5.025810</td>\n",
       "      <td>5.506955</td>\n",
       "      <td>4.208349</td>\n",
       "      <td>3.399366</td>\n",
       "      <td>4.917872</td>\n",
       "      <td>3.828088</td>\n",
       "      <td>5.146903</td>\n",
       "      <td>3.107543</td>\n",
       "      <td>5.062066</td>\n",
       "      <td>...</td>\n",
       "      <td>4.272172</td>\n",
       "      <td>3.435025</td>\n",
       "      <td>4.930052</td>\n",
       "      <td>2.900213</td>\n",
       "      <td>4.523712</td>\n",
       "      <td>5.074951</td>\n",
       "      <td>2.957153</td>\n",
       "      <td>3.089628</td>\n",
       "      <td>4.047364</td>\n",
       "      <td>5.329524</td>\n",
       "    </tr>\n",
       "    <tr>\n",
       "      <th>A1CF</th>\n",
       "      <td>2.981775</td>\n",
       "      <td>2.947547</td>\n",
       "      <td>2.872071</td>\n",
       "      <td>3.075478</td>\n",
       "      <td>2.853231</td>\n",
       "      <td>3.221491</td>\n",
       "      <td>2.996355</td>\n",
       "      <td>2.893977</td>\n",
       "      <td>2.755668</td>\n",
       "      <td>2.985650</td>\n",
       "      <td>...</td>\n",
       "      <td>2.941659</td>\n",
       "      <td>3.155536</td>\n",
       "      <td>2.983619</td>\n",
       "      <td>3.118312</td>\n",
       "      <td>2.975409</td>\n",
       "      <td>2.905804</td>\n",
       "      <td>2.944488</td>\n",
       "      <td>2.780003</td>\n",
       "      <td>2.870819</td>\n",
       "      <td>2.926353</td>\n",
       "    </tr>\n",
       "  </tbody>\n",
       "</table>\n",
       "<p>2 rows × 1018 columns</p>\n",
       "</div>"
      ],
      "text/plain": [
       "        906826    687983    910927   1240138   1240139    906792    910688  \\\n",
       "GENE                                                                         \n",
       "A1BG  6.208447  5.025810  5.506955  4.208349  3.399366  4.917872  3.828088   \n",
       "A1CF  2.981775  2.947547  2.872071  3.075478  2.853231  3.221491  2.996355   \n",
       "\n",
       "       1240135   1290812    907045  ...    753584    907044    998184  \\\n",
       "GENE                                ...                                 \n",
       "A1BG  5.146903  3.107543  5.062066  ...  4.272172  3.435025  4.930052   \n",
       "A1CF  2.893977  2.755668  2.985650  ...  2.941659  3.155536  2.983619   \n",
       "\n",
       "        908145   1659787   1298157   1480372   1298533    930299  905954.1  \n",
       "GENE                                                                        \n",
       "A1BG  2.900213  4.523712  5.074951  2.957153  3.089628  4.047364  5.329524  \n",
       "A1CF  3.118312  2.975409  2.905804  2.944488  2.780003  2.870819  2.926353  \n",
       "\n",
       "[2 rows x 1018 columns]"
      ]
     },
     "execution_count": 320,
     "metadata": {},
     "output_type": "execute_result"
    }
   ],
   "source": [
    "gene_exp_df = pd.read_csv('../data/GDSC/GDSC_exp.tsv', sep='\\t', index_col=0)\n",
    "gene_exp_df = gene_exp_df.groupby(gene_exp_df.index).mean()\n",
    "print(\"Dataframe shape:\", gene_exp_df.shape, \"\\n\")\n",
    "gene_exp_df.head(2)"
   ]
  },
  {
   "cell_type": "markdown",
   "metadata": {},
   "source": [
    "## Calculate fold-change\n",
    "We normalized baseline gene expression values for each gene by computing fold-changes compared to the median value across cell-lines"
   ]
  },
  {
   "cell_type": "code",
   "execution_count": 321,
   "metadata": {
    "ExecuteTime": {
     "end_time": "2020-04-27T03:43:37.420637Z",
     "start_time": "2020-04-27T03:43:31.662507Z"
    }
   },
   "outputs": [],
   "source": [
    "cell_line_log2_mean_fc_exp_df, cell_line_mean_exp_df = pp.gexp.normalize_log2_mean_fc(gene_exp_df)"
   ]
  },
  {
   "cell_type": "markdown",
   "metadata": {},
   "source": [
    "### Load your clustered gene expression dataset (Patient, pdx, cell line and etc...)\n",
    "In this example we will load a toy dataset clustered using gene expression. Dimensions: genes x clusters."
   ]
  },
  {
   "cell_type": "code",
   "execution_count": 322,
   "metadata": {},
   "outputs": [],
   "source": [
    "cluster_norm_exp_fname = '../data/patient/patient_cluster_tmm.csv'\n",
    "output_dir = '../result/drug_combination/'"
   ]
  },
  {
   "cell_type": "code",
   "execution_count": 323,
   "metadata": {},
   "outputs": [],
   "source": [
    "cluster_norm_exp_df = pd.read_csv(cluster_norm_exp_fname, index_col=0).T"
   ]
  },
  {
   "cell_type": "code",
   "execution_count": 325,
   "metadata": {},
   "outputs": [
    {
     "data": {
      "text/html": [
       "<div>\n",
       "<style scoped>\n",
       "    .dataframe tbody tr th:only-of-type {\n",
       "        vertical-align: middle;\n",
       "    }\n",
       "\n",
       "    .dataframe tbody tr th {\n",
       "        vertical-align: top;\n",
       "    }\n",
       "\n",
       "    .dataframe thead th {\n",
       "        text-align: right;\n",
       "    }\n",
       "</style>\n",
       "<table border=\"1\" class=\"dataframe\">\n",
       "  <thead>\n",
       "    <tr style=\"text-align: right;\">\n",
       "      <th>cluster</th>\n",
       "      <th>A1</th>\n",
       "      <th>A2</th>\n",
       "      <th>B1</th>\n",
       "      <th>B2</th>\n",
       "      <th>C1</th>\n",
       "      <th>C2</th>\n",
       "      <th>D1</th>\n",
       "      <th>D2</th>\n",
       "      <th>E1</th>\n",
       "      <th>E2</th>\n",
       "      <th>F1</th>\n",
       "      <th>F2</th>\n",
       "      <th>F3</th>\n",
       "      <th>G1</th>\n",
       "      <th>H1</th>\n",
       "      <th>H2</th>\n",
       "      <th>I1</th>\n",
       "      <th>I2</th>\n",
       "      <th>J1</th>\n",
       "      <th>K</th>\n",
       "    </tr>\n",
       "  </thead>\n",
       "  <tbody>\n",
       "    <tr>\n",
       "      <th>AAAS</th>\n",
       "      <td>41.834829</td>\n",
       "      <td>29.959785</td>\n",
       "      <td>13.354287</td>\n",
       "      <td>38.641140</td>\n",
       "      <td>24.220163</td>\n",
       "      <td>32.409071</td>\n",
       "      <td>20.358623</td>\n",
       "      <td>11.808539</td>\n",
       "      <td>52.184848</td>\n",
       "      <td>26.108724</td>\n",
       "      <td>16.231304</td>\n",
       "      <td>9.480404</td>\n",
       "      <td>15.701209</td>\n",
       "      <td>51.405674</td>\n",
       "      <td>20.683018</td>\n",
       "      <td>16.910426</td>\n",
       "      <td>17.508102</td>\n",
       "      <td>16.162541</td>\n",
       "      <td>14.853112</td>\n",
       "      <td>43.791031</td>\n",
       "    </tr>\n",
       "    <tr>\n",
       "      <th>AAMP</th>\n",
       "      <td>56.531718</td>\n",
       "      <td>25.961475</td>\n",
       "      <td>22.131443</td>\n",
       "      <td>24.830151</td>\n",
       "      <td>37.025232</td>\n",
       "      <td>44.035090</td>\n",
       "      <td>10.663168</td>\n",
       "      <td>16.071073</td>\n",
       "      <td>33.693252</td>\n",
       "      <td>31.331859</td>\n",
       "      <td>50.897945</td>\n",
       "      <td>45.358792</td>\n",
       "      <td>46.604359</td>\n",
       "      <td>53.873082</td>\n",
       "      <td>17.761504</td>\n",
       "      <td>15.493863</td>\n",
       "      <td>18.438727</td>\n",
       "      <td>9.730597</td>\n",
       "      <td>6.787410</td>\n",
       "      <td>60.037445</td>\n",
       "    </tr>\n",
       "  </tbody>\n",
       "</table>\n",
       "</div>"
      ],
      "text/plain": [
       "cluster         A1         A2         B1         B2         C1         C2  \\\n",
       "AAAS     41.834829  29.959785  13.354287  38.641140  24.220163  32.409071   \n",
       "AAMP     56.531718  25.961475  22.131443  24.830151  37.025232  44.035090   \n",
       "\n",
       "cluster         D1         D2         E1         E2         F1         F2  \\\n",
       "AAAS     20.358623  11.808539  52.184848  26.108724  16.231304   9.480404   \n",
       "AAMP     10.663168  16.071073  33.693252  31.331859  50.897945  45.358792   \n",
       "\n",
       "cluster         F3         G1         H1         H2         I1         I2  \\\n",
       "AAAS     15.701209  51.405674  20.683018  16.910426  17.508102  16.162541   \n",
       "AAMP     46.604359  53.873082  17.761504  15.493863  18.438727   9.730597   \n",
       "\n",
       "cluster         J1          K  \n",
       "AAAS     14.853112  43.791031  \n",
       "AAMP      6.787410  60.037445  "
      ]
     },
     "execution_count": 325,
     "metadata": {},
     "output_type": "execute_result"
    }
   ],
   "source": [
    "cluster_norm_exp_df.head(2)"
   ]
  },
  {
   "cell_type": "markdown",
   "metadata": {},
   "source": [
    "## Read essential genes list\n",
    "\n",
    "Or in case you want your training using one specific set of genes."
   ]
  },
  {
   "cell_type": "code",
   "execution_count": 326,
   "metadata": {
    "ExecuteTime": {
     "end_time": "2020-04-27T03:43:37.428074Z",
     "start_time": "2020-04-27T03:43:37.422597Z"
    }
   },
   "outputs": [],
   "source": [
    "ess_gene_list = utility.get_gene_list('../data/essential_genes.txt')"
   ]
  },
  {
   "cell_type": "code",
   "execution_count": 327,
   "metadata": {},
   "outputs": [
    {
     "data": {
      "text/plain": [
       "1729"
      ]
     },
     "execution_count": 327,
     "metadata": {},
     "output_type": "execute_result"
    }
   ],
   "source": [
    "selected_gene_list = [g for g in ess_gene_list if g in cluster_norm_exp_df.index]\n",
    "len(selected_gene_list)"
   ]
  },
  {
   "cell_type": "markdown",
   "metadata": {},
   "source": [
    "## Calculate kernel feature \n",
    "\n",
    "Now we will compute the kernel features between your loaded dataset (e.g, clustered patient data) and cell lines (or any other model you trained previously, e.g. CaDRReS-SC trained on PDX data)"
   ]
  },
  {
   "cell_type": "code",
   "execution_count": 328,
   "metadata": {
    "ExecuteTime": {
     "end_time": "2020-04-27T03:45:54.083788Z",
     "start_time": "2020-04-27T03:43:37.430016Z"
    }
   },
   "outputs": [
    {
     "name": "stdout",
     "output_type": "stream",
     "text": [
      "Calculating kernel features based on 1547 common genes\n",
      "(1729, 20) (17419, 1018)\n"
     ]
    }
   ],
   "source": [
    "test_kernel_df = pp.gexp.calculate_kernel_feature(cluster_norm_exp_df, cell_line_log2_mean_fc_exp_df, selected_gene_list)"
   ]
  },
  {
   "cell_type": "code",
   "execution_count": 329,
   "metadata": {
    "ExecuteTime": {
     "end_time": "2020-04-27T03:54:54.861731Z",
     "start_time": "2020-04-27T03:54:54.839484Z"
    }
   },
   "outputs": [
    {
     "name": "stdout",
     "output_type": "stream",
     "text": [
      "Dataframe shape: (20, 1018) \n",
      "\n"
     ]
    },
    {
     "data": {
      "text/html": [
       "<div>\n",
       "<style scoped>\n",
       "    .dataframe tbody tr th:only-of-type {\n",
       "        vertical-align: middle;\n",
       "    }\n",
       "\n",
       "    .dataframe tbody tr th {\n",
       "        vertical-align: top;\n",
       "    }\n",
       "\n",
       "    .dataframe thead th {\n",
       "        text-align: right;\n",
       "    }\n",
       "</style>\n",
       "<table border=\"1\" class=\"dataframe\">\n",
       "  <thead>\n",
       "    <tr style=\"text-align: right;\">\n",
       "      <th></th>\n",
       "      <th>906826</th>\n",
       "      <th>687983</th>\n",
       "      <th>910927</th>\n",
       "      <th>1240138</th>\n",
       "      <th>1240139</th>\n",
       "      <th>906792</th>\n",
       "      <th>910688</th>\n",
       "      <th>1240135</th>\n",
       "      <th>1290812</th>\n",
       "      <th>907045</th>\n",
       "      <th>...</th>\n",
       "      <th>753584</th>\n",
       "      <th>907044</th>\n",
       "      <th>998184</th>\n",
       "      <th>908145</th>\n",
       "      <th>1659787</th>\n",
       "      <th>1298157</th>\n",
       "      <th>1480372</th>\n",
       "      <th>1298533</th>\n",
       "      <th>930299</th>\n",
       "      <th>905954.1</th>\n",
       "    </tr>\n",
       "  </thead>\n",
       "  <tbody>\n",
       "    <tr>\n",
       "      <th>A1</th>\n",
       "      <td>0.072836</td>\n",
       "      <td>-0.077546</td>\n",
       "      <td>-0.012142</td>\n",
       "      <td>0.004416</td>\n",
       "      <td>-0.001477</td>\n",
       "      <td>0.030616</td>\n",
       "      <td>-0.009137</td>\n",
       "      <td>0.012678</td>\n",
       "      <td>0.027221</td>\n",
       "      <td>-0.036311</td>\n",
       "      <td>...</td>\n",
       "      <td>0.021360</td>\n",
       "      <td>0.013181</td>\n",
       "      <td>-0.046433</td>\n",
       "      <td>0.057867</td>\n",
       "      <td>0.073512</td>\n",
       "      <td>0.001711</td>\n",
       "      <td>0.007254</td>\n",
       "      <td>0.028342</td>\n",
       "      <td>0.012077</td>\n",
       "      <td>0.021961</td>\n",
       "    </tr>\n",
       "    <tr>\n",
       "      <th>A2</th>\n",
       "      <td>0.074882</td>\n",
       "      <td>-0.067883</td>\n",
       "      <td>-0.006703</td>\n",
       "      <td>-0.002605</td>\n",
       "      <td>-0.000708</td>\n",
       "      <td>0.025307</td>\n",
       "      <td>-0.014549</td>\n",
       "      <td>0.000004</td>\n",
       "      <td>0.025202</td>\n",
       "      <td>-0.048629</td>\n",
       "      <td>...</td>\n",
       "      <td>0.019706</td>\n",
       "      <td>0.018012</td>\n",
       "      <td>-0.051277</td>\n",
       "      <td>0.057297</td>\n",
       "      <td>0.072076</td>\n",
       "      <td>0.001001</td>\n",
       "      <td>0.000633</td>\n",
       "      <td>0.034680</td>\n",
       "      <td>0.010576</td>\n",
       "      <td>0.021010</td>\n",
       "    </tr>\n",
       "  </tbody>\n",
       "</table>\n",
       "<p>2 rows × 1018 columns</p>\n",
       "</div>"
      ],
      "text/plain": [
       "      906826    687983    910927   1240138   1240139    906792    910688  \\\n",
       "A1  0.072836 -0.077546 -0.012142  0.004416 -0.001477  0.030616 -0.009137   \n",
       "A2  0.074882 -0.067883 -0.006703 -0.002605 -0.000708  0.025307 -0.014549   \n",
       "\n",
       "     1240135   1290812    907045  ...    753584    907044    998184    908145  \\\n",
       "A1  0.012678  0.027221 -0.036311  ...  0.021360  0.013181 -0.046433  0.057867   \n",
       "A2  0.000004  0.025202 -0.048629  ...  0.019706  0.018012 -0.051277  0.057297   \n",
       "\n",
       "     1659787   1298157   1480372   1298533    930299  905954.1  \n",
       "A1  0.073512  0.001711  0.007254  0.028342  0.012077  0.021961  \n",
       "A2  0.072076  0.001001  0.000633  0.034680  0.010576  0.021010  \n",
       "\n",
       "[2 rows x 1018 columns]"
      ]
     },
     "execution_count": 329,
     "metadata": {},
     "output_type": "execute_result"
    }
   ],
   "source": [
    "print(\"Dataframe shape:\", test_kernel_df.shape, \"\\n\")\n",
    "test_kernel_df.head(2)"
   ]
  },
  {
   "cell_type": "markdown",
   "metadata": {},
   "source": [
    "# Drug response prediction\n",
    "Given the pre-trained model we will predict now for your clustered data"
   ]
  },
  {
   "cell_type": "code",
   "execution_count": 330,
   "metadata": {
    "ExecuteTime": {
     "end_time": "2020-04-27T03:54:56.034370Z",
     "start_time": "2020-04-27T03:54:56.011389Z"
    }
   },
   "outputs": [
    {
     "name": "stdout",
     "output_type": "stream",
     "text": [
      "Predicting drug response using CaDRReS: cadrres-wo-sample-bias\n",
      "done!\n"
     ]
    }
   ],
   "source": [
    "print('Predicting drug response using CaDRReS: {}'.format(model_spec_name))\n",
    "pred_df, P_test_df= model.predict_from_model(cadrres_model, test_kernel_df, model_spec_name)\n",
    "print('done!')"
   ]
  },
  {
   "cell_type": "markdown",
   "metadata": {},
   "source": [
    "Inspecting the model predictions and save the predictions"
   ]
  },
  {
   "cell_type": "code",
   "execution_count": 331,
   "metadata": {
    "ExecuteTime": {
     "end_time": "2020-04-27T03:54:59.795945Z",
     "start_time": "2020-04-27T03:54:59.773345Z"
    }
   },
   "outputs": [
    {
     "data": {
      "text/html": [
       "<div>\n",
       "<style scoped>\n",
       "    .dataframe tbody tr th:only-of-type {\n",
       "        vertical-align: middle;\n",
       "    }\n",
       "\n",
       "    .dataframe tbody tr th {\n",
       "        vertical-align: top;\n",
       "    }\n",
       "\n",
       "    .dataframe thead th {\n",
       "        text-align: right;\n",
       "    }\n",
       "</style>\n",
       "<table border=\"1\" class=\"dataframe\">\n",
       "  <thead>\n",
       "    <tr style=\"text-align: right;\">\n",
       "      <th>Drug ID</th>\n",
       "      <th>1</th>\n",
       "      <th>1001</th>\n",
       "      <th>1003</th>\n",
       "      <th>1004</th>\n",
       "      <th>1005</th>\n",
       "      <th>1006</th>\n",
       "      <th>1007</th>\n",
       "      <th>1008</th>\n",
       "      <th>1009</th>\n",
       "      <th>1010</th>\n",
       "      <th>...</th>\n",
       "      <th>64</th>\n",
       "      <th>71</th>\n",
       "      <th>83</th>\n",
       "      <th>86</th>\n",
       "      <th>87</th>\n",
       "      <th>88</th>\n",
       "      <th>89</th>\n",
       "      <th>9</th>\n",
       "      <th>91</th>\n",
       "      <th>94</th>\n",
       "    </tr>\n",
       "  </thead>\n",
       "  <tbody>\n",
       "    <tr>\n",
       "      <th>A1</th>\n",
       "      <td>3.897689</td>\n",
       "      <td>10.962430</td>\n",
       "      <td>-5.786518</td>\n",
       "      <td>-5.639127</td>\n",
       "      <td>3.908731</td>\n",
       "      <td>0.279907</td>\n",
       "      <td>-6.583100</td>\n",
       "      <td>2.435375</td>\n",
       "      <td>7.278870</td>\n",
       "      <td>4.153168</td>\n",
       "      <td>...</td>\n",
       "      <td>2.595250</td>\n",
       "      <td>4.268645</td>\n",
       "      <td>-1.524392</td>\n",
       "      <td>-0.606547</td>\n",
       "      <td>-2.509178</td>\n",
       "      <td>1.189181</td>\n",
       "      <td>3.656169</td>\n",
       "      <td>0.053521</td>\n",
       "      <td>5.708878</td>\n",
       "      <td>5.126888</td>\n",
       "    </tr>\n",
       "    <tr>\n",
       "      <th>A2</th>\n",
       "      <td>3.721837</td>\n",
       "      <td>10.932719</td>\n",
       "      <td>-5.831800</td>\n",
       "      <td>-5.736608</td>\n",
       "      <td>3.851029</td>\n",
       "      <td>0.151695</td>\n",
       "      <td>-6.780682</td>\n",
       "      <td>2.425330</td>\n",
       "      <td>7.237191</td>\n",
       "      <td>4.030529</td>\n",
       "      <td>...</td>\n",
       "      <td>2.441818</td>\n",
       "      <td>4.137074</td>\n",
       "      <td>-1.602904</td>\n",
       "      <td>-0.670540</td>\n",
       "      <td>-2.595433</td>\n",
       "      <td>1.173355</td>\n",
       "      <td>3.503584</td>\n",
       "      <td>-0.071620</td>\n",
       "      <td>5.536485</td>\n",
       "      <td>4.956879</td>\n",
       "    </tr>\n",
       "  </tbody>\n",
       "</table>\n",
       "<p>2 rows × 226 columns</p>\n",
       "</div>"
      ],
      "text/plain": [
       "Drug ID         1       1001      1003      1004      1005      1006  \\\n",
       "A1       3.897689  10.962430 -5.786518 -5.639127  3.908731  0.279907   \n",
       "A2       3.721837  10.932719 -5.831800 -5.736608  3.851029  0.151695   \n",
       "\n",
       "Drug ID      1007      1008      1009      1010  ...        64        71  \\\n",
       "A1      -6.583100  2.435375  7.278870  4.153168  ...  2.595250  4.268645   \n",
       "A2      -6.780682  2.425330  7.237191  4.030529  ...  2.441818  4.137074   \n",
       "\n",
       "Drug ID        83        86        87        88        89         9        91  \\\n",
       "A1      -1.524392 -0.606547 -2.509178  1.189181  3.656169  0.053521  5.708878   \n",
       "A2      -1.602904 -0.670540 -2.595433  1.173355  3.503584 -0.071620  5.536485   \n",
       "\n",
       "Drug ID        94  \n",
       "A1       5.126888  \n",
       "A2       4.956879  \n",
       "\n",
       "[2 rows x 226 columns]"
      ]
     },
     "execution_count": 331,
     "metadata": {},
     "output_type": "execute_result"
    }
   ],
   "source": [
    "#cluster vs drugs\n",
    "pred_df.head(2)"
   ]
  },
  {
   "cell_type": "code",
   "execution_count": 332,
   "metadata": {
    "ExecuteTime": {
     "end_time": "2020-04-27T03:55:18.218892Z",
     "start_time": "2020-04-27T03:55:18.065723Z"
    }
   },
   "outputs": [
    {
     "name": "stdout",
     "output_type": "stream",
     "text": [
      "Saving ../example_result/cadrres-wo-sample-bias_test_pred.csv\n"
     ]
    }
   ],
   "source": [
    "print('Saving ' + model_dir + '{}_test_pred.csv'.format(model_spec_name))\n",
    "pred_df.to_csv(model_dir + '{}_test_pred.csv'.format(model_spec_name))"
   ]
  },
  {
   "cell_type": "markdown",
   "metadata": {},
   "source": [
    "# Pre-processing to predict drug combination"
   ]
  },
  {
   "cell_type": "code",
   "execution_count": 334,
   "metadata": {},
   "outputs": [],
   "source": [
    "model_name = model_spec_name\n",
    "# for each patient, if cell cluster is less than 5%, then we don't consider that cluster \n",
    "freq_cutoff = 0.05\n",
    "# shift the dosage as GDSC experiment (Syto60) is less sensitive\n",
    "dosage_shifted = False"
   ]
  },
  {
   "cell_type": "code",
   "execution_count": 335,
   "metadata": {},
   "outputs": [
    {
     "name": "stdout",
     "output_type": "stream",
     "text": [
      "(81, 27)\n"
     ]
    }
   ],
   "source": [
    "drug_info_df = pd.read_csv('../preprocessed_data/GDSC/hn_drug_stat.csv', index_col=0)\n",
    "drug_info_df.index = drug_info_df.index.astype(str)\n",
    "\n",
    "drug_id_name_dict = dict(zip(drug_info_df.index, drug_info_df['Drug Name']))\n",
    "print (drug_info_df.shape)"
   ]
  },
  {
   "cell_type": "code",
   "execution_count": 336,
   "metadata": {},
   "outputs": [
    {
     "data": {
      "text/html": [
       "<div>\n",
       "<style scoped>\n",
       "    .dataframe tbody tr th:only-of-type {\n",
       "        vertical-align: middle;\n",
       "    }\n",
       "\n",
       "    .dataframe tbody tr th {\n",
       "        vertical-align: top;\n",
       "    }\n",
       "\n",
       "    .dataframe thead th {\n",
       "        text-align: right;\n",
       "    }\n",
       "</style>\n",
       "<table border=\"1\" class=\"dataframe\">\n",
       "  <thead>\n",
       "    <tr style=\"text-align: right;\">\n",
       "      <th></th>\n",
       "      <th>Drug Name</th>\n",
       "      <th>Synonyms</th>\n",
       "      <th>Target</th>\n",
       "      <th>Target Pathway</th>\n",
       "      <th>Selleckchem Cat#</th>\n",
       "      <th>CAS number</th>\n",
       "      <th>PubCHEM</th>\n",
       "      <th>Others</th>\n",
       "      <th>entropy</th>\n",
       "      <th>max_conc</th>\n",
       "      <th>...</th>\n",
       "      <th>median_ic50_9f</th>\n",
       "      <th>log2_median_ic50_9f</th>\n",
       "      <th>log2_median_ic50_hn</th>\n",
       "      <th>median_ic50_hn</th>\n",
       "      <th>median_ic50_3f_hn</th>\n",
       "      <th>log2_median_ic50_3f_hn</th>\n",
       "      <th>median_ic50_9f_hn</th>\n",
       "      <th>log2_median_ic50_9f_hn</th>\n",
       "      <th>num_sensitive</th>\n",
       "      <th>num_sensitive_hn</th>\n",
       "    </tr>\n",
       "    <tr>\n",
       "      <th>Drug ID</th>\n",
       "      <th></th>\n",
       "      <th></th>\n",
       "      <th></th>\n",
       "      <th></th>\n",
       "      <th></th>\n",
       "      <th></th>\n",
       "      <th></th>\n",
       "      <th></th>\n",
       "      <th></th>\n",
       "      <th></th>\n",
       "      <th></th>\n",
       "      <th></th>\n",
       "      <th></th>\n",
       "      <th></th>\n",
       "      <th></th>\n",
       "      <th></th>\n",
       "      <th></th>\n",
       "      <th></th>\n",
       "      <th></th>\n",
       "      <th></th>\n",
       "      <th></th>\n",
       "    </tr>\n",
       "  </thead>\n",
       "  <tbody>\n",
       "    <tr>\n",
       "      <th>1001</th>\n",
       "      <td>AICA Ribonucleotide</td>\n",
       "      <td>AICAR, N1-(b-D-Ribofuranosyl)-5-aminoimidazole...</td>\n",
       "      <td>AMPK agonist</td>\n",
       "      <td>Metabolism</td>\n",
       "      <td>S1802</td>\n",
       "      <td>2627-69-2</td>\n",
       "      <td>65110</td>\n",
       "      <td>NaN</td>\n",
       "      <td>6.034272</td>\n",
       "      <td>2000.0</td>\n",
       "      <td>...</td>\n",
       "      <td>206.748380</td>\n",
       "      <td>7.691732</td>\n",
       "      <td>9.939784</td>\n",
       "      <td>982.139588</td>\n",
       "      <td>327.379863</td>\n",
       "      <td>8.354822</td>\n",
       "      <td>109.126621</td>\n",
       "      <td>6.769859</td>\n",
       "      <td>476</td>\n",
       "      <td>27</td>\n",
       "    </tr>\n",
       "    <tr>\n",
       "      <th>1003</th>\n",
       "      <td>Camptothecin</td>\n",
       "      <td>7-Ethyl-10-Hydroxy-Camptothecin, SN-38, Irinot...</td>\n",
       "      <td>TOP1</td>\n",
       "      <td>DNA replication</td>\n",
       "      <td>S1288</td>\n",
       "      <td>7689-03-4</td>\n",
       "      <td>104842</td>\n",
       "      <td>(SN-38, S4908, 86639-52-3) (Irinotecan, S1198,...</td>\n",
       "      <td>4.609530</td>\n",
       "      <td>0.1</td>\n",
       "      <td>...</td>\n",
       "      <td>0.002003</td>\n",
       "      <td>-8.963413</td>\n",
       "      <td>-7.587491</td>\n",
       "      <td>0.005199</td>\n",
       "      <td>0.001733</td>\n",
       "      <td>-9.172454</td>\n",
       "      <td>0.000578</td>\n",
       "      <td>-10.757416</td>\n",
       "      <td>688</td>\n",
       "      <td>30</td>\n",
       "    </tr>\n",
       "  </tbody>\n",
       "</table>\n",
       "<p>2 rows × 27 columns</p>\n",
       "</div>"
      ],
      "text/plain": [
       "                   Drug Name  \\\n",
       "Drug ID                        \n",
       "1001     AICA Ribonucleotide   \n",
       "1003            Camptothecin   \n",
       "\n",
       "                                                  Synonyms        Target  \\\n",
       "Drug ID                                                                    \n",
       "1001     AICAR, N1-(b-D-Ribofuranosyl)-5-aminoimidazole...  AMPK agonist   \n",
       "1003     7-Ethyl-10-Hydroxy-Camptothecin, SN-38, Irinot...          TOP1   \n",
       "\n",
       "          Target Pathway Selleckchem Cat# CAS number PubCHEM  \\\n",
       "Drug ID                                                        \n",
       "1001          Metabolism            S1802  2627-69-2   65110   \n",
       "1003     DNA replication            S1288  7689-03-4  104842   \n",
       "\n",
       "                                                    Others   entropy  \\\n",
       "Drug ID                                                                \n",
       "1001                                                   NaN  6.034272   \n",
       "1003     (SN-38, S4908, 86639-52-3) (Irinotecan, S1198,...  4.609530   \n",
       "\n",
       "         max_conc  ...  median_ic50_9f  log2_median_ic50_9f  \\\n",
       "Drug ID            ...                                        \n",
       "1001       2000.0  ...      206.748380             7.691732   \n",
       "1003          0.1  ...        0.002003            -8.963413   \n",
       "\n",
       "         log2_median_ic50_hn  median_ic50_hn  median_ic50_3f_hn  \\\n",
       "Drug ID                                                           \n",
       "1001                9.939784      982.139588         327.379863   \n",
       "1003               -7.587491        0.005199           0.001733   \n",
       "\n",
       "         log2_median_ic50_3f_hn  median_ic50_9f_hn  log2_median_ic50_9f_hn  \\\n",
       "Drug ID                                                                      \n",
       "1001                   8.354822         109.126621                6.769859   \n",
       "1003                  -9.172454           0.000578              -10.757416   \n",
       "\n",
       "         num_sensitive  num_sensitive_hn  \n",
       "Drug ID                                   \n",
       "1001               476                27  \n",
       "1003               688                30  \n",
       "\n",
       "[2 rows x 27 columns]"
      ]
     },
     "execution_count": 336,
     "metadata": {},
     "output_type": "execute_result"
    }
   ],
   "source": [
    "drug_info_df.head(2)"
   ]
  },
  {
   "cell_type": "markdown",
   "metadata": {},
   "source": [
    "### Load your pre-trained model results on your own patient data (saved some steps earlier)"
   ]
  },
  {
   "cell_type": "code",
   "execution_count": 337,
   "metadata": {},
   "outputs": [],
   "source": [
    "cadrres_cluster_df = pd.read_csv(model_dir + '{}_test_pred.csv'.format(model_spec_name), index_col=0)"
   ]
  },
  {
   "cell_type": "code",
   "execution_count": 338,
   "metadata": {},
   "outputs": [
    {
     "name": "stdout",
     "output_type": "stream",
     "text": [
      "81 20\n"
     ]
    }
   ],
   "source": [
    "#load prediction for a certain set of drugs\n",
    "drug_list = drug_info_df.index\n",
    "cluster_list = cadrres_cluster_df.index\n",
    "print(len(drug_list), len(cluster_list))\n",
    "\n",
    "drug_info_df = drug_info_df.loc[drug_list]\n",
    "cadrres_cluster_df = cadrres_cluster_df[drug_list]"
   ]
  },
  {
   "cell_type": "code",
   "execution_count": 339,
   "metadata": {},
   "outputs": [],
   "source": [
    "if dosage_shifted:\n",
    "    # Shift by 4 uM\n",
    "    cadrres_cluster_df = cadrres_cluster_df - 2"
   ]
  },
  {
   "cell_type": "markdown",
   "metadata": {},
   "source": [
    "### Load patient (or any other model) cluster percentage"
   ]
  },
  {
   "cell_type": "code",
   "execution_count": 341,
   "metadata": {},
   "outputs": [
    {
     "data": {
      "text/html": [
       "<div>\n",
       "<style scoped>\n",
       "    .dataframe tbody tr th:only-of-type {\n",
       "        vertical-align: middle;\n",
       "    }\n",
       "\n",
       "    .dataframe tbody tr th {\n",
       "        vertical-align: top;\n",
       "    }\n",
       "\n",
       "    .dataframe thead th {\n",
       "        text-align: right;\n",
       "    }\n",
       "</style>\n",
       "<table border=\"1\" class=\"dataframe\">\n",
       "  <thead>\n",
       "    <tr style=\"text-align: right;\">\n",
       "      <th>cluster</th>\n",
       "      <th>A1</th>\n",
       "      <th>A2</th>\n",
       "      <th>B1</th>\n",
       "      <th>B2</th>\n",
       "      <th>C1</th>\n",
       "      <th>C2</th>\n",
       "      <th>D1</th>\n",
       "      <th>D2</th>\n",
       "      <th>E1</th>\n",
       "      <th>E2</th>\n",
       "      <th>F1</th>\n",
       "      <th>F2</th>\n",
       "      <th>F3</th>\n",
       "      <th>G1</th>\n",
       "      <th>H1</th>\n",
       "      <th>H2</th>\n",
       "      <th>I1</th>\n",
       "      <th>I2</th>\n",
       "      <th>J1</th>\n",
       "    </tr>\n",
       "    <tr>\n",
       "      <th>patient_id</th>\n",
       "      <th></th>\n",
       "      <th></th>\n",
       "      <th></th>\n",
       "      <th></th>\n",
       "      <th></th>\n",
       "      <th></th>\n",
       "      <th></th>\n",
       "      <th></th>\n",
       "      <th></th>\n",
       "      <th></th>\n",
       "      <th></th>\n",
       "      <th></th>\n",
       "      <th></th>\n",
       "      <th></th>\n",
       "      <th></th>\n",
       "      <th></th>\n",
       "      <th></th>\n",
       "      <th></th>\n",
       "      <th></th>\n",
       "    </tr>\n",
       "  </thead>\n",
       "  <tbody>\n",
       "    <tr>\n",
       "      <th>Patient_1</th>\n",
       "      <td>0.022857</td>\n",
       "      <td>0.474286</td>\n",
       "      <td>0.0</td>\n",
       "      <td>0.0</td>\n",
       "      <td>0.000000</td>\n",
       "      <td>0.011429</td>\n",
       "      <td>0.0</td>\n",
       "      <td>0.0</td>\n",
       "      <td>0.337143</td>\n",
       "      <td>0.154286</td>\n",
       "      <td>0.000000</td>\n",
       "      <td>0.000000</td>\n",
       "      <td>0.000000</td>\n",
       "      <td>0.0</td>\n",
       "      <td>0.0</td>\n",
       "      <td>0.0</td>\n",
       "      <td>0.0</td>\n",
       "      <td>0.0</td>\n",
       "      <td>0.0</td>\n",
       "    </tr>\n",
       "    <tr>\n",
       "      <th>Patient_2</th>\n",
       "      <td>0.000000</td>\n",
       "      <td>0.000000</td>\n",
       "      <td>0.0</td>\n",
       "      <td>0.0</td>\n",
       "      <td>0.275862</td>\n",
       "      <td>0.235632</td>\n",
       "      <td>0.0</td>\n",
       "      <td>0.0</td>\n",
       "      <td>0.000000</td>\n",
       "      <td>0.000000</td>\n",
       "      <td>0.218391</td>\n",
       "      <td>0.166667</td>\n",
       "      <td>0.103448</td>\n",
       "      <td>0.0</td>\n",
       "      <td>0.0</td>\n",
       "      <td>0.0</td>\n",
       "      <td>0.0</td>\n",
       "      <td>0.0</td>\n",
       "      <td>0.0</td>\n",
       "    </tr>\n",
       "  </tbody>\n",
       "</table>\n",
       "</div>"
      ],
      "text/plain": [
       "cluster           A1        A2   B1   B2        C1        C2   D1   D2  \\\n",
       "patient_id                                                               \n",
       "Patient_1   0.022857  0.474286  0.0  0.0  0.000000  0.011429  0.0  0.0   \n",
       "Patient_2   0.000000  0.000000  0.0  0.0  0.275862  0.235632  0.0  0.0   \n",
       "\n",
       "cluster           E1        E2        F1        F2        F3   G1   H1   H2  \\\n",
       "patient_id                                                                    \n",
       "Patient_1   0.337143  0.154286  0.000000  0.000000  0.000000  0.0  0.0  0.0   \n",
       "Patient_2   0.000000  0.000000  0.218391  0.166667  0.103448  0.0  0.0  0.0   \n",
       "\n",
       "cluster      I1   I2   J1  \n",
       "patient_id                 \n",
       "Patient_1   0.0  0.0  0.0  \n",
       "Patient_2   0.0  0.0  0.0  "
      ]
     },
     "execution_count": 341,
     "metadata": {},
     "output_type": "execute_result"
    }
   ],
   "source": [
    "freq_df = pd.read_excel('../data/patient/percent_patient_cluster.xlsx', index_col=[0, 1]).reset_index()\n",
    "freq_df = freq_df.pivot(index='patient_id', columns='cluster', values='percent').fillna(0) / 100\n",
    "\n",
    "patient_list = freq_df.index\n",
    "\n",
    "freq_df.head(2)\n",
    "#show patient by cluster percentage"
   ]
  },
  {
   "cell_type": "markdown",
   "metadata": {},
   "source": [
    "### List all pairs of patient and drug"
   ]
  },
  {
   "cell_type": "code",
   "execution_count": 342,
   "metadata": {},
   "outputs": [],
   "source": [
    "pred_delta_df = pd.DataFrame(cadrres_cluster_df.values - drug_info_df[ref_type].values, columns=drug_list, index=cluster_list)\n",
    "pred_cv_df = 100 / (1 + (np.power(2, -pred_delta_df)))\n",
    "pred_kill_df = 100 - pred_cv_df"
   ]
  },
  {
   "cell_type": "code",
   "execution_count": 343,
   "metadata": {},
   "outputs": [
    {
     "name": "stdout",
     "output_type": "stream",
     "text": [
      "['A2' 'E1' 'E2'] [0.47428571 0.33714286 0.15428571]\n",
      "['C1' 'C2' 'F1' 'F2' 'F3'] [0.27586207 0.23563218 0.2183908  0.16666667 0.10344828]\n",
      "['B1' 'B2' 'G1'] [0.2967033  0.23626374 0.46703297]\n",
      "['H1' 'H2' 'J1'] [0.32236842 0.22368421 0.45394737]\n",
      "['D1' 'D2'] [0.72527473 0.27472527]\n",
      "['I1' 'I2'] [0.575 0.425]\n"
     ]
    }
   ],
   "source": [
    "rows = []\n",
    "for p in patient_list:\n",
    "    c_list = freq_df.loc[p][freq_df.loc[p] >= freq_cutoff].index.values\n",
    "    freqs = freq_df.loc[p][freq_df.loc[p] >= freq_cutoff].values\n",
    "\n",
    "    print(c_list, freqs)\n",
    "\n",
    "    p_pred_delta_weighted = np.matmul(pred_delta_df.loc[c_list].values.T, freqs)\n",
    "    p_pred_delta_mat = pred_delta_df.loc[c_list].values\n",
    "    \n",
    "    p_pred_kill_weighted = np.matmul(pred_kill_df.loc[c_list].values.T, freqs)\n",
    "    p_pred_kill_mat = pred_kill_df.loc[c_list].values\n",
    "\n",
    "    for d_i, d_id in enumerate(drug_list):\n",
    "        rows += [[p, d_id] + ['|'.join(c_list)] + ['|'.join([\"{:.14}\".format(f) for f in freqs])] + \n",
    "                 ['|'.join([\"{:.14}\".format(f) for f in p_pred_delta_mat[:, d_i]])] + \n",
    "                 [\"{:.14}\".format(p_pred_delta_weighted[d_i])] +\n",
    "                 ['|'.join([\"{:.14}\".format(f) for f in p_pred_kill_mat[:, d_i]])] + \n",
    "                 [\"{:.14}\".format(p_pred_kill_weighted[d_i])]\n",
    "                ]"
   ]
  },
  {
   "cell_type": "code",
   "execution_count": 344,
   "metadata": {},
   "outputs": [
    {
     "data": {
      "text/html": [
       "<div>\n",
       "<style scoped>\n",
       "    .dataframe tbody tr th:only-of-type {\n",
       "        vertical-align: middle;\n",
       "    }\n",
       "\n",
       "    .dataframe tbody tr th {\n",
       "        vertical-align: top;\n",
       "    }\n",
       "\n",
       "    .dataframe thead th {\n",
       "        text-align: right;\n",
       "    }\n",
       "</style>\n",
       "<table border=\"1\" class=\"dataframe\">\n",
       "  <thead>\n",
       "    <tr style=\"text-align: right;\">\n",
       "      <th></th>\n",
       "      <th>patient</th>\n",
       "      <th>drug_id</th>\n",
       "      <th>cluster</th>\n",
       "      <th>cluster_p</th>\n",
       "      <th>cluster_delta</th>\n",
       "      <th>delta</th>\n",
       "      <th>cluster_kill</th>\n",
       "      <th>kill</th>\n",
       "    </tr>\n",
       "  </thead>\n",
       "  <tbody>\n",
       "    <tr>\n",
       "      <th>0</th>\n",
       "      <td>Patient_1</td>\n",
       "      <td>1001</td>\n",
       "      <td>A2|E1|E2</td>\n",
       "      <td>0.47428571428571|0.33714285714286|0.1542857142...</td>\n",
       "      <td>0.99293517368875|1.0329112254328|1.058191058623</td>\n",
       "      <td>0.98243737314013</td>\n",
       "      <td>33.442243435815|32.828334751418|32.443105945183</td>\n",
       "      <td>31.934524663007</td>\n",
       "    </tr>\n",
       "    <tr>\n",
       "      <th>1</th>\n",
       "      <td>Patient_1</td>\n",
       "      <td>1003</td>\n",
       "      <td>A2|E1|E2</td>\n",
       "      <td>0.47428571428571|0.33714285714286|0.1542857142...</td>\n",
       "      <td>1.755691477413|1.752643253083|1.8642688369739</td>\n",
       "      <td>1.7112205894598</td>\n",
       "      <td>22.847318138884|22.884583703612|21.547852587259</td>\n",
       "      <td>21.876056365123</td>\n",
       "    </tr>\n",
       "    <tr>\n",
       "      <th>2</th>\n",
       "      <td>Patient_1</td>\n",
       "      <td>1004</td>\n",
       "      <td>A2|E1|E2</td>\n",
       "      <td>0.47428571428571|0.33714285714286|0.1542857142...</td>\n",
       "      <td>1.4143740117334|1.4794722838759|1.5497034555972</td>\n",
       "      <td>1.4087080058495</td>\n",
       "      <td>27.281850100904|26.395899870969|25.461038483201</td>\n",
       "      <td>25.766855370335</td>\n",
       "    </tr>\n",
       "    <tr>\n",
       "      <th>3</th>\n",
       "      <td>Patient_1</td>\n",
       "      <td>1006</td>\n",
       "      <td>A2|E1|E2</td>\n",
       "      <td>0.47428571428571|0.33714285714286|0.1542857142...</td>\n",
       "      <td>1.4943273294913|1.4668217785019|1.5813190735344</td>\n",
       "      <td>1.4472415329418</td>\n",
       "      <td>26.196336950079|26.566613756126|25.04738172618</td>\n",
       "      <td>25.245745628999</td>\n",
       "    </tr>\n",
       "    <tr>\n",
       "      <th>4</th>\n",
       "      <td>Patient_1</td>\n",
       "      <td>1007</td>\n",
       "      <td>A2|E1|E2</td>\n",
       "      <td>0.47428571428571|0.33714285714286|0.1542857142...</td>\n",
       "      <td>3.0123161017985|3.1673551646104|3.2265566328267</td>\n",
       "      <td>2.9943612585578</td>\n",
       "      <td>11.027075832071|10.016042902879|9.6522188833902</td>\n",
       "      <td>10.096021343904</td>\n",
       "    </tr>\n",
       "  </tbody>\n",
       "</table>\n",
       "</div>"
      ],
      "text/plain": [
       "     patient drug_id   cluster  \\\n",
       "0  Patient_1    1001  A2|E1|E2   \n",
       "1  Patient_1    1003  A2|E1|E2   \n",
       "2  Patient_1    1004  A2|E1|E2   \n",
       "3  Patient_1    1006  A2|E1|E2   \n",
       "4  Patient_1    1007  A2|E1|E2   \n",
       "\n",
       "                                           cluster_p  \\\n",
       "0  0.47428571428571|0.33714285714286|0.1542857142...   \n",
       "1  0.47428571428571|0.33714285714286|0.1542857142...   \n",
       "2  0.47428571428571|0.33714285714286|0.1542857142...   \n",
       "3  0.47428571428571|0.33714285714286|0.1542857142...   \n",
       "4  0.47428571428571|0.33714285714286|0.1542857142...   \n",
       "\n",
       "                                     cluster_delta             delta  \\\n",
       "0  0.99293517368875|1.0329112254328|1.058191058623  0.98243737314013   \n",
       "1    1.755691477413|1.752643253083|1.8642688369739   1.7112205894598   \n",
       "2  1.4143740117334|1.4794722838759|1.5497034555972   1.4087080058495   \n",
       "3  1.4943273294913|1.4668217785019|1.5813190735344   1.4472415329418   \n",
       "4  3.0123161017985|3.1673551646104|3.2265566328267   2.9943612585578   \n",
       "\n",
       "                                      cluster_kill             kill  \n",
       "0  33.442243435815|32.828334751418|32.443105945183  31.934524663007  \n",
       "1  22.847318138884|22.884583703612|21.547852587259  21.876056365123  \n",
       "2  27.281850100904|26.395899870969|25.461038483201  25.766855370335  \n",
       "3   26.196336950079|26.566613756126|25.04738172618  25.245745628999  \n",
       "4  11.027075832071|10.016042902879|9.6522188833902  10.096021343904  "
      ]
     },
     "execution_count": 344,
     "metadata": {},
     "output_type": "execute_result"
    }
   ],
   "source": [
    "single_drug_pred_df = pd.DataFrame(rows, columns=['patient', 'drug_id', 'cluster', 'cluster_p', 'cluster_delta', 'delta', 'cluster_kill', 'kill'])\n",
    "single_drug_pred_df.head()"
   ]
  },
  {
   "cell_type": "code",
   "execution_count": 345,
   "metadata": {},
   "outputs": [],
   "source": [
    "if dosage_shifted:\n",
    "    single_drug_pred_df.to_csv('pred_drug_kill_{}_shifted.csv'.format(model_name), index=False)\n",
    "else:\n",
    "    single_drug_pred_df.to_csv('pred_drug_kill_{}.csv'.format(model_name), index=False)"
   ]
  },
  {
   "cell_type": "markdown",
   "metadata": {},
   "source": [
    "### In case you want to check drug combination for a set of drugs"
   ]
  },
  {
   "cell_type": "code",
   "execution_count": 346,
   "metadata": {},
   "outputs": [
    {
     "data": {
      "text/plain": [
       "['Afatinib',\n",
       " 'Docetaxel',\n",
       " 'Doxorubicin',\n",
       " 'Epothilone B',\n",
       " 'Gefitinib',\n",
       " 'Obatoclax Mesylate',\n",
       " 'PHA-793887',\n",
       " 'PI-103',\n",
       " 'Vorinostat']"
      ]
     },
     "execution_count": 346,
     "metadata": {},
     "output_type": "execute_result"
    }
   ],
   "source": [
    "tested_drug_list = [1032, 1007, 133, 201, 1010] + [182, 301, 302] + [1012]\n",
    "[drug_id_name_dict[str(d)] for d in tested_drug_list]"
   ]
  },
  {
   "cell_type": "code",
   "execution_count": 347,
   "metadata": {},
   "outputs": [
    {
     "data": {
      "text/html": [
       "<div>\n",
       "<style scoped>\n",
       "    .dataframe tbody tr th:only-of-type {\n",
       "        vertical-align: middle;\n",
       "    }\n",
       "\n",
       "    .dataframe tbody tr th {\n",
       "        vertical-align: top;\n",
       "    }\n",
       "\n",
       "    .dataframe thead th {\n",
       "        text-align: right;\n",
       "    }\n",
       "</style>\n",
       "<table border=\"1\" class=\"dataframe\">\n",
       "  <thead>\n",
       "    <tr style=\"text-align: right;\">\n",
       "      <th></th>\n",
       "      <th>patient</th>\n",
       "      <th>drug_id</th>\n",
       "      <th>cluster</th>\n",
       "      <th>cluster_p</th>\n",
       "      <th>cluster_delta</th>\n",
       "      <th>delta</th>\n",
       "      <th>cluster_kill</th>\n",
       "      <th>kill</th>\n",
       "      <th>drug_name</th>\n",
       "    </tr>\n",
       "  </thead>\n",
       "  <tbody>\n",
       "    <tr>\n",
       "      <th>0</th>\n",
       "      <td>Patient_1</td>\n",
       "      <td>1001</td>\n",
       "      <td>A2|E1|E2</td>\n",
       "      <td>0.47428571428571|0.33714285714286|0.1542857142...</td>\n",
       "      <td>0.99293517368875|1.0329112254328|1.058191058623</td>\n",
       "      <td>0.98243737314013</td>\n",
       "      <td>33.442243435815|32.828334751418|32.443105945183</td>\n",
       "      <td>31.934524663007</td>\n",
       "      <td>AICA Ribonucleotide</td>\n",
       "    </tr>\n",
       "    <tr>\n",
       "      <th>1</th>\n",
       "      <td>Patient_1</td>\n",
       "      <td>1003</td>\n",
       "      <td>A2|E1|E2</td>\n",
       "      <td>0.47428571428571|0.33714285714286|0.1542857142...</td>\n",
       "      <td>1.755691477413|1.752643253083|1.8642688369739</td>\n",
       "      <td>1.7112205894598</td>\n",
       "      <td>22.847318138884|22.884583703612|21.547852587259</td>\n",
       "      <td>21.876056365123</td>\n",
       "      <td>Camptothecin</td>\n",
       "    </tr>\n",
       "    <tr>\n",
       "      <th>2</th>\n",
       "      <td>Patient_1</td>\n",
       "      <td>1004</td>\n",
       "      <td>A2|E1|E2</td>\n",
       "      <td>0.47428571428571|0.33714285714286|0.1542857142...</td>\n",
       "      <td>1.4143740117334|1.4794722838759|1.5497034555972</td>\n",
       "      <td>1.4087080058495</td>\n",
       "      <td>27.281850100904|26.395899870969|25.461038483201</td>\n",
       "      <td>25.766855370335</td>\n",
       "      <td>Vinblastine</td>\n",
       "    </tr>\n",
       "    <tr>\n",
       "      <th>3</th>\n",
       "      <td>Patient_1</td>\n",
       "      <td>1006</td>\n",
       "      <td>A2|E1|E2</td>\n",
       "      <td>0.47428571428571|0.33714285714286|0.1542857142...</td>\n",
       "      <td>1.4943273294913|1.4668217785019|1.5813190735344</td>\n",
       "      <td>1.4472415329418</td>\n",
       "      <td>26.196336950079|26.566613756126|25.04738172618</td>\n",
       "      <td>25.245745628999</td>\n",
       "      <td>Cytarabine</td>\n",
       "    </tr>\n",
       "    <tr>\n",
       "      <th>4</th>\n",
       "      <td>Patient_1</td>\n",
       "      <td>1007</td>\n",
       "      <td>A2|E1|E2</td>\n",
       "      <td>0.47428571428571|0.33714285714286|0.1542857142...</td>\n",
       "      <td>3.0123161017985|3.1673551646104|3.2265566328267</td>\n",
       "      <td>2.9943612585578</td>\n",
       "      <td>11.027075832071|10.016042902879|9.6522188833902</td>\n",
       "      <td>10.096021343904</td>\n",
       "      <td>Docetaxel</td>\n",
       "    </tr>\n",
       "  </tbody>\n",
       "</table>\n",
       "</div>"
      ],
      "text/plain": [
       "     patient drug_id   cluster  \\\n",
       "0  Patient_1    1001  A2|E1|E2   \n",
       "1  Patient_1    1003  A2|E1|E2   \n",
       "2  Patient_1    1004  A2|E1|E2   \n",
       "3  Patient_1    1006  A2|E1|E2   \n",
       "4  Patient_1    1007  A2|E1|E2   \n",
       "\n",
       "                                           cluster_p  \\\n",
       "0  0.47428571428571|0.33714285714286|0.1542857142...   \n",
       "1  0.47428571428571|0.33714285714286|0.1542857142...   \n",
       "2  0.47428571428571|0.33714285714286|0.1542857142...   \n",
       "3  0.47428571428571|0.33714285714286|0.1542857142...   \n",
       "4  0.47428571428571|0.33714285714286|0.1542857142...   \n",
       "\n",
       "                                     cluster_delta             delta  \\\n",
       "0  0.99293517368875|1.0329112254328|1.058191058623  0.98243737314013   \n",
       "1    1.755691477413|1.752643253083|1.8642688369739   1.7112205894598   \n",
       "2  1.4143740117334|1.4794722838759|1.5497034555972   1.4087080058495   \n",
       "3  1.4943273294913|1.4668217785019|1.5813190735344   1.4472415329418   \n",
       "4  3.0123161017985|3.1673551646104|3.2265566328267   2.9943612585578   \n",
       "\n",
       "                                      cluster_kill             kill  \\\n",
       "0  33.442243435815|32.828334751418|32.443105945183  31.934524663007   \n",
       "1  22.847318138884|22.884583703612|21.547852587259  21.876056365123   \n",
       "2  27.281850100904|26.395899870969|25.461038483201  25.766855370335   \n",
       "3   26.196336950079|26.566613756126|25.04738172618  25.245745628999   \n",
       "4  11.027075832071|10.016042902879|9.6522188833902  10.096021343904   \n",
       "\n",
       "             drug_name  \n",
       "0  AICA Ribonucleotide  \n",
       "1         Camptothecin  \n",
       "2          Vinblastine  \n",
       "3           Cytarabine  \n",
       "4            Docetaxel  "
      ]
     },
     "execution_count": 347,
     "metadata": {},
     "output_type": "execute_result"
    }
   ],
   "source": [
    "single_drug_pred_df.loc[:, 'drug_id'] = single_drug_pred_df.loc[:, 'drug_id'].values.astype(str)\n",
    "single_drug_pred_df.loc[:, 'drug_name'] = [drug_id_name_dict[d] for d in single_drug_pred_df.loc[:, 'drug_id'].values]\n",
    "patient_list = sorted(list(set(single_drug_pred_df['patient'])))\n",
    "\n",
    "single_drug_pred_df.head()"
   ]
  },
  {
   "cell_type": "markdown",
   "metadata": {},
   "source": [
    "### Setup all drug combinations by patient"
   ]
  },
  {
   "cell_type": "code",
   "execution_count": 348,
   "metadata": {},
   "outputs": [
    {
     "name": "stdout",
     "output_type": "stream",
     "text": [
      "(216, 3)\n"
     ]
    },
    {
     "data": {
      "text/html": [
       "<div>\n",
       "<style scoped>\n",
       "    .dataframe tbody tr th:only-of-type {\n",
       "        vertical-align: middle;\n",
       "    }\n",
       "\n",
       "    .dataframe tbody tr th {\n",
       "        vertical-align: top;\n",
       "    }\n",
       "\n",
       "    .dataframe thead th {\n",
       "        text-align: right;\n",
       "    }\n",
       "</style>\n",
       "<table border=\"1\" class=\"dataframe\">\n",
       "  <thead>\n",
       "    <tr style=\"text-align: right;\">\n",
       "      <th></th>\n",
       "      <th>patient</th>\n",
       "      <th>A</th>\n",
       "      <th>B</th>\n",
       "    </tr>\n",
       "  </thead>\n",
       "  <tbody>\n",
       "    <tr>\n",
       "      <th>0</th>\n",
       "      <td>Patient_1</td>\n",
       "      <td>1032</td>\n",
       "      <td>1007</td>\n",
       "    </tr>\n",
       "    <tr>\n",
       "      <th>1</th>\n",
       "      <td>Patient_1</td>\n",
       "      <td>1032</td>\n",
       "      <td>133</td>\n",
       "    </tr>\n",
       "    <tr>\n",
       "      <th>2</th>\n",
       "      <td>Patient_1</td>\n",
       "      <td>1032</td>\n",
       "      <td>201</td>\n",
       "    </tr>\n",
       "    <tr>\n",
       "      <th>3</th>\n",
       "      <td>Patient_1</td>\n",
       "      <td>1032</td>\n",
       "      <td>1010</td>\n",
       "    </tr>\n",
       "    <tr>\n",
       "      <th>4</th>\n",
       "      <td>Patient_1</td>\n",
       "      <td>1032</td>\n",
       "      <td>182</td>\n",
       "    </tr>\n",
       "  </tbody>\n",
       "</table>\n",
       "</div>"
      ],
      "text/plain": [
       "     patient     A     B\n",
       "0  Patient_1  1032  1007\n",
       "1  Patient_1  1032   133\n",
       "2  Patient_1  1032   201\n",
       "3  Patient_1  1032  1010\n",
       "4  Patient_1  1032   182"
      ]
     },
     "execution_count": 348,
     "metadata": {},
     "output_type": "execute_result"
    }
   ],
   "source": [
    "drug_combi_list = []\n",
    "n_drugs = len(tested_drug_list)\n",
    "\n",
    "for p in patient_list:\n",
    "    for x in range(0, n_drugs-1):\n",
    "        for y in range(x+1, n_drugs):\n",
    "            drug_x = str(tested_drug_list[x])\n",
    "            drug_y = str(tested_drug_list[y])\n",
    "\n",
    "            drug_combi_list += [[p, drug_x, drug_y]]\n",
    "\n",
    "drug_combi_df = pd.DataFrame(drug_combi_list, columns=['patient', 'A', 'B'])\n",
    "\n",
    "print (drug_combi_df.shape)\n",
    "drug_combi_df.head()"
   ]
  },
  {
   "cell_type": "code",
   "execution_count": 349,
   "metadata": {},
   "outputs": [],
   "source": [
    "merge_df = pd.merge(drug_combi_df, single_drug_pred_df, how='left', left_on=['patient', 'A'], right_on=['patient', 'drug_id'])\n",
    "drug_combi_pred_df = pd.merge(merge_df, single_drug_pred_df[['patient', 'drug_id', 'drug_name', 'cluster_delta', 'delta', 'cluster_kill', 'kill']], how='left', left_on=['patient', 'B'], right_on=['patient', 'drug_id'], suffixes=['_A', '_B'])"
   ]
  },
  {
   "cell_type": "markdown",
   "metadata": {},
   "source": [
    "### Calculating to what extent drug a, drug b and drug a+b kills any cluster for a given patient"
   ]
  },
  {
   "cell_type": "code",
   "execution_count": 350,
   "metadata": {},
   "outputs": [],
   "source": [
    "rows = []\n",
    "for _, data in drug_combi_pred_df.iterrows():\n",
    "    \n",
    "    cluster_p = np.array([float(p) for p in data['cluster_p'].split('|')])\n",
    "    \n",
    "    cluster_kill_A = np.array([float(k) for k in data['cluster_kill_A'].split('|')])\n",
    "    cluster_kill_B = np.array([float(k) for k in data['cluster_kill_B'].split('|')])\n",
    "    \n",
    "    kill_A = drug_combi_pred_df['kill_A'].astype('float')\n",
    "    kill_B = drug_combi_pred_df['kill_B'].astype('float')\n",
    "    \n",
    "    cluster_kill_C = cluster_kill_A + cluster_kill_B - np.multiply(cluster_kill_A/100, cluster_kill_B/100)*100\n",
    "    kill_C = np.sum(cluster_p * cluster_kill_C)\n",
    "    \n",
    "    best_kill = np.max([kill_A, kill_B])\n",
    "    improve = kill_C - best_kill\n",
    "    improve_p = (kill_C - best_kill) / best_kill\n",
    "    \n",
    "    ##### specificity (entropy) #####\n",
    "    \n",
    "    temp_A = np.sum(cluster_p[cluster_kill_A > cluster_kill_B])\n",
    "    temp_B = np.sum(cluster_p[cluster_kill_A <= cluster_kill_B])\n",
    "    if temp_A == 0 or temp_B == 0:\n",
    "        entropy = 0\n",
    "    else:\n",
    "        entropy = -(temp_A * np.log2(temp_A) + temp_B * np.log2(temp_B))\n",
    "    \n",
    "    sum_kill_dif = np.sum(np.abs(cluster_kill_A - cluster_kill_B))\n",
    "    \n",
    "    ##### save output #####\n",
    "    \n",
    "    rows += [['|'.join([\"{:.14}\".format(k) for k in cluster_kill_C])] + [kill_C, improve, improve_p, entropy, sum_kill_dif]]"
   ]
  },
  {
   "cell_type": "code",
   "execution_count": 351,
   "metadata": {},
   "outputs": [
    {
     "data": {
      "text/plain": [
       "(216, 23)"
      ]
     },
     "execution_count": 351,
     "metadata": {},
     "output_type": "execute_result"
    }
   ],
   "source": [
    "drug_combi_pred_df = pd.concat([drug_combi_pred_df, pd.DataFrame(rows, columns=['cluster_kill_C', 'kill_C', 'improve', 'improve_p', 'kill_entropy', 'sum_kill_dif'])], axis=1)\n",
    "drug_combi_pred_df.shape"
   ]
  },
  {
   "cell_type": "markdown",
   "metadata": {},
   "source": [
    "### Final drug combination predictions for patients"
   ]
  },
  {
   "cell_type": "code",
   "execution_count": 352,
   "metadata": {},
   "outputs": [
    {
     "data": {
      "text/html": [
       "<div>\n",
       "<style scoped>\n",
       "    .dataframe tbody tr th:only-of-type {\n",
       "        vertical-align: middle;\n",
       "    }\n",
       "\n",
       "    .dataframe tbody tr th {\n",
       "        vertical-align: top;\n",
       "    }\n",
       "\n",
       "    .dataframe thead th {\n",
       "        text-align: right;\n",
       "    }\n",
       "</style>\n",
       "<table border=\"1\" class=\"dataframe\">\n",
       "  <thead>\n",
       "    <tr style=\"text-align: right;\">\n",
       "      <th></th>\n",
       "      <th>patient</th>\n",
       "      <th>drug_id_A</th>\n",
       "      <th>drug_name_A</th>\n",
       "      <th>drug_id_B</th>\n",
       "      <th>drug_name_B</th>\n",
       "      <th>cluster</th>\n",
       "      <th>cluster_p</th>\n",
       "      <th>cluster_kill_A</th>\n",
       "      <th>cluster_kill_B</th>\n",
       "      <th>cluster_kill_C</th>\n",
       "      <th>kill_A</th>\n",
       "      <th>kill_B</th>\n",
       "      <th>kill_C</th>\n",
       "      <th>improve</th>\n",
       "      <th>improve_p</th>\n",
       "      <th>kill_entropy</th>\n",
       "      <th>sum_kill_dif</th>\n",
       "    </tr>\n",
       "  </thead>\n",
       "  <tbody>\n",
       "    <tr>\n",
       "      <th>0</th>\n",
       "      <td>Patient_1</td>\n",
       "      <td>1032</td>\n",
       "      <td>Afatinib</td>\n",
       "      <td>1007</td>\n",
       "      <td>Docetaxel</td>\n",
       "      <td>A2|E1|E2</td>\n",
       "      <td>0.47428571428571|0.33714285714286|0.1542857142...</td>\n",
       "      <td>1.7690489417428|1.7824306629234|1.7331750059213</td>\n",
       "      <td>11.027075832071|10.016042902879|9.6522188833902</td>\n",
       "      <td>12.601050405501|11.61994454589|11.218104044108</td>\n",
       "      <td>1.7073725510686</td>\n",
       "      <td>10.096021343904</td>\n",
       "      <td>11.624873</td>\n",
       "      <td>-41.700326</td>\n",
       "      <td>-0.782000</td>\n",
       "      <td>0.0</td>\n",
       "      <td>25.410683</td>\n",
       "    </tr>\n",
       "    <tr>\n",
       "      <th>1</th>\n",
       "      <td>Patient_1</td>\n",
       "      <td>1032</td>\n",
       "      <td>Afatinib</td>\n",
       "      <td>133</td>\n",
       "      <td>Doxorubicin</td>\n",
       "      <td>A2|E1|E2</td>\n",
       "      <td>0.47428571428571|0.33714285714286|0.1542857142...</td>\n",
       "      <td>1.7690489417428|1.7824306629234|1.7331750059213</td>\n",
       "      <td>45.66967482903|46.117460785343|45.085836623038</td>\n",
       "      <td>46.630804871512|47.077879686267|46.037595177398</td>\n",
       "      <td>1.7073725510686</td>\n",
       "      <td>44.164747348381</td>\n",
       "      <td>45.091239</td>\n",
       "      <td>-8.233960</td>\n",
       "      <td>-0.154410</td>\n",
       "      <td>0.0</td>\n",
       "      <td>131.588318</td>\n",
       "    </tr>\n",
       "    <tr>\n",
       "      <th>2</th>\n",
       "      <td>Patient_1</td>\n",
       "      <td>1032</td>\n",
       "      <td>Afatinib</td>\n",
       "      <td>201</td>\n",
       "      <td>Epothilone B</td>\n",
       "      <td>A2|E1|E2</td>\n",
       "      <td>0.47428571428571|0.33714285714286|0.1542857142...</td>\n",
       "      <td>1.7690489417428|1.7824306629234|1.7331750059213</td>\n",
       "      <td>22.723190870982|24.244264026395|22.582517523058</td>\n",
       "      <td>24.090255445091|25.594557493312|23.924297979562</td>\n",
       "      <td>1.7073725510686</td>\n",
       "      <td>22.435225102693</td>\n",
       "      <td>23.745864</td>\n",
       "      <td>-29.579335</td>\n",
       "      <td>-0.554697</td>\n",
       "      <td>0.0</td>\n",
       "      <td>64.265318</td>\n",
       "    </tr>\n",
       "    <tr>\n",
       "      <th>3</th>\n",
       "      <td>Patient_1</td>\n",
       "      <td>1032</td>\n",
       "      <td>Afatinib</td>\n",
       "      <td>1010</td>\n",
       "      <td>Gefitinib</td>\n",
       "      <td>A2|E1|E2</td>\n",
       "      <td>0.47428571428571|0.33714285714286|0.1542857142...</td>\n",
       "      <td>1.7690489417428|1.7824306629234|1.7331750059213</td>\n",
       "      <td>2.3049198711361|2.2394980280562|2.1787004069939</td>\n",
       "      <td>4.0331936522905|3.982011191432|3.8741147220073</td>\n",
       "      <td>1.7073725510686</td>\n",
       "      <td>2.1843636797054</td>\n",
       "      <td>3.853113</td>\n",
       "      <td>-49.472085</td>\n",
       "      <td>-0.927743</td>\n",
       "      <td>0.0</td>\n",
       "      <td>1.438464</td>\n",
       "    </tr>\n",
       "    <tr>\n",
       "      <th>4</th>\n",
       "      <td>Patient_1</td>\n",
       "      <td>1032</td>\n",
       "      <td>Afatinib</td>\n",
       "      <td>182</td>\n",
       "      <td>Obatoclax Mesylate</td>\n",
       "      <td>A2|E1|E2</td>\n",
       "      <td>0.47428571428571|0.33714285714286|0.1542857142...</td>\n",
       "      <td>1.7690489417428|1.7824306629234|1.7331750059213</td>\n",
       "      <td>28.178445388398|28.33524023934|27.306166074176</td>\n",
       "      <td>29.449003840198|29.612614891824|28.566077434624</td>\n",
       "      <td>1.7073725510686</td>\n",
       "      <td>27.130609287776</td>\n",
       "      <td>28.358261</td>\n",
       "      <td>-24.966937</td>\n",
       "      <td>-0.468201</td>\n",
       "      <td>0.0</td>\n",
       "      <td>78.535197</td>\n",
       "    </tr>\n",
       "  </tbody>\n",
       "</table>\n",
       "</div>"
      ],
      "text/plain": [
       "     patient drug_id_A drug_name_A drug_id_B         drug_name_B   cluster  \\\n",
       "0  Patient_1      1032    Afatinib      1007           Docetaxel  A2|E1|E2   \n",
       "1  Patient_1      1032    Afatinib       133         Doxorubicin  A2|E1|E2   \n",
       "2  Patient_1      1032    Afatinib       201        Epothilone B  A2|E1|E2   \n",
       "3  Patient_1      1032    Afatinib      1010           Gefitinib  A2|E1|E2   \n",
       "4  Patient_1      1032    Afatinib       182  Obatoclax Mesylate  A2|E1|E2   \n",
       "\n",
       "                                           cluster_p  \\\n",
       "0  0.47428571428571|0.33714285714286|0.1542857142...   \n",
       "1  0.47428571428571|0.33714285714286|0.1542857142...   \n",
       "2  0.47428571428571|0.33714285714286|0.1542857142...   \n",
       "3  0.47428571428571|0.33714285714286|0.1542857142...   \n",
       "4  0.47428571428571|0.33714285714286|0.1542857142...   \n",
       "\n",
       "                                    cluster_kill_A  \\\n",
       "0  1.7690489417428|1.7824306629234|1.7331750059213   \n",
       "1  1.7690489417428|1.7824306629234|1.7331750059213   \n",
       "2  1.7690489417428|1.7824306629234|1.7331750059213   \n",
       "3  1.7690489417428|1.7824306629234|1.7331750059213   \n",
       "4  1.7690489417428|1.7824306629234|1.7331750059213   \n",
       "\n",
       "                                    cluster_kill_B  \\\n",
       "0  11.027075832071|10.016042902879|9.6522188833902   \n",
       "1   45.66967482903|46.117460785343|45.085836623038   \n",
       "2  22.723190870982|24.244264026395|22.582517523058   \n",
       "3  2.3049198711361|2.2394980280562|2.1787004069939   \n",
       "4   28.178445388398|28.33524023934|27.306166074176   \n",
       "\n",
       "                                    cluster_kill_C           kill_A  \\\n",
       "0   12.601050405501|11.61994454589|11.218104044108  1.7073725510686   \n",
       "1  46.630804871512|47.077879686267|46.037595177398  1.7073725510686   \n",
       "2  24.090255445091|25.594557493312|23.924297979562  1.7073725510686   \n",
       "3   4.0331936522905|3.982011191432|3.8741147220073  1.7073725510686   \n",
       "4  29.449003840198|29.612614891824|28.566077434624  1.7073725510686   \n",
       "\n",
       "            kill_B     kill_C    improve  improve_p  kill_entropy  \\\n",
       "0  10.096021343904  11.624873 -41.700326  -0.782000           0.0   \n",
       "1  44.164747348381  45.091239  -8.233960  -0.154410           0.0   \n",
       "2  22.435225102693  23.745864 -29.579335  -0.554697           0.0   \n",
       "3  2.1843636797054   3.853113 -49.472085  -0.927743           0.0   \n",
       "4  27.130609287776  28.358261 -24.966937  -0.468201           0.0   \n",
       "\n",
       "   sum_kill_dif  \n",
       "0     25.410683  \n",
       "1    131.588318  \n",
       "2     64.265318  \n",
       "3      1.438464  \n",
       "4     78.535197  "
      ]
     },
     "execution_count": 352,
     "metadata": {},
     "output_type": "execute_result"
    }
   ],
   "source": [
    "drug_combi_pred_df = drug_combi_pred_df[['patient', 'drug_id_A', 'drug_name_A', 'drug_id_B', 'drug_name_B', 'cluster', 'cluster_p', 'cluster_kill_A', 'cluster_kill_B', 'cluster_kill_C', 'kill_A', 'kill_B', 'kill_C', 'improve', 'improve_p', 'kill_entropy', 'sum_kill_dif']]\n",
    "\n",
    "drug_combi_pred_df.head()"
   ]
  },
  {
   "cell_type": "code",
   "execution_count": 353,
   "metadata": {},
   "outputs": [],
   "source": [
    "if dosage_shifted:\n",
    "    drug_combi_pred_df.to_csv('pred_combi_kill_{}_shifted.csv'.format(model_name), index=False)\n",
    "else:\n",
    "    drug_combi_pred_df.to_csv( 'pred_combi_kill_{}.csv'.format(ref_type, model_name), index=False)"
   ]
  },
  {
   "cell_type": "markdown",
   "metadata": {},
   "source": [
    "---\n",
    "\n",
    "**Authors:** [Chayaporn Suphavilai](mailto:@.com), [Rafael Peres da Silva](), Genome Institute of Singapore, Nagarajan Lab, May 5, 2020\n",
    "\n",
    "---"
   ]
  },
  {
   "cell_type": "markdown",
   "metadata": {},
   "source": [
    "Reproducibility tips from https://github.com/jupyter-guide/ten-rules-jupyter"
   ]
  }
 ],
 "metadata": {
  "kernelspec": {
   "display_name": "Python 3",
   "language": "python",
   "name": "python3"
  },
  "language_info": {
   "codemirror_mode": {
    "name": "ipython",
    "version": 3
   },
   "file_extension": ".py",
   "mimetype": "text/x-python",
   "name": "python",
   "nbconvert_exporter": "python",
   "pygments_lexer": "ipython3",
   "version": "3.6.10"
  },
  "toc": {
   "base_numbering": 1,
   "nav_menu": {},
   "number_sections": false,
   "sideBar": true,
   "skip_h1_title": false,
   "title_cell": "Table of Contents",
   "title_sidebar": "Contents",
   "toc_cell": false,
   "toc_position": {},
   "toc_section_display": true,
   "toc_window_display": true
  }
 },
 "nbformat": 4,
 "nbformat_minor": 2
}
