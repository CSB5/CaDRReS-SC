{
 "cells": [
  {
   "cell_type": "markdown",
   "metadata": {},
   "source": [
    "# CaDRReS-SC pre-trained model prediction\n",
    "This notebook show an example of how load a pre-trained CaDRReS-SC model and predict drug response based on new data."
   ]
  },
  {
   "cell_type": "code",
   "execution_count": 2,
   "metadata": {
    "ExecuteTime": {
     "end_time": "2020-04-27T03:30:12.294668Z",
     "start_time": "2020-04-27T03:30:12.289829Z"
    }
   },
   "outputs": [],
   "source": [
    "import sys, os, pickle\n",
    "from collections import Counter\n",
    "import importlib\n",
    "from ipywidgets import widgets\n",
    "import pandas as pd\n",
    "import numpy as np\n",
    "\n",
    "scriptpath = '..'\n",
    "sys.path.append(os.path.abspath(scriptpath))\n",
    "\n",
    "from cadrres import pp, model, evaluation, utility"
   ]
  },
  {
   "cell_type": "markdown",
   "metadata": {},
   "source": [
    "# Read pre-trained model"
   ]
  },
  {
   "cell_type": "code",
   "execution_count": 3,
   "metadata": {
    "ExecuteTime": {
     "end_time": "2020-04-27T03:30:30.537124Z",
     "start_time": "2020-04-27T03:30:30.534398Z"
    }
   },
   "outputs": [],
   "source": [
    "model_dir = '../example_result/'"
   ]
  },
  {
   "cell_type": "code",
   "execution_count": 4,
   "metadata": {
    "ExecuteTime": {
     "end_time": "2020-04-27T03:30:32.015889Z",
     "start_time": "2020-04-27T03:30:32.006317Z"
    }
   },
   "outputs": [],
   "source": [
    "obj_function = widgets.Dropdown(options=['cadrres-wo-sample-bias', 'cadrres-wo-sample-bias-weight', 'cadrres'],description='Objetice function')"
   ]
  },
  {
   "cell_type": "code",
   "execution_count": 5,
   "metadata": {
    "ExecuteTime": {
     "end_time": "2020-04-27T03:30:33.531362Z",
     "start_time": "2020-04-27T03:30:33.526100Z"
    }
   },
   "outputs": [
    {
     "data": {
      "application/vnd.jupyter.widget-view+json": {
       "model_id": "356f9869ee2b43c290a012f3c178778e",
       "version_major": 2,
       "version_minor": 0
      },
      "text/plain": [
       "Dropdown(description='Objetice function', options=('cadrres-wo-sample-bias', 'cadrres-wo-sample-bias-weight', …"
      ]
     },
     "metadata": {},
     "output_type": "display_data"
    }
   ],
   "source": [
    "#choose which model you have trained previously\n",
    "display(obj_function)"
   ]
  },
  {
   "cell_type": "markdown",
   "metadata": {},
   "source": [
    "## Load the pre-trained model based on your selection\n"
   ]
  },
  {
   "cell_type": "code",
   "execution_count": 9,
   "metadata": {
    "ExecuteTime": {
     "end_time": "2020-04-27T03:43:13.563962Z",
     "start_time": "2020-04-27T03:43:13.559847Z"
    }
   },
   "outputs": [],
   "source": [
    "model_spec_name = obj_function.value\n",
    "model_file = model_dir + '{}_param_dict.pickle'.format(model_spec_name)\n",
    "\n",
    "cadrres_model = model.load_model(model_file)"
   ]
  },
  {
   "cell_type": "markdown",
   "metadata": {},
   "source": [
    "# Read test data\n",
    "Again, for this example we load GDSC dataset.\n",
    "@TODO: GDSC dataset using only essential gene list?\n",
    "\n",
    "Note: GDSC_exp.tsv can be downloaded from https://www.dropbox.com/s/3v576mspw5yewbm/GDSC_exp.tsv?dl=0\n",
    "\n",
    "## Notes for other test data\n",
    "\n",
    "You can apply the model to other gene expression dataset. The input gene expression matrix should have been normalized, i.e. **for each sample, expression values are comparable across genes**. \n",
    "\n",
    "In this example the gene expression matrix provided by GDSC is already normalized using RMA.\n",
    "\n",
    "For RNA-seq data, read count should be normalized by gene length, using normalization methods such as TPM."
   ]
  },
  {
   "cell_type": "code",
   "execution_count": 6,
   "metadata": {
    "ExecuteTime": {
     "end_time": "2020-04-27T03:40:16.919657Z",
     "start_time": "2020-04-27T03:40:12.186190Z"
    }
   },
   "outputs": [
    {
     "name": "stdout",
     "output_type": "stream",
     "text": [
      "Dataframe shape: (17419, 1018) \n",
      "\n"
     ]
    },
    {
     "data": {
      "text/html": [
       "<div>\n",
       "<style scoped>\n",
       "    .dataframe tbody tr th:only-of-type {\n",
       "        vertical-align: middle;\n",
       "    }\n",
       "\n",
       "    .dataframe tbody tr th {\n",
       "        vertical-align: top;\n",
       "    }\n",
       "\n",
       "    .dataframe thead th {\n",
       "        text-align: right;\n",
       "    }\n",
       "</style>\n",
       "<table border=\"1\" class=\"dataframe\">\n",
       "  <thead>\n",
       "    <tr style=\"text-align: right;\">\n",
       "      <th></th>\n",
       "      <th>906826</th>\n",
       "      <th>687983</th>\n",
       "      <th>910927</th>\n",
       "      <th>1240138</th>\n",
       "      <th>1240139</th>\n",
       "      <th>906792</th>\n",
       "      <th>910688</th>\n",
       "      <th>1240135</th>\n",
       "      <th>1290812</th>\n",
       "      <th>907045</th>\n",
       "      <th>...</th>\n",
       "      <th>753584</th>\n",
       "      <th>907044</th>\n",
       "      <th>998184</th>\n",
       "      <th>908145</th>\n",
       "      <th>1659787</th>\n",
       "      <th>1298157</th>\n",
       "      <th>1480372</th>\n",
       "      <th>1298533</th>\n",
       "      <th>930299</th>\n",
       "      <th>905954.1</th>\n",
       "    </tr>\n",
       "    <tr>\n",
       "      <th>GENE</th>\n",
       "      <th></th>\n",
       "      <th></th>\n",
       "      <th></th>\n",
       "      <th></th>\n",
       "      <th></th>\n",
       "      <th></th>\n",
       "      <th></th>\n",
       "      <th></th>\n",
       "      <th></th>\n",
       "      <th></th>\n",
       "      <th></th>\n",
       "      <th></th>\n",
       "      <th></th>\n",
       "      <th></th>\n",
       "      <th></th>\n",
       "      <th></th>\n",
       "      <th></th>\n",
       "      <th></th>\n",
       "      <th></th>\n",
       "      <th></th>\n",
       "      <th></th>\n",
       "    </tr>\n",
       "  </thead>\n",
       "  <tbody>\n",
       "    <tr>\n",
       "      <th>A1BG</th>\n",
       "      <td>6.208447</td>\n",
       "      <td>5.025810</td>\n",
       "      <td>5.506955</td>\n",
       "      <td>4.208349</td>\n",
       "      <td>3.399366</td>\n",
       "      <td>4.917872</td>\n",
       "      <td>3.828088</td>\n",
       "      <td>5.146903</td>\n",
       "      <td>3.107543</td>\n",
       "      <td>5.062066</td>\n",
       "      <td>...</td>\n",
       "      <td>4.272172</td>\n",
       "      <td>3.435025</td>\n",
       "      <td>4.930052</td>\n",
       "      <td>2.900213</td>\n",
       "      <td>4.523712</td>\n",
       "      <td>5.074951</td>\n",
       "      <td>2.957153</td>\n",
       "      <td>3.089628</td>\n",
       "      <td>4.047364</td>\n",
       "      <td>5.329524</td>\n",
       "    </tr>\n",
       "    <tr>\n",
       "      <th>A1CF</th>\n",
       "      <td>2.981775</td>\n",
       "      <td>2.947547</td>\n",
       "      <td>2.872071</td>\n",
       "      <td>3.075478</td>\n",
       "      <td>2.853231</td>\n",
       "      <td>3.221491</td>\n",
       "      <td>2.996355</td>\n",
       "      <td>2.893977</td>\n",
       "      <td>2.755668</td>\n",
       "      <td>2.985650</td>\n",
       "      <td>...</td>\n",
       "      <td>2.941659</td>\n",
       "      <td>3.155536</td>\n",
       "      <td>2.983619</td>\n",
       "      <td>3.118312</td>\n",
       "      <td>2.975409</td>\n",
       "      <td>2.905804</td>\n",
       "      <td>2.944488</td>\n",
       "      <td>2.780003</td>\n",
       "      <td>2.870819</td>\n",
       "      <td>2.926353</td>\n",
       "    </tr>\n",
       "  </tbody>\n",
       "</table>\n",
       "<p>2 rows × 1018 columns</p>\n",
       "</div>"
      ],
      "text/plain": [
       "        906826    687983    910927   1240138   1240139    906792    910688  \\\n",
       "GENE                                                                         \n",
       "A1BG  6.208447  5.025810  5.506955  4.208349  3.399366  4.917872  3.828088   \n",
       "A1CF  2.981775  2.947547  2.872071  3.075478  2.853231  3.221491  2.996355   \n",
       "\n",
       "       1240135   1290812    907045  ...    753584    907044    998184  \\\n",
       "GENE                                ...                                 \n",
       "A1BG  5.146903  3.107543  5.062066  ...  4.272172  3.435025  4.930052   \n",
       "A1CF  2.893977  2.755668  2.985650  ...  2.941659  3.155536  2.983619   \n",
       "\n",
       "        908145   1659787   1298157   1480372   1298533    930299  905954.1  \n",
       "GENE                                                                        \n",
       "A1BG  2.900213  4.523712  5.074951  2.957153  3.089628  4.047364  5.329524  \n",
       "A1CF  3.118312  2.975409  2.905804  2.944488  2.780003  2.870819  2.926353  \n",
       "\n",
       "[2 rows x 1018 columns]"
      ]
     },
     "execution_count": 6,
     "metadata": {},
     "output_type": "execute_result"
    }
   ],
   "source": [
    "gene_exp_df = pd.read_csv('../data/GDSC/GDSC_exp.tsv', sep='\\t', index_col=0)\n",
    "gene_exp_df = gene_exp_df.groupby(gene_exp_df.index).mean()\n",
    "print(\"Dataframe shape:\", gene_exp_df.shape, \"\\n\")\n",
    "gene_exp_df.head(2)"
   ]
  },
  {
   "cell_type": "markdown",
   "metadata": {},
   "source": [
    "## Calculate fold-change\n",
    "We normalized baseline gene expression values for each gene by computing fold-changes compared to the median value across cell-lines"
   ]
  },
  {
   "cell_type": "code",
   "execution_count": 11,
   "metadata": {
    "ExecuteTime": {
     "end_time": "2020-04-27T03:43:37.420637Z",
     "start_time": "2020-04-27T03:43:31.662507Z"
    }
   },
   "outputs": [],
   "source": [
    "cell_line_log2_mean_fc_exp_df, cell_line_mean_exp_df = pp.gexp.normalize_log2_mean_fc(gene_exp_df)"
   ]
  },
  {
   "cell_type": "markdown",
   "metadata": {},
   "source": [
    "## Read essential genes list\n",
    "\n",
    "Or in case you want your training using one specific set of genes."
   ]
  },
  {
   "cell_type": "code",
   "execution_count": 12,
   "metadata": {
    "ExecuteTime": {
     "end_time": "2020-04-27T03:43:37.428074Z",
     "start_time": "2020-04-27T03:43:37.422597Z"
    }
   },
   "outputs": [],
   "source": [
    "ess_gene_list = utility.get_gene_list('../data/essential_genes.txt')"
   ]
  },
  {
   "cell_type": "markdown",
   "metadata": {},
   "source": [
    "## Calculate kernel feature \n",
    "\n",
    "Based on all given cell line samples with gene expression profiles and a list of genes (e.g. essential gene list). This step might take a bit more time than usual."
   ]
  },
  {
   "cell_type": "code",
   "execution_count": 13,
   "metadata": {
    "ExecuteTime": {
     "end_time": "2020-04-27T03:45:54.083788Z",
     "start_time": "2020-04-27T03:43:37.430016Z"
    }
   },
   "outputs": [
    {
     "name": "stdout",
     "output_type": "stream",
     "text": [
      "Calculating kernel features based on 1610 common genes\n",
      "(17419, 1018) (17419, 1018)\n",
      "100 of 1018 (19.83)s\n",
      "200 of 1018 (13.19)s\n",
      "300 of 1018 (12.65)s\n",
      "400 of 1018 (12.63)s\n",
      "500 of 1018 (12.59)s\n",
      "600 of 1018 (12.59)s\n",
      "700 of 1018 (12.62)s\n",
      "800 of 1018 (12.65)s\n",
      "900 of 1018 (12.71)s\n",
      "1000 of 1018 (12.76)s\n"
     ]
    }
   ],
   "source": [
    "test_kernel_df = pp.gexp.calculate_kernel_feature(cell_line_log2_mean_fc_exp_df, cell_line_log2_mean_fc_exp_df, ess_gene_list)"
   ]
  },
  {
   "cell_type": "code",
   "execution_count": 15,
   "metadata": {
    "ExecuteTime": {
     "end_time": "2020-04-27T03:54:54.861731Z",
     "start_time": "2020-04-27T03:54:54.839484Z"
    }
   },
   "outputs": [
    {
     "name": "stdout",
     "output_type": "stream",
     "text": [
      "Dataframe shape: (1018, 1018) \n",
      "\n"
     ]
    },
    {
     "data": {
      "text/html": [
       "<div>\n",
       "<style scoped>\n",
       "    .dataframe tbody tr th:only-of-type {\n",
       "        vertical-align: middle;\n",
       "    }\n",
       "\n",
       "    .dataframe tbody tr th {\n",
       "        vertical-align: top;\n",
       "    }\n",
       "\n",
       "    .dataframe thead th {\n",
       "        text-align: right;\n",
       "    }\n",
       "</style>\n",
       "<table border=\"1\" class=\"dataframe\">\n",
       "  <thead>\n",
       "    <tr style=\"text-align: right;\">\n",
       "      <th></th>\n",
       "      <th>906826</th>\n",
       "      <th>687983</th>\n",
       "      <th>910927</th>\n",
       "      <th>1240138</th>\n",
       "      <th>1240139</th>\n",
       "      <th>906792</th>\n",
       "      <th>910688</th>\n",
       "      <th>1240135</th>\n",
       "      <th>1290812</th>\n",
       "      <th>907045</th>\n",
       "      <th>...</th>\n",
       "      <th>753584</th>\n",
       "      <th>907044</th>\n",
       "      <th>998184</th>\n",
       "      <th>908145</th>\n",
       "      <th>1659787</th>\n",
       "      <th>1298157</th>\n",
       "      <th>1480372</th>\n",
       "      <th>1298533</th>\n",
       "      <th>930299</th>\n",
       "      <th>905954.1</th>\n",
       "    </tr>\n",
       "  </thead>\n",
       "  <tbody>\n",
       "    <tr>\n",
       "      <th>906826</th>\n",
       "      <td>1.000000</td>\n",
       "      <td>0.054507</td>\n",
       "      <td>0.026621</td>\n",
       "      <td>0.000195</td>\n",
       "      <td>0.181043</td>\n",
       "      <td>-0.010206</td>\n",
       "      <td>-0.091207</td>\n",
       "      <td>0.255585</td>\n",
       "      <td>0.256516</td>\n",
       "      <td>-0.043044</td>\n",
       "      <td>...</td>\n",
       "      <td>0.178078</td>\n",
       "      <td>-0.033405</td>\n",
       "      <td>-0.128262</td>\n",
       "      <td>-0.020860</td>\n",
       "      <td>0.226647</td>\n",
       "      <td>0.225082</td>\n",
       "      <td>0.146886</td>\n",
       "      <td>0.041669</td>\n",
       "      <td>-0.099332</td>\n",
       "      <td>0.044356</td>\n",
       "    </tr>\n",
       "    <tr>\n",
       "      <th>687983</th>\n",
       "      <td>0.054507</td>\n",
       "      <td>1.000000</td>\n",
       "      <td>0.151500</td>\n",
       "      <td>-0.017105</td>\n",
       "      <td>0.047332</td>\n",
       "      <td>0.061474</td>\n",
       "      <td>-0.115470</td>\n",
       "      <td>0.040432</td>\n",
       "      <td>-0.113185</td>\n",
       "      <td>-0.073907</td>\n",
       "      <td>...</td>\n",
       "      <td>-0.024037</td>\n",
       "      <td>0.027242</td>\n",
       "      <td>0.121310</td>\n",
       "      <td>-0.018611</td>\n",
       "      <td>0.009571</td>\n",
       "      <td>0.044496</td>\n",
       "      <td>0.087031</td>\n",
       "      <td>-0.149296</td>\n",
       "      <td>0.118897</td>\n",
       "      <td>-0.056471</td>\n",
       "    </tr>\n",
       "  </tbody>\n",
       "</table>\n",
       "<p>2 rows × 1018 columns</p>\n",
       "</div>"
      ],
      "text/plain": [
       "          906826    687983    910927   1240138   1240139    906792    910688  \\\n",
       "906826  1.000000  0.054507  0.026621  0.000195  0.181043 -0.010206 -0.091207   \n",
       "687983  0.054507  1.000000  0.151500 -0.017105  0.047332  0.061474 -0.115470   \n",
       "\n",
       "         1240135   1290812    907045  ...    753584    907044    998184  \\\n",
       "906826  0.255585  0.256516 -0.043044  ...  0.178078 -0.033405 -0.128262   \n",
       "687983  0.040432 -0.113185 -0.073907  ... -0.024037  0.027242  0.121310   \n",
       "\n",
       "          908145   1659787   1298157   1480372   1298533    930299  905954.1  \n",
       "906826 -0.020860  0.226647  0.225082  0.146886  0.041669 -0.099332  0.044356  \n",
       "687983 -0.018611  0.009571  0.044496  0.087031 -0.149296  0.118897 -0.056471  \n",
       "\n",
       "[2 rows x 1018 columns]"
      ]
     },
     "execution_count": 15,
     "metadata": {},
     "output_type": "execute_result"
    }
   ],
   "source": [
    "print(\"Dataframe shape:\", test_kernel_df.shape, \"\\n\")\n",
    "test_kernel_df.head(2)"
   ]
  },
  {
   "cell_type": "markdown",
   "metadata": {},
   "source": [
    "# Drug response prediction"
   ]
  },
  {
   "cell_type": "code",
   "execution_count": 16,
   "metadata": {
    "ExecuteTime": {
     "end_time": "2020-04-27T03:54:56.034370Z",
     "start_time": "2020-04-27T03:54:56.011389Z"
    }
   },
   "outputs": [
    {
     "name": "stdout",
     "output_type": "stream",
     "text": [
      "Predicting drug response using CaDRReS: cadrres-wo-sample-bias\n",
      "done!\n"
     ]
    }
   ],
   "source": [
    "print('Predicting drug response using CaDRReS: {}'.format(model_spec_name))\n",
    "pred_df, P_test_df= model.predict_from_model(cadrres_model, test_kernel_df, model_spec_name)\n",
    "print('done!')"
   ]
  },
  {
   "cell_type": "markdown",
   "metadata": {},
   "source": [
    "Inspecting the model predictions and save the predictions"
   ]
  },
  {
   "cell_type": "code",
   "execution_count": 17,
   "metadata": {
    "ExecuteTime": {
     "end_time": "2020-04-27T03:54:59.795945Z",
     "start_time": "2020-04-27T03:54:59.773345Z"
    }
   },
   "outputs": [
    {
     "data": {
      "text/html": [
       "<div>\n",
       "<style scoped>\n",
       "    .dataframe tbody tr th:only-of-type {\n",
       "        vertical-align: middle;\n",
       "    }\n",
       "\n",
       "    .dataframe tbody tr th {\n",
       "        vertical-align: top;\n",
       "    }\n",
       "\n",
       "    .dataframe thead th {\n",
       "        text-align: right;\n",
       "    }\n",
       "</style>\n",
       "<table border=\"1\" class=\"dataframe\">\n",
       "  <thead>\n",
       "    <tr style=\"text-align: right;\">\n",
       "      <th>Drug ID</th>\n",
       "      <th>1001</th>\n",
       "      <th>1003</th>\n",
       "      <th>1004</th>\n",
       "      <th>1006</th>\n",
       "      <th>1007</th>\n",
       "      <th>1010</th>\n",
       "      <th>1012</th>\n",
       "      <th>1014</th>\n",
       "      <th>1015</th>\n",
       "      <th>1016</th>\n",
       "      <th>...</th>\n",
       "      <th>299</th>\n",
       "      <th>301</th>\n",
       "      <th>302</th>\n",
       "      <th>303</th>\n",
       "      <th>305</th>\n",
       "      <th>306</th>\n",
       "      <th>308</th>\n",
       "      <th>328</th>\n",
       "      <th>331</th>\n",
       "      <th>346</th>\n",
       "    </tr>\n",
       "  </thead>\n",
       "  <tbody>\n",
       "    <tr>\n",
       "      <th>906826</th>\n",
       "      <td>11.852327</td>\n",
       "      <td>-5.518843</td>\n",
       "      <td>-5.046308</td>\n",
       "      <td>0.971064</td>\n",
       "      <td>-6.078666</td>\n",
       "      <td>6.661717</td>\n",
       "      <td>2.089982</td>\n",
       "      <td>2.835175</td>\n",
       "      <td>3.907548</td>\n",
       "      <td>-1.134554</td>\n",
       "      <td>...</td>\n",
       "      <td>2.771623</td>\n",
       "      <td>5.188969</td>\n",
       "      <td>2.100502</td>\n",
       "      <td>5.034929</td>\n",
       "      <td>5.840061</td>\n",
       "      <td>3.961555</td>\n",
       "      <td>0.734314</td>\n",
       "      <td>1.298839</td>\n",
       "      <td>2.475582</td>\n",
       "      <td>-0.634193</td>\n",
       "    </tr>\n",
       "    <tr>\n",
       "      <th>687983</th>\n",
       "      <td>11.837371</td>\n",
       "      <td>-3.967708</td>\n",
       "      <td>-4.643764</td>\n",
       "      <td>3.160419</td>\n",
       "      <td>-4.802473</td>\n",
       "      <td>7.113175</td>\n",
       "      <td>1.385263</td>\n",
       "      <td>7.396879</td>\n",
       "      <td>6.441652</td>\n",
       "      <td>-1.730270</td>\n",
       "      <td>...</td>\n",
       "      <td>1.214771</td>\n",
       "      <td>5.116991</td>\n",
       "      <td>0.533735</td>\n",
       "      <td>4.241065</td>\n",
       "      <td>5.423465</td>\n",
       "      <td>3.911427</td>\n",
       "      <td>0.979906</td>\n",
       "      <td>1.581112</td>\n",
       "      <td>1.779684</td>\n",
       "      <td>-2.049694</td>\n",
       "    </tr>\n",
       "    <tr>\n",
       "      <th>910927</th>\n",
       "      <td>11.380081</td>\n",
       "      <td>-7.310671</td>\n",
       "      <td>-7.277131</td>\n",
       "      <td>-2.439548</td>\n",
       "      <td>-10.244858</td>\n",
       "      <td>4.523432</td>\n",
       "      <td>1.694288</td>\n",
       "      <td>1.301639</td>\n",
       "      <td>3.086393</td>\n",
       "      <td>-2.511762</td>\n",
       "      <td>...</td>\n",
       "      <td>4.656056</td>\n",
       "      <td>5.991129</td>\n",
       "      <td>4.405546</td>\n",
       "      <td>5.615788</td>\n",
       "      <td>5.671027</td>\n",
       "      <td>3.535789</td>\n",
       "      <td>0.084465</td>\n",
       "      <td>0.522739</td>\n",
       "      <td>3.335967</td>\n",
       "      <td>0.117861</td>\n",
       "    </tr>\n",
       "    <tr>\n",
       "      <th>1240138</th>\n",
       "      <td>11.289334</td>\n",
       "      <td>-4.691136</td>\n",
       "      <td>-4.508313</td>\n",
       "      <td>0.956030</td>\n",
       "      <td>-5.665845</td>\n",
       "      <td>4.058000</td>\n",
       "      <td>1.520491</td>\n",
       "      <td>2.352573</td>\n",
       "      <td>4.211185</td>\n",
       "      <td>-0.248094</td>\n",
       "      <td>...</td>\n",
       "      <td>2.017487</td>\n",
       "      <td>4.552627</td>\n",
       "      <td>1.927344</td>\n",
       "      <td>4.195925</td>\n",
       "      <td>4.615114</td>\n",
       "      <td>2.859850</td>\n",
       "      <td>-0.490752</td>\n",
       "      <td>0.211791</td>\n",
       "      <td>2.233900</td>\n",
       "      <td>-1.636342</td>\n",
       "    </tr>\n",
       "    <tr>\n",
       "      <th>1240139</th>\n",
       "      <td>11.200646</td>\n",
       "      <td>-8.781634</td>\n",
       "      <td>-6.432948</td>\n",
       "      <td>-2.268403</td>\n",
       "      <td>-7.488023</td>\n",
       "      <td>3.225305</td>\n",
       "      <td>0.793092</td>\n",
       "      <td>0.736975</td>\n",
       "      <td>1.903656</td>\n",
       "      <td>-1.915484</td>\n",
       "      <td>...</td>\n",
       "      <td>3.584450</td>\n",
       "      <td>5.493712</td>\n",
       "      <td>3.706355</td>\n",
       "      <td>4.977149</td>\n",
       "      <td>4.695365</td>\n",
       "      <td>4.152595</td>\n",
       "      <td>0.154278</td>\n",
       "      <td>0.784608</td>\n",
       "      <td>3.305857</td>\n",
       "      <td>-0.518832</td>\n",
       "    </tr>\n",
       "  </tbody>\n",
       "</table>\n",
       "<p>5 rows × 81 columns</p>\n",
       "</div>"
      ],
      "text/plain": [
       "Drug ID       1001      1003      1004      1006       1007      1010  \\\n",
       "906826   11.852327 -5.518843 -5.046308  0.971064  -6.078666  6.661717   \n",
       "687983   11.837371 -3.967708 -4.643764  3.160419  -4.802473  7.113175   \n",
       "910927   11.380081 -7.310671 -7.277131 -2.439548 -10.244858  4.523432   \n",
       "1240138  11.289334 -4.691136 -4.508313  0.956030  -5.665845  4.058000   \n",
       "1240139  11.200646 -8.781634 -6.432948 -2.268403  -7.488023  3.225305   \n",
       "\n",
       "Drug ID      1012      1014      1015      1016  ...       299       301  \\\n",
       "906826   2.089982  2.835175  3.907548 -1.134554  ...  2.771623  5.188969   \n",
       "687983   1.385263  7.396879  6.441652 -1.730270  ...  1.214771  5.116991   \n",
       "910927   1.694288  1.301639  3.086393 -2.511762  ...  4.656056  5.991129   \n",
       "1240138  1.520491  2.352573  4.211185 -0.248094  ...  2.017487  4.552627   \n",
       "1240139  0.793092  0.736975  1.903656 -1.915484  ...  3.584450  5.493712   \n",
       "\n",
       "Drug ID       302       303       305       306       308       328       331  \\\n",
       "906826   2.100502  5.034929  5.840061  3.961555  0.734314  1.298839  2.475582   \n",
       "687983   0.533735  4.241065  5.423465  3.911427  0.979906  1.581112  1.779684   \n",
       "910927   4.405546  5.615788  5.671027  3.535789  0.084465  0.522739  3.335967   \n",
       "1240138  1.927344  4.195925  4.615114  2.859850 -0.490752  0.211791  2.233900   \n",
       "1240139  3.706355  4.977149  4.695365  4.152595  0.154278  0.784608  3.305857   \n",
       "\n",
       "Drug ID       346  \n",
       "906826  -0.634193  \n",
       "687983  -2.049694  \n",
       "910927   0.117861  \n",
       "1240138 -1.636342  \n",
       "1240139 -0.518832  \n",
       "\n",
       "[5 rows x 81 columns]"
      ]
     },
     "execution_count": 17,
     "metadata": {},
     "output_type": "execute_result"
    }
   ],
   "source": [
    "pred_df.head()"
   ]
  },
  {
   "cell_type": "code",
   "execution_count": 18,
   "metadata": {
    "ExecuteTime": {
     "end_time": "2020-04-27T03:55:18.218892Z",
     "start_time": "2020-04-27T03:55:18.065723Z"
    }
   },
   "outputs": [
    {
     "name": "stdout",
     "output_type": "stream",
     "text": [
      "Saving ../example_result/cadrres-wo-sample-bias_test_pred.csv\n"
     ]
    }
   ],
   "source": [
    "print('Saving ' + model_dir + '{}_test_pred.csv'.format(model_spec_name))\n",
    "pred_df.to_csv(model_dir + '{}_test_pred.csv'.format(model_spec_name))"
   ]
  },
  {
   "cell_type": "markdown",
   "metadata": {},
   "source": [
    "## Next Step\n",
    "You can stop here if you want. But CaDRReS is also suitable for drug combination prediction! Check this out \n",
    "here [notebook_03_drug_combination.ipynb](./notebook_02_drug_combination.ipynb)."
   ]
  },
  {
   "cell_type": "markdown",
   "metadata": {},
   "source": [
    "---\n",
    "\n",
    "**Authors:** [Chayaporn Suphavilai](mailto:@.com), [Rafael Peres da Silva](), Genome Institute of Singapore, Nagarajan Lab, January 14, 2020\n",
    "\n",
    "---"
   ]
  },
  {
   "cell_type": "markdown",
   "metadata": {},
   "source": [
    "Reproducibility tips from https://github.com/jupyter-guide/ten-rules-jupyter"
   ]
  }
 ],
 "metadata": {
  "kernelspec": {
   "display_name": "Python 3",
   "language": "python",
   "name": "python3"
  },
  "language_info": {
   "codemirror_mode": {
    "name": "ipython",
    "version": 3
   },
   "file_extension": ".py",
   "mimetype": "text/x-python",
   "name": "python",
   "nbconvert_exporter": "python",
   "pygments_lexer": "ipython3",
   "version": "3.7.4"
  },
  "toc": {
   "base_numbering": 1,
   "nav_menu": {},
   "number_sections": false,
   "sideBar": true,
   "skip_h1_title": false,
   "title_cell": "Table of Contents",
   "title_sidebar": "Contents",
   "toc_cell": false,
   "toc_position": {},
   "toc_section_display": true,
   "toc_window_display": true
  }
 },
 "nbformat": 4,
 "nbformat_minor": 2
}
