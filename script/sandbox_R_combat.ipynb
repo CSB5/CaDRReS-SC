{
 "cells": [
  {
   "cell_type": "code",
   "execution_count": 5,
   "metadata": {},
   "outputs": [],
   "source": [
    "# in command line\n",
    "# chooseCRANmirror()\n",
    "# install.packages(\"BiocManager\")"
   ]
  },
  {
   "cell_type": "code",
   "execution_count": 6,
   "metadata": {},
   "outputs": [
    {
     "name": "stderr",
     "output_type": "stream",
     "text": [
      "Bioconductor version 3.6 (BiocManager 1.30.10), R 3.4.2 (2017-09-28)\n",
      "Installing package(s) 'BiocVersion', 'sva'\n",
      "Warning message:\n",
      "“package ‘BiocVersion’ is not available (for R version 3.4.2)”also installing the dependencies ‘assertthat’, ‘ellipsis’, ‘glue’, ‘rlang’, ‘zeallot’, ‘bit’, ‘prettyunits’, ‘vctrs’, ‘bit64’, ‘blob’, ‘DBI’, ‘pkgconfig’, ‘plogr’, ‘formatR’, ‘BiocGenerics’, ‘IRanges’, ‘RSQLite’, ‘XML’, ‘RCurl’, ‘lambda.r’, ‘futile.options’, ‘S4Vectors’, ‘AnnotationDbi’, ‘annotate’, ‘Biobase’, ‘futile.logger’, ‘snow’, ‘genefilter’, ‘BiocParallel’, ‘matrixStats’, ‘limma’\n",
      "\n",
      "Installation path not writeable, unable to update packages: backports, BH,\n",
      "  caTools, colorspace, curl, devtools, digest, evaluate, ggplot2, git2r, gmp,\n",
      "  gtable, highr, htmltools, httpuv, httr, inline, IRdisplay, IRkernel,\n",
      "  jsonlite, knitr, lazyeval, markdown, mime, munsell, openssl, pbdZMQ, plyr,\n",
      "  R6, Rcpp, RcppEigen, RcppParallel, repr, reshape2, rlang, rmarkdown,\n",
      "  rprojroot, rstan, rstudioapi, scales, shiny, sourcetools, StanHeaders,\n",
      "  stringi, stringr, tibble, viridisLite, whisker, withr, xtable, yaml, coda,\n",
      "  DBI, rgl, rjags, RMySQL, boot, class, cluster, codetools, foreign,\n",
      "  KernSmooth, lattice, MASS, Matrix, mgcv, nlme, rpart, survival\n",
      "Old packages: 'e1071'\n"
     ]
    }
   ],
   "source": [
    "BiocManager::install(\"sva\")"
   ]
  },
  {
   "cell_type": "code",
   "execution_count": 7,
   "metadata": {},
   "outputs": [
    {
     "name": "stderr",
     "output_type": "stream",
     "text": [
      "Loading required package: mgcv\n",
      "Loading required package: nlme\n",
      "This is mgcv 1.8-22. For overview type 'help(\"mgcv-package\")'.\n",
      "Loading required package: genefilter\n",
      "Loading required package: BiocParallel\n"
     ]
    },
    {
     "ename": "ERROR",
     "evalue": "Error in library(bladderbatch): there is no package called ‘bladderbatch’\n",
     "output_type": "error",
     "traceback": [
      "Error in library(bladderbatch): there is no package called ‘bladderbatch’\nTraceback:\n",
      "1. library(bladderbatch)",
      "2. stop(txt, domain = NA)"
     ]
    }
   ],
   "source": [
    "library(sva)\n",
    "\n",
    "library(bladderbatch)\n",
    "data(bladderdata)\n",
    "dat <- bladderEset[1:50,]\n",
    "\n",
    "pheno = pData(dat)\n",
    "edata = exprs(dat)\n",
    "batch = pheno$batch\n",
    "mod = model.matrix(~as.factor(cancer), data=pheno)\n",
    "\n",
    "# parametric adjustment\n",
    "combat_edata1 = ComBat(dat=edata, batch=batch, mod=NULL, par.prior=TRUE, prior.plots=FALSE)\n",
    "\n",
    "# non-parametric adjustment, mean-only version\n",
    "combat_edata2 = ComBat(dat=edata, batch=batch, mod=NULL, par.prior=FALSE, mean.only=TRUE)\n",
    "\n",
    "# reference-batch version, with covariates\n",
    "combat_edata3 = ComBat(dat=edata, batch=batch, mod=mod, par.prior=TRUE, ref.batch=3)"
   ]
  },
  {
   "cell_type": "code",
   "execution_count": null,
   "metadata": {},
   "outputs": [],
   "source": []
  },
  {
   "cell_type": "code",
   "execution_count": null,
   "metadata": {},
   "outputs": [],
   "source": []
  }
 ],
 "metadata": {
  "kernelspec": {
   "display_name": "R",
   "language": "R",
   "name": "ir"
  },
  "language_info": {
   "codemirror_mode": "r",
   "file_extension": ".r",
   "mimetype": "text/x-r-source",
   "name": "R",
   "pygments_lexer": "r",
   "version": "3.4.2"
  }
 },
 "nbformat": 4,
 "nbformat_minor": 2
}
