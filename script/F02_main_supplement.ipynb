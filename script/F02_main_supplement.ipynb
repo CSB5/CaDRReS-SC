{
 "cells": [
  {
   "cell_type": "code",
   "execution_count": 73,
   "metadata": {},
   "outputs": [],
   "source": [
    "import os, pickle, re, glob, time\n",
    "import pandas as pd\n",
    "import numpy as np\n",
    "np.set_printoptions(precision=2)\n",
    "\n",
    "import matplotlib.pyplot as plt\n",
    "import matplotlib.patches as patches\n",
    "import seaborn as sns\n",
    "from scipy import stats\n",
    "from collections import Counter\n",
    "\n",
    "sns.set_style('ticks')\n",
    "pd.set_option('precision', 2)\n",
    "\n",
    "%matplotlib inline\n",
    "import warnings\n",
    "warnings.filterwarnings('ignore')"
   ]
  },
  {
   "cell_type": "markdown",
   "metadata": {},
   "source": [
    "### Figure 2C (v1)\n",
    "\n",
    "- PhD_NUS\\Research\\CaDRReS2\\output\\ess_gene_pcor\n",
    "    - gdsc_drugMedianGE0_cv01_10dim_pred.csv vs gdsc_drugMedianGE0_cv01_10dim_obs.csv. For train add _train.\n",
    "    - gdsc_drugMedianGE0_cv01_wo_bp_10dim_pred.csv vs gdsc_drugMedianGE0_cv01_10dim_obs.csv. For train add _train.\n",
    "- PhD_NUS\\Research\\CaDRReS2\\data\\drug_response\\GDSC"
   ]
  },
  {
   "cell_type": "markdown",
   "metadata": {},
   "source": [
    "##### Validation"
   ]
  },
  {
   "cell_type": "code",
   "execution_count": 74,
   "metadata": {
    "code_folding": [
     0
    ]
   },
   "outputs": [],
   "source": [
    "# ori_pred_fname_list = glob.glob('../../../../PhD_NUS/Research/CaDRReS2/output/ess_gene_pcor/gdsc_drugMedianGE0_cv0[1-5]_10dim_pred.csv')\n",
    "# ori_obs_fname_list = glob.glob('../../../../PhD_NUS/Research/CaDRReS2/output/ess_gene_pcor/gdsc_drugMedianGE0_cv0[1-5]_10dim_obs.csv')\n",
    "# new_pred_fname_list = glob.glob('../../../../PhD_NUS/Research/CaDRReS2/output/ess_gene_pcor/gdsc_drugMedianGE0_cv0[1-5]_wo_bp_10dim_pred.csv')\n",
    "# new_obs_fname_list = glob.glob('../../../../PhD_NUS/Research/CaDRReS2/output/ess_gene_pcor/gdsc_drugMedianGE0_cv0[1-5]_wo_bp_10dim_obs.csv')"
   ]
  },
  {
   "cell_type": "code",
   "execution_count": 75,
   "metadata": {
    "code_folding": [
     0
    ]
   },
   "outputs": [],
   "source": [
    "# ori_pred_df_list = []\n",
    "# ori_obs_df_list = []\n",
    "\n",
    "# new_pred_df_list = []\n",
    "# new_obs_df_list = []\n",
    "\n",
    "# for fname in sorted(ori_pred_fname_list):\n",
    "#     ori_pred_df_list.append(pd.read_csv(fname, index_col=0))\n",
    "    \n",
    "# for fname in sorted(ori_obs_fname_list):\n",
    "#     ori_obs_df_list.append(pd.read_csv(fname, index_col=0))\n",
    "    \n",
    "# for fname in sorted(new_pred_fname_list):\n",
    "#     new_pred_df_list.append(pd.read_csv(fname, index_col=0))\n",
    "    \n",
    "# for fname in sorted(new_obs_fname_list):\n",
    "#     new_obs_df_list.append(pd.read_csv(fname, index_col=0))\n",
    "    \n",
    "# drug_list = ori_pred_df_list[0].columns\n",
    "# len(drug_list)"
   ]
  },
  {
   "cell_type": "code",
   "execution_count": 76,
   "metadata": {
    "code_folding": [
     0
    ]
   },
   "outputs": [],
   "source": [
    "# def cal_scor_per_drug(obs_df_list, pred_df_list):\n",
    "\n",
    "#     k_df_list = []\n",
    "\n",
    "#     for k in range(5):\n",
    "\n",
    "#         k_obs_df = obs_df_list[k]\n",
    "#         k_pred_df = pred_df_list[k]\n",
    "#         common_samples = sorted(list(k_obs_df.index & k_pred_df.index))\n",
    "\n",
    "#         obs_mat = np.array(obs_df_list[k])\n",
    "#         pred_mat = np.array(pred_df_list[k])\n",
    "\n",
    "#         scor_list = []\n",
    "\n",
    "#         for d, _ in enumerate(drug_list):\n",
    "#             x = obs_mat[:, d]\n",
    "#             y = pred_mat[:, d]\n",
    "\n",
    "#             sel_bool = ~np.isnan(x)\n",
    "#             x = x[sel_bool]\n",
    "#             y = y[sel_bool]\n",
    "\n",
    "#             scor, _ = stats.pearsonr(x, y)\n",
    "#             scor_list.append(scor)\n",
    "\n",
    "#         k_df = pd.DataFrame(index=range(len(drug_list)))\n",
    "#         k_df.loc[:, 'drug_id'] = drug_list\n",
    "#         k_df.loc[:, 'spearman'] = scor_list\n",
    "#         k_df.loc[:, 'fold'] = k + 1\n",
    "\n",
    "#         k_df_list.append(k_df)\n",
    "\n",
    "#     scor_list = pd.concat(k_df_list).groupby('drug_id').mean().loc[drug_list, 'spearman'].values\n",
    "    \n",
    "#     return scor_list"
   ]
  },
  {
   "cell_type": "code",
   "execution_count": 77,
   "metadata": {},
   "outputs": [],
   "source": [
    "# ori_val_scor_list = cal_scor_per_drug(ori_obs_df_list, ori_pred_df_list)\n",
    "# new_val_scor_list = cal_scor_per_drug(new_obs_df_list, new_pred_df_list)"
   ]
  },
  {
   "cell_type": "code",
   "execution_count": 78,
   "metadata": {
    "scrolled": false
   },
   "outputs": [],
   "source": [
    "# sns.scatterplot(ori_val_scor_list, new_val_scor_list)\n",
    "# plt.plot((0, 0.6), (0, 0.6))"
   ]
  },
  {
   "cell_type": "code",
   "execution_count": 79,
   "metadata": {},
   "outputs": [],
   "source": [
    "# stats.ttest_ind(ori_val_scor_list, new_val_scor_list)"
   ]
  },
  {
   "cell_type": "code",
   "execution_count": 80,
   "metadata": {},
   "outputs": [],
   "source": [
    "# val_result_df = pd.DataFrame(np.array([ori_val_scor_list, new_val_scor_list]).T, columns=['CaDRReS', 'CaDRReS-SC'])\n",
    "# val_result_df = val_result_df.stack().reset_index().drop('level_0', axis=1)\n",
    "\n",
    "# val_result_df.head()"
   ]
  },
  {
   "cell_type": "code",
   "execution_count": 81,
   "metadata": {
    "code_folding": [
     0
    ]
   },
   "outputs": [],
   "source": [
    "# sns.set(font_scale=1.25, style='white')\n",
    "# fig, ax = plt.subplots(figsize=(3.5, 5))\n",
    "\n",
    "# sns.boxplot(data=val_result_df, x='level_1', y=0, fliersize=0, color='white')\n",
    "# sns.swarmplot(data=val_result_df, x='level_1', y=0, color='black', s=3, alpha=0.75)\n",
    "# # sns.violinplot(data=val_result_df, x='level_1', y=0, scale='count', inner=\"box\")\n",
    "\n",
    "# ax.set_xticklabels(ax.get_xticklabels(), rotation=45, ha='right')\n",
    "\n",
    "# plt.ylim((0, 0.8))\n",
    "# plt.xlabel('')\n",
    "# plt.ylabel('Spearman correlation\\n(predicted IC50 vs observed IC50)')\n",
    "\n",
    "# plt.tight_layout()\n",
    "# plt.savefig('../figure/Figure2C.svg')"
   ]
  },
  {
   "cell_type": "markdown",
   "metadata": {},
   "source": [
    "##### Tranining"
   ]
  },
  {
   "cell_type": "code",
   "execution_count": 82,
   "metadata": {
    "code_folding": [
     0
    ]
   },
   "outputs": [],
   "source": [
    "# ori_pred_fname_list = glob.glob('../../../../PhD_NUS/Research/CaDRReS2/output/ess_gene_pcor/gdsc_drugMedianGE0_cv0[1-5]_10dim_pred_train.csv')\n",
    "# ori_obs_fname_list = glob.glob('../../../../PhD_NUS/Research/CaDRReS2/output/ess_gene_pcor/gdsc_drugMedianGE0_cv0[1-5]_10dim_obs_train.csv')\n",
    "# new_pred_fname_list = glob.glob('../../../../PhD_NUS/Research/CaDRReS2/output/ess_gene_pcor/gdsc_drugMedianGE0_cv0[1-5]_wo_bp_10dim_pred_train.csv')\n",
    "# new_obs_fname_list = glob.glob('../../../../PhD_NUS/Research/CaDRReS2/output/ess_gene_pcor/gdsc_drugMedianGE0_cv0[1-5]_wo_bp_10dim_obs_train.csv')"
   ]
  },
  {
   "cell_type": "code",
   "execution_count": 83,
   "metadata": {
    "code_folding": [
     0
    ]
   },
   "outputs": [],
   "source": [
    "# ori_pred_df_list = []\n",
    "# ori_obs_df_list = []\n",
    "\n",
    "# new_pred_df_list = []\n",
    "# new_obs_df_list = []\n",
    "\n",
    "# for fname in sorted(ori_pred_fname_list):\n",
    "#     ori_pred_df_list.append(pd.read_csv(fname, index_col=0))\n",
    "    \n",
    "# for fname in sorted(ori_obs_fname_list):\n",
    "#     ori_obs_df_list.append(pd.read_csv(fname, index_col=0))\n",
    "    \n",
    "# for fname in sorted(new_pred_fname_list):\n",
    "#     new_pred_df_list.append(pd.read_csv(fname, index_col=0))\n",
    "    \n",
    "# for fname in sorted(new_obs_fname_list):\n",
    "#     new_obs_df_list.append(pd.read_csv(fname, index_col=0))\n"
   ]
  },
  {
   "cell_type": "code",
   "execution_count": 84,
   "metadata": {
    "code_folding": [
     0
    ]
   },
   "outputs": [],
   "source": [
    "# ori_train_scor_list = cal_scor_per_drug(ori_obs_df_list, ori_pred_df_list)\n",
    "# new_train_scor_list = cal_scor_per_drug(new_obs_df_list, new_pred_df_list)\n",
    "\n",
    "# sns.scatterplot(ori_train_scor_list, new_train_scor_list)\n",
    "# plt.plot((0.3, 0.8), (0.3, 0.8))"
   ]
  },
  {
   "cell_type": "markdown",
   "metadata": {},
   "source": [
    "##### Show overfitting"
   ]
  },
  {
   "cell_type": "code",
   "execution_count": 85,
   "metadata": {
    "code_folding": [
     0
    ]
   },
   "outputs": [],
   "source": [
    "# sns.scatterplot(ori_train_scor_list, ori_val_scor_list)\n",
    "# plt.plot((0, 0.6), (0, 0.6))"
   ]
  },
  {
   "cell_type": "code",
   "execution_count": 86,
   "metadata": {
    "code_folding": [
     0
    ]
   },
   "outputs": [],
   "source": [
    "# sns.scatterplot(new_train_scor_list, new_val_scor_list)\n",
    "# plt.plot((0, 0.6), (0, 0.6))"
   ]
  },
  {
   "cell_type": "markdown",
   "metadata": {},
   "source": [
    "### Figure 2C (v2)"
   ]
  },
  {
   "cell_type": "code",
   "execution_count": 87,
   "metadata": {},
   "outputs": [
    {
     "data": {
      "text/plain": [
       "226"
      ]
     },
     "execution_count": 87,
     "metadata": {},
     "output_type": "execute_result"
    }
   ],
   "source": [
    "# model_spec_name_list = ['cadrres', 'cadrres-wo-sample-bias', 'cadrres-wo-sample-bias-weight']\n",
    "model_spec_name_list = ['cadrres', 'cadrres-wo-sample-bias', 'cadrres-wo-sample-bias-weight_HNSC']\n",
    "\n",
    "# score_df = pd.read_excel('../result/cv_pred/cv_score_summary.xlsx')\n",
    "score_df = pd.read_excel('../result/cv_pred_226drugs/cv_score_summary.xlsx')\n",
    "score_df = score_df[score_df['model'].isin(model_spec_name_list)]\n",
    "\n",
    "len(set(score_df['drug_id']))"
   ]
  },
  {
   "cell_type": "code",
   "execution_count": 88,
   "metadata": {},
   "outputs": [
    {
     "data": {
      "text/plain": [
       "Counter({'cadrres': 226,\n",
       "         'cadrres-wo-sample-bias': 226,\n",
       "         'cadrres-wo-sample-bias-weight_HNSC': 226})"
      ]
     },
     "execution_count": 88,
     "metadata": {},
     "output_type": "execute_result"
    }
   ],
   "source": [
    "Counter(score_df['model'])"
   ]
  },
  {
   "cell_type": "code",
   "execution_count": 89,
   "metadata": {},
   "outputs": [
    {
     "data": {
      "text/html": [
       "<div>\n",
       "<style scoped>\n",
       "    .dataframe tbody tr th:only-of-type {\n",
       "        vertical-align: middle;\n",
       "    }\n",
       "\n",
       "    .dataframe tbody tr th {\n",
       "        vertical-align: top;\n",
       "    }\n",
       "\n",
       "    .dataframe thead th {\n",
       "        text-align: right;\n",
       "    }\n",
       "</style>\n",
       "<table border=\"1\" class=\"dataframe\">\n",
       "  <thead>\n",
       "    <tr style=\"text-align: right;\">\n",
       "      <th></th>\n",
       "      <th>drug_id</th>\n",
       "      <th>drug_name</th>\n",
       "      <th>model</th>\n",
       "      <th>precent_sensitive</th>\n",
       "      <th>log2_max_conc</th>\n",
       "      <th>log2_median_ic50</th>\n",
       "      <th>spearman</th>\n",
       "      <th>accuracy</th>\n",
       "      <th>F1_weighted</th>\n",
       "      <th>F1_resistant</th>\n",
       "      <th>F1_sensitive</th>\n",
       "      <th>precision1_resistant</th>\n",
       "      <th>precision_sensitive</th>\n",
       "      <th>MAE_sensitive</th>\n",
       "      <th>MAE_capped</th>\n",
       "    </tr>\n",
       "  </thead>\n",
       "  <tbody>\n",
       "    <tr>\n",
       "      <th>0</th>\n",
       "      <td>1</td>\n",
       "      <td>Erlotinib</td>\n",
       "      <td>cadrres</td>\n",
       "      <td>4.50</td>\n",
       "      <td>1.00</td>\n",
       "      <td>6.25</td>\n",
       "      <td>0.29</td>\n",
       "      <td>0.79</td>\n",
       "      <td>0.84</td>\n",
       "      <td>0.88</td>\n",
       "      <td>0.10</td>\n",
       "      <td>0.96</td>\n",
       "      <td>0.06</td>\n",
       "      <td>3.94</td>\n",
       "      <td>0.29</td>\n",
       "    </tr>\n",
       "    <tr>\n",
       "      <th>1</th>\n",
       "      <td>1</td>\n",
       "      <td>Erlotinib</td>\n",
       "      <td>cadrres-wo-sample-bias</td>\n",
       "      <td>4.50</td>\n",
       "      <td>1.00</td>\n",
       "      <td>6.25</td>\n",
       "      <td>0.24</td>\n",
       "      <td>0.93</td>\n",
       "      <td>0.92</td>\n",
       "      <td>0.96</td>\n",
       "      <td>0.00</td>\n",
       "      <td>0.95</td>\n",
       "      <td>0.00</td>\n",
       "      <td>4.82</td>\n",
       "      <td>0.13</td>\n",
       "    </tr>\n",
       "    <tr>\n",
       "      <th>2</th>\n",
       "      <td>1</td>\n",
       "      <td>Erlotinib</td>\n",
       "      <td>cadrres-wo-sample-bias-weight_HNSC</td>\n",
       "      <td>4.50</td>\n",
       "      <td>1.00</td>\n",
       "      <td>6.25</td>\n",
       "      <td>0.08</td>\n",
       "      <td>0.96</td>\n",
       "      <td>0.93</td>\n",
       "      <td>0.98</td>\n",
       "      <td>0.00</td>\n",
       "      <td>0.96</td>\n",
       "      <td>0.00</td>\n",
       "      <td>3.19</td>\n",
       "      <td>0.09</td>\n",
       "    </tr>\n",
       "    <tr>\n",
       "      <th>3</th>\n",
       "      <td>1001</td>\n",
       "      <td>AICA Ribonucleotide</td>\n",
       "      <td>cadrres</td>\n",
       "      <td>54.14</td>\n",
       "      <td>10.97</td>\n",
       "      <td>10.86</td>\n",
       "      <td>0.35</td>\n",
       "      <td>0.61</td>\n",
       "      <td>0.58</td>\n",
       "      <td>0.43</td>\n",
       "      <td>0.70</td>\n",
       "      <td>0.63</td>\n",
       "      <td>0.60</td>\n",
       "      <td>1.68</td>\n",
       "      <td>1.34</td>\n",
       "    </tr>\n",
       "    <tr>\n",
       "      <th>4</th>\n",
       "      <td>1001</td>\n",
       "      <td>AICA Ribonucleotide</td>\n",
       "      <td>cadrres-wo-sample-bias</td>\n",
       "      <td>54.14</td>\n",
       "      <td>10.97</td>\n",
       "      <td>10.86</td>\n",
       "      <td>0.36</td>\n",
       "      <td>0.62</td>\n",
       "      <td>0.62</td>\n",
       "      <td>0.57</td>\n",
       "      <td>0.66</td>\n",
       "      <td>0.60</td>\n",
       "      <td>0.64</td>\n",
       "      <td>0.98</td>\n",
       "      <td>0.58</td>\n",
       "    </tr>\n",
       "  </tbody>\n",
       "</table>\n",
       "</div>"
      ],
      "text/plain": [
       "   drug_id            drug_name                               model  \\\n",
       "0        1            Erlotinib                             cadrres   \n",
       "1        1            Erlotinib              cadrres-wo-sample-bias   \n",
       "2        1            Erlotinib  cadrres-wo-sample-bias-weight_HNSC   \n",
       "3     1001  AICA Ribonucleotide                             cadrres   \n",
       "4     1001  AICA Ribonucleotide              cadrres-wo-sample-bias   \n",
       "\n",
       "   precent_sensitive  log2_max_conc  log2_median_ic50  spearman  accuracy  \\\n",
       "0               4.50           1.00              6.25      0.29      0.79   \n",
       "1               4.50           1.00              6.25      0.24      0.93   \n",
       "2               4.50           1.00              6.25      0.08      0.96   \n",
       "3              54.14          10.97             10.86      0.35      0.61   \n",
       "4              54.14          10.97             10.86      0.36      0.62   \n",
       "\n",
       "   F1_weighted  F1_resistant  F1_sensitive  precision1_resistant  \\\n",
       "0         0.84          0.88          0.10                  0.96   \n",
       "1         0.92          0.96          0.00                  0.95   \n",
       "2         0.93          0.98          0.00                  0.96   \n",
       "3         0.58          0.43          0.70                  0.63   \n",
       "4         0.62          0.57          0.66                  0.60   \n",
       "\n",
       "   precision_sensitive  MAE_sensitive  MAE_capped  \n",
       "0                 0.06           3.94        0.29  \n",
       "1                 0.00           4.82        0.13  \n",
       "2                 0.00           3.19        0.09  \n",
       "3                 0.60           1.68        1.34  \n",
       "4                 0.64           0.98        0.58  "
      ]
     },
     "execution_count": 89,
     "metadata": {},
     "output_type": "execute_result"
    }
   ],
   "source": [
    "score_df.head()"
   ]
  },
  {
   "cell_type": "code",
   "execution_count": 90,
   "metadata": {},
   "outputs": [
    {
     "data": {
      "text/plain": [
       "(array([50., 18.,  9., 13., 12., 13.,  9.,  7., 11.,  6.,  8.,  6.,  7.,\n",
       "         9., 11.,  9.,  8.,  8.,  6.,  6.]),\n",
       " array([ 0.  ,  4.95,  9.91, 14.86, 19.82, 24.77, 29.73, 34.68, 39.63,\n",
       "        44.59, 49.54, 54.5 , 59.45, 64.41, 69.36, 74.32, 79.27, 84.22,\n",
       "        89.18, 94.13, 99.09]),\n",
       " <a list of 20 Patch objects>)"
      ]
     },
     "execution_count": 90,
     "metadata": {},
     "output_type": "execute_result"
    },
    {
     "data": {
      "image/png": "[encoded data removed]",
      "text/plain": [
       "<Figure size 432x288 with 1 Axes>"
      ]
     },
     "metadata": {
      "needs_background": "light"
     },
     "output_type": "display_data"
    }
   ],
   "source": [
    "plt.hist(score_df[score_df['model']==model_spec_name_list[-1]]['precent_sensitive'], bins=20)"
   ]
  },
  {
   "cell_type": "markdown",
   "metadata": {},
   "source": [
    "##### Scatter plot"
   ]
  },
  {
   "cell_type": "code",
   "execution_count": 91,
   "metadata": {},
   "outputs": [],
   "source": [
    "# sns.regplot(data=score_df[score_df['model']=='cadrres-wo-sample-bias-weight'], x='precent_sensitive', y='precision_sensitive')"
   ]
  },
  {
   "cell_type": "code",
   "execution_count": 92,
   "metadata": {},
   "outputs": [],
   "source": [
    "# sns.regplot(data=score_df[score_df['model']=='cadrres'], x='precent_sensitive', y='precision_sensitive')"
   ]
  },
  {
   "cell_type": "code",
   "execution_count": 93,
   "metadata": {},
   "outputs": [],
   "source": [
    "label_dict = {}\n",
    "label_dict['accuracy'] = 'Accuracy'\n",
    "label_dict['MAE_sensitive'] = 'MAE (sensitive)'"
   ]
  },
  {
   "cell_type": "code",
   "execution_count": 94,
   "metadata": {
    "code_folding": []
   },
   "outputs": [
    {
     "data": {
      "image/png": "[encoded data removed]",
      "text/plain": [
       "<Figure size 576x288 with 2 Axes>"
      ]
     },
     "metadata": {},
     "output_type": "display_data"
    }
   ],
   "source": [
    "x_model = 'cadrres'\n",
    "y_model = 'cadrres-wo-sample-bias-weight_HNSC'\n",
    "# y_model = 'cadrres-wo-sample-bias'\n",
    "\n",
    "sns.set(font_scale=1.25, style='ticks')\n",
    "fig, axes = plt.subplots(nrows=1, ncols=2, figsize=(8,4))\n",
    "\n",
    "for ax, s_name in zip(axes.flatten(), ['accuracy', 'MAE_sensitive']):\n",
    "    x = score_df[score_df['model'] == x_model][s_name].values\n",
    "    y = score_df[score_df['model'] == y_model][s_name].values\n",
    "    \n",
    "    sel = [~np.isnan(x) & ~np.isnan(y)]\n",
    "    x = x[sel]\n",
    "    y = y[sel]\n",
    "    \n",
    "    min_val = np.nanmin([np.nanmin(x), np.nanmin(y)])\n",
    "    max_val = np.nanmax([np.nanmax(x), np.nanmax(y)])\n",
    "    margin = 0.05 * max_val\n",
    "    min_val = min_val-margin\n",
    "    max_val = max_val+margin\n",
    "\n",
    "    ax.scatter(x, y, s=20, color='black', linewidth=0.5, alpha=0.5)\n",
    "    ax.plot((min_val, max_val), (min_val, max_val), color='black', linestyle=':')\n",
    "    ax.set_xlim((min_val, max_val))\n",
    "    ax.set_ylim((min_val, max_val))\n",
    "    \n",
    "    if s_name in ['MAE_sensitive']:\n",
    "        polygon = patches.Polygon(np.array([(min_val, min_val), (max_val, min_val), (max_val, max_val)]),linewidth=0,edgecolor='green',facecolor='lightblue',alpha=0.5, zorder=0)\n",
    "    else:\n",
    "        polygon = patches.Polygon(np.array([(min_val, min_val), (min_val, max_val), (max_val, max_val)]),linewidth=0,edgecolor='green',facecolor='lightblue',alpha=0.5, zorder=0)\n",
    "    ax.add_patch(polygon)\n",
    "    \n",
    "    ax.set_xlabel('CaDRReS')\n",
    "    ax.set_ylabel('CaDRReS-SC')\n",
    "    \n",
    "    \n",
    "axes.flatten()[0].set_title('Accuracy')\n",
    "axes.flatten()[1].set_title('Mean Absolute Error')\n",
    "    \n",
    "sns.despine()\n",
    "plt.tight_layout()\n",
    "# plt.savefig('../figure/Figure3_cadrres_vs_cadrres-sc.svg')"
   ]
  },
  {
   "cell_type": "code",
   "execution_count": 95,
   "metadata": {},
   "outputs": [],
   "source": [
    "# https://stackoverflow.com/questions/36874697/how-to-edit-properties-of-whiskers-fliers-caps-etc-in-seaborn-boxplot\n",
    "\n",
    "def change_boxplot_edge_color(ax, col):\n",
    "    for i, artist in enumerate(ax.artists):\n",
    "        # Set the linecolor on the artist to the facecolor, and set the facecolor to None\n",
    "        artist.set_edgecolor(col)\n",
    "        # artist.set_facecolor('None')\n",
    "\n",
    "        # Each box has 6 associated Line2D objects (to make the whiskers, fliers, etc.)\n",
    "        # Loop over them here, and use the same colour as above\n",
    "        for j in range(i*6,i*6+6):\n",
    "            line = ax.lines[j]\n",
    "            line.set_color(col)\n",
    "            line.set_mfc(col)\n",
    "            line.set_mec(col)"
   ]
  },
  {
   "cell_type": "code",
   "execution_count": 96,
   "metadata": {},
   "outputs": [
    {
     "name": "stdout",
     "output_type": "stream",
     "text": [
      "accuracy RanksumsResult(statistic=-3.611996473421903, pvalue=0.00030384869935654236)\n",
      "accuracy Ttest_relResult(statistic=-8.349338599928274, pvalue=7.011487666632825e-15)\n",
      "MAE_sensitive RanksumsResult(statistic=4.180568144395204, pvalue=2.9078165155403485e-05)\n",
      "MAE_sensitive Ttest_relResult(statistic=nan, pvalue=nan)\n"
     ]
    },
    {
     "data": {
      "image/png": "[encoded data removed]",
      "text/plain": [
       "<Figure size 576x288 with 2 Axes>"
      ]
     },
     "metadata": {},
     "output_type": "display_data"
    }
   ],
   "source": [
    "sns.set(font_scale=1.25, style='ticks')\n",
    "# sns.set_style(\"darkgrid\", {\"axes.facecolor\": \".9\"})\n",
    "fig, axes = plt.subplots(nrows=1, ncols=2, figsize=(8,4))\n",
    "\n",
    "for ax, s_name in zip(axes.flatten(), ['accuracy', 'MAE_sensitive']):\n",
    "    \n",
    "    temp_df = score_df[score_df['model'].isin([x_model, y_model])]\n",
    "    sns.boxplot(data=temp_df, x='model', y=s_name, orient='v', fliersize=5, ax=ax, color='lightblue', linewidth=1.25)\n",
    "    print (s_name, stats.ranksums(temp_df[temp_df['model']==x_model][s_name], temp_df[temp_df['model']==y_model][s_name]))\n",
    "    print (s_name, stats.ttest_rel(temp_df[temp_df['model']==x_model][s_name], temp_df[temp_df['model']==y_model][s_name]))\n",
    "#     sns.swarmplot(data=temp_df, x='model', y=s_name, orient='v', s=3, linewidth=0, alpha=0.7, ax=ax, color='black')\n",
    "#     sns.violinplot(data=temp_df, y='model', x=s_name, orient='h', ax=ax, color='grey', inner='stick')\n",
    "    \n",
    "    ax.set_ylabel(label_dict[s_name])\n",
    "    change_boxplot_edge_color(ax, 'black')\n",
    "    \n",
    "sns.despine()\n",
    "plt.tight_layout()\n",
    "# plt.savefig('../figure/Figure3_cadrres_vs_cadrres-sc_boxplot.svg')\n",
    "plt.savefig('../figure/supplementary_cadrres_vs_cadrres-wo-sample-bias_boxplot.svg')"
   ]
  },
  {
   "cell_type": "code",
   "execution_count": 97,
   "metadata": {},
   "outputs": [
    {
     "name": "stdout",
     "output_type": "stream",
     "text": [
      "accuracy\n",
      "0.7300884955752213 0.26991150442477874\n",
      "0.0648460445436997\n",
      "MAE_sensitive\n",
      "0.2610619469026549 0.7300884955752213\n",
      "-0.11755733250085663\n"
     ]
    }
   ],
   "source": [
    "m1 = x_model\n",
    "m2 = y_model\n",
    "\n",
    "for s_name in ['accuracy', 'MAE_sensitive']:\n",
    "    s_df = score_df[['drug_id', 'model', s_name]].pivot(index='drug_id', columns='model', values=s_name)\n",
    "    print (s_name)\n",
    "    \n",
    "    print (np.sum(s_df[m1] <= s_df[m2]) / s_df[m1].shape[0], np.sum(s_df[m1] > s_df[m2]) / s_df[m1].shape[0])\n",
    "    print (np.mean((s_df[m2] - s_df[m1]) / s_df[m1]))"
   ]
  },
  {
   "cell_type": "code",
   "execution_count": 98,
   "metadata": {},
   "outputs": [
    {
     "data": {
      "text/plain": [
       "2"
      ]
     },
     "execution_count": 98,
     "metadata": {},
     "output_type": "execute_result"
    }
   ],
   "source": [
    "np.sum(s_df[m2].isnull())"
   ]
  },
  {
   "cell_type": "markdown",
   "metadata": {},
   "source": [
    "##### Calculate improvement"
   ]
  },
  {
   "cell_type": "code",
   "execution_count": 99,
   "metadata": {},
   "outputs": [
    {
     "data": {
      "text/html": [
       "<div>\n",
       "<style scoped>\n",
       "    .dataframe tbody tr th:only-of-type {\n",
       "        vertical-align: middle;\n",
       "    }\n",
       "\n",
       "    .dataframe tbody tr th {\n",
       "        vertical-align: top;\n",
       "    }\n",
       "\n",
       "    .dataframe thead th {\n",
       "        text-align: right;\n",
       "    }\n",
       "</style>\n",
       "<table border=\"1\" class=\"dataframe\">\n",
       "  <thead>\n",
       "    <tr style=\"text-align: right;\">\n",
       "      <th>model</th>\n",
       "      <th>cadrres</th>\n",
       "      <th>cadrres-wo-sample-bias</th>\n",
       "      <th>cadrres-wo-sample-bias-weight_HNSC</th>\n",
       "      <th>increase</th>\n",
       "      <th>acc_increase_rank</th>\n",
       "    </tr>\n",
       "    <tr>\n",
       "      <th>drug_id</th>\n",
       "      <th></th>\n",
       "      <th></th>\n",
       "      <th></th>\n",
       "      <th></th>\n",
       "      <th></th>\n",
       "    </tr>\n",
       "  </thead>\n",
       "  <tbody>\n",
       "    <tr>\n",
       "      <th>110</th>\n",
       "      <td>0.48</td>\n",
       "      <td>0.69</td>\n",
       "      <td>0.81</td>\n",
       "      <td>0.34</td>\n",
       "      <td>1</td>\n",
       "    </tr>\n",
       "    <tr>\n",
       "      <th>17</th>\n",
       "      <td>0.60</td>\n",
       "      <td>0.86</td>\n",
       "      <td>0.92</td>\n",
       "      <td>0.32</td>\n",
       "      <td>2</td>\n",
       "    </tr>\n",
       "    <tr>\n",
       "      <th>59</th>\n",
       "      <td>0.64</td>\n",
       "      <td>0.87</td>\n",
       "      <td>0.91</td>\n",
       "      <td>0.27</td>\n",
       "      <td>3</td>\n",
       "    </tr>\n",
       "    <tr>\n",
       "      <th>94</th>\n",
       "      <td>0.71</td>\n",
       "      <td>0.89</td>\n",
       "      <td>0.95</td>\n",
       "      <td>0.24</td>\n",
       "      <td>4</td>\n",
       "    </tr>\n",
       "    <tr>\n",
       "      <th>111</th>\n",
       "      <td>0.51</td>\n",
       "      <td>0.60</td>\n",
       "      <td>0.73</td>\n",
       "      <td>0.22</td>\n",
       "      <td>5</td>\n",
       "    </tr>\n",
       "  </tbody>\n",
       "</table>\n",
       "</div>"
      ],
      "text/plain": [
       "model    cadrres  cadrres-wo-sample-bias  cadrres-wo-sample-bias-weight_HNSC  \\\n",
       "drug_id                                                                        \n",
       "110         0.48                    0.69                                0.81   \n",
       "17          0.60                    0.86                                0.92   \n",
       "59          0.64                    0.87                                0.91   \n",
       "94          0.71                    0.89                                0.95   \n",
       "111         0.51                    0.60                                0.73   \n",
       "\n",
       "model    increase  acc_increase_rank  \n",
       "drug_id                               \n",
       "110          0.34                  1  \n",
       "17           0.32                  2  \n",
       "59           0.27                  3  \n",
       "94           0.24                  4  \n",
       "111          0.22                  5  "
      ]
     },
     "execution_count": 99,
     "metadata": {},
     "output_type": "execute_result"
    }
   ],
   "source": [
    "accuracy_df = score_df.pivot(index='drug_id', columns='model', values='accuracy')\n",
    "accuracy_df.loc[:, 'increase'] = accuracy_df['cadrres-wo-sample-bias-weight_HNSC'] - accuracy_df['cadrres']\n",
    "accuracy_df = accuracy_df.sort_values('increase', ascending=False)\n",
    "accuracy_df.loc[:, 'acc_increase_rank'] = [i+1 for i in range(accuracy_df.shape[0])]\n",
    "accuracy_df.head()"
   ]
  },
  {
   "cell_type": "code",
   "execution_count": 100,
   "metadata": {},
   "outputs": [
    {
     "data": {
      "text/html": [
       "<div>\n",
       "<style scoped>\n",
       "    .dataframe tbody tr th:only-of-type {\n",
       "        vertical-align: middle;\n",
       "    }\n",
       "\n",
       "    .dataframe tbody tr th {\n",
       "        vertical-align: top;\n",
       "    }\n",
       "\n",
       "    .dataframe thead th {\n",
       "        text-align: right;\n",
       "    }\n",
       "</style>\n",
       "<table border=\"1\" class=\"dataframe\">\n",
       "  <thead>\n",
       "    <tr style=\"text-align: right;\">\n",
       "      <th>model</th>\n",
       "      <th>cadrres</th>\n",
       "      <th>cadrres-wo-sample-bias</th>\n",
       "      <th>cadrres-wo-sample-bias-weight_HNSC</th>\n",
       "      <th>increase</th>\n",
       "      <th>mae_increase_rank</th>\n",
       "    </tr>\n",
       "    <tr>\n",
       "      <th>drug_id</th>\n",
       "      <th></th>\n",
       "      <th></th>\n",
       "      <th></th>\n",
       "      <th></th>\n",
       "      <th></th>\n",
       "    </tr>\n",
       "  </thead>\n",
       "  <tbody>\n",
       "    <tr>\n",
       "      <th>1018</th>\n",
       "      <td>7.72</td>\n",
       "      <td>5.99</td>\n",
       "      <td>1.71</td>\n",
       "      <td>6.01</td>\n",
       "      <td>1</td>\n",
       "    </tr>\n",
       "    <tr>\n",
       "      <th>197</th>\n",
       "      <td>9.57</td>\n",
       "      <td>10.85</td>\n",
       "      <td>5.54</td>\n",
       "      <td>4.02</td>\n",
       "      <td>2</td>\n",
       "    </tr>\n",
       "    <tr>\n",
       "      <th>1072</th>\n",
       "      <td>6.75</td>\n",
       "      <td>7.37</td>\n",
       "      <td>3.71</td>\n",
       "      <td>3.05</td>\n",
       "      <td>3</td>\n",
       "    </tr>\n",
       "    <tr>\n",
       "      <th>1029</th>\n",
       "      <td>5.86</td>\n",
       "      <td>7.03</td>\n",
       "      <td>2.97</td>\n",
       "      <td>2.89</td>\n",
       "      <td>4</td>\n",
       "    </tr>\n",
       "    <tr>\n",
       "      <th>166</th>\n",
       "      <td>4.96</td>\n",
       "      <td>6.15</td>\n",
       "      <td>2.12</td>\n",
       "      <td>2.84</td>\n",
       "      <td>5</td>\n",
       "    </tr>\n",
       "  </tbody>\n",
       "</table>\n",
       "</div>"
      ],
      "text/plain": [
       "model    cadrres  cadrres-wo-sample-bias  cadrres-wo-sample-bias-weight_HNSC  \\\n",
       "drug_id                                                                        \n",
       "1018        7.72                    5.99                                1.71   \n",
       "197         9.57                   10.85                                5.54   \n",
       "1072        6.75                    7.37                                3.71   \n",
       "1029        5.86                    7.03                                2.97   \n",
       "166         4.96                    6.15                                2.12   \n",
       "\n",
       "model    increase  mae_increase_rank  \n",
       "drug_id                               \n",
       "1018         6.01                  1  \n",
       "197          4.02                  2  \n",
       "1072         3.05                  3  \n",
       "1029         2.89                  4  \n",
       "166          2.84                  5  "
      ]
     },
     "execution_count": 100,
     "metadata": {},
     "output_type": "execute_result"
    }
   ],
   "source": [
    "mae_df = score_df.pivot(index='drug_id', columns='model', values='MAE_sensitive')\n",
    "mae_df.loc[:, 'increase'] = mae_df['cadrres'] - mae_df['cadrres-wo-sample-bias-weight_HNSC']\n",
    "mae_df = mae_df.sort_values('increase', ascending=False)\n",
    "mae_df.loc[:, 'mae_increase_rank'] = [i+1 for i in range(mae_df.shape[0])]\n",
    "mae_df.head()"
   ]
  },
  {
   "cell_type": "code",
   "execution_count": 101,
   "metadata": {},
   "outputs": [
    {
     "data": {
      "text/plain": [
       "drug_id\n",
       "1        27.0\n",
       "255      27.0\n",
       "1129     27.0\n",
       "279      33.0\n",
       "171      37.5\n",
       "        ...  \n",
       "41      211.0\n",
       "87      214.5\n",
       "60      216.5\n",
       "11      216.5\n",
       "9       219.5\n",
       "Length: 226, dtype: float64"
      ]
     },
     "execution_count": 101,
     "metadata": {},
     "output_type": "execute_result"
    }
   ],
   "source": [
    "improve_rank_df = pd.merge(accuracy_df[['acc_increase_rank']], mae_df[['mae_increase_rank']], left_index=True, right_index=True)\n",
    "\n",
    "improve_rank_df.mean(axis=1).sort_values()"
   ]
  },
  {
   "cell_type": "markdown",
   "metadata": {},
   "source": [
    "### Figure 2C (v2 HNSC)"
   ]
  },
  {
   "cell_type": "code",
   "execution_count": 102,
   "metadata": {
    "code_folding": [
     0
    ]
   },
   "outputs": [],
   "source": [
    "# # model_spec_name_list = ['cadrres', 'cadrres-wo-sample-bias', 'cadrres-wo-sample-bias-weight']\n",
    "# model_spec_name_list = ['cadrres', 'cadrres-wo-sample-bias-weight_HNSC']\n",
    "\n",
    "# score_df = pd.read_excel('../result/cv_pred/cv_score_summary_HNSC.xlsx')\n",
    "# score_df = score_df[score_df['precent_sensitive'] >= 50]\n",
    "# score_df = score_df[score_df['model'].isin(model_spec_name_list)]\n",
    "\n",
    "# len(set(score_df['drug_id']))"
   ]
  },
  {
   "cell_type": "code",
   "execution_count": 103,
   "metadata": {},
   "outputs": [],
   "source": [
    "# plt.hist(score_df[score_df['model']=='cadrres']['precent_sensitive'], bins=20)"
   ]
  },
  {
   "cell_type": "markdown",
   "metadata": {},
   "source": [
    "##### Scatter plot"
   ]
  },
  {
   "cell_type": "code",
   "execution_count": 104,
   "metadata": {
    "code_folding": [
     0,
     6
    ]
   },
   "outputs": [],
   "source": [
    "# x_model = 'cadrres'\n",
    "# y_model = 'cadrres-wo-sample-bias-weight_HNSC'\n",
    "# # y_model = 'cadrres-wo-sample-bias'\n",
    "\n",
    "# fig, axes = plt.subplots(nrows=1, ncols=2, figsize=(8,4))\n",
    "\n",
    "# for ax, s_name in zip(axes.flatten(), ['accurary', 'MAE']):\n",
    "#     x = score_df[score_df['model'] == x_model][s_name].values\n",
    "#     y = score_df[score_df['model'] == y_model][s_name].values\n",
    "    \n",
    "#     sel = [~np.isnan(x) & ~np.isnan(y)]\n",
    "#     x = x[sel]\n",
    "#     y = y[sel]\n",
    "    \n",
    "#     min_val = np.nanmin([np.nanmin(x), np.nanmin(y)])\n",
    "#     max_val = np.nanmax([np.nanmax(x), np.nanmax(y)])\n",
    "#     margin = 0.05 * max_val\n",
    "#     min_val = min_val-margin\n",
    "#     max_val = max_val+margin\n",
    "\n",
    "#     ax.scatter(x, y, s=20, color='black', linewidth=0.5, alpha=0.5)\n",
    "#     ax.plot((min_val, max_val), (min_val, max_val), color='black', linestyle=':')\n",
    "#     ax.set_xlim((min_val, max_val))\n",
    "#     ax.set_ylim((min_val, max_val))\n",
    "    \n",
    "#     if s_name in ['MAE']:\n",
    "#         polygon = patches.Polygon(np.array([(min_val, min_val), (max_val, min_val), (max_val, max_val)]),linewidth=0,edgecolor='green',facecolor='lightblue',alpha=0.2)\n",
    "#     else:\n",
    "#         polygon = patches.Polygon(np.array([(min_val, min_val), (min_val, max_val), (max_val, max_val)]),linewidth=0,edgecolor='green',facecolor='lightblue',alpha=0.2)\n",
    "#     ax.add_patch(polygon)\n",
    "    \n",
    "#     ax.set_xlabel('CaDRReS')\n",
    "#     ax.set_ylabel('CaDRReS-SC')\n",
    "\n",
    "# axes.flatten()[0].set_title('Accurary')\n",
    "# axes.flatten()[1].set_title('Mean Absolute Error')\n",
    "    \n",
    "# plt.tight_layout()\n",
    "# plt.savefig('../figure/Figure2C_scatter_HNSC.svg')"
   ]
  },
  {
   "cell_type": "markdown",
   "metadata": {},
   "source": [
    "##### Boxplot"
   ]
  },
  {
   "cell_type": "code",
   "execution_count": 105,
   "metadata": {
    "code_folding": [
     0
    ]
   },
   "outputs": [],
   "source": [
    "# stacked_score_df = score_df.set_index(['drug_id', 'model']).stack().reset_index()\n",
    "# stacked_score_df.columns = ['drug_id', 'model', 'score_name', 'score']"
   ]
  },
  {
   "cell_type": "code",
   "execution_count": 106,
   "metadata": {
    "code_folding": [
     0
    ],
    "scrolled": false
   },
   "outputs": [],
   "source": [
    "# sns.set(font_scale=1.25, style='ticks')\n",
    "\n",
    "# fig, ax = plt.subplots(figsize=(3.5, 5))\n",
    "\n",
    "# s_name = 'MAE' # accurary, spearman | MAE | f1 | f1_sensitive | precision_sensitive\n",
    "\n",
    "# df = stacked_score_df[stacked_score_df['score_name']==s_name]\n",
    "\n",
    "# pivot_df = df.pivot(index='drug_id', columns='model', values='score')\n",
    "# x = pivot_df[pivot_df.columns[0]].values\n",
    "# y = pivot_df[pivot_df.columns[1]].values\n",
    "# print (stats.ttest_rel(x, y))\n",
    "\n",
    "# # sns.violinplot(data=df, x='model', y='score', color='lightgrey', inner='box', ax=ax)\n",
    "# sns.swarmplot(data=df, x='model', y='score', color='black', s=3, alpha=.75, ax=ax)\n",
    "# sns.boxplot(data=df, x='model', y='score', color='white', fliersize=0, ax=ax)\n",
    "# ax.set_xticklabels(['CaDRReS', 'CaDRReS-SC'], rotation=45, ha='right') # 'CaDRReS\\nno-bias', \n",
    "\n",
    "# ax.set_ylabel(s_name[0].upper() + s_name[1:])\n",
    "# ax.set_xlabel('')\n",
    "\n",
    "# # ax.set_ylim((0.5, 4.5))\n",
    "# # ax.set_ylim((0, 0.6))\n",
    "# # ax.set_ylim((0.4, 1.09))\n",
    "    \n",
    "# plt.tight_layout()\n",
    "# plt.savefig('../figure/Figure2C_{}_HNSC.svg'.format(s_name))"
   ]
  },
  {
   "cell_type": "markdown",
   "metadata": {},
   "source": [
    "### Supplementary"
   ]
  },
  {
   "cell_type": "code",
   "execution_count": 107,
   "metadata": {},
   "outputs": [],
   "source": [
    "import matplotlib.patches as patches"
   ]
  },
  {
   "cell_type": "code",
   "execution_count": 108,
   "metadata": {},
   "outputs": [],
   "source": [
    "def logistic(x_vals, x0, k):\n",
    "    return 100 / (1 + np.e**(-k * (x_vals - x0)))"
   ]
  },
  {
   "cell_type": "code",
   "execution_count": 109,
   "metadata": {},
   "outputs": [
    {
     "name": "stdout",
     "output_type": "stream",
     "text": [
      "[-2.5, -0.5, 3.5, 5.0]\n",
      "99.33071490757152\n",
      "62.245933120185455\n",
      "0.09110511944006457\n",
      "0.004539786870243442\n"
     ]
    },
    {
     "data": {
      "image/png": "[encoded data removed]",
      "text/plain": [
       "<Figure size 432x324 with 1 Axes>"
      ]
     },
     "metadata": {},
     "output_type": "display_data"
    }
   ],
   "source": [
    "size = 7.5\n",
    "\n",
    "dosages = np.arange(-size, size, 0.1)\n",
    "\n",
    "response_dict = {}\n",
    "response_dict['i'] = logistic(dosages, 5-size, 2)\n",
    "response_dict['j'] = logistic(dosages, 7-size, 1)\n",
    "response_dict['k'] = logistic(dosages, 11-size, 2)\n",
    "response_dict['l'] = logistic(dosages, 12.5-size, 2)\n",
    "\n",
    "print ([5-size, 7-size, 11-size, 12.5-size])\n",
    "print (logistic(0, 5-size, 2))\n",
    "print (logistic(0, 7-size, 1))\n",
    "print (logistic(0, 11-size, 2))\n",
    "print (logistic(0, 12.5-size, 2))\n",
    "\n",
    "color_dict = {}\n",
    "color_dict['i'] = 'seagreen'\n",
    "color_dict['j'] = 'lightseagreen'\n",
    "color_dict['k'] = 'sienna'\n",
    "color_dict['l'] = 'chocolate'\n",
    "\n",
    "sns.set(font_scale=1.5, style='white')\n",
    "fig, ax = plt.subplots(figsize=(6, 4.5))\n",
    "\n",
    "for d, resp in response_dict.items():\n",
    "    ax.plot(dosages, resp, label=d, linewidth=2.5, alpha=0.7, color=color_dict[d])\n",
    "    \n",
    "ax.axhline(y=50, linestyle='--', color='grey')\n",
    "    \n",
    "rect = patches.Rectangle((-size,-5),size,110,linewidth=0,edgecolor='green',facecolor='lightblue', hatch='///', alpha=0.2)\n",
    "ax.add_patch(rect)\n",
    "    \n",
    "ax.set_xlim((-size, size))\n",
    "ax.set_ylim((-5, 105))\n",
    "ax.set_xlabel('Drug dosage ' + r'$log_2(\\mu M)$')\n",
    "ax.set_ylabel('% cell death')\n",
    "plt.legend(fontsize=15)\n",
    "\n",
    "plt.tight_layout()\n",
    "\n",
    "plt.savefig('../figure/supplementary_dose_response_curve.svg')"
   ]
  },
  {
   "cell_type": "code",
   "execution_count": 110,
   "metadata": {},
   "outputs": [
    {
     "data": {
      "image/png": "[encoded data removed]",
      "text/plain": [
       "<Figure size 432x324 with 1 Axes>"
      ]
     },
     "metadata": {},
     "output_type": "display_data"
    }
   ],
   "source": [
    "sns.set(font_scale=1.5, style='white')\n",
    "fig, ax = plt.subplots(figsize=(6, 4.5))\n",
    "\n",
    "y = 1 - (logistic(dosages, 0.5, 10) / 100)\n",
    "ax.plot(dosages, y, linewidth=2.5, alpha=0.7, color='black')\n",
    "    \n",
    "# ax.axhline(y=50, linestyle='--', color='grey')\n",
    "    \n",
    "rect = patches.Rectangle((-size,-5),size,110,linewidth=0,edgecolor='green',facecolor='lightblue', hatch='///', alpha=0.2)\n",
    "ax.add_patch(rect)\n",
    "    \n",
    "ax.set_xlim((-size, size))\n",
    "ax.set_ylim((-0.05, 1.05))\n",
    "ax.set_xlabel(r'$d_i$' + ' dosage ' + r'$log_2(\\mu M)$')\n",
    "ax.set_ylabel(r'$c_{iu}$')\n",
    "# plt.legend(fontsize=15)\n",
    "\n",
    "sns.despine()\n",
    "\n",
    "plt.tight_layout()"
   ]
  },
  {
   "cell_type": "markdown",
   "metadata": {},
   "source": [
    "### Figure 2D\n",
    "\n",
    "- CaDRReS_package/notebook/cadrres_train_models_sample_weight.ipynb\n",
    "- CaDRReS_package/notebook/todo_cadrres_predict_with_gdsc_model.ipynb"
   ]
  },
  {
   "cell_type": "code",
   "execution_count": 438,
   "metadata": {},
   "outputs": [],
   "source": [
    "# cadrres_model_dict = pickle.load(open('../../CaDRReS_package/output_weighted/hn_84_drug_cw_dw10_100000_param_dict.pickle', 'rb'))\n",
    "# cadrres_output_dict = pickle.load(open('../../CaDRReS_package/output_weighted/hn_84_drug_cw_dw10_100000_output_dict.pickle', 'rb'))\n",
    "\n",
    "cadrres_model_dict = pickle.load(open('../result/HN_model/hn_drug_cw_dw10_100000_param_dict.pickle', 'rb'))\n",
    "cadrres_output_dict = pickle.load(open('../result/HN_model/hn_drug_cw_dw10_100000_output_dict.pickle', 'rb'))\n",
    "\n",
    "# cadrres_model_dict = pickle.load(open('../result/HN_model/hn_drug_cw_dw1_100000_param_dict.pickle', 'rb'))\n",
    "# cadrres_output_dict = pickle.load(open('../result/HN_model/hn_drug_cw_dw1_100000_output_dict.pickle', 'rb'))\n",
    "\n",
    "# cadrres_model_dict = pickle.load(open('../result/HN_model/hn_drug_cw_dwsim10_100000_param_dict.pickle', 'rb'))\n",
    "# cadrres_output_dict = pickle.load(open('../result/HN_model/hn_drug_cw_dwsim10_100000_output_dict.pickle', 'rb'))"
   ]
  },
  {
   "cell_type": "code",
   "execution_count": 439,
   "metadata": {},
   "outputs": [],
   "source": [
    "gdsc_sample_df = pd.read_csv('../data/GDSC/GDSC_tissue_info.csv', index_col=0)\n",
    "gdsc_sample_df.index = gdsc_sample_df.index.astype(str)\n",
    "\n",
    "gdsc_sample_list = pd.read_csv('../data/GDSC/gdsc_all_abs_ic50_bayesian_sigmoid_only9dosages.csv', index_col=0).index.astype(str)\n",
    "\n",
    "gdsc_hn_sample_list = gdsc_sample_df[gdsc_sample_df['TCGA_CLASS']=='HNSC'].index\n",
    "\n",
    "gdsc_drug_df = pd.read_csv('../preprocessed_data/GDSC/drug_stat.csv', index_col=0)\n",
    "gdsc_drug_df.index = gdsc_drug_df.index.astype(str)"
   ]
  },
  {
   "cell_type": "markdown",
   "metadata": {},
   "source": [
    "##### Plot"
   ]
  },
  {
   "cell_type": "code",
   "execution_count": 440,
   "metadata": {},
   "outputs": [
    {
     "data": {
      "text/html": [
       "<div>\n",
       "<style scoped>\n",
       "    .dataframe tbody tr th:only-of-type {\n",
       "        vertical-align: middle;\n",
       "    }\n",
       "\n",
       "    .dataframe tbody tr th {\n",
       "        vertical-align: top;\n",
       "    }\n",
       "\n",
       "    .dataframe thead th {\n",
       "        text-align: right;\n",
       "    }\n",
       "</style>\n",
       "<table border=\"1\" class=\"dataframe\">\n",
       "  <thead>\n",
       "    <tr style=\"text-align: right;\">\n",
       "      <th>model</th>\n",
       "      <th>acc_increase_rank</th>\n",
       "      <th>mae_increase_rank</th>\n",
       "    </tr>\n",
       "    <tr>\n",
       "      <th>Drug ID</th>\n",
       "      <th></th>\n",
       "      <th></th>\n",
       "    </tr>\n",
       "  </thead>\n",
       "  <tbody>\n",
       "    <tr>\n",
       "      <th>1010</th>\n",
       "      <td>138</td>\n",
       "      <td>21</td>\n",
       "    </tr>\n",
       "    <tr>\n",
       "      <th>1032</th>\n",
       "      <td>118</td>\n",
       "      <td>27</td>\n",
       "    </tr>\n",
       "    <tr>\n",
       "      <th>1012</th>\n",
       "      <td>140</td>\n",
       "      <td>33</td>\n",
       "    </tr>\n",
       "    <tr>\n",
       "      <th>157</th>\n",
       "      <td>141</td>\n",
       "      <td>39</td>\n",
       "    </tr>\n",
       "    <tr>\n",
       "      <th>1149</th>\n",
       "      <td>158</td>\n",
       "      <td>46</td>\n",
       "    </tr>\n",
       "    <tr>\n",
       "      <th>...</th>\n",
       "      <td>...</td>\n",
       "      <td>...</td>\n",
       "    </tr>\n",
       "    <tr>\n",
       "      <th>1060</th>\n",
       "      <td>119</td>\n",
       "      <td>202</td>\n",
       "    </tr>\n",
       "    <tr>\n",
       "      <th>177</th>\n",
       "      <td>56</td>\n",
       "      <td>203</td>\n",
       "    </tr>\n",
       "    <tr>\n",
       "      <th>1031</th>\n",
       "      <td>199</td>\n",
       "      <td>204</td>\n",
       "    </tr>\n",
       "    <tr>\n",
       "      <th>1058</th>\n",
       "      <td>101</td>\n",
       "      <td>212</td>\n",
       "    </tr>\n",
       "    <tr>\n",
       "      <th>1016</th>\n",
       "      <td>117</td>\n",
       "      <td>218</td>\n",
       "    </tr>\n",
       "  </tbody>\n",
       "</table>\n",
       "<p>81 rows × 2 columns</p>\n",
       "</div>"
      ],
      "text/plain": [
       "model    acc_increase_rank  mae_increase_rank\n",
       "Drug ID                                      \n",
       "1010                   138                 21\n",
       "1032                   118                 27\n",
       "1012                   140                 33\n",
       "157                    141                 39\n",
       "1149                   158                 46\n",
       "...                    ...                ...\n",
       "1060                   119                202\n",
       "177                     56                203\n",
       "1031                   199                204\n",
       "1058                   101                212\n",
       "1016                   117                218\n",
       "\n",
       "[81 rows x 2 columns]"
      ]
     },
     "execution_count": 440,
     "metadata": {},
     "output_type": "execute_result"
    }
   ],
   "source": [
    "improve_rank_df.loc[cadrres_output_dict['obs_train_df'].columns.astype(int)].sort_values('mae_increase_rank')"
   ]
  },
  {
   "cell_type": "code",
   "execution_count": 441,
   "metadata": {},
   "outputs": [],
   "source": [
    "drug_id = '201'"
   ]
  },
  {
   "cell_type": "code",
   "execution_count": 442,
   "metadata": {},
   "outputs": [
    {
     "data": {
      "text/plain": [
       "Drug Name                                         Epothilone B\n",
       "Synonyms                  Patupilone, EpoB, EPO906, GNF-PF-193\n",
       "Target                                  Microtubule stabiliser\n",
       "Target Pathway                                         Mitosis\n",
       "Selleckchem Cat#                                         S1364\n",
       "CAS number                                         152044-54-7\n",
       "PubCHEM                                                 448013\n",
       "Others                                                     NaN\n",
       "entropy                                                    4.1\n",
       "max_conc                                                 0.032\n",
       "log2_max_conc                                               -5\n",
       "num_cl                                                     931\n",
       "num_cl_hn                                                   42\n",
       "log2_median_ic50                                          -7.3\n",
       "median_ic50                                             0.0065\n",
       "median_ic50_3f                                          0.0022\n",
       "log2_median_ic50_3f                                       -8.9\n",
       "median_ic50_9f                                         0.00072\n",
       "log2_median_ic50_9f                                        -10\n",
       "log2_median_ic50_hn                                       -8.5\n",
       "median_ic50_hn                                          0.0027\n",
       "median_ic50_3f_hn                                      0.00091\n",
       "log2_median_ic50_3f_hn                                     -10\n",
       "median_ic50_9f_hn                                       0.0003\n",
       "log2_median_ic50_9f_hn                                     -12\n",
       "num_sensitive                                              699\n",
       "num_sensitive_hn                                            31\n",
       "Name: 201, dtype: object"
      ]
     },
     "execution_count": 442,
     "metadata": {},
     "output_type": "execute_result"
    }
   ],
   "source": [
    "gdsc_drug_df.loc[drug_id]"
   ]
  },
  {
   "cell_type": "code",
   "execution_count": 443,
   "metadata": {},
   "outputs": [
    {
     "name": "stdout",
     "output_type": "stream",
     "text": [
      "0.640559199361471 6.985058847117078e-102\n"
     ]
    }
   ],
   "source": [
    "x_all = np.array(cadrres_output_dict['obs_train_df'][[drug_id]]).flatten()\n",
    "y_all = np.array(cadrres_output_dict['pred_train_df'][[drug_id]]).flatten()\n",
    "scor_all, pval_all = stats.spearmanr(x_all[~np.isnan(x_all)], y_all[~np.isnan(x_all)])\n",
    "print (scor_all, pval_all)"
   ]
  },
  {
   "cell_type": "code",
   "execution_count": 444,
   "metadata": {},
   "outputs": [],
   "source": [
    "x = np.array(cadrres_output_dict['obs_train_df'].loc[gdsc_hn_sample_list, drug_id]).flatten()\n",
    "y = np.array(cadrres_output_dict['pred_train_df'].loc[gdsc_hn_sample_list, drug_id]).flatten()"
   ]
  },
  {
   "cell_type": "code",
   "execution_count": 448,
   "metadata": {},
   "outputs": [
    {
     "data": {
      "image/png": "[encoded data removed]",
      "text/plain": [
       "<Figure size 360x288 with 1 Axes>"
      ]
     },
     "metadata": {},
     "output_type": "display_data"
    }
   ],
   "source": [
    "sns.set(font_scale=1.25, style='white')\n",
    "fig, ax = plt.subplots(figsize=(5, 4))\n",
    "\n",
    "\n",
    "ax.scatter(x_all[~np.isnan(x_all)], y_all[~np.isnan(x_all)], s=20, color='black', linewidth=0, alpha=0.5, label='All')\n",
    "# ax.scatter(x[~np.isnan(x)], y[~np.isnan(x)], color='orange', linewidth=0, s=25, alpha=0.8, label='Head and neck')\n",
    "# ax.axvline(x=gdsc_drug_df.loc[drug_id, 'log2_max_conc'])\n",
    "\n",
    "ax.set_xlabel(r'Observed $log_2(IC_{50})$')\n",
    "ax.set_ylabel(r'Predicted $log_2(IC_{50})$')\n",
    "\n",
    "margin = 1\n",
    "min_val = np.nanmin(np.concatenate([x_all, y_all]))-margin\n",
    "max_val = np.nanmax(np.concatenate([x_all, y_all]))+margin\n",
    "\n",
    "ax.plot([min_val-margin, max_val+margin], [min_val-margin, max_val+margin], ls=\"--\", c=\".3\")\n",
    "\n",
    "max_conc = gdsc_drug_df.loc[drug_id, 'log2_max_conc']\n",
    "# rect = patches.Rectangle((min_val, min_val), np.abs(min_val-max_conc) ,np.abs(min_val-max_conc),linewidth=0,edgecolor='green',facecolor='lightblue', hatch='///', alpha=0.2)\n",
    "rect = patches.Rectangle((min_val, min_val), np.abs(min_val-max_conc) ,np.abs(min_val-max_conc),linewidth=0,edgecolor='lightblue',facecolor='lightblue', alpha=0.5, zorder=0)\n",
    "ax.add_patch(rect)\n",
    "\n",
    "plt.xlim((min_val, max_val))\n",
    "plt.ylim((min_val, max_val-12))\n",
    "# plt.ylim((-y_size, y_size))\n",
    "\n",
    "plt.tight_layout()\n",
    "\n",
    "plt.rcParams['legend.title_fontsize'] = 14\n",
    "# plt.legend(fontsize=14, handletextpad=0.03, title=\"Afatinib (ERBB2)\")\n",
    "\n",
    "sns.despine()\n",
    "plt.savefig('../figure/Figure3C.svg')"
   ]
  },
  {
   "cell_type": "code",
   "execution_count": null,
   "metadata": {},
   "outputs": [],
   "source": []
  },
  {
   "cell_type": "code",
   "execution_count": null,
   "metadata": {},
   "outputs": [],
   "source": []
  }
 ],
 "metadata": {
  "kernelspec": {
   "display_name": "Python 3",
   "language": "python",
   "name": "python3"
  },
  "language_info": {
   "codemirror_mode": {
    "name": "ipython",
    "version": 3
   },
   "file_extension": ".py",
   "mimetype": "text/x-python",
   "name": "python",
   "nbconvert_exporter": "python",
   "pygments_lexer": "ipython3",
   "version": "3.7.4"
  },
  "toc": {
   "base_numbering": 1,
   "nav_menu": {},
   "number_sections": false,
   "sideBar": true,
   "skip_h1_title": false,
   "title_cell": "Table of Contents",
   "title_sidebar": "Contents",
   "toc_cell": false,
   "toc_position": {},
   "toc_section_display": true,
   "toc_window_display": false
  }
 },
 "nbformat": 4,
 "nbformat_minor": 2
}
