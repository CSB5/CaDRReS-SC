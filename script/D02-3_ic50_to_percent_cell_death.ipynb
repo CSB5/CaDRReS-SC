{
 "cells": [
  {
   "cell_type": "code",
   "execution_count": 1,
   "metadata": {
    "ExecuteTime": {
     "end_time": "2020-04-23T03:29:44.194246Z",
     "start_time": "2020-04-23T03:29:43.457916Z"
    }
   },
   "outputs": [],
   "source": [
    "import os\n",
    "import pandas as pd\n",
    "import numpy as np\n",
    "np.set_printoptions(precision=2)\n",
    "\n",
    "import matplotlib.pyplot as plt\n",
    "import seaborn as sns\n",
    "from scipy import stats\n",
    "from collections import Counter\n",
    "\n",
    "sns.set_style('ticks')\n",
    "\n",
    "%matplotlib inline\n",
    "import warnings\n",
    "warnings.filterwarnings('ignore')\n",
    "import matplotlib as mpl\n",
    "mpl.rcParams['figure.dpi']= 300\n",
    "mpl.rc(\"savefig\", dpi=300)"
   ]
  },
  {
   "cell_type": "markdown",
   "metadata": {},
   "source": [
    "##### Read files and select drugs"
   ]
  },
  {
   "cell_type": "code",
   "execution_count": 2,
   "metadata": {
    "ExecuteTime": {
     "end_time": "2020-04-23T03:29:44.200506Z",
     "start_time": "2020-04-23T03:29:44.196481Z"
    }
   },
   "outputs": [],
   "source": [
    "# log2_median_ic50, log2_median_ic50_9f, log2_median_ic50_hn, log2_median_ic50_3f_hn, log2_median_ic50_9f_hn, log2_max_conc, log2_median_ic50_3f_hn\n",
    "ref_type = 'log2_median_ic50_hn' # log2_median_ic50_3f_hn | log2_median_ic50_hn\n",
    "model_name = 'hn_drug_cw_dw10_100000_model' # hn_drug_cw_dw10_100000_model | hn_drug_cw_dw1_100000_model | hn_drug_cw_dwsim10_100000_model\n",
    "\n",
    "# for each patient, if cell cluster is less than 5%, then we don't consider that cluster \n",
    "freq_cutoff = 0.05\n",
    "\n",
    "# shift the dosage as GDSC experiment (Syto60) is less sensitive\n",
    "dosage_shifted = False"
   ]
  },
  {
   "cell_type": "code",
   "execution_count": 3,
   "metadata": {
    "ExecuteTime": {
     "end_time": "2020-04-23T03:29:45.266853Z",
     "start_time": "2020-04-23T03:29:45.255541Z"
    }
   },
   "outputs": [
    {
     "name": "stdout",
     "output_type": "stream",
     "text": [
      "(81, 27)\n"
     ]
    }
   ],
   "source": [
    "drug_info_df = pd.read_csv('../preprocessed_data/GDSC/hn_drug_stat.csv', index_col=0)\n",
    "drug_info_df.index = drug_info_df.index.astype(str)\n",
    "\n",
    "drug_id_name_dict = dict(zip(drug_info_df.index, drug_info_df['Drug Name']))\n",
    "print (drug_info_df.shape)"
   ]
  },
  {
   "cell_type": "code",
   "execution_count": 4,
   "metadata": {
    "ExecuteTime": {
     "end_time": "2020-04-23T03:29:45.996258Z",
     "start_time": "2020-04-23T03:29:45.987521Z"
    }
   },
   "outputs": [
    {
     "data": {
      "text/plain": [
       "[]"
      ]
     },
     "execution_count": 4,
     "metadata": {},
     "output_type": "execute_result"
    }
   ],
   "source": [
    "tested_drug_list = [1032, 1007, 133, 201, 1010] + [182, 301, 302]\n",
    "[d for d in tested_drug_list if d not in drug_info_df.index.astype(int)]"
   ]
  },
  {
   "cell_type": "markdown",
   "metadata": {},
   "source": [
    "##### Read predicted IC50"
   ]
  },
  {
   "cell_type": "code",
   "execution_count": 5,
   "metadata": {
    "ExecuteTime": {
     "end_time": "2020-04-23T03:29:46.832498Z",
     "start_time": "2020-04-23T03:29:46.829801Z"
    }
   },
   "outputs": [],
   "source": [
    "norm_type = 'TPM'"
   ]
  },
  {
   "cell_type": "code",
   "execution_count": 6,
   "metadata": {
    "ExecuteTime": {
     "end_time": "2020-04-23T03:29:51.433355Z",
     "start_time": "2020-04-23T03:29:51.422017Z"
    }
   },
   "outputs": [],
   "source": [
    "cadrres_cluster_df = pd.read_csv('../result/HN_model/{}/pred_gdsc_no_bias_{}.csv'.format(norm_type, model_name), index_col=0)\n",
    "out_dir = '../result/HN_model/{}/'.format(norm_type)"
   ]
  },
  {
   "cell_type": "code",
   "execution_count": 7,
   "metadata": {
    "ExecuteTime": {
     "end_time": "2020-04-23T03:29:51.459517Z",
     "start_time": "2020-04-23T03:29:51.435067Z"
    }
   },
   "outputs": [
    {
     "data": {
      "text/html": [
       "<div>\n",
       "<style scoped>\n",
       "    .dataframe tbody tr th:only-of-type {\n",
       "        vertical-align: middle;\n",
       "    }\n",
       "\n",
       "    .dataframe tbody tr th {\n",
       "        vertical-align: top;\n",
       "    }\n",
       "\n",
       "    .dataframe thead th {\n",
       "        text-align: right;\n",
       "    }\n",
       "</style>\n",
       "<table border=\"1\" class=\"dataframe\">\n",
       "  <thead>\n",
       "    <tr style=\"text-align: right;\">\n",
       "      <th></th>\n",
       "      <th>1001</th>\n",
       "      <th>1003</th>\n",
       "      <th>1004</th>\n",
       "      <th>1006</th>\n",
       "      <th>1007</th>\n",
       "      <th>1010</th>\n",
       "      <th>1012</th>\n",
       "      <th>1014</th>\n",
       "      <th>1015</th>\n",
       "      <th>1016</th>\n",
       "      <th>...</th>\n",
       "      <th>299</th>\n",
       "      <th>301</th>\n",
       "      <th>302</th>\n",
       "      <th>303</th>\n",
       "      <th>305</th>\n",
       "      <th>306</th>\n",
       "      <th>308</th>\n",
       "      <th>328</th>\n",
       "      <th>331</th>\n",
       "      <th>346</th>\n",
       "    </tr>\n",
       "  </thead>\n",
       "  <tbody>\n",
       "    <tr>\n",
       "      <th>A1</th>\n",
       "      <td>10.398524</td>\n",
       "      <td>-4.984888</td>\n",
       "      <td>-6.042325</td>\n",
       "      <td>0.982309</td>\n",
       "      <td>-6.936394</td>\n",
       "      <td>-0.012527</td>\n",
       "      <td>0.738146</td>\n",
       "      <td>2.654245</td>\n",
       "      <td>3.533897</td>\n",
       "      <td>-1.852266</td>\n",
       "      <td>...</td>\n",
       "      <td>0.565490</td>\n",
       "      <td>2.476670</td>\n",
       "      <td>0.206201</td>\n",
       "      <td>3.186974</td>\n",
       "      <td>3.689912</td>\n",
       "      <td>2.494804</td>\n",
       "      <td>-0.697373</td>\n",
       "      <td>-1.430192</td>\n",
       "      <td>1.614384</td>\n",
       "      <td>-3.958066</td>\n",
       "    </tr>\n",
       "    <tr>\n",
       "      <th>A2</th>\n",
       "      <td>9.961491</td>\n",
       "      <td>-6.814161</td>\n",
       "      <td>-7.065584</td>\n",
       "      <td>-0.291026</td>\n",
       "      <td>-7.484753</td>\n",
       "      <td>0.024981</td>\n",
       "      <td>0.003014</td>\n",
       "      <td>2.133796</td>\n",
       "      <td>2.968269</td>\n",
       "      <td>-2.287011</td>\n",
       "      <td>...</td>\n",
       "      <td>0.527419</td>\n",
       "      <td>2.163049</td>\n",
       "      <td>0.405491</td>\n",
       "      <td>2.869054</td>\n",
       "      <td>3.224147</td>\n",
       "      <td>2.274660</td>\n",
       "      <td>-1.156717</td>\n",
       "      <td>-2.388423</td>\n",
       "      <td>1.395083</td>\n",
       "      <td>-4.555484</td>\n",
       "    </tr>\n",
       "    <tr>\n",
       "      <th>B1</th>\n",
       "      <td>11.021523</td>\n",
       "      <td>-4.749574</td>\n",
       "      <td>-5.249366</td>\n",
       "      <td>1.578844</td>\n",
       "      <td>-6.232563</td>\n",
       "      <td>1.137422</td>\n",
       "      <td>1.965151</td>\n",
       "      <td>3.356530</td>\n",
       "      <td>4.349608</td>\n",
       "      <td>-1.453384</td>\n",
       "      <td>...</td>\n",
       "      <td>1.288136</td>\n",
       "      <td>2.588025</td>\n",
       "      <td>0.801405</td>\n",
       "      <td>3.884401</td>\n",
       "      <td>4.243734</td>\n",
       "      <td>2.818478</td>\n",
       "      <td>1.648026</td>\n",
       "      <td>0.313913</td>\n",
       "      <td>1.946526</td>\n",
       "      <td>-1.245332</td>\n",
       "    </tr>\n",
       "    <tr>\n",
       "      <th>B2</th>\n",
       "      <td>10.646173</td>\n",
       "      <td>-5.557965</td>\n",
       "      <td>-6.364599</td>\n",
       "      <td>0.922382</td>\n",
       "      <td>-7.028233</td>\n",
       "      <td>0.893498</td>\n",
       "      <td>1.615433</td>\n",
       "      <td>3.193993</td>\n",
       "      <td>4.282648</td>\n",
       "      <td>-1.901858</td>\n",
       "      <td>...</td>\n",
       "      <td>0.927751</td>\n",
       "      <td>2.224915</td>\n",
       "      <td>0.364318</td>\n",
       "      <td>3.613059</td>\n",
       "      <td>3.819349</td>\n",
       "      <td>2.404219</td>\n",
       "      <td>1.087065</td>\n",
       "      <td>-0.610679</td>\n",
       "      <td>1.703348</td>\n",
       "      <td>-1.995978</td>\n",
       "    </tr>\n",
       "    <tr>\n",
       "      <th>C1</th>\n",
       "      <td>10.631363</td>\n",
       "      <td>-6.009131</td>\n",
       "      <td>-4.887686</td>\n",
       "      <td>0.626853</td>\n",
       "      <td>-6.369420</td>\n",
       "      <td>0.417760</td>\n",
       "      <td>0.994489</td>\n",
       "      <td>2.138591</td>\n",
       "      <td>2.940815</td>\n",
       "      <td>-1.298257</td>\n",
       "      <td>...</td>\n",
       "      <td>1.860736</td>\n",
       "      <td>2.955682</td>\n",
       "      <td>1.631775</td>\n",
       "      <td>3.751298</td>\n",
       "      <td>4.231162</td>\n",
       "      <td>3.029577</td>\n",
       "      <td>0.037301</td>\n",
       "      <td>-1.023775</td>\n",
       "      <td>2.103131</td>\n",
       "      <td>-2.568724</td>\n",
       "    </tr>\n",
       "  </tbody>\n",
       "</table>\n",
       "<p>5 rows × 81 columns</p>\n",
       "</div>"
      ],
      "text/plain": [
       "         1001      1003      1004      1006      1007      1010      1012  \\\n",
       "A1  10.398524 -4.984888 -6.042325  0.982309 -6.936394 -0.012527  0.738146   \n",
       "A2   9.961491 -6.814161 -7.065584 -0.291026 -7.484753  0.024981  0.003014   \n",
       "B1  11.021523 -4.749574 -5.249366  1.578844 -6.232563  1.137422  1.965151   \n",
       "B2  10.646173 -5.557965 -6.364599  0.922382 -7.028233  0.893498  1.615433   \n",
       "C1  10.631363 -6.009131 -4.887686  0.626853 -6.369420  0.417760  0.994489   \n",
       "\n",
       "        1014      1015      1016  ...       299       301       302       303  \\\n",
       "A1  2.654245  3.533897 -1.852266  ...  0.565490  2.476670  0.206201  3.186974   \n",
       "A2  2.133796  2.968269 -2.287011  ...  0.527419  2.163049  0.405491  2.869054   \n",
       "B1  3.356530  4.349608 -1.453384  ...  1.288136  2.588025  0.801405  3.884401   \n",
       "B2  3.193993  4.282648 -1.901858  ...  0.927751  2.224915  0.364318  3.613059   \n",
       "C1  2.138591  2.940815 -1.298257  ...  1.860736  2.955682  1.631775  3.751298   \n",
       "\n",
       "         305       306       308       328       331       346  \n",
       "A1  3.689912  2.494804 -0.697373 -1.430192  1.614384 -3.958066  \n",
       "A2  3.224147  2.274660 -1.156717 -2.388423  1.395083 -4.555484  \n",
       "B1  4.243734  2.818478  1.648026  0.313913  1.946526 -1.245332  \n",
       "B2  3.819349  2.404219  1.087065 -0.610679  1.703348 -1.995978  \n",
       "C1  4.231162  3.029577  0.037301 -1.023775  2.103131 -2.568724  \n",
       "\n",
       "[5 rows x 81 columns]"
      ]
     },
     "execution_count": 7,
     "metadata": {},
     "output_type": "execute_result"
    }
   ],
   "source": [
    "cadrres_cluster_df.head()"
   ]
  },
  {
   "cell_type": "code",
   "execution_count": 8,
   "metadata": {
    "ExecuteTime": {
     "end_time": "2020-04-23T03:29:51.556572Z",
     "start_time": "2020-04-23T03:29:51.549757Z"
    }
   },
   "outputs": [
    {
     "name": "stdout",
     "output_type": "stream",
     "text": [
      "81 24\n"
     ]
    }
   ],
   "source": [
    "drug_list = drug_info_df.index\n",
    "cluster_list = cadrres_cluster_df.index\n",
    "print(len(drug_list), len(cluster_list))\n",
    "\n",
    "drug_info_df = drug_info_df.loc[drug_list]\n",
    "cadrres_cluster_df = cadrres_cluster_df[drug_list]"
   ]
  },
  {
   "cell_type": "code",
   "execution_count": 9,
   "metadata": {
    "ExecuteTime": {
     "end_time": "2020-04-23T03:29:51.692589Z",
     "start_time": "2020-04-23T03:29:51.689777Z"
    }
   },
   "outputs": [],
   "source": [
    "if dosage_shifted:\n",
    "    # Shift by 4 uM\n",
    "    cadrres_cluster_df = cadrres_cluster_df - 2"
   ]
  },
  {
   "cell_type": "markdown",
   "metadata": {},
   "source": [
    "##### Read cell cluster % in each patient"
   ]
  },
  {
   "cell_type": "code",
   "execution_count": 10,
   "metadata": {
    "ExecuteTime": {
     "end_time": "2020-04-23T03:29:52.299173Z",
     "start_time": "2020-04-23T03:29:52.243762Z"
    }
   },
   "outputs": [
    {
     "data": {
      "text/html": [
       "<div>\n",
       "<style scoped>\n",
       "    .dataframe tbody tr th:only-of-type {\n",
       "        vertical-align: middle;\n",
       "    }\n",
       "\n",
       "    .dataframe tbody tr th {\n",
       "        vertical-align: top;\n",
       "    }\n",
       "\n",
       "    .dataframe thead th {\n",
       "        text-align: right;\n",
       "    }\n",
       "</style>\n",
       "<table border=\"1\" class=\"dataframe\">\n",
       "  <thead>\n",
       "    <tr style=\"text-align: right;\">\n",
       "      <th>cluster</th>\n",
       "      <th>A1</th>\n",
       "      <th>A2</th>\n",
       "      <th>B1</th>\n",
       "      <th>B2</th>\n",
       "      <th>C1</th>\n",
       "      <th>C2</th>\n",
       "      <th>D1</th>\n",
       "      <th>D2</th>\n",
       "      <th>E1</th>\n",
       "      <th>E2</th>\n",
       "      <th>...</th>\n",
       "      <th>F3</th>\n",
       "      <th>G1</th>\n",
       "      <th>G2</th>\n",
       "      <th>H1</th>\n",
       "      <th>I1</th>\n",
       "      <th>I2</th>\n",
       "      <th>J1</th>\n",
       "      <th>J2</th>\n",
       "      <th>K1</th>\n",
       "      <th>L</th>\n",
       "    </tr>\n",
       "    <tr>\n",
       "      <th>patient_id</th>\n",
       "      <th></th>\n",
       "      <th></th>\n",
       "      <th></th>\n",
       "      <th></th>\n",
       "      <th></th>\n",
       "      <th></th>\n",
       "      <th></th>\n",
       "      <th></th>\n",
       "      <th></th>\n",
       "      <th></th>\n",
       "      <th></th>\n",
       "      <th></th>\n",
       "      <th></th>\n",
       "      <th></th>\n",
       "      <th></th>\n",
       "      <th></th>\n",
       "      <th></th>\n",
       "      <th></th>\n",
       "      <th></th>\n",
       "      <th></th>\n",
       "      <th></th>\n",
       "    </tr>\n",
       "  </thead>\n",
       "  <tbody>\n",
       "    <tr>\n",
       "      <th>HN120</th>\n",
       "      <td>0.010989</td>\n",
       "      <td>0.005495</td>\n",
       "      <td>0.000000</td>\n",
       "      <td>0.000000</td>\n",
       "      <td>0.000000</td>\n",
       "      <td>0.000000</td>\n",
       "      <td>0.313187</td>\n",
       "      <td>0.175824</td>\n",
       "      <td>0.000000</td>\n",
       "      <td>0.000000</td>\n",
       "      <td>...</td>\n",
       "      <td>0.000000</td>\n",
       "      <td>0.340659</td>\n",
       "      <td>0.120879</td>\n",
       "      <td>0.000000</td>\n",
       "      <td>0.000000</td>\n",
       "      <td>0.000000</td>\n",
       "      <td>0.0</td>\n",
       "      <td>0.0</td>\n",
       "      <td>0.00000</td>\n",
       "      <td>0.032967</td>\n",
       "    </tr>\n",
       "    <tr>\n",
       "      <th>HN137</th>\n",
       "      <td>0.000000</td>\n",
       "      <td>0.000000</td>\n",
       "      <td>0.000000</td>\n",
       "      <td>0.000000</td>\n",
       "      <td>0.000000</td>\n",
       "      <td>0.000000</td>\n",
       "      <td>0.005682</td>\n",
       "      <td>0.000000</td>\n",
       "      <td>0.340909</td>\n",
       "      <td>0.085227</td>\n",
       "      <td>...</td>\n",
       "      <td>0.096591</td>\n",
       "      <td>0.000000</td>\n",
       "      <td>0.000000</td>\n",
       "      <td>0.000000</td>\n",
       "      <td>0.000000</td>\n",
       "      <td>0.000000</td>\n",
       "      <td>0.0</td>\n",
       "      <td>0.0</td>\n",
       "      <td>0.00000</td>\n",
       "      <td>0.011364</td>\n",
       "    </tr>\n",
       "    <tr>\n",
       "      <th>HN148</th>\n",
       "      <td>0.000000</td>\n",
       "      <td>0.000000</td>\n",
       "      <td>0.000000</td>\n",
       "      <td>0.000000</td>\n",
       "      <td>0.313514</td>\n",
       "      <td>0.205405</td>\n",
       "      <td>0.000000</td>\n",
       "      <td>0.000000</td>\n",
       "      <td>0.000000</td>\n",
       "      <td>0.000000</td>\n",
       "      <td>...</td>\n",
       "      <td>0.000000</td>\n",
       "      <td>0.000000</td>\n",
       "      <td>0.000000</td>\n",
       "      <td>0.459459</td>\n",
       "      <td>0.000000</td>\n",
       "      <td>0.000000</td>\n",
       "      <td>0.0</td>\n",
       "      <td>0.0</td>\n",
       "      <td>0.00000</td>\n",
       "      <td>0.021622</td>\n",
       "    </tr>\n",
       "    <tr>\n",
       "      <th>HN159</th>\n",
       "      <td>0.000000</td>\n",
       "      <td>0.000000</td>\n",
       "      <td>0.000000</td>\n",
       "      <td>0.000000</td>\n",
       "      <td>0.000000</td>\n",
       "      <td>0.000000</td>\n",
       "      <td>0.000000</td>\n",
       "      <td>0.000000</td>\n",
       "      <td>0.000000</td>\n",
       "      <td>0.000000</td>\n",
       "      <td>...</td>\n",
       "      <td>0.000000</td>\n",
       "      <td>0.000000</td>\n",
       "      <td>0.000000</td>\n",
       "      <td>0.000000</td>\n",
       "      <td>0.317365</td>\n",
       "      <td>0.185629</td>\n",
       "      <td>0.0</td>\n",
       "      <td>0.0</td>\n",
       "      <td>0.48503</td>\n",
       "      <td>0.011976</td>\n",
       "    </tr>\n",
       "    <tr>\n",
       "      <th>HN160</th>\n",
       "      <td>0.000000</td>\n",
       "      <td>0.000000</td>\n",
       "      <td>0.422222</td>\n",
       "      <td>0.414815</td>\n",
       "      <td>0.000000</td>\n",
       "      <td>0.000000</td>\n",
       "      <td>0.000000</td>\n",
       "      <td>0.000000</td>\n",
       "      <td>0.000000</td>\n",
       "      <td>0.000000</td>\n",
       "      <td>...</td>\n",
       "      <td>0.000000</td>\n",
       "      <td>0.000000</td>\n",
       "      <td>0.000000</td>\n",
       "      <td>0.000000</td>\n",
       "      <td>0.000000</td>\n",
       "      <td>0.000000</td>\n",
       "      <td>0.0</td>\n",
       "      <td>0.0</td>\n",
       "      <td>0.00000</td>\n",
       "      <td>0.162963</td>\n",
       "    </tr>\n",
       "  </tbody>\n",
       "</table>\n",
       "<p>5 rows × 23 columns</p>\n",
       "</div>"
      ],
      "text/plain": [
       "cluster           A1        A2        B1        B2        C1        C2  \\\n",
       "patient_id                                                               \n",
       "HN120       0.010989  0.005495  0.000000  0.000000  0.000000  0.000000   \n",
       "HN137       0.000000  0.000000  0.000000  0.000000  0.000000  0.000000   \n",
       "HN148       0.000000  0.000000  0.000000  0.000000  0.313514  0.205405   \n",
       "HN159       0.000000  0.000000  0.000000  0.000000  0.000000  0.000000   \n",
       "HN160       0.000000  0.000000  0.422222  0.414815  0.000000  0.000000   \n",
       "\n",
       "cluster           D1        D2        E1        E2  ...        F3        G1  \\\n",
       "patient_id                                          ...                       \n",
       "HN120       0.313187  0.175824  0.000000  0.000000  ...  0.000000  0.340659   \n",
       "HN137       0.005682  0.000000  0.340909  0.085227  ...  0.096591  0.000000   \n",
       "HN148       0.000000  0.000000  0.000000  0.000000  ...  0.000000  0.000000   \n",
       "HN159       0.000000  0.000000  0.000000  0.000000  ...  0.000000  0.000000   \n",
       "HN160       0.000000  0.000000  0.000000  0.000000  ...  0.000000  0.000000   \n",
       "\n",
       "cluster           G2        H1        I1        I2   J1   J2       K1  \\\n",
       "patient_id                                                              \n",
       "HN120       0.120879  0.000000  0.000000  0.000000  0.0  0.0  0.00000   \n",
       "HN137       0.000000  0.000000  0.000000  0.000000  0.0  0.0  0.00000   \n",
       "HN148       0.000000  0.459459  0.000000  0.000000  0.0  0.0  0.00000   \n",
       "HN159       0.000000  0.000000  0.317365  0.185629  0.0  0.0  0.48503   \n",
       "HN160       0.000000  0.000000  0.000000  0.000000  0.0  0.0  0.00000   \n",
       "\n",
       "cluster            L  \n",
       "patient_id            \n",
       "HN120       0.032967  \n",
       "HN137       0.011364  \n",
       "HN148       0.021622  \n",
       "HN159       0.011976  \n",
       "HN160       0.162963  \n",
       "\n",
       "[5 rows x 23 columns]"
      ]
     },
     "execution_count": 10,
     "metadata": {},
     "output_type": "execute_result"
    }
   ],
   "source": [
    "freq_df = pd.read_excel('../preprocessed_data/HN_patient_specific/percent_patient_tpm_cluster.xlsx', index_col=[0, 1]).reset_index()\n",
    "freq_df = freq_df.pivot(index='patient_id', columns='cluster', values='percent').fillna(0) / 100\n",
    "\n",
    "patient_list = freq_df.index\n",
    "\n",
    "freq_df.head()"
   ]
  },
  {
   "cell_type": "markdown",
   "metadata": {},
   "source": [
    "##### List all pairs of patient and drug"
   ]
  },
  {
   "cell_type": "code",
   "execution_count": 11,
   "metadata": {
    "ExecuteTime": {
     "end_time": "2020-04-23T03:29:52.416028Z",
     "start_time": "2020-04-23T03:29:52.301085Z"
    },
    "code_folding": []
   },
   "outputs": [],
   "source": [
    "pred_delta_df = pd.DataFrame(cadrres_cluster_df.values - drug_info_df[ref_type].values, columns=drug_list, index=cluster_list)\n",
    "pred_cv_df = 100 / (1 + (np.power(2, -pred_delta_df)))\n",
    "pred_kill_df = 100 - pred_cv_df\n",
    "\n",
    "rows = []\n",
    "for p in patient_list:\n",
    "    c_list = freq_df.loc[p][freq_df.loc[p] >= freq_cutoff].index.values\n",
    "    freqs = freq_df.loc[p][freq_df.loc[p] >= freq_cutoff].values\n",
    "\n",
    "    ##### freq sum to 1 (not in use) #####\n",
    "    # freqs = freqs / np.sum(freqs)\n",
    "\n",
    "    p_pred_delta_weighted = np.matmul(pred_delta_df.loc[c_list].values.T, freqs)\n",
    "    p_pred_delta_mat = pred_delta_df.loc[c_list].values\n",
    "    \n",
    "    p_pred_kill_weighted = np.matmul(pred_kill_df.loc[c_list].values.T, freqs)\n",
    "    p_pred_kill_mat = pred_kill_df.loc[c_list].values\n",
    "\n",
    "    for d_i, d_id in enumerate(drug_list):\n",
    "        rows += [[p, d_id] + ['|'.join(c_list)] + ['|'.join([\"{:.14}\".format(f) for f in freqs])] + \n",
    "                 ['|'.join([\"{:.14}\".format(f) for f in p_pred_delta_mat[:, d_i]])] + \n",
    "                 [\"{:.14}\".format(p_pred_delta_weighted[d_i])] +\n",
    "                 ['|'.join([\"{:.14}\".format(f) for f in p_pred_kill_mat[:, d_i]])] + \n",
    "                 [\"{:.14}\".format(p_pred_kill_weighted[d_i])]\n",
    "                ]"
   ]
  },
  {
   "cell_type": "code",
   "execution_count": 12,
   "metadata": {
    "ExecuteTime": {
     "end_time": "2020-04-23T03:29:54.349091Z",
     "start_time": "2020-04-23T03:29:54.333706Z"
    }
   },
   "outputs": [
    {
     "data": {
      "text/html": [
       "<div>\n",
       "<style scoped>\n",
       "    .dataframe tbody tr th:only-of-type {\n",
       "        vertical-align: middle;\n",
       "    }\n",
       "\n",
       "    .dataframe tbody tr th {\n",
       "        vertical-align: top;\n",
       "    }\n",
       "\n",
       "    .dataframe thead th {\n",
       "        text-align: right;\n",
       "    }\n",
       "</style>\n",
       "<table border=\"1\" class=\"dataframe\">\n",
       "  <thead>\n",
       "    <tr style=\"text-align: right;\">\n",
       "      <th></th>\n",
       "      <th>patient</th>\n",
       "      <th>drug_id</th>\n",
       "      <th>cluster</th>\n",
       "      <th>cluster_p</th>\n",
       "      <th>cluster_delta</th>\n",
       "      <th>delta</th>\n",
       "      <th>cluster_kill</th>\n",
       "      <th>kill</th>\n",
       "    </tr>\n",
       "  </thead>\n",
       "  <tbody>\n",
       "    <tr>\n",
       "      <th>0</th>\n",
       "      <td>HN120</td>\n",
       "      <td>1001</td>\n",
       "      <td>D1|D2|G1|G2</td>\n",
       "      <td>0.31318681318681|0.17582417582418|0.3406593406...</td>\n",
       "      <td>0.89891787646367|0.7950907549512|0.74073149856...</td>\n",
       "      <td>0.76608828181776</td>\n",
       "      <td>34.908073458363|36.560577887311|37.43884047451...</td>\n",
       "      <td>34.593677608186</td>\n",
       "    </tr>\n",
       "    <tr>\n",
       "      <th>1</th>\n",
       "      <td>HN120</td>\n",
       "      <td>1003</td>\n",
       "      <td>D1|D2|G1|G2</td>\n",
       "      <td>0.31318681318681|0.17582417582418|0.3406593406...</td>\n",
       "      <td>0.98686783677045|1.0705926967102|1.51153962438...</td>\n",
       "      <td>1.1697813179586</td>\n",
       "      <td>33.535917537247|32.254984202963|25.96632734701...</td>\n",
       "      <td>28.505381464623</td>\n",
       "    </tr>\n",
       "    <tr>\n",
       "      <th>2</th>\n",
       "      <td>HN120</td>\n",
       "      <td>1004</td>\n",
       "      <td>D1|D2|G1|G2</td>\n",
       "      <td>0.31318681318681|0.17582417582418|0.3406593406...</td>\n",
       "      <td>1.2280740256921|1.0045035858118|1.542851524626...</td>\n",
       "      <td>1.2676836647428</td>\n",
       "      <td>29.917363245775|33.263999510979|25.55127940412...</td>\n",
       "      <td>27.086112378265</td>\n",
       "    </tr>\n",
       "    <tr>\n",
       "      <th>3</th>\n",
       "      <td>HN120</td>\n",
       "      <td>1006</td>\n",
       "      <td>D1|D2|G1|G2</td>\n",
       "      <td>0.31318681318681|0.17582417582418|0.3406593406...</td>\n",
       "      <td>0.78745659587899|0.90971502511471|1.8838663034...</td>\n",
       "      <td>1.2245948422257</td>\n",
       "      <td>36.683397262759|34.738211834014|21.31910722766...</td>\n",
       "      <td>28.084570239709</td>\n",
       "    </tr>\n",
       "    <tr>\n",
       "      <th>4</th>\n",
       "      <td>HN120</td>\n",
       "      <td>1007</td>\n",
       "      <td>D1|D2|G1|G2</td>\n",
       "      <td>0.31318681318681|0.17582417582418|0.3406593406...</td>\n",
       "      <td>3.0508057471845|2.68344052681|4.0167768343325|...</td>\n",
       "      <td>3.2576613093829</td>\n",
       "      <td>10.768034058802|13.470080993016|5.818301286009...</td>\n",
       "      <td>8.5209921135827</td>\n",
       "    </tr>\n",
       "  </tbody>\n",
       "</table>\n",
       "</div>"
      ],
      "text/plain": [
       "  patient drug_id      cluster  \\\n",
       "0   HN120    1001  D1|D2|G1|G2   \n",
       "1   HN120    1003  D1|D2|G1|G2   \n",
       "2   HN120    1004  D1|D2|G1|G2   \n",
       "3   HN120    1006  D1|D2|G1|G2   \n",
       "4   HN120    1007  D1|D2|G1|G2   \n",
       "\n",
       "                                           cluster_p  \\\n",
       "0  0.31318681318681|0.17582417582418|0.3406593406...   \n",
       "1  0.31318681318681|0.17582417582418|0.3406593406...   \n",
       "2  0.31318681318681|0.17582417582418|0.3406593406...   \n",
       "3  0.31318681318681|0.17582417582418|0.3406593406...   \n",
       "4  0.31318681318681|0.17582417582418|0.3406593406...   \n",
       "\n",
       "                                       cluster_delta             delta  \\\n",
       "0  0.89891787646367|0.7950907549512|0.74073149856...  0.76608828181776   \n",
       "1  0.98686783677045|1.0705926967102|1.51153962438...   1.1697813179586   \n",
       "2  1.2280740256921|1.0045035858118|1.542851524626...   1.2676836647428   \n",
       "3  0.78745659587899|0.90971502511471|1.8838663034...   1.2245948422257   \n",
       "4  3.0508057471845|2.68344052681|4.0167768343325|...   3.2576613093829   \n",
       "\n",
       "                                        cluster_kill             kill  \n",
       "0  34.908073458363|36.560577887311|37.43884047451...  34.593677608186  \n",
       "1  33.535917537247|32.254984202963|25.96632734701...  28.505381464623  \n",
       "2  29.917363245775|33.263999510979|25.55127940412...  27.086112378265  \n",
       "3  36.683397262759|34.738211834014|21.31910722766...  28.084570239709  \n",
       "4  10.768034058802|13.470080993016|5.818301286009...  8.5209921135827  "
      ]
     },
     "execution_count": 12,
     "metadata": {},
     "output_type": "execute_result"
    }
   ],
   "source": [
    "single_drug_pred_df = pd.DataFrame(rows, columns=['patient', 'drug_id', 'cluster', 'cluster_p', 'cluster_delta', 'delta', 'cluster_kill', 'kill'])\n",
    "single_drug_pred_df = single_drug_pred_df[['patient', 'drug_id', 'cluster', 'cluster_p', 'cluster_delta', 'delta', 'cluster_kill', 'kill']]\n",
    "single_drug_pred_df.head()"
   ]
  },
  {
   "cell_type": "code",
   "execution_count": 13,
   "metadata": {
    "ExecuteTime": {
     "end_time": "2020-04-23T03:29:54.900808Z",
     "start_time": "2020-04-23T03:29:54.895667Z"
    }
   },
   "outputs": [],
   "source": [
    "single_drug_pred_df.loc[:, 'drug_name'] = [drug_id_name_dict[d] for d in single_drug_pred_df['drug_id'].values]"
   ]
  },
  {
   "cell_type": "code",
   "execution_count": 14,
   "metadata": {
    "ExecuteTime": {
     "end_time": "2020-04-23T03:29:55.890745Z",
     "start_time": "2020-04-23T03:29:54.967632Z"
    }
   },
   "outputs": [
    {
     "data": {
      "text/plain": [
       "<matplotlib.axes._subplots.AxesSubplot at 0x7f2c08203650>"
      ]
     },
     "execution_count": 14,
     "metadata": {},
     "output_type": "execute_result"
    },
    {
     "data": {
      "image/png": "[encoded data removed]",
      "text/plain": [
       "<Figure size 1800x1200 with 2 Axes>"
      ]
     },
     "metadata": {
      "needs_background": "light"
     },
     "output_type": "display_data"
    }
   ],
   "source": [
    "single_drug_id_list = ['1007', '133', '201', '1010', '182', '301', '302', '1012']\n",
    "single_drug_list = ['Docetaxel', 'Doxorubicin', 'Epothilone B', 'Gefitinib', 'Obatoclax Mesylate', 'PHA-793887', 'PI-103', 'Vorinostat']\n",
    "\n",
    "temp_df = (freq_df.loc[freq_df.index != 'HN182'] >= freq_cutoff).sum()\n",
    "selected_clusters = temp_df.index[temp_df > 0]\n",
    "\n",
    "cmap = plt.cm.get_cmap('bone_r', 10)\n",
    "selected_kill_df = pred_kill_df.loc[selected_clusters, single_drug_id_list]\n",
    "selected_kill_df.columns = single_drug_list\n",
    "selected_kill_df = selected_kill_df[selected_kill_df.sum().sort_values(ascending=False).index]\n",
    "\n",
    "sns.heatmap(selected_kill_df.T, cmap=cmap, vmin=0, vmax=100, linewidth=0.5)"
   ]
  },
  {
   "cell_type": "code",
   "execution_count": 47,
   "metadata": {
    "ExecuteTime": {
     "end_time": "2020-04-23T03:52:48.868213Z",
     "start_time": "2020-04-23T03:52:48.853925Z"
    }
   },
   "outputs": [
    {
     "data": {
      "text/html": [
       "<div>\n",
       "<style scoped>\n",
       "    .dataframe tbody tr th:only-of-type {\n",
       "        vertical-align: middle;\n",
       "    }\n",
       "\n",
       "    .dataframe tbody tr th {\n",
       "        vertical-align: top;\n",
       "    }\n",
       "\n",
       "    .dataframe thead th {\n",
       "        text-align: right;\n",
       "    }\n",
       "</style>\n",
       "<table border=\"1\" class=\"dataframe\">\n",
       "  <thead>\n",
       "    <tr style=\"text-align: right;\">\n",
       "      <th></th>\n",
       "      <th>Drug ID</th>\n",
       "      <th>log2_median_ic50_hn</th>\n",
       "    </tr>\n",
       "  </thead>\n",
       "  <tbody>\n",
       "    <tr>\n",
       "      <th>PI-103</th>\n",
       "      <td>302</td>\n",
       "      <td>3.056464</td>\n",
       "    </tr>\n",
       "    <tr>\n",
       "      <th>PHA-793887</th>\n",
       "      <td>301</td>\n",
       "      <td>3.606539</td>\n",
       "    </tr>\n",
       "    <tr>\n",
       "      <th>Doxorubicin</th>\n",
       "      <td>133</td>\n",
       "      <td>-2.812230</td>\n",
       "    </tr>\n",
       "    <tr>\n",
       "      <th>Obatoclax Mesylate</th>\n",
       "      <td>182</td>\n",
       "      <td>-2.958665</td>\n",
       "    </tr>\n",
       "    <tr>\n",
       "      <th>Vorinostat</th>\n",
       "      <td>1012</td>\n",
       "      <td>0.711127</td>\n",
       "    </tr>\n",
       "    <tr>\n",
       "      <th>Epothilone B</th>\n",
       "      <td>201</td>\n",
       "      <td>-8.520806</td>\n",
       "    </tr>\n",
       "    <tr>\n",
       "      <th>Gefitinib</th>\n",
       "      <td>1010</td>\n",
       "      <td>-1.374969</td>\n",
       "    </tr>\n",
       "    <tr>\n",
       "      <th>Docetaxel</th>\n",
       "      <td>1007</td>\n",
       "      <td>-9.792998</td>\n",
       "    </tr>\n",
       "  </tbody>\n",
       "</table>\n",
       "</div>"
      ],
      "text/plain": [
       "                   Drug ID  log2_median_ic50_hn\n",
       "PI-103                 302             3.056464\n",
       "PHA-793887             301             3.606539\n",
       "Doxorubicin            133            -2.812230\n",
       "Obatoclax Mesylate     182            -2.958665\n",
       "Vorinostat            1012             0.711127\n",
       "Epothilone B           201            -8.520806\n",
       "Gefitinib             1010            -1.374969\n",
       "Docetaxel             1007            -9.792998"
      ]
     },
     "execution_count": 47,
     "metadata": {},
     "output_type": "execute_result"
    }
   ],
   "source": [
    "log2_median_ic50_df = drug_info_df.loc[single_drug_id_list][['Drug Name', ref_type]].reset_index().set_index('Drug Name')\n",
    "log2_median_ic50_df.loc[selected_kill_df.sum().sort_values(ascending=False).index]"
   ]
  },
  {
   "cell_type": "code",
   "execution_count": 48,
   "metadata": {
    "ExecuteTime": {
     "end_time": "2020-04-23T03:53:16.005167Z",
     "start_time": "2020-04-23T03:53:15.996832Z"
    }
   },
   "outputs": [
    {
     "name": "stdout",
     "output_type": "stream",
     "text": [
      "log2_median_ic50_hn\n",
      "8.319312\n",
      "12.180817\n",
      "0.142375\n",
      "0.128633\n",
      "1.637083\n",
      "0.002723\n",
      "0.385561\n",
      "0.001127\n"
     ]
    }
   ],
   "source": [
    "print (ref_type)\n",
    "log2_median_ic50s = log2_median_ic50_df.loc[selected_kill_df.sum().sort_values(ascending=False).index][ref_type].values\n",
    "median_ic50s = np.power(2, log2_median_ic50s)\n",
    "\n",
    "for x in median_ic50s:\n",
    "    print ('{:f}'.format(x))\n"
   ]
  },
  {
   "cell_type": "code",
   "execution_count": 29,
   "metadata": {
    "ExecuteTime": {
     "end_time": "2020-04-23T03:38:31.799895Z",
     "start_time": "2020-04-23T03:38:31.791152Z"
    }
   },
   "outputs": [],
   "source": [
    "temp_df = freq_df.loc[freq_df.index != 'HN182'].stack().reset_index()\n",
    "temp_df = temp_df[temp_df[0] >= freq_cutoff]\n",
    "patient_cluster_dict = dict(zip(temp_df['cluster'], temp_df['patient_id']))"
   ]
  },
  {
   "cell_type": "code",
   "execution_count": 30,
   "metadata": {
    "ExecuteTime": {
     "end_time": "2020-04-23T03:38:32.434739Z",
     "start_time": "2020-04-23T03:38:32.429317Z"
    }
   },
   "outputs": [],
   "source": [
    "patient_list = sorted(list(set(temp_df['patient_id'])))\n",
    "cluster_list = temp_df['cluster'].values\n",
    "\n",
    "cmap = plt.cm.get_cmap('tab10', 10)\n",
    "patient_color_dict = dict(zip(patient_list, [cmap(c) for c in range(len(patient_list))]))"
   ]
  },
  {
   "cell_type": "code",
   "execution_count": 31,
   "metadata": {
    "ExecuteTime": {
     "end_time": "2020-04-23T03:38:32.442566Z",
     "start_time": "2020-04-23T03:38:32.438870Z"
    }
   },
   "outputs": [
    {
     "data": {
      "text/plain": [
       "['HN120', 'HN137', 'HN148', 'HN159', 'HN160']"
      ]
     },
     "execution_count": 31,
     "metadata": {},
     "output_type": "execute_result"
    }
   ],
   "source": [
    "patient_list"
   ]
  },
  {
   "cell_type": "code",
   "execution_count": 32,
   "metadata": {
    "ExecuteTime": {
     "end_time": "2020-04-23T03:38:33.454617Z",
     "start_time": "2020-04-23T03:38:33.451401Z"
    }
   },
   "outputs": [],
   "source": [
    "col_colors = [patient_color_dict[patient_cluster_dict[c]] for c in cluster_list]"
   ]
  },
  {
   "cell_type": "code",
   "execution_count": 37,
   "metadata": {
    "ExecuteTime": {
     "end_time": "2020-04-23T03:40:11.786170Z",
     "start_time": "2020-04-23T03:40:09.711098Z"
    }
   },
   "outputs": [
    {
     "data": {
      "image/png": "[encoded data removed]",
      "text/plain": [
       "<Figure size 2400x1650 with 5 Axes>"
      ]
     },
     "metadata": {
      "needs_background": "light"
     },
     "output_type": "display_data"
    }
   ],
   "source": [
    "cmap = plt.cm.get_cmap('bone_r', 11)\n",
    "cg = sns.clustermap(selected_kill_df.T[cluster_list], cmap=cmap, vmin=-10, vmax=100, linewidth=0.5, row_cluster=False, col_cluster=False, col_colors=col_colors, figsize=(8,5.5))\n",
    "\n",
    "_ = cg.ax_heatmap.set_xlabel('Cluster ID')\n",
    "plt.tight_layout()\n",
    "# _ = cg.cax.set_visible(False)\n",
    "\n",
    "cg.savefig('../figure/Fig4A_heatmap_cluster_pred.svg')"
   ]
  },
  {
   "cell_type": "markdown",
   "metadata": {},
   "source": [
    "Save results"
   ]
  },
  {
   "cell_type": "code",
   "execution_count": 269,
   "metadata": {},
   "outputs": [],
   "source": [
    "if dosage_shifted:\n",
    "    single_drug_pred_df.to_csv(out_dir + 'pred_drug_kill_{}_{}_shifted.csv'.format(ref_type, model_name), index=False)\n",
    "else:\n",
    "    single_drug_pred_df.to_csv(out_dir + 'pred_drug_kill_{}_{}.csv'.format(ref_type, model_name), index=False)"
   ]
  },
  {
   "cell_type": "code",
   "execution_count": null,
   "metadata": {},
   "outputs": [],
   "source": []
  }
 ],
 "metadata": {
  "kernelspec": {
   "display_name": "Python 3",
   "language": "python",
   "name": "python3"
  },
  "language_info": {
   "codemirror_mode": {
    "name": "ipython",
    "version": 3
   },
   "file_extension": ".py",
   "mimetype": "text/x-python",
   "name": "python",
   "nbconvert_exporter": "python",
   "pygments_lexer": "ipython3",
   "version": "3.7.4"
  },
  "toc": {
   "base_numbering": 1,
   "nav_menu": {},
   "number_sections": false,
   "sideBar": true,
   "skip_h1_title": false,
   "title_cell": "Table of Contents",
   "title_sidebar": "Contents",
   "toc_cell": false,
   "toc_position": {
    "height": "calc(100% - 180px)",
    "left": "10px",
    "top": "150px",
    "width": "175.531px"
   },
   "toc_section_display": true,
   "toc_window_display": false
  }
 },
 "nbformat": 4,
 "nbformat_minor": 2
}
