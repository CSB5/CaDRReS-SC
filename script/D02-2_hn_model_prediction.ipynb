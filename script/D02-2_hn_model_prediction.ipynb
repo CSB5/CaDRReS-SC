{
 "cells": [
  {
   "cell_type": "markdown",
   "metadata": {},
   "source": [
    "### Predicting drug response using the GDSC model\n",
    "\n",
    "This example shows how to process and predict drug response using the GDSC model based on scRNA-seq data. \n",
    "\n",
    "1. Read normalized bulk gene expression file\n",
    "2. Calculate kernel features\n",
    "3. Predicting drug response using pre-trained GDSC model"
   ]
  },
  {
   "cell_type": "code",
   "execution_count": 67,
   "metadata": {},
   "outputs": [],
   "source": [
    "import sys, os, pickle\n",
    "import pandas as pd\n",
    "import importlib\n",
    "\n",
    "import matplotlib.pyplot as plt\n",
    "import seaborn as sns\n",
    "from collections import Counter\n",
    "from scipy import stats\n",
    "\n",
    "import matplotlib as mpl\n",
    "mpl.rcParams['figure.dpi']= 300\n",
    "mpl.rc(\"savefig\", dpi=300)\n",
    "\n",
    "scriptpath = '..'\n",
    "sys.path.append(os.path.abspath(scriptpath))\n",
    "\n",
    "from cadrres import pp, model, evaluation, utility"
   ]
  },
  {
   "cell_type": "markdown",
   "metadata": {},
   "source": [
    "### Read gene expression file and calculate kernel features"
   ]
  },
  {
   "cell_type": "markdown",
   "metadata": {},
   "source": [
    "##### Indicate input files and output directory"
   ]
  },
  {
   "cell_type": "code",
   "execution_count": 75,
   "metadata": {},
   "outputs": [],
   "source": [
    "# cluster_norm_exp_fname = '../preprocessed_data/HN_patient_specific/log2_fc_cluster_tmm.csv'\n",
    "# output_dir = '../result/HN_model/TMM/'\n",
    "\n",
    "# cluster_norm_exp_fname = '../preprocessed_data/HN_patient_specific/log2_fc_patient_tmm.csv'\n",
    "# output_dir = '../result/HN_model/patient_TMM/'\n",
    "\n",
    "# cluster_norm_exp_fname = '../preprocessed_data/HN_patient_specific/log2_fc_cluster_tmm_p95.csv'\n",
    "# output_dir = '../result/HN_model/TMM_p95/'\n",
    "\n",
    "# cluster_norm_exp_fname = '../preprocessed_data/HN_patient_specific/log2_fc_cluster_tpm.csv'\n",
    "# output_dir = '../result/HN_model/TPM/'\n",
    "\n",
    "cluster_norm_exp_fname = '../preprocessed_data/HN_patient_specific/log2_fc_patient_tpm.csv'\n",
    "output_dir = '../result/HN_model/patient_TPM/'\n",
    "\n",
    "# cluster_norm_exp_fname = '../preprocessed_data/HN_patient_specific/log2_fc_cluster_mat_norm.csv'\n",
    "# output_dir = '../result/HN_model/mat_norm/'\n",
    "\n",
    "# cluster_norm_exp_fname = '../preprocessed_data/HN_patient_specific/log2_fc_cluster_mat_norm_p95.csv'\n",
    "# output_dir = '../result/HN_model/mat_norm_p95/'\n",
    "\n",
    "# cluster_norm_exp_fname = '../preprocessed_data/HN_patient_specific/log2_fc_cluster_mat_norm_log2_p95.csv'\n",
    "# output_dir = '../result/HN_model/mat_norm_log2_p95/'"
   ]
  },
  {
   "cell_type": "code",
   "execution_count": 76,
   "metadata": {},
   "outputs": [],
   "source": [
    "model_name = 'hn_drug_cw_dw10_100000'\n",
    "# model_name = 'hn_drug_cw_dwsim10_100000'\n",
    "# model_name = 'hn_drug_cw_dw1_100000'"
   ]
  },
  {
   "cell_type": "code",
   "execution_count": 77,
   "metadata": {},
   "outputs": [
    {
     "data": {
      "text/html": [
       "<div>\n",
       "<style scoped>\n",
       "    .dataframe tbody tr th:only-of-type {\n",
       "        vertical-align: middle;\n",
       "    }\n",
       "\n",
       "    .dataframe tbody tr th {\n",
       "        vertical-align: top;\n",
       "    }\n",
       "\n",
       "    .dataframe thead th {\n",
       "        text-align: right;\n",
       "    }\n",
       "</style>\n",
       "<table border=\"1\" class=\"dataframe\">\n",
       "  <thead>\n",
       "    <tr style=\"text-align: right;\">\n",
       "      <th>patient_id</th>\n",
       "      <th>HN120</th>\n",
       "      <th>HN137</th>\n",
       "      <th>HN148</th>\n",
       "      <th>HN159</th>\n",
       "      <th>HN160</th>\n",
       "      <th>HN182</th>\n",
       "    </tr>\n",
       "  </thead>\n",
       "  <tbody>\n",
       "    <tr>\n",
       "      <th>AAAS</th>\n",
       "      <td>0.418215</td>\n",
       "      <td>0.185904</td>\n",
       "      <td>0.475748</td>\n",
       "      <td>-0.628830</td>\n",
       "      <td>-0.261312</td>\n",
       "      <td>-0.611470</td>\n",
       "    </tr>\n",
       "    <tr>\n",
       "      <th>AAMP</th>\n",
       "      <td>0.110669</td>\n",
       "      <td>0.871637</td>\n",
       "      <td>0.431081</td>\n",
       "      <td>-1.045853</td>\n",
       "      <td>-0.686607</td>\n",
       "      <td>-0.651498</td>\n",
       "    </tr>\n",
       "    <tr>\n",
       "      <th>AARS</th>\n",
       "      <td>1.015166</td>\n",
       "      <td>0.026307</td>\n",
       "      <td>0.552121</td>\n",
       "      <td>-0.539379</td>\n",
       "      <td>-1.037365</td>\n",
       "      <td>-1.648649</td>\n",
       "    </tr>\n",
       "    <tr>\n",
       "      <th>AARS2</th>\n",
       "      <td>-0.018434</td>\n",
       "      <td>0.170624</td>\n",
       "      <td>-0.214077</td>\n",
       "      <td>-0.356670</td>\n",
       "      <td>0.120490</td>\n",
       "      <td>0.210369</td>\n",
       "    </tr>\n",
       "    <tr>\n",
       "      <th>AASDHPPT</th>\n",
       "      <td>-0.758945</td>\n",
       "      <td>0.338500</td>\n",
       "      <td>0.982756</td>\n",
       "      <td>-0.259402</td>\n",
       "      <td>-0.745159</td>\n",
       "      <td>-0.441521</td>\n",
       "    </tr>\n",
       "  </tbody>\n",
       "</table>\n",
       "</div>"
      ],
      "text/plain": [
       "patient_id     HN120     HN137     HN148     HN159     HN160     HN182\n",
       "AAAS        0.418215  0.185904  0.475748 -0.628830 -0.261312 -0.611470\n",
       "AAMP        0.110669  0.871637  0.431081 -1.045853 -0.686607 -0.651498\n",
       "AARS        1.015166  0.026307  0.552121 -0.539379 -1.037365 -1.648649\n",
       "AARS2      -0.018434  0.170624 -0.214077 -0.356670  0.120490  0.210369\n",
       "AASDHPPT   -0.758945  0.338500  0.982756 -0.259402 -0.745159 -0.441521"
      ]
     },
     "execution_count": 77,
     "metadata": {},
     "output_type": "execute_result"
    }
   ],
   "source": [
    "cluster_norm_exp_df = pd.read_csv(cluster_norm_exp_fname, index_col=0).T\n",
    "cluster_norm_exp_df.head()"
   ]
  },
  {
   "cell_type": "markdown",
   "metadata": {},
   "source": [
    "##### Read GDSC gene expression"
   ]
  },
  {
   "cell_type": "code",
   "execution_count": 78,
   "metadata": {},
   "outputs": [
    {
     "data": {
      "text/html": [
       "<div>\n",
       "<style scoped>\n",
       "    .dataframe tbody tr th:only-of-type {\n",
       "        vertical-align: middle;\n",
       "    }\n",
       "\n",
       "    .dataframe tbody tr th {\n",
       "        vertical-align: top;\n",
       "    }\n",
       "\n",
       "    .dataframe thead th {\n",
       "        text-align: right;\n",
       "    }\n",
       "</style>\n",
       "<table border=\"1\" class=\"dataframe\">\n",
       "  <thead>\n",
       "    <tr style=\"text-align: right;\">\n",
       "      <th></th>\n",
       "      <th>906826</th>\n",
       "      <th>687983</th>\n",
       "      <th>910927</th>\n",
       "      <th>1240138</th>\n",
       "      <th>1240139</th>\n",
       "      <th>906792</th>\n",
       "      <th>910688</th>\n",
       "      <th>1240135</th>\n",
       "      <th>1290812</th>\n",
       "      <th>907045</th>\n",
       "      <th>...</th>\n",
       "      <th>753584</th>\n",
       "      <th>907044</th>\n",
       "      <th>998184</th>\n",
       "      <th>908145</th>\n",
       "      <th>1659787</th>\n",
       "      <th>1298157</th>\n",
       "      <th>1480372</th>\n",
       "      <th>1298533</th>\n",
       "      <th>930299</th>\n",
       "      <th>905954.1</th>\n",
       "    </tr>\n",
       "    <tr>\n",
       "      <th>GENE</th>\n",
       "      <th></th>\n",
       "      <th></th>\n",
       "      <th></th>\n",
       "      <th></th>\n",
       "      <th></th>\n",
       "      <th></th>\n",
       "      <th></th>\n",
       "      <th></th>\n",
       "      <th></th>\n",
       "      <th></th>\n",
       "      <th></th>\n",
       "      <th></th>\n",
       "      <th></th>\n",
       "      <th></th>\n",
       "      <th></th>\n",
       "      <th></th>\n",
       "      <th></th>\n",
       "      <th></th>\n",
       "      <th></th>\n",
       "      <th></th>\n",
       "      <th></th>\n",
       "    </tr>\n",
       "  </thead>\n",
       "  <tbody>\n",
       "    <tr>\n",
       "      <th>TSPAN6</th>\n",
       "      <td>0.941884</td>\n",
       "      <td>0.858532</td>\n",
       "      <td>2.022198</td>\n",
       "      <td>1.107003</td>\n",
       "      <td>1.039128</td>\n",
       "      <td>0.384394</td>\n",
       "      <td>-3.404941</td>\n",
       "      <td>0.271467</td>\n",
       "      <td>-0.747093</td>\n",
       "      <td>-3.234189</td>\n",
       "      <td>...</td>\n",
       "      <td>0.415498</td>\n",
       "      <td>-3.453636</td>\n",
       "      <td>-3.651247</td>\n",
       "      <td>1.683084</td>\n",
       "      <td>0.242039</td>\n",
       "      <td>1.751489</td>\n",
       "      <td>1.732782</td>\n",
       "      <td>1.399116</td>\n",
       "      <td>-3.577806</td>\n",
       "      <td>0.462988</td>\n",
       "    </tr>\n",
       "    <tr>\n",
       "      <th>TNMD</th>\n",
       "      <td>0.108897</td>\n",
       "      <td>-0.077972</td>\n",
       "      <td>-0.212181</td>\n",
       "      <td>-0.037766</td>\n",
       "      <td>0.102051</td>\n",
       "      <td>0.033988</td>\n",
       "      <td>-0.027485</td>\n",
       "      <td>0.019062</td>\n",
       "      <td>-0.168814</td>\n",
       "      <td>0.434495</td>\n",
       "      <td>...</td>\n",
       "      <td>-0.056842</td>\n",
       "      <td>-0.110552</td>\n",
       "      <td>0.120717</td>\n",
       "      <td>-0.003137</td>\n",
       "      <td>-0.233059</td>\n",
       "      <td>-0.216412</td>\n",
       "      <td>0.024201</td>\n",
       "      <td>-0.334520</td>\n",
       "      <td>0.014779</td>\n",
       "      <td>-0.021403</td>\n",
       "    </tr>\n",
       "    <tr>\n",
       "      <th>DPM1</th>\n",
       "      <td>0.343465</td>\n",
       "      <td>1.771254</td>\n",
       "      <td>-0.155355</td>\n",
       "      <td>-0.152617</td>\n",
       "      <td>0.382752</td>\n",
       "      <td>-0.262101</td>\n",
       "      <td>0.228297</td>\n",
       "      <td>0.169844</td>\n",
       "      <td>0.263669</td>\n",
       "      <td>1.534067</td>\n",
       "      <td>...</td>\n",
       "      <td>0.450398</td>\n",
       "      <td>0.406864</td>\n",
       "      <td>0.275874</td>\n",
       "      <td>0.418742</td>\n",
       "      <td>0.382388</td>\n",
       "      <td>1.427654</td>\n",
       "      <td>0.521690</td>\n",
       "      <td>0.756662</td>\n",
       "      <td>-0.162186</td>\n",
       "      <td>0.752131</td>\n",
       "    </tr>\n",
       "    <tr>\n",
       "      <th>SCYL3</th>\n",
       "      <td>-0.632019</td>\n",
       "      <td>-0.179926</td>\n",
       "      <td>-0.290583</td>\n",
       "      <td>-0.183111</td>\n",
       "      <td>0.094688</td>\n",
       "      <td>0.024090</td>\n",
       "      <td>1.721355</td>\n",
       "      <td>-0.531780</td>\n",
       "      <td>-0.398700</td>\n",
       "      <td>1.314070</td>\n",
       "      <td>...</td>\n",
       "      <td>-0.549978</td>\n",
       "      <td>0.377200</td>\n",
       "      <td>0.101711</td>\n",
       "      <td>-0.388691</td>\n",
       "      <td>-0.299252</td>\n",
       "      <td>0.179037</td>\n",
       "      <td>-0.696423</td>\n",
       "      <td>0.196524</td>\n",
       "      <td>0.020015</td>\n",
       "      <td>-0.146319</td>\n",
       "    </tr>\n",
       "    <tr>\n",
       "      <th>C1orf112</th>\n",
       "      <td>-0.313637</td>\n",
       "      <td>0.038166</td>\n",
       "      <td>-0.457698</td>\n",
       "      <td>-0.135904</td>\n",
       "      <td>0.146055</td>\n",
       "      <td>0.120737</td>\n",
       "      <td>-0.682451</td>\n",
       "      <td>-0.425870</td>\n",
       "      <td>-0.341484</td>\n",
       "      <td>-0.123090</td>\n",
       "      <td>...</td>\n",
       "      <td>0.032515</td>\n",
       "      <td>0.253426</td>\n",
       "      <td>0.112265</td>\n",
       "      <td>-0.497331</td>\n",
       "      <td>0.120512</td>\n",
       "      <td>0.690414</td>\n",
       "      <td>0.552870</td>\n",
       "      <td>-0.622959</td>\n",
       "      <td>-0.464122</td>\n",
       "      <td>-0.258524</td>\n",
       "    </tr>\n",
       "  </tbody>\n",
       "</table>\n",
       "<p>5 rows × 1018 columns</p>\n",
       "</div>"
      ],
      "text/plain": [
       "            906826    687983    910927   1240138   1240139    906792  \\\n",
       "GENE                                                                   \n",
       "TSPAN6    0.941884  0.858532  2.022198  1.107003  1.039128  0.384394   \n",
       "TNMD      0.108897 -0.077972 -0.212181 -0.037766  0.102051  0.033988   \n",
       "DPM1      0.343465  1.771254 -0.155355 -0.152617  0.382752 -0.262101   \n",
       "SCYL3    -0.632019 -0.179926 -0.290583 -0.183111  0.094688  0.024090   \n",
       "C1orf112 -0.313637  0.038166 -0.457698 -0.135904  0.146055  0.120737   \n",
       "\n",
       "            910688   1240135   1290812    907045  ...    753584    907044  \\\n",
       "GENE                                              ...                       \n",
       "TSPAN6   -3.404941  0.271467 -0.747093 -3.234189  ...  0.415498 -3.453636   \n",
       "TNMD     -0.027485  0.019062 -0.168814  0.434495  ... -0.056842 -0.110552   \n",
       "DPM1      0.228297  0.169844  0.263669  1.534067  ...  0.450398  0.406864   \n",
       "SCYL3     1.721355 -0.531780 -0.398700  1.314070  ... -0.549978  0.377200   \n",
       "C1orf112 -0.682451 -0.425870 -0.341484 -0.123090  ...  0.032515  0.253426   \n",
       "\n",
       "            998184    908145   1659787   1298157   1480372   1298533  \\\n",
       "GENE                                                                   \n",
       "TSPAN6   -3.651247  1.683084  0.242039  1.751489  1.732782  1.399116   \n",
       "TNMD      0.120717 -0.003137 -0.233059 -0.216412  0.024201 -0.334520   \n",
       "DPM1      0.275874  0.418742  0.382388  1.427654  0.521690  0.756662   \n",
       "SCYL3     0.101711 -0.388691 -0.299252  0.179037 -0.696423  0.196524   \n",
       "C1orf112  0.112265 -0.497331  0.120512  0.690414  0.552870 -0.622959   \n",
       "\n",
       "            930299  905954.1  \n",
       "GENE                          \n",
       "TSPAN6   -3.577806  0.462988  \n",
       "TNMD      0.014779 -0.021403  \n",
       "DPM1     -0.162186  0.752131  \n",
       "SCYL3     0.020015 -0.146319  \n",
       "C1orf112 -0.464122 -0.258524  \n",
       "\n",
       "[5 rows x 1018 columns]"
      ]
     },
     "execution_count": 78,
     "metadata": {},
     "output_type": "execute_result"
    }
   ],
   "source": [
    "gdsc_log2_exp_df = pd.read_csv('../data/GDSC/GDSC_exp.tsv', sep='\\t', index_col=0)\n",
    "gdsc_norm_exp_df, gdsc_mean_exp_df = pp.gexp.normalize_log2_mean_fc(gdsc_log2_exp_df)\n",
    "gdsc_norm_exp_df.head()"
   ]
  },
  {
   "cell_type": "markdown",
   "metadata": {},
   "source": [
    "##### Read an essential gene list"
   ]
  },
  {
   "cell_type": "code",
   "execution_count": 79,
   "metadata": {},
   "outputs": [
    {
     "data": {
      "text/plain": [
       "1724"
      ]
     },
     "execution_count": 79,
     "metadata": {},
     "output_type": "execute_result"
    }
   ],
   "source": [
    "ess_gene_list = utility.get_gene_list('../data/essential_genes.txt')\n",
    "selected_gene_list = [g for g in ess_gene_list if g in cluster_norm_exp_df.index]\n",
    "len(selected_gene_list)"
   ]
  },
  {
   "cell_type": "markdown",
   "metadata": {},
   "source": [
    "##### Calculate kernal features"
   ]
  },
  {
   "cell_type": "code",
   "execution_count": 80,
   "metadata": {},
   "outputs": [
    {
     "name": "stdout",
     "output_type": "stream",
     "text": [
      "Calculating kernel features based on 1543 common genes\n",
      "(1724, 6) (17737, 1018)\n"
     ]
    }
   ],
   "source": [
    "cluster_kernel_df = pp.gexp.calculate_kernel_feature(cluster_norm_exp_df, gdsc_norm_exp_df, selected_gene_list)"
   ]
  },
  {
   "cell_type": "code",
   "execution_count": 81,
   "metadata": {},
   "outputs": [],
   "source": [
    "cluster_kernel_df.to_csv(output_dir + \"cluster_kernel_df.csv\")"
   ]
  },
  {
   "cell_type": "markdown",
   "metadata": {},
   "source": [
    "### Predicting drug response using pre-trained GDSC model"
   ]
  },
  {
   "cell_type": "code",
   "execution_count": 82,
   "metadata": {},
   "outputs": [
    {
     "data": {
      "text/plain": [
       "<module 'cadrres.utility' from '/mnt/volume1/Dropbox/Research/2019_drug_response_heterogeneity/CaDRReS_depository/cadrres/utility.py'>"
      ]
     },
     "execution_count": 82,
     "metadata": {},
     "output_type": "execute_result"
    }
   ],
   "source": [
    "importlib.reload(pp)\n",
    "importlib.reload(model)\n",
    "importlib.reload(evaluation)\n",
    "importlib.reload(utility)"
   ]
  },
  {
   "cell_type": "code",
   "execution_count": 83,
   "metadata": {},
   "outputs": [],
   "source": [
    "model_dict = pickle.load(open('../result/HN_model/{}_param_dict.pickle'.format(model_name), 'rb'))\n",
    "model_training_output_dict = pickle.load(open('../result/HN_model/{}_output_dict.pickle'.format(model_name), 'rb'))"
   ]
  },
  {
   "cell_type": "markdown",
   "metadata": {},
   "source": [
    "Make a prediction"
   ]
  },
  {
   "cell_type": "code",
   "execution_count": 84,
   "metadata": {},
   "outputs": [],
   "source": [
    "pred_df, P_df = model.predict_from_model(model_dict, cluster_kernel_df)\n",
    "pred_df.to_csv(os.path.join(output_dir,'pred_{}_model.csv'.format('gdsc_no_bias_{}').format(model_name)))\n",
    "P_df.to_csv(os.path.join(output_dir,'P_{}_model.csv'.format('gdsc_no_bias_{}').format(model_name)))"
   ]
  },
  {
   "cell_type": "code",
   "execution_count": null,
   "metadata": {},
   "outputs": [],
   "source": []
  }
 ],
 "metadata": {
  "kernelspec": {
   "display_name": "Python 3",
   "language": "python",
   "name": "python3"
  },
  "language_info": {
   "codemirror_mode": {
    "name": "ipython",
    "version": 3
   },
   "file_extension": ".py",
   "mimetype": "text/x-python",
   "name": "python",
   "nbconvert_exporter": "python",
   "pygments_lexer": "ipython3",
   "version": "3.7.4"
  },
  "toc": {
   "base_numbering": 1,
   "nav_menu": {},
   "number_sections": false,
   "sideBar": true,
   "skip_h1_title": false,
   "title_cell": "Table of Contents",
   "title_sidebar": "Contents",
   "toc_cell": false,
   "toc_position": {},
   "toc_section_display": true,
   "toc_window_display": false
  }
 },
 "nbformat": 4,
 "nbformat_minor": 2
}
