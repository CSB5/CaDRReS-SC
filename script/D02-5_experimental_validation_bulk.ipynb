{
 "cells": [
  {
   "cell_type": "markdown",
   "metadata": {
    "collapsed": true
   },
   "source": [
    "# Comparison of predictions"
   ]
  },
  {
   "cell_type": "markdown",
   "metadata": {},
   "source": [
    "- See preprocessing of gene expression and prediction were done in CaDRReS2/pipeline/* and 03_*\n",
    "- Convert predicted delta to cv to cell death percentage"
   ]
  },
  {
   "cell_type": "code",
   "execution_count": 58,
   "metadata": {},
   "outputs": [],
   "source": [
    "import pandas as pd\n",
    "import numpy as np\n",
    "\n",
    "import matplotlib.pyplot as plt\n",
    "import seaborn as sns\n",
    "from scipy import stats\n",
    "from sklearn import metrics\n",
    "from collections import Counter\n",
    "\n",
    "sns.set(font_scale=1.5)\n",
    "sns.set_style('ticks')\n",
    "\n",
    "%matplotlib inline\n",
    "import warnings\n",
    "warnings.filterwarnings('ignore')\n",
    "\n",
    "pd.set_option('precision', 2)\n",
    "np.set_printoptions(suppress=True)\n",
    "from IPython.display import HTML, display"
   ]
  },
  {
   "cell_type": "code",
   "execution_count": 59,
   "metadata": {},
   "outputs": [],
   "source": [
    "import matplotlib as mpl\n",
    "mpl.rcParams['figure.dpi']= 120\n",
    "mpl.rc(\"savefig\", dpi=300)"
   ]
  },
  {
   "cell_type": "markdown",
   "metadata": {},
   "source": [
    "##### Compare between cell line prediction and cell type-specific prediction"
   ]
  },
  {
   "cell_type": "code",
   "execution_count": 60,
   "metadata": {},
   "outputs": [],
   "source": [
    "dosage_shifted = False"
   ]
  },
  {
   "cell_type": "markdown",
   "metadata": {},
   "source": [
    "for experimental validation"
   ]
  },
  {
   "cell_type": "code",
   "execution_count": 61,
   "metadata": {},
   "outputs": [],
   "source": [
    "dosage_used = '3 fold' # All for HN, '9 fold' '3 fold' 'Median IC50' "
   ]
  },
  {
   "cell_type": "markdown",
   "metadata": {},
   "source": [
    "for calculating % cell death"
   ]
  },
  {
   "cell_type": "code",
   "execution_count": 62,
   "metadata": {},
   "outputs": [],
   "source": [
    "# log2_median_ic50, log2_median_ic50_9f, log2_median_ic50_hn, log2_median_ic50_9f_hn, log2_median_ic50_3f_hn, log2_max_conc\n",
    "dosage_ref = 'log2_median_ic50_hn' # log2_median_ic50_hn | log2_median_ic50_3f_hn\n",
    "model_name = 'hn_drug_cw_dw10_100000_model'"
   ]
  },
  {
   "cell_type": "markdown",
   "metadata": {},
   "source": [
    "Read predictions"
   ]
  },
  {
   "cell_type": "code",
   "execution_count": 63,
   "metadata": {},
   "outputs": [],
   "source": [
    "current_dir = '../result/HN_model/patient_TPM/'"
   ]
  },
  {
   "cell_type": "code",
   "execution_count": 64,
   "metadata": {},
   "outputs": [],
   "source": [
    "if dosage_shifted:\n",
    "    pred_single_df = pd.read_csv(current_dir + 'pred_drug_kill_{}_{}_shifted.csv'.format(dosage_ref, model_name))\n",
    "else:\n",
    "    pred_single_df = pd.read_csv(current_dir + 'pred_drug_kill_{}_{}.csv'.format(dosage_ref, model_name))"
   ]
  },
  {
   "cell_type": "markdown",
   "metadata": {},
   "source": [
    "Read experimental data"
   ]
  },
  {
   "cell_type": "code",
   "execution_count": 65,
   "metadata": {
    "code_folding": [],
    "scrolled": false
   },
   "outputs": [
    {
     "data": {
      "text/html": [
       "<div>\n",
       "<style scoped>\n",
       "    .dataframe tbody tr th:only-of-type {\n",
       "        vertical-align: middle;\n",
       "    }\n",
       "\n",
       "    .dataframe tbody tr th {\n",
       "        vertical-align: top;\n",
       "    }\n",
       "\n",
       "    .dataframe thead th {\n",
       "        text-align: right;\n",
       "    }\n",
       "</style>\n",
       "<table border=\"1\" class=\"dataframe\">\n",
       "  <thead>\n",
       "    <tr style=\"text-align: right;\">\n",
       "      <th></th>\n",
       "      <th>File name</th>\n",
       "      <th>Dosage</th>\n",
       "      <th>Drug</th>\n",
       "      <th>HN120</th>\n",
       "      <th>HN137</th>\n",
       "      <th>HN148</th>\n",
       "      <th>HN159</th>\n",
       "      <th>HN160</th>\n",
       "      <th>HN182</th>\n",
       "    </tr>\n",
       "  </thead>\n",
       "  <tbody>\n",
       "    <tr>\n",
       "      <th>0</th>\n",
       "      <td>validation_triplicate_2019_09_13.xlsx</td>\n",
       "      <td>3 fold</td>\n",
       "      <td>Afatinib</td>\n",
       "      <td>56.98</td>\n",
       "      <td>64.20</td>\n",
       "      <td>38.30</td>\n",
       "      <td>25.42</td>\n",
       "      <td>96.90</td>\n",
       "      <td>67.09</td>\n",
       "    </tr>\n",
       "    <tr>\n",
       "      <th>2</th>\n",
       "      <td>validation_triplicate_2019_09_13.xlsx</td>\n",
       "      <td>3 fold</td>\n",
       "      <td>Docetaxel</td>\n",
       "      <td>80.69</td>\n",
       "      <td>67.84</td>\n",
       "      <td>78.09</td>\n",
       "      <td>81.28</td>\n",
       "      <td>86.22</td>\n",
       "      <td>70.59</td>\n",
       "    </tr>\n",
       "    <tr>\n",
       "      <th>3</th>\n",
       "      <td>validation_triplicate_2019_09_13.xlsx</td>\n",
       "      <td>3 fold</td>\n",
       "      <td>Doxorubicin</td>\n",
       "      <td>64.28</td>\n",
       "      <td>53.55</td>\n",
       "      <td>74.85</td>\n",
       "      <td>77.77</td>\n",
       "      <td>85.36</td>\n",
       "      <td>54.75</td>\n",
       "    </tr>\n",
       "    <tr>\n",
       "      <th>4</th>\n",
       "      <td>validation_triplicate_2019_09_13.xlsx</td>\n",
       "      <td>3 fold</td>\n",
       "      <td>Epothilone B</td>\n",
       "      <td>47.77</td>\n",
       "      <td>37.20</td>\n",
       "      <td>68.23</td>\n",
       "      <td>61.31</td>\n",
       "      <td>79.23</td>\n",
       "      <td>44.03</td>\n",
       "    </tr>\n",
       "    <tr>\n",
       "      <th>5</th>\n",
       "      <td>validation_triplicate_2019_09_13.xlsx</td>\n",
       "      <td>3 fold</td>\n",
       "      <td>Gefitinib</td>\n",
       "      <td>70.12</td>\n",
       "      <td>70.88</td>\n",
       "      <td>52.59</td>\n",
       "      <td>73.60</td>\n",
       "      <td>102.32</td>\n",
       "      <td>83.02</td>\n",
       "    </tr>\n",
       "  </tbody>\n",
       "</table>\n",
       "</div>"
      ],
      "text/plain": [
       "                               File name  Dosage          Drug  HN120  HN137  \\\n",
       "0  validation_triplicate_2019_09_13.xlsx  3 fold      Afatinib  56.98  64.20   \n",
       "2  validation_triplicate_2019_09_13.xlsx  3 fold     Docetaxel  80.69  67.84   \n",
       "3  validation_triplicate_2019_09_13.xlsx  3 fold   Doxorubicin  64.28  53.55   \n",
       "4  validation_triplicate_2019_09_13.xlsx  3 fold  Epothilone B  47.77  37.20   \n",
       "5  validation_triplicate_2019_09_13.xlsx  3 fold     Gefitinib  70.12  70.88   \n",
       "\n",
       "   HN148  HN159   HN160  HN182  \n",
       "0  38.30  25.42   96.90  67.09  \n",
       "2  78.09  81.28   86.22  70.59  \n",
       "3  74.85  77.77   85.36  54.75  \n",
       "4  68.23  61.31   79.23  44.03  \n",
       "5  52.59  73.60  102.32  83.02  "
      ]
     },
     "execution_count": 65,
     "metadata": {},
     "output_type": "execute_result"
    }
   ],
   "source": [
    "##### Combined replicate #####\n",
    "\n",
    "validation_fname_list = ['../result/validation/validation_triplicate_2019_09_13.xlsx', '../result/validation/validation_replicates_2019_06_24.xlsx']\n",
    "\n",
    "cv_single_df_list = []\n",
    "cv_combi_df_list = []\n",
    "\n",
    "# TO UPDATE: should we calculate average of two experiments?\n",
    "\n",
    "for validation_fname in validation_fname_list:\n",
    "\n",
    "    cv_single_df = pd.read_excel(validation_fname, sheet_name='cv_single', index_col=[0,1,2])\n",
    "    cv_single_df.loc[:, 'File name'] = validation_fname.split('/')[-1]\n",
    "    cv_single_df = cv_single_df.reset_index().groupby(['File name', 'Dosage', 'Drug']).median().reset_index().drop(['Replicate'], axis=1)\n",
    "\n",
    "    cv_combi_df = pd.read_excel(validation_fname, sheet_name='cv_combi', index_col=[0,1,2])\n",
    "    cv_combi_df.loc[:, 'File name'] = validation_fname.split('/')[-1]\n",
    "    cv_combi_df = cv_combi_df.reset_index().groupby(['File name', 'Dosage', 'Drug']).median().reset_index().drop(['Replicate'], axis=1)\n",
    "    \n",
    "    cv_single_df_list += [cv_single_df]\n",
    "    cv_combi_df_list += [cv_combi_df]\n",
    "\n",
    "cv_df = pd.concat(cv_single_df_list + cv_combi_df_list, axis=0)\n",
    "cv_df = cv_df[~cv_df['Drug'].isin(['DMSO', 'Staurosporin'])]\n",
    "cv_df.head()"
   ]
  },
  {
   "cell_type": "code",
   "execution_count": 66,
   "metadata": {
    "code_folding": [
     0
    ]
   },
   "outputs": [],
   "source": [
    "##### Not combined replicate #####\n",
    "\n",
    "# validation_fname_list = ['../result/validation/validation_triplicate_2019_09_13.xlsx', '../result/validation/validation_replicates_2019_06_24.xlsx']\n",
    "\n",
    "# cv_single_df_list = []\n",
    "# cv_combi_df_list = []\n",
    "\n",
    "# for validation_fname in validation_fname_list:\n",
    "\n",
    "#     cv_single_df = pd.read_excel(validation_fname, sheet_name='cv_single', index_col=[0,1,2])\n",
    "#     cv_single_df.loc[:, 'File name'] = validation_fname.split('/')[-1]\n",
    "#     cv_single_df = cv_single_df.reset_index()\n",
    "\n",
    "#     cv_combi_df = pd.read_excel(validation_fname, sheet_name='cv_combi', index_col=[0,1,2])\n",
    "#     cv_combi_df.loc[:, 'File name'] = validation_fname.split('/')[-1]\n",
    "#     cv_combi_df = cv_combi_df.reset_index()\n",
    "    \n",
    "#     cv_single_df_list += [cv_single_df]\n",
    "#     cv_combi_df_list += [cv_combi_df]\n",
    "\n",
    "# cv_df = pd.concat(cv_single_df_list + cv_combi_df_list, axis=0)\n",
    "# cv_df = cv_df[~cv_df['Drug'].isin(['DMSO', 'Staurosporin'])]\n",
    "# cv_df.head()"
   ]
  },
  {
   "cell_type": "code",
   "execution_count": 67,
   "metadata": {},
   "outputs": [],
   "source": [
    "# patient_list = ['HN120', 'HN137', 'HN148', 'HN159', 'HN160', 'HN182']\n",
    "patient_list = ['HN120', 'HN137', 'HN148', 'HN159', 'HN160']\n",
    "# patient_list = ['HN120', 'HN137', 'HN148', 'HN160']\n",
    "# patient_list = ['HN120', 'HN137', 'HN148', 'HN159']\n",
    "# patient_list = ['HN120', 'HN137', 'HN148', 'HN160']\n",
    "\n",
    "# single_drug_id_list = [1032, 1007, 133, 201, 1010] + [182, 301, 302] + [1012]\n",
    "# single_drug_list = ['Afatinib', 'Docetaxel', 'Doxorubicin', 'Epothilone B', 'Gefitinib'] + ['Obatoclax Mesylate', 'PHA-793887', 'PI-103'] + ['Vorinostat']\n",
    "# combi_drug_list = ['Docetaxel|Afatinib', 'Docetaxel|Epothilone B', 'Docetaxel|Gefitinib', 'Epothilone B|Afatinib', 'Gefitinib|Afatinib', 'Gefitinib|Epothilone B'] + ['Afatinib|Obatoclax Mesylate', 'Epothilone B|PI-103'] + ['Doxorubicin|Vorinostat']\n",
    "\n",
    "single_drug_id_list = [1007, 133, 201, 1010] + [182, 301, 302] + [1012]\n",
    "single_drug_list = ['Docetaxel', 'Doxorubicin', 'Epothilone B', 'Gefitinib'] + ['Obatoclax Mesylate', 'PHA-793887', 'PI-103'] + ['Vorinostat']\n",
    "combi_drug_list = ['Docetaxel|Epothilone B', 'Docetaxel|Gefitinib', 'Gefitinib|Epothilone B'] + ['Epothilone B|PI-103'] + ['Doxorubicin|Vorinostat']\n",
    "\n",
    "# single_drug_id_list = [1032, 1007, 133, 201, 1010] + [182, 301, 302]\n",
    "# single_drug_list = ['Afatinib', 'Docetaxel', 'Doxorubicin', 'Epothilone B', 'Gefitinib'] + ['Obatoclax Mesylate', 'PHA-793887', 'PI-103']\n",
    "# combi_drug_list = ['Docetaxel|Afatinib', 'Docetaxel|Epothilone B', 'Docetaxel|Gefitinib', 'Epothilone B|Afatinib', 'Gefitinib|Afatinib', 'Gefitinib|Epothilone B'] + ['Afatinib|Obatoclax Mesylate', 'Epothilone B|PI-103']\n",
    "\n",
    "# single_drug_id_list = [1007, 133, 1010, 182, 301, 302]\n",
    "# single_drug_list = ['Docetaxel', 'Doxorubicin', 'Gefitinib', 'Obatoclax Mesylate', 'PHA-793887', 'PI-103']\n",
    "# combi_drug_list = ['Docetaxel|Gefitinib']"
   ]
  },
  {
   "cell_type": "code",
   "execution_count": 68,
   "metadata": {},
   "outputs": [],
   "source": [
    "# read reference dosages file\n",
    "dosage_df = pd.read_csv('../preprocessed_data/GDSC/hn_drug_stat.csv', index_col=0)\n",
    "dosage_df = dosage_df.loc[single_drug_id_list]"
   ]
  },
  {
   "cell_type": "code",
   "execution_count": 69,
   "metadata": {
    "code_folding": [
     0
    ]
   },
   "outputs": [],
   "source": [
    "##### Check consistency across triplicate #####\n",
    "\n",
    "# validation_fname = validation_fname_list[0]\n",
    "\n",
    "# cv_new_df = pd.concat([pd.read_excel(validation_fname, sheet_name='cv_single', index_col=[0,1,2]), pd.read_excel(validation_fname, sheet_name='cv_combi', index_col=[0,1,2])], axis=0).reset_index()\n",
    "# cv_new_df = cv_new_df[~cv_new_df['Drug'].isin(['DMSO', 'Staurosporin'])]\n",
    "# cv_new_df = cv_new_df.set_index(['Drug', 'Dosage', 'Replicate']).stack().reset_index()\n",
    "# cv_new_df.columns = ['Drug', 'Dosage', 'Replicate', 'Patient', 'Viability']\n",
    "# cv_new_df = cv_new_df.groupby(['Dosage', 'Drug', 'Patient', 'Replicate']).sum().unstack()\n",
    "\n",
    "# sns.pairplot(cv_new_df, plot_kws={'s':10, 'alpha':0.75, 'linewidth':0}, diag_kws={'bins':20}, aspect=1.15)"
   ]
  },
  {
   "cell_type": "markdown",
   "metadata": {},
   "source": [
    "##### Preprocess predicted and observed"
   ]
  },
  {
   "cell_type": "code",
   "execution_count": 70,
   "metadata": {},
   "outputs": [],
   "source": [
    "obs_kill_df = 100 - cv_df.set_index(['Dosage', 'Drug', 'File name']).astype(float)\n",
    "obs_kill_df = obs_kill_df.loc[dosage_used]"
   ]
  },
  {
   "cell_type": "code",
   "execution_count": 71,
   "metadata": {},
   "outputs": [
    {
     "data": {
      "text/html": [
       "<div>\n",
       "<style scoped>\n",
       "    .dataframe tbody tr th:only-of-type {\n",
       "        vertical-align: middle;\n",
       "    }\n",
       "\n",
       "    .dataframe tbody tr th {\n",
       "        vertical-align: top;\n",
       "    }\n",
       "\n",
       "    .dataframe thead th {\n",
       "        text-align: right;\n",
       "    }\n",
       "</style>\n",
       "<table border=\"1\" class=\"dataframe\">\n",
       "  <thead>\n",
       "    <tr style=\"text-align: right;\">\n",
       "      <th></th>\n",
       "      <th></th>\n",
       "      <th>HN120</th>\n",
       "      <th>HN137</th>\n",
       "      <th>HN148</th>\n",
       "      <th>HN159</th>\n",
       "      <th>HN160</th>\n",
       "      <th>HN182</th>\n",
       "    </tr>\n",
       "    <tr>\n",
       "      <th>Drug</th>\n",
       "      <th>File name</th>\n",
       "      <th></th>\n",
       "      <th></th>\n",
       "      <th></th>\n",
       "      <th></th>\n",
       "      <th></th>\n",
       "      <th></th>\n",
       "    </tr>\n",
       "  </thead>\n",
       "  <tbody>\n",
       "    <tr>\n",
       "      <th>Afatinib</th>\n",
       "      <th>validation_triplicate_2019_09_13.xlsx</th>\n",
       "      <td>43.02</td>\n",
       "      <td>35.80</td>\n",
       "      <td>61.70</td>\n",
       "      <td>74.58</td>\n",
       "      <td>3.10</td>\n",
       "      <td>32.91</td>\n",
       "    </tr>\n",
       "    <tr>\n",
       "      <th>Docetaxel</th>\n",
       "      <th>validation_triplicate_2019_09_13.xlsx</th>\n",
       "      <td>19.31</td>\n",
       "      <td>32.16</td>\n",
       "      <td>21.91</td>\n",
       "      <td>18.72</td>\n",
       "      <td>13.78</td>\n",
       "      <td>29.41</td>\n",
       "    </tr>\n",
       "    <tr>\n",
       "      <th>Doxorubicin</th>\n",
       "      <th>validation_triplicate_2019_09_13.xlsx</th>\n",
       "      <td>35.72</td>\n",
       "      <td>46.45</td>\n",
       "      <td>25.15</td>\n",
       "      <td>22.23</td>\n",
       "      <td>14.64</td>\n",
       "      <td>45.25</td>\n",
       "    </tr>\n",
       "    <tr>\n",
       "      <th>Epothilone B</th>\n",
       "      <th>validation_triplicate_2019_09_13.xlsx</th>\n",
       "      <td>52.23</td>\n",
       "      <td>62.80</td>\n",
       "      <td>31.77</td>\n",
       "      <td>38.69</td>\n",
       "      <td>20.77</td>\n",
       "      <td>55.97</td>\n",
       "    </tr>\n",
       "    <tr>\n",
       "      <th>Gefitinib</th>\n",
       "      <th>validation_triplicate_2019_09_13.xlsx</th>\n",
       "      <td>29.88</td>\n",
       "      <td>29.12</td>\n",
       "      <td>47.41</td>\n",
       "      <td>26.40</td>\n",
       "      <td>-2.32</td>\n",
       "      <td>16.98</td>\n",
       "    </tr>\n",
       "    <tr>\n",
       "      <th>Vorinostat</th>\n",
       "      <th>validation_triplicate_2019_09_13.xlsx</th>\n",
       "      <td>12.48</td>\n",
       "      <td>9.18</td>\n",
       "      <td>11.36</td>\n",
       "      <td>4.37</td>\n",
       "      <td>2.63</td>\n",
       "      <td>6.82</td>\n",
       "    </tr>\n",
       "    <tr>\n",
       "      <th>Afatinib</th>\n",
       "      <th>validation_replicates_2019_06_24.xlsx</th>\n",
       "      <td>48.29</td>\n",
       "      <td>17.19</td>\n",
       "      <td>46.80</td>\n",
       "      <td>76.23</td>\n",
       "      <td>1.02</td>\n",
       "      <td>33.43</td>\n",
       "    </tr>\n",
       "    <tr>\n",
       "      <th>Docetaxel</th>\n",
       "      <th>validation_replicates_2019_06_24.xlsx</th>\n",
       "      <td>23.50</td>\n",
       "      <td>22.50</td>\n",
       "      <td>27.10</td>\n",
       "      <td>20.15</td>\n",
       "      <td>1.96</td>\n",
       "      <td>17.50</td>\n",
       "    </tr>\n",
       "    <tr>\n",
       "      <th>Epothilone B</th>\n",
       "      <th>validation_replicates_2019_06_24.xlsx</th>\n",
       "      <td>57.95</td>\n",
       "      <td>62.88</td>\n",
       "      <td>51.80</td>\n",
       "      <td>45.79</td>\n",
       "      <td>17.06</td>\n",
       "      <td>54.70</td>\n",
       "    </tr>\n",
       "    <tr>\n",
       "      <th>Obatoclax Mesylate</th>\n",
       "      <th>validation_replicates_2019_06_24.xlsx</th>\n",
       "      <td>51.94</td>\n",
       "      <td>19.14</td>\n",
       "      <td>26.85</td>\n",
       "      <td>19.29</td>\n",
       "      <td>3.61</td>\n",
       "      <td>8.80</td>\n",
       "    </tr>\n",
       "  </tbody>\n",
       "</table>\n",
       "</div>"
      ],
      "text/plain": [
       "                                                          HN120  HN137  HN148  \\\n",
       "Drug               File name                                                    \n",
       "Afatinib           validation_triplicate_2019_09_13.xlsx  43.02  35.80  61.70   \n",
       "Docetaxel          validation_triplicate_2019_09_13.xlsx  19.31  32.16  21.91   \n",
       "Doxorubicin        validation_triplicate_2019_09_13.xlsx  35.72  46.45  25.15   \n",
       "Epothilone B       validation_triplicate_2019_09_13.xlsx  52.23  62.80  31.77   \n",
       "Gefitinib          validation_triplicate_2019_09_13.xlsx  29.88  29.12  47.41   \n",
       "Vorinostat         validation_triplicate_2019_09_13.xlsx  12.48   9.18  11.36   \n",
       "Afatinib           validation_replicates_2019_06_24.xlsx  48.29  17.19  46.80   \n",
       "Docetaxel          validation_replicates_2019_06_24.xlsx  23.50  22.50  27.10   \n",
       "Epothilone B       validation_replicates_2019_06_24.xlsx  57.95  62.88  51.80   \n",
       "Obatoclax Mesylate validation_replicates_2019_06_24.xlsx  51.94  19.14  26.85   \n",
       "\n",
       "                                                          HN159  HN160  HN182  \n",
       "Drug               File name                                                   \n",
       "Afatinib           validation_triplicate_2019_09_13.xlsx  74.58   3.10  32.91  \n",
       "Docetaxel          validation_triplicate_2019_09_13.xlsx  18.72  13.78  29.41  \n",
       "Doxorubicin        validation_triplicate_2019_09_13.xlsx  22.23  14.64  45.25  \n",
       "Epothilone B       validation_triplicate_2019_09_13.xlsx  38.69  20.77  55.97  \n",
       "Gefitinib          validation_triplicate_2019_09_13.xlsx  26.40  -2.32  16.98  \n",
       "Vorinostat         validation_triplicate_2019_09_13.xlsx   4.37   2.63   6.82  \n",
       "Afatinib           validation_replicates_2019_06_24.xlsx  76.23   1.02  33.43  \n",
       "Docetaxel          validation_replicates_2019_06_24.xlsx  20.15   1.96  17.50  \n",
       "Epothilone B       validation_replicates_2019_06_24.xlsx  45.79  17.06  54.70  \n",
       "Obatoclax Mesylate validation_replicates_2019_06_24.xlsx  19.29   3.61   8.80  "
      ]
     },
     "execution_count": 71,
     "metadata": {},
     "output_type": "execute_result"
    }
   ],
   "source": [
    "obs_kill_df.head(10)"
   ]
  },
  {
   "cell_type": "code",
   "execution_count": 72,
   "metadata": {},
   "outputs": [
    {
     "data": {
      "text/html": [
       "<div>\n",
       "<style scoped>\n",
       "    .dataframe tbody tr th:only-of-type {\n",
       "        vertical-align: middle;\n",
       "    }\n",
       "\n",
       "    .dataframe tbody tr th {\n",
       "        vertical-align: top;\n",
       "    }\n",
       "\n",
       "    .dataframe thead th {\n",
       "        text-align: right;\n",
       "    }\n",
       "</style>\n",
       "<table border=\"1\" class=\"dataframe\">\n",
       "  <thead>\n",
       "    <tr style=\"text-align: right;\">\n",
       "      <th></th>\n",
       "      <th>patient</th>\n",
       "      <th>drug_id</th>\n",
       "      <th>kill</th>\n",
       "      <th>drug_name</th>\n",
       "    </tr>\n",
       "  </thead>\n",
       "  <tbody>\n",
       "    <tr>\n",
       "      <th>4</th>\n",
       "      <td>HN120</td>\n",
       "      <td>1007</td>\n",
       "      <td>10.28</td>\n",
       "      <td>Docetaxel</td>\n",
       "    </tr>\n",
       "    <tr>\n",
       "      <th>5</th>\n",
       "      <td>HN120</td>\n",
       "      <td>1010</td>\n",
       "      <td>16.60</td>\n",
       "      <td>Gefitinib</td>\n",
       "    </tr>\n",
       "    <tr>\n",
       "      <th>6</th>\n",
       "      <td>HN120</td>\n",
       "      <td>1012</td>\n",
       "      <td>60.44</td>\n",
       "      <td>Vorinostat</td>\n",
       "    </tr>\n",
       "    <tr>\n",
       "      <th>24</th>\n",
       "      <td>HN120</td>\n",
       "      <td>133</td>\n",
       "      <td>86.28</td>\n",
       "      <td>Doxorubicin</td>\n",
       "    </tr>\n",
       "    <tr>\n",
       "      <th>44</th>\n",
       "      <td>HN120</td>\n",
       "      <td>182</td>\n",
       "      <td>75.53</td>\n",
       "      <td>Obatoclax Mesylate</td>\n",
       "    </tr>\n",
       "  </tbody>\n",
       "</table>\n",
       "</div>"
      ],
      "text/plain": [
       "   patient  drug_id   kill           drug_name\n",
       "4    HN120     1007  10.28           Docetaxel\n",
       "5    HN120     1010  16.60           Gefitinib\n",
       "6    HN120     1012  60.44          Vorinostat\n",
       "24   HN120      133  86.28         Doxorubicin\n",
       "44   HN120      182  75.53  Obatoclax Mesylate"
      ]
     },
     "execution_count": 72,
     "metadata": {},
     "output_type": "execute_result"
    }
   ],
   "source": [
    "pred_single_df = pred_single_df[pred_single_df['drug_id'].isin(single_drug_id_list)]\n",
    "\n",
    "pred_single_df.head()"
   ]
  },
  {
   "cell_type": "code",
   "execution_count": 73,
   "metadata": {},
   "outputs": [],
   "source": [
    "# pred_combi_df.head()"
   ]
  },
  {
   "cell_type": "markdown",
   "metadata": {},
   "source": [
    "### Compare for all lines and drugs"
   ]
  },
  {
   "cell_type": "code",
   "execution_count": 74,
   "metadata": {},
   "outputs": [],
   "source": [
    "pred_single_kill_df = pred_single_df[['patient', 'drug_name', 'kill']].pivot(index='drug_name', columns='patient', values='kill')\n",
    "\n",
    "obs_single_kill_df = obs_kill_df.loc[single_drug_list, patient_list]"
   ]
  },
  {
   "cell_type": "code",
   "execution_count": 75,
   "metadata": {},
   "outputs": [],
   "source": [
    "sns.set(font_scale=1.25)\n",
    "sns.set_style('ticks')\n",
    "\n",
    "cmap = plt.cm.get_cmap('tab10', 10)\n",
    "colors = cmap(np.linspace(0, 1, 10))\n",
    "patient_color_dict = dict(zip(patient_list, colors[0:len(patient_list)]))\n",
    "drug_color_dict = dict(zip(single_drug_list, colors[0:len(single_drug_list)]))\n",
    "combi_color_dict = dict(zip(combi_drug_list, colors[0:len(combi_drug_list)]))\n",
    "\n",
    "drug_marker_dict = dict(zip(single_drug_list, ['o', 'v', '^', '<', '>', 'd', 's']))\n",
    "combi_marker_dict = dict(zip(combi_drug_list, ['p', '*', 'P', 'X', 'h']))"
   ]
  },
  {
   "cell_type": "markdown",
   "metadata": {},
   "source": [
    "##### For single drug"
   ]
  },
  {
   "cell_type": "code",
   "execution_count": 76,
   "metadata": {},
   "outputs": [
    {
     "name": "stdout",
     "output_type": "stream",
     "text": [
      "Single drug | Pearson r = 0.69 (3.39e-11)\n",
      "Single drug [R-sq 14.64%]\n"
     ]
    },
    {
     "data": {
      "image/png": "[encoded data removed]",
      "text/plain": [
       "<Figure size 960x720 with 1 Axes>"
      ]
     },
     "metadata": {},
     "output_type": "display_data"
    }
   ],
   "source": [
    "obs_df = obs_single_kill_df.loc[single_drug_list, patient_list].stack().reset_index()\n",
    "obs_df.columns = ['Drug', 'File name', 'Patient', 'Observed % cell death']\n",
    "\n",
    "# pred_df = pred_single_kill_df.loc[single_drug_list, patient_list].stack().reset_index()\n",
    "pred_df = pred_single_kill_df.loc[[d[0] for d in obs_single_kill_df.index], patient_list].stack().reset_index()\n",
    "pred_df.columns = ['Drug', 'Patient', 'Predicted % cell death']\n",
    "\n",
    "sns.set(font_scale=1.5, style='ticks')\n",
    "fig, ax = plt.subplots(figsize=(8,6))\n",
    "\n",
    "scatter_df = pd.merge(obs_df, pred_df, how='left',left_on=['Drug', 'Patient'], right_on=['Drug', 'Patient'])\n",
    "sns.scatterplot(data=scatter_df, x='Observed % cell death', y='Predicted % cell death', hue='Drug', style='Patient', s=120, alpha=0.8, ax=ax)\n",
    "# sns.regplot(data=scatter_df, x='Observed % cell death', y='Predicted % cell death', x_ci='ci', ci=99, scatter=False, color='grey', ax=ax)\n",
    "\n",
    "vmin = scatter_df[['Observed % cell death', 'Predicted % cell death']].min().min()\n",
    "vmax = scatter_df[['Observed % cell death', 'Predicted % cell death']].max().max()\n",
    "\n",
    "ax.plot([vmin-5, vmax+5], [vmin-5, vmax+5], ls=\"--\", c=\".3\", zorder=0)\n",
    "ax.set_xlim((vmin-5, vmax+5))\n",
    "ax.set_ylim((vmin-5, vmax+5))\n",
    "\n",
    "box = ax.get_position()\n",
    "ax.set_position([box.x0, box.y0, box.width * 0.8, box.height])\n",
    "ax.legend(loc='center left', bbox_to_anchor=(1, 0.5), framealpha=0)\n",
    "\n",
    "scor, pval = stats.pearsonr(scatter_df['Observed % cell death'].values, scatter_df['Predicted % cell death'].values)\n",
    "print ('Single drug | Pearson r = {:.2f} ({:.2e})'.format(scor, pval))\n",
    "\n",
    "r2 = metrics.r2_score(scatter_df['Observed % cell death'].values, scatter_df['Predicted % cell death'].values)\n",
    "print ('Single drug [R-sq {:.2f}%]'.format(r2*100))\n",
    "\n",
    "if dosage_used == 'Median IC50':\n",
    "    ax.set_xlabel('Observed % cell death\\n(at drug-specific dosage)')\n",
    "if dosage_used == '3 fold':\n",
    "    ax.set_xlabel('Observed % cell death\\n(at 3-fold dilution)')\n",
    "else:\n",
    "    ax.set_xlabel('Observed % cell death\\n({})'.format(dosage_used))\n",
    "\n",
    "sns.despine()"
   ]
  },
  {
   "cell_type": "code",
   "execution_count": null,
   "metadata": {},
   "outputs": [],
   "source": []
  }
 ],
 "metadata": {
  "kernelspec": {
   "display_name": "Python 3",
   "language": "python",
   "name": "python3"
  },
  "language_info": {
   "codemirror_mode": {
    "name": "ipython",
    "version": 3
   },
   "file_extension": ".py",
   "mimetype": "text/x-python",
   "name": "python",
   "nbconvert_exporter": "python",
   "pygments_lexer": "ipython3",
   "version": "3.7.4"
  },
  "toc": {
   "base_numbering": 1,
   "nav_menu": {},
   "number_sections": false,
   "sideBar": true,
   "skip_h1_title": false,
   "title_cell": "Table of Contents",
   "title_sidebar": "Contents",
   "toc_cell": false,
   "toc_position": {},
   "toc_section_display": true,
   "toc_window_display": false
  }
 },
 "nbformat": 4,
 "nbformat_minor": 2
}
