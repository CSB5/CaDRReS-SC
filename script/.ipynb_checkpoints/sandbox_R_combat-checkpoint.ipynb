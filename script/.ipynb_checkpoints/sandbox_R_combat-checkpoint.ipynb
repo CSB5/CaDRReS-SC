{
 "cells": [
  {
   "cell_type": "code",
   "execution_count": 5,
   "metadata": {},
   "outputs": [],
   "source": [
    "# in command line\n",
    "# chooseCRANmirror()\n",
    "# install.packages(\"BiocManager\")"
   ]
  },
  {
   "cell_type": "code",
   "execution_count": null,
   "metadata": {},
   "outputs": [
    {
     "name": "stderr",
     "output_type": "stream",
     "text": [
      "Bioconductor version 3.6 (BiocManager 1.30.10), R 3.4.2 (2017-09-28)\n",
      "Installing package(s) 'BiocVersion', 'sva'\n",
      "Warning message:\n",
      "“package ‘BiocVersion’ is not available (for R version 3.4.2)”also installing the dependencies ‘assertthat’, ‘ellipsis’, ‘glue’, ‘rlang’, ‘zeallot’, ‘bit’, ‘prettyunits’, ‘vctrs’, ‘bit64’, ‘blob’, ‘DBI’, ‘pkgconfig’, ‘plogr’, ‘formatR’, ‘BiocGenerics’, ‘IRanges’, ‘RSQLite’, ‘XML’, ‘RCurl’, ‘lambda.r’, ‘futile.options’, ‘S4Vectors’, ‘AnnotationDbi’, ‘annotate’, ‘Biobase’, ‘futile.logger’, ‘snow’, ‘genefilter’, ‘BiocParallel’, ‘matrixStats’, ‘limma’\n",
      "\n"
     ]
    }
   ],
   "source": [
    "BiocManager::install(\"sva\")"
   ]
  },
  {
   "cell_type": "code",
   "execution_count": null,
   "metadata": {},
   "outputs": [],
   "source": [
    "library(sva)\n",
    "\n",
    "library(bladderbatch)\n",
    "data(bladderdata)\n",
    "dat <- bladderEset[1:50,]\n",
    "\n",
    "pheno = pData(dat)\n",
    "edata = exprs(dat)\n",
    "batch = pheno$batch\n",
    "mod = model.matrix(~as.factor(cancer), data=pheno)\n",
    "\n",
    "# parametric adjustment\n",
    "combat_edata1 = ComBat(dat=edata, batch=batch, mod=NULL, par.prior=TRUE, prior.plots=FALSE)\n",
    "\n",
    "# non-parametric adjustment, mean-only version\n",
    "combat_edata2 = ComBat(dat=edata, batch=batch, mod=NULL, par.prior=FALSE, mean.only=TRUE)\n",
    "\n",
    "# reference-batch version, with covariates\n",
    "combat_edata3 = ComBat(dat=edata, batch=batch, mod=mod, par.prior=TRUE, ref.batch=3)"
   ]
  },
  {
   "cell_type": "code",
   "execution_count": null,
   "metadata": {},
   "outputs": [],
   "source": []
  },
  {
   "cell_type": "code",
   "execution_count": null,
   "metadata": {},
   "outputs": [],
   "source": []
  }
 ],
 "metadata": {
  "kernelspec": {
   "display_name": "R",
   "language": "R",
   "name": "ir"
  },
  "language_info": {
   "codemirror_mode": "r",
   "file_extension": ".r",
   "mimetype": "text/x-r-source",
   "name": "R",
   "pygments_lexer": "r",
   "version": "3.4.2"
  }
 },
 "nbformat": 4,
 "nbformat_minor": 2
}
