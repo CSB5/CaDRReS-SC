{
 "cells": [
  {
   "cell_type": "code",
   "execution_count": 1,
   "metadata": {},
   "outputs": [],
   "source": [
    "import os, pickle, re, glob, time\n",
    "import pandas as pd\n",
    "import numpy as np\n",
    "np.set_printoptions(precision=2)\n",
    "\n",
    "import matplotlib.pyplot as plt\n",
    "import matplotlib.patches as patches\n",
    "import seaborn as sns\n",
    "from scipy import stats\n",
    "from collections import Counter\n",
    "\n",
    "sns.set_style('ticks')\n",
    "pd.set_option('precision', 2)\n",
    "\n",
    "%matplotlib inline\n",
    "import warnings\n",
    "warnings.filterwarnings('ignore')"
   ]
  },
  {
   "cell_type": "markdown",
   "metadata": {},
   "source": [
    "### Figure 2C (v1)\n",
    "\n",
    "- PhD_NUS\\Research\\CaDRReS2\\output\\ess_gene_pcor\n",
    "    - gdsc_drugMedianGE0_cv01_10dim_pred.csv vs gdsc_drugMedianGE0_cv01_10dim_obs.csv. For train add _train.\n",
    "    - gdsc_drugMedianGE0_cv01_wo_bp_10dim_pred.csv vs gdsc_drugMedianGE0_cv01_10dim_obs.csv. For train add _train.\n",
    "- PhD_NUS\\Research\\CaDRReS2\\data\\drug_response\\GDSC"
   ]
  },
  {
   "cell_type": "markdown",
   "metadata": {},
   "source": [
    "##### Validation"
   ]
  },
  {
   "cell_type": "code",
   "execution_count": 4,
   "metadata": {
    "code_folding": [
     0
    ]
   },
   "outputs": [],
   "source": [
    "# ori_pred_fname_list = glob.glob('../../../../PhD_NUS/Research/CaDRReS2/output/ess_gene_pcor/gdsc_drugMedianGE0_cv0[1-5]_10dim_pred.csv')\n",
    "# ori_obs_fname_list = glob.glob('../../../../PhD_NUS/Research/CaDRReS2/output/ess_gene_pcor/gdsc_drugMedianGE0_cv0[1-5]_10dim_obs.csv')\n",
    "# new_pred_fname_list = glob.glob('../../../../PhD_NUS/Research/CaDRReS2/output/ess_gene_pcor/gdsc_drugMedianGE0_cv0[1-5]_wo_bp_10dim_pred.csv')\n",
    "# new_obs_fname_list = glob.glob('../../../../PhD_NUS/Research/CaDRReS2/output/ess_gene_pcor/gdsc_drugMedianGE0_cv0[1-5]_wo_bp_10dim_obs.csv')"
   ]
  },
  {
   "cell_type": "code",
   "execution_count": 5,
   "metadata": {
    "code_folding": [
     0
    ]
   },
   "outputs": [],
   "source": [
    "# ori_pred_df_list = []\n",
    "# ori_obs_df_list = []\n",
    "\n",
    "# new_pred_df_list = []\n",
    "# new_obs_df_list = []\n",
    "\n",
    "# for fname in sorted(ori_pred_fname_list):\n",
    "#     ori_pred_df_list.append(pd.read_csv(fname, index_col=0))\n",
    "    \n",
    "# for fname in sorted(ori_obs_fname_list):\n",
    "#     ori_obs_df_list.append(pd.read_csv(fname, index_col=0))\n",
    "    \n",
    "# for fname in sorted(new_pred_fname_list):\n",
    "#     new_pred_df_list.append(pd.read_csv(fname, index_col=0))\n",
    "    \n",
    "# for fname in sorted(new_obs_fname_list):\n",
    "#     new_obs_df_list.append(pd.read_csv(fname, index_col=0))\n",
    "    \n",
    "# drug_list = ori_pred_df_list[0].columns\n",
    "# len(drug_list)"
   ]
  },
  {
   "cell_type": "code",
   "execution_count": 2,
   "metadata": {
    "code_folding": [
     0
    ]
   },
   "outputs": [],
   "source": [
    "# def cal_scor_per_drug(obs_df_list, pred_df_list):\n",
    "\n",
    "#     k_df_list = []\n",
    "\n",
    "#     for k in range(5):\n",
    "\n",
    "#         k_obs_df = obs_df_list[k]\n",
    "#         k_pred_df = pred_df_list[k]\n",
    "#         common_samples = sorted(list(k_obs_df.index & k_pred_df.index))\n",
    "\n",
    "#         obs_mat = np.array(obs_df_list[k])\n",
    "#         pred_mat = np.array(pred_df_list[k])\n",
    "\n",
    "#         scor_list = []\n",
    "\n",
    "#         for d, _ in enumerate(drug_list):\n",
    "#             x = obs_mat[:, d]\n",
    "#             y = pred_mat[:, d]\n",
    "\n",
    "#             sel_bool = ~np.isnan(x)\n",
    "#             x = x[sel_bool]\n",
    "#             y = y[sel_bool]\n",
    "\n",
    "#             scor, _ = stats.pearsonr(x, y)\n",
    "#             scor_list.append(scor)\n",
    "\n",
    "#         k_df = pd.DataFrame(index=range(len(drug_list)))\n",
    "#         k_df.loc[:, 'drug_id'] = drug_list\n",
    "#         k_df.loc[:, 'spearman'] = scor_list\n",
    "#         k_df.loc[:, 'fold'] = k + 1\n",
    "\n",
    "#         k_df_list.append(k_df)\n",
    "\n",
    "#     scor_list = pd.concat(k_df_list).groupby('drug_id').mean().loc[drug_list, 'spearman'].values\n",
    "    \n",
    "#     return scor_list"
   ]
  },
  {
   "cell_type": "code",
   "execution_count": 6,
   "metadata": {},
   "outputs": [],
   "source": [
    "# ori_val_scor_list = cal_scor_per_drug(ori_obs_df_list, ori_pred_df_list)\n",
    "# new_val_scor_list = cal_scor_per_drug(new_obs_df_list, new_pred_df_list)"
   ]
  },
  {
   "cell_type": "code",
   "execution_count": 7,
   "metadata": {
    "scrolled": false
   },
   "outputs": [],
   "source": [
    "# sns.scatterplot(ori_val_scor_list, new_val_scor_list)\n",
    "# plt.plot((0, 0.6), (0, 0.6))"
   ]
  },
  {
   "cell_type": "code",
   "execution_count": 8,
   "metadata": {},
   "outputs": [],
   "source": [
    "# stats.ttest_ind(ori_val_scor_list, new_val_scor_list)"
   ]
  },
  {
   "cell_type": "code",
   "execution_count": 9,
   "metadata": {},
   "outputs": [],
   "source": [
    "# val_result_df = pd.DataFrame(np.array([ori_val_scor_list, new_val_scor_list]).T, columns=['CaDRReS', 'CaDRReS-SC'])\n",
    "# val_result_df = val_result_df.stack().reset_index().drop('level_0', axis=1)\n",
    "\n",
    "# val_result_df.head()"
   ]
  },
  {
   "cell_type": "code",
   "execution_count": 10,
   "metadata": {
    "code_folding": [
     0
    ]
   },
   "outputs": [],
   "source": [
    "# sns.set(font_scale=1.25, style='white')\n",
    "# fig, ax = plt.subplots(figsize=(3.5, 5))\n",
    "\n",
    "# sns.boxplot(data=val_result_df, x='level_1', y=0, fliersize=0, color='white')\n",
    "# sns.swarmplot(data=val_result_df, x='level_1', y=0, color='black', s=3, alpha=0.75)\n",
    "# # sns.violinplot(data=val_result_df, x='level_1', y=0, scale='count', inner=\"box\")\n",
    "\n",
    "# ax.set_xticklabels(ax.get_xticklabels(), rotation=45, ha='right')\n",
    "\n",
    "# plt.ylim((0, 0.8))\n",
    "# plt.xlabel('')\n",
    "# plt.ylabel('Spearman correlation\\n(predicted IC50 vs observed IC50)')\n",
    "\n",
    "# plt.tight_layout()\n",
    "# plt.savefig('../figure/Figure2C.svg')"
   ]
  },
  {
   "cell_type": "markdown",
   "metadata": {},
   "source": [
    "##### Tranining"
   ]
  },
  {
   "cell_type": "code",
   "execution_count": 100,
   "metadata": {
    "code_folding": [
     0
    ]
   },
   "outputs": [],
   "source": [
    "# ori_pred_fname_list = glob.glob('../../../../PhD_NUS/Research/CaDRReS2/output/ess_gene_pcor/gdsc_drugMedianGE0_cv0[1-5]_10dim_pred_train.csv')\n",
    "# ori_obs_fname_list = glob.glob('../../../../PhD_NUS/Research/CaDRReS2/output/ess_gene_pcor/gdsc_drugMedianGE0_cv0[1-5]_10dim_obs_train.csv')\n",
    "# new_pred_fname_list = glob.glob('../../../../PhD_NUS/Research/CaDRReS2/output/ess_gene_pcor/gdsc_drugMedianGE0_cv0[1-5]_wo_bp_10dim_pred_train.csv')\n",
    "# new_obs_fname_list = glob.glob('../../../../PhD_NUS/Research/CaDRReS2/output/ess_gene_pcor/gdsc_drugMedianGE0_cv0[1-5]_wo_bp_10dim_obs_train.csv')"
   ]
  },
  {
   "cell_type": "code",
   "execution_count": 101,
   "metadata": {
    "code_folding": [
     0
    ]
   },
   "outputs": [],
   "source": [
    "# ori_pred_df_list = []\n",
    "# ori_obs_df_list = []\n",
    "\n",
    "# new_pred_df_list = []\n",
    "# new_obs_df_list = []\n",
    "\n",
    "# for fname in sorted(ori_pred_fname_list):\n",
    "#     ori_pred_df_list.append(pd.read_csv(fname, index_col=0))\n",
    "    \n",
    "# for fname in sorted(ori_obs_fname_list):\n",
    "#     ori_obs_df_list.append(pd.read_csv(fname, index_col=0))\n",
    "    \n",
    "# for fname in sorted(new_pred_fname_list):\n",
    "#     new_pred_df_list.append(pd.read_csv(fname, index_col=0))\n",
    "    \n",
    "# for fname in sorted(new_obs_fname_list):\n",
    "#     new_obs_df_list.append(pd.read_csv(fname, index_col=0))\n"
   ]
  },
  {
   "cell_type": "code",
   "execution_count": 102,
   "metadata": {
    "code_folding": [
     0
    ]
   },
   "outputs": [],
   "source": [
    "# ori_train_scor_list = cal_scor_per_drug(ori_obs_df_list, ori_pred_df_list)\n",
    "# new_train_scor_list = cal_scor_per_drug(new_obs_df_list, new_pred_df_list)\n",
    "\n",
    "# sns.scatterplot(ori_train_scor_list, new_train_scor_list)\n",
    "# plt.plot((0.3, 0.8), (0.3, 0.8))"
   ]
  },
  {
   "cell_type": "markdown",
   "metadata": {},
   "source": [
    "##### Show overfitting"
   ]
  },
  {
   "cell_type": "code",
   "execution_count": 103,
   "metadata": {
    "code_folding": [
     0
    ]
   },
   "outputs": [],
   "source": [
    "# sns.scatterplot(ori_train_scor_list, ori_val_scor_list)\n",
    "# plt.plot((0, 0.6), (0, 0.6))"
   ]
  },
  {
   "cell_type": "code",
   "execution_count": 104,
   "metadata": {
    "code_folding": [
     0
    ]
   },
   "outputs": [],
   "source": [
    "# sns.scatterplot(new_train_scor_list, new_val_scor_list)\n",
    "# plt.plot((0, 0.6), (0, 0.6))"
   ]
  },
  {
   "cell_type": "markdown",
   "metadata": {},
   "source": [
    "### Figure 2C (v2)"
   ]
  },
  {
   "cell_type": "code",
   "execution_count": 2,
   "metadata": {},
   "outputs": [
    {
     "data": {
      "text/plain": [
       "81"
      ]
     },
     "execution_count": 2,
     "metadata": {},
     "output_type": "execute_result"
    }
   ],
   "source": [
    "# model_spec_name_list = ['cadrres', 'cadrres-wo-sample-bias', 'cadrres-wo-sample-bias-weight']\n",
    "model_spec_name_list = ['cadrres', 'cadrres-wo-sample-bias-weight']\n",
    "\n",
    "score_df = pd.read_excel('../result/cv_pred/cv_score_summary.xlsx')\n",
    "score_df = score_df[score_df['model'].isin(model_spec_name_list)]\n",
    "\n",
    "len(set(score_df['drug_id']))"
   ]
  },
  {
   "cell_type": "code",
   "execution_count": 3,
   "metadata": {},
   "outputs": [
    {
     "data": {
      "text/plain": [
       "(array([ 2.,  0.,  0.,  1.,  1.,  1.,  3.,  4.,  2.,  7.,  6.,  6.,  6.,\n",
       "         6.,  4., 10.,  4.,  6.,  6.,  6.]),\n",
       " array([ 6.58, 11.21, 15.83, 20.46, 25.08, 29.71, 34.33, 38.96, 43.58,\n",
       "        48.21, 52.83, 57.46, 62.09, 66.71, 71.34, 75.96, 80.59, 85.21,\n",
       "        89.84, 94.46, 99.09]),\n",
       " <a list of 20 Patch objects>)"
      ]
     },
     "execution_count": 3,
     "metadata": {},
     "output_type": "execute_result"
    },
    {
     "data": {
      "image/png": "[encoded data removed]",
      "text/plain": [
       "<Figure size 432x288 with 1 Axes>"
      ]
     },
     "metadata": {
      "needs_background": "light"
     },
     "output_type": "display_data"
    }
   ],
   "source": [
    "plt.hist(score_df[score_df['model']=='cadrres-wo-sample-bias-weight']['precent_sensitive'], bins=20)"
   ]
  },
  {
   "cell_type": "markdown",
   "metadata": {},
   "source": [
    "##### Scatter plot"
   ]
  },
  {
   "cell_type": "code",
   "execution_count": 4,
   "metadata": {},
   "outputs": [],
   "source": [
    "# sns.regplot(data=score_df[score_df['model']=='cadrres-wo-sample-bias-weight'], x='precent_sensitive', y='precision_sensitive')"
   ]
  },
  {
   "cell_type": "code",
   "execution_count": 5,
   "metadata": {},
   "outputs": [],
   "source": [
    "# sns.regplot(data=score_df[score_df['model']=='cadrres'], x='precent_sensitive', y='precision_sensitive')"
   ]
  },
  {
   "cell_type": "code",
   "execution_count": 6,
   "metadata": {
    "code_folding": []
   },
   "outputs": [
    {
     "data": {
      "image/png": "[encoded data removed]",
      "text/plain": [
       "<Figure size 576x288 with 2 Axes>"
      ]
     },
     "metadata": {
      "needs_background": "light"
     },
     "output_type": "display_data"
    }
   ],
   "source": [
    "x_model = 'cadrres'\n",
    "y_model = 'cadrres-wo-sample-bias-weight'\n",
    "# y_model = 'cadrres-wo-sample-bias'\n",
    "\n",
    "fig, axes = plt.subplots(nrows=1, ncols=2, figsize=(8,4))\n",
    "\n",
    "for ax, s_name in zip(axes.flatten(), ['accurary', 'MAE']):\n",
    "    x = score_df[score_df['model'] == x_model][s_name].values\n",
    "    y = score_df[score_df['model'] == y_model][s_name].values\n",
    "    \n",
    "    sel = [~np.isnan(x) & ~np.isnan(y)]\n",
    "    x = x[sel]\n",
    "    y = y[sel]\n",
    "    \n",
    "    min_val = np.nanmin([np.nanmin(x), np.nanmin(y)])\n",
    "    max_val = np.nanmax([np.nanmax(x), np.nanmax(y)])\n",
    "    margin = 0.05 * max_val\n",
    "    min_val = min_val-margin\n",
    "    max_val = max_val+margin\n",
    "\n",
    "    ax.scatter(x, y, s=20, color='black', linewidth=0.5, alpha=0.5)\n",
    "    ax.plot((min_val, max_val), (min_val, max_val), color='black', linestyle=':')\n",
    "    ax.set_xlim((min_val, max_val))\n",
    "    ax.set_ylim((min_val, max_val))\n",
    "    \n",
    "    if s_name in ['MAE']:\n",
    "        polygon = patches.Polygon(np.array([(min_val, min_val), (max_val, min_val), (max_val, max_val)]),linewidth=0,edgecolor='green',facecolor='lightblue',alpha=0.2)\n",
    "    else:\n",
    "        polygon = patches.Polygon(np.array([(min_val, min_val), (min_val, max_val), (max_val, max_val)]),linewidth=0,edgecolor='green',facecolor='lightblue',alpha=0.2)\n",
    "    ax.add_patch(polygon)\n",
    "    \n",
    "    ax.set_xlabel('CaDRReS')\n",
    "    ax.set_ylabel('CaDRReS-SC')\n",
    "    \n",
    "    \n",
    "axes.flatten()[0].set_title('Accuracy')\n",
    "axes.flatten()[1].set_title('Mean Absolute Error')\n",
    "    \n",
    "plt.tight_layout()\n",
    "plt.savefig('../figure/Figure2C_scatter.svg')"
   ]
  },
  {
   "cell_type": "code",
   "execution_count": 12,
   "metadata": {},
   "outputs": [
    {
     "name": "stdout",
     "output_type": "stream",
     "text": [
      "accurary\n",
      "0.5061728395061729 0.49382716049382713\n",
      "-0.0069026473132480165\n",
      "MAE\n",
      "0.14814814814814814 0.8518518518518519\n",
      "-0.09040271806280181\n"
     ]
    }
   ],
   "source": [
    "m1 = 'cadrres'\n",
    "m2 = 'cadrres-wo-sample-bias-weight'\n",
    "\n",
    "for s_name in ['accurary', 'MAE']:\n",
    "    s_df = score_df[['drug_id', 'model', s_name]].pivot(index='drug_id', columns='model', values=s_name)\n",
    "    print (s_name)\n",
    "    \n",
    "    print (np.sum(s_df[m1] <= s_df[m2]) / s_df[m1].shape[0], np.sum(s_df[m1] > s_df[m2]) / s_df[m1].shape[0])\n",
    "    print (np.mean((s_df[m2] - s_df[m1]) / s_df[m1]))"
   ]
  },
  {
   "cell_type": "code",
   "execution_count": 13,
   "metadata": {},
   "outputs": [
    {
     "data": {
      "text/plain": [
       "0"
      ]
     },
     "execution_count": 13,
     "metadata": {},
     "output_type": "execute_result"
    }
   ],
   "source": [
    "np.sum(s_df[m2].isnull())"
   ]
  },
  {
   "cell_type": "markdown",
   "metadata": {},
   "source": [
    "##### Boxplot"
   ]
  },
  {
   "cell_type": "code",
   "execution_count": 9,
   "metadata": {},
   "outputs": [],
   "source": [
    "stacked_score_df = score_df.set_index(['drug_id', 'model']).stack().reset_index()\n",
    "stacked_score_df.columns = ['drug_id', 'model', 'score_name', 'score']"
   ]
  },
  {
   "cell_type": "code",
   "execution_count": 10,
   "metadata": {
    "scrolled": false
   },
   "outputs": [
    {
     "name": "stdout",
     "output_type": "stream",
     "text": [
      "Ttest_relResult(statistic=1.4359812045784726, pvalue=0.15490652369184102)\n"
     ]
    },
    {
     "data": {
      "image/png": "[encoded data removed]",
      "text/plain": [
       "<Figure size 252x360 with 1 Axes>"
      ]
     },
     "metadata": {},
     "output_type": "display_data"
    }
   ],
   "source": [
    "sns.set(font_scale=1.25, style='ticks')\n",
    "\n",
    "fig, ax = plt.subplots(figsize=(3.5, 5))\n",
    "\n",
    "s_name = 'accurary' # accurary, spearman | MAE | f1 | f1_sensitive | precision_sensitive\n",
    "\n",
    "df = stacked_score_df[stacked_score_df['score_name']==s_name]\n",
    "\n",
    "pivot_df = df.pivot(index='drug_id', columns='model', values='score')\n",
    "x = pivot_df[pivot_df.columns[0]].values\n",
    "y = pivot_df[pivot_df.columns[1]].values\n",
    "print (stats.ttest_rel(x, y))\n",
    "\n",
    "# sns.violinplot(data=df, x='model', y='score', color='lightgrey', inner='box', ax=ax)\n",
    "sns.swarmplot(data=df, x='model', y='score', color='black', s=3, alpha=.75, ax=ax)\n",
    "sns.boxplot(data=df, x='model', y='score', color='white', fliersize=0, ax=ax)\n",
    "ax.set_xticklabels(['CaDRReS', 'CaDRReS-SC'], rotation=45, ha='right') # 'CaDRReS\\nno-bias', \n",
    "\n",
    "ax.set_ylabel(s_name[0].upper() + s_name[1:])\n",
    "ax.set_xlabel('')\n",
    "\n",
    "# ax.set_ylim((0.5, 4.5))\n",
    "# ax.set_ylim((0, 0.6))\n",
    "# ax.set_ylim((0.4, 1.09))\n",
    "\n",
    "plt.tight_layout()\n",
    "plt.savefig('../figure/Figure2C_{}.svg'.format(s_name))"
   ]
  },
  {
   "cell_type": "markdown",
   "metadata": {},
   "source": [
    "### Figure 2C (v2 HNSC)"
   ]
  },
  {
   "cell_type": "code",
   "execution_count": 322,
   "metadata": {
    "code_folding": [
     0
    ]
   },
   "outputs": [],
   "source": [
    "# # model_spec_name_list = ['cadrres', 'cadrres-wo-sample-bias', 'cadrres-wo-sample-bias-weight']\n",
    "# model_spec_name_list = ['cadrres', 'cadrres-wo-sample-bias-weight_HNSC']\n",
    "\n",
    "# score_df = pd.read_excel('../result/cv_pred/cv_score_summary_HNSC.xlsx')\n",
    "# score_df = score_df[score_df['precent_sensitive'] >= 50]\n",
    "# score_df = score_df[score_df['model'].isin(model_spec_name_list)]\n",
    "\n",
    "# len(set(score_df['drug_id']))"
   ]
  },
  {
   "cell_type": "code",
   "execution_count": 323,
   "metadata": {},
   "outputs": [],
   "source": [
    "# plt.hist(score_df[score_df['model']=='cadrres']['precent_sensitive'], bins=20)"
   ]
  },
  {
   "cell_type": "markdown",
   "metadata": {},
   "source": [
    "##### Scatter plot"
   ]
  },
  {
   "cell_type": "code",
   "execution_count": 324,
   "metadata": {
    "code_folding": [
     0,
     6
    ]
   },
   "outputs": [],
   "source": [
    "# x_model = 'cadrres'\n",
    "# y_model = 'cadrres-wo-sample-bias-weight_HNSC'\n",
    "# # y_model = 'cadrres-wo-sample-bias'\n",
    "\n",
    "# fig, axes = plt.subplots(nrows=1, ncols=2, figsize=(8,4))\n",
    "\n",
    "# for ax, s_name in zip(axes.flatten(), ['accurary', 'MAE']):\n",
    "#     x = score_df[score_df['model'] == x_model][s_name].values\n",
    "#     y = score_df[score_df['model'] == y_model][s_name].values\n",
    "    \n",
    "#     sel = [~np.isnan(x) & ~np.isnan(y)]\n",
    "#     x = x[sel]\n",
    "#     y = y[sel]\n",
    "    \n",
    "#     min_val = np.nanmin([np.nanmin(x), np.nanmin(y)])\n",
    "#     max_val = np.nanmax([np.nanmax(x), np.nanmax(y)])\n",
    "#     margin = 0.05 * max_val\n",
    "#     min_val = min_val-margin\n",
    "#     max_val = max_val+margin\n",
    "\n",
    "#     ax.scatter(x, y, s=20, color='black', linewidth=0.5, alpha=0.5)\n",
    "#     ax.plot((min_val, max_val), (min_val, max_val), color='black', linestyle=':')\n",
    "#     ax.set_xlim((min_val, max_val))\n",
    "#     ax.set_ylim((min_val, max_val))\n",
    "    \n",
    "#     if s_name in ['MAE']:\n",
    "#         polygon = patches.Polygon(np.array([(min_val, min_val), (max_val, min_val), (max_val, max_val)]),linewidth=0,edgecolor='green',facecolor='lightblue',alpha=0.2)\n",
    "#     else:\n",
    "#         polygon = patches.Polygon(np.array([(min_val, min_val), (min_val, max_val), (max_val, max_val)]),linewidth=0,edgecolor='green',facecolor='lightblue',alpha=0.2)\n",
    "#     ax.add_patch(polygon)\n",
    "    \n",
    "#     ax.set_xlabel('CaDRReS')\n",
    "#     ax.set_ylabel('CaDRReS-SC')\n",
    "\n",
    "# axes.flatten()[0].set_title('Accurary')\n",
    "# axes.flatten()[1].set_title('Mean Absolute Error')\n",
    "    \n",
    "# plt.tight_layout()\n",
    "# plt.savefig('../figure/Figure2C_scatter_HNSC.svg')"
   ]
  },
  {
   "cell_type": "markdown",
   "metadata": {},
   "source": [
    "##### Boxplot"
   ]
  },
  {
   "cell_type": "code",
   "execution_count": 320,
   "metadata": {
    "code_folding": [
     0
    ]
   },
   "outputs": [],
   "source": [
    "# stacked_score_df = score_df.set_index(['drug_id', 'model']).stack().reset_index()\n",
    "# stacked_score_df.columns = ['drug_id', 'model', 'score_name', 'score']"
   ]
  },
  {
   "cell_type": "code",
   "execution_count": 325,
   "metadata": {
    "code_folding": [
     0
    ],
    "scrolled": false
   },
   "outputs": [],
   "source": [
    "# sns.set(font_scale=1.25, style='ticks')\n",
    "\n",
    "# fig, ax = plt.subplots(figsize=(3.5, 5))\n",
    "\n",
    "# s_name = 'MAE' # accurary, spearman | MAE | f1 | f1_sensitive | precision_sensitive\n",
    "\n",
    "# df = stacked_score_df[stacked_score_df['score_name']==s_name]\n",
    "\n",
    "# pivot_df = df.pivot(index='drug_id', columns='model', values='score')\n",
    "# x = pivot_df[pivot_df.columns[0]].values\n",
    "# y = pivot_df[pivot_df.columns[1]].values\n",
    "# print (stats.ttest_rel(x, y))\n",
    "\n",
    "# # sns.violinplot(data=df, x='model', y='score', color='lightgrey', inner='box', ax=ax)\n",
    "# sns.swarmplot(data=df, x='model', y='score', color='black', s=3, alpha=.75, ax=ax)\n",
    "# sns.boxplot(data=df, x='model', y='score', color='white', fliersize=0, ax=ax)\n",
    "# ax.set_xticklabels(['CaDRReS', 'CaDRReS-SC'], rotation=45, ha='right') # 'CaDRReS\\nno-bias', \n",
    "\n",
    "# ax.set_ylabel(s_name[0].upper() + s_name[1:])\n",
    "# ax.set_xlabel('')\n",
    "\n",
    "# # ax.set_ylim((0.5, 4.5))\n",
    "# # ax.set_ylim((0, 0.6))\n",
    "# # ax.set_ylim((0.4, 1.09))\n",
    "    \n",
    "# plt.tight_layout()\n",
    "# plt.savefig('../figure/Figure2C_{}_HNSC.svg'.format(s_name))"
   ]
  },
  {
   "cell_type": "markdown",
   "metadata": {},
   "source": [
    "### Supplementary"
   ]
  },
  {
   "cell_type": "code",
   "execution_count": 14,
   "metadata": {},
   "outputs": [],
   "source": [
    "import matplotlib.patches as patches"
   ]
  },
  {
   "cell_type": "code",
   "execution_count": 15,
   "metadata": {},
   "outputs": [],
   "source": [
    "def logistic(x_vals, x0, k):\n",
    "    return 100 / (1 + np.e**(-k * (x_vals - x0)))"
   ]
  },
  {
   "cell_type": "code",
   "execution_count": 16,
   "metadata": {},
   "outputs": [
    {
     "data": {
      "image/png": "[encoded data removed]",
      "text/plain": [
       "<Figure size 432x324 with 1 Axes>"
      ]
     },
     "metadata": {},
     "output_type": "display_data"
    }
   ],
   "source": [
    "size = 7.5\n",
    "\n",
    "dosages = np.arange(-size, size, 0.1)\n",
    "\n",
    "response_dict = {}\n",
    "response_dict['i'] = logistic(dosages, 6-size, 1)\n",
    "response_dict['j'] = logistic(dosages, 4-size, 2)\n",
    "response_dict['k'] = logistic(dosages, 11-size, 2)\n",
    "response_dict['l'] = logistic(dosages, 12.5-size, 2)\n",
    "\n",
    "color_dict = {}\n",
    "color_dict['i'] = 'seagreen'\n",
    "color_dict['j'] = 'lightseagreen'\n",
    "color_dict['k'] = 'sienna'\n",
    "color_dict['l'] = 'chocolate'\n",
    "\n",
    "sns.set(font_scale=1.5, style='white')\n",
    "fig, ax = plt.subplots(figsize=(6, 4.5))\n",
    "\n",
    "for d, resp in response_dict.items():\n",
    "    ax.plot(dosages, resp, label=d, linewidth=2.5, alpha=0.7, color=color_dict[d])\n",
    "    \n",
    "ax.axhline(y=50, linestyle='--', color='grey')\n",
    "    \n",
    "rect = patches.Rectangle((-size,-5),size,110,linewidth=0,edgecolor='green',facecolor='lightblue', hatch='///', alpha=0.2)\n",
    "ax.add_patch(rect)\n",
    "    \n",
    "ax.set_xlim((-size, size))\n",
    "ax.set_ylim((-5, 105))\n",
    "ax.set_xlabel('Drug dosage; log2(uM)')\n",
    "ax.set_ylabel('% cell death')\n",
    "plt.legend(fontsize=15)\n",
    "\n",
    "plt.tight_layout()\n",
    "\n",
    "plt.savefig('../figure/Figure2D.svg')"
   ]
  },
  {
   "cell_type": "markdown",
   "metadata": {},
   "source": [
    "### Figure 2D\n",
    "\n",
    "- CaDRReS_package/notebook/cadrres_train_models_sample_weight.ipynb\n",
    "- CaDRReS_package/notebook/todo_cadrres_predict_with_gdsc_model.ipynb"
   ]
  },
  {
   "cell_type": "code",
   "execution_count": 17,
   "metadata": {},
   "outputs": [],
   "source": [
    "cadrres_model_dict2 = pickle.load(open('../../CaDRReS_package/output_weighted/hn_84_drug_cw_dw10_100000_param_dict.pickle', 'rb'))\n",
    "cadrres_output_dict2 = pickle.load(open('../../CaDRReS_package/output_weighted/hn_84_drug_cw_dw10_100000_output_dict.pickle', 'rb'))"
   ]
  },
  {
   "cell_type": "code",
   "execution_count": 18,
   "metadata": {},
   "outputs": [],
   "source": [
    "gdsc_sample_df = pd.read_csv('../../CaDRReS_package/data/drug_response/GDSC_tissue_info.csv', index_col=0)\n",
    "gdsc_sample_df.index = gdsc_sample_df.index.astype(str)\n",
    "\n",
    "gdsc_sample_list = pd.read_csv('../../CaDRReS_package/data/drug_response/gdsc_all_abs_ic50_bayesian_sigmoid.csv', index_col=0).index.astype(str)\n",
    "\n",
    "gdsc_hn_sample_list = gdsc_sample_df[gdsc_sample_df['TCGA_CLASS']=='HNSC'].index\n",
    "\n",
    "gdsc_drug_df = pd.read_excel('../../CaDRReS_package/data/drug_response/05_drug_ref_dosage.xlsx', index_col=0)\n",
    "gdsc_drug_df = gdsc_drug_df[gdsc_drug_df['num_dosage']==9]\n",
    "gdsc_drug_df.index = gdsc_drug_df.index.astype(str)"
   ]
  },
  {
   "cell_type": "code",
   "execution_count": 19,
   "metadata": {},
   "outputs": [
    {
     "data": {
      "text/plain": [
       "Drug Name                                  Afatinib\n",
       "Synonyms                  BIBW2992, Tovok, Gilotrif\n",
       "Target                                  ERBB2, EGFR\n",
       "Target Pathway                       EGFR signaling\n",
       "Selleckchem Cat#                              S1011\n",
       "CAS number                              439081-18-2\n",
       "PubCHEM                                    10184653\n",
       "Others                                          NaN\n",
       "Anti-Cancer                             Anti-Cancer\n",
       "Kinase Inhibitor                   Kinase Inhibitor\n",
       "Compound                        Afatinib (BIBW2992)\n",
       "FDA approved for HN                             NaN\n",
       "AC/KI                                          True\n",
       "dif_mu                                        0.022\n",
       "dif_std                                         5.5\n",
       "variance                                         15\n",
       "entropy                                         7.6\n",
       "has_target                                    ERBB2\n",
       "log2_median_ic50                                4.8\n",
       "median_ic50                                      27\n",
       "median_ic50_9f                                    3\n",
       "log2_median_ic50_9f                             1.6\n",
       "log2_median_ic50_hn                            -1.9\n",
       "median_ic50_hn                                 0.26\n",
       "median_ic50_9f_hn                             0.029\n",
       "log2_median_ic50_9f_hn                         -5.1\n",
       "max_conc                                        0.5\n",
       "log2_max_conc                                    -1\n",
       "num_dosage                                        9\n",
       "Name: 1032, dtype: object"
      ]
     },
     "execution_count": 19,
     "metadata": {},
     "output_type": "execute_result"
    }
   ],
   "source": [
    "gdsc_drug_df.loc['1032']"
   ]
  },
  {
   "cell_type": "markdown",
   "metadata": {},
   "source": [
    "##### Plot"
   ]
  },
  {
   "cell_type": "code",
   "execution_count": 20,
   "metadata": {},
   "outputs": [],
   "source": [
    "drug_id = '1032'"
   ]
  },
  {
   "cell_type": "code",
   "execution_count": 21,
   "metadata": {},
   "outputs": [
    {
     "name": "stdout",
     "output_type": "stream",
     "text": [
      "0.3266851205900306 1.3721520453063546e-22\n"
     ]
    }
   ],
   "source": [
    "x_all = np.array(cadrres_output_dict2['obs_train_df'][[drug_id]]).flatten()\n",
    "y_all = np.array(cadrres_output_dict2['pred_train_df'][[drug_id]]).flatten()\n",
    "scor_all, pval_all = stats.spearmanr(x_all[~np.isnan(x_all)], y_all[~np.isnan(x_all)])\n",
    "print (scor_all, pval_all)"
   ]
  },
  {
   "cell_type": "code",
   "execution_count": 22,
   "metadata": {},
   "outputs": [
    {
     "name": "stdout",
     "output_type": "stream",
     "text": [
      "0.9456073338426279 3.6499833439762743e-17\n"
     ]
    }
   ],
   "source": [
    "x = np.array(cadrres_output_dict2['obs_train_df'].loc[gdsc_hn_sample_list][[drug_id]]).flatten()\n",
    "y = np.array(cadrres_output_dict2['pred_train_df'].loc[gdsc_hn_sample_list][[drug_id]]).flatten()\n",
    "scor, pval = stats.spearmanr(x[~np.isnan(x)], y[~np.isnan(x)])\n",
    "print (scor, pval)"
   ]
  },
  {
   "cell_type": "code",
   "execution_count": 23,
   "metadata": {},
   "outputs": [
    {
     "data": {
      "image/png": "[encoded data removed]",
      "text/plain": [
       "<Figure size 432x324 with 1 Axes>"
      ]
     },
     "metadata": {},
     "output_type": "display_data"
    }
   ],
   "source": [
    "sns.set(font_scale=1.5, style='white')\n",
    "fig, ax = plt.subplots(figsize=(6, 4.5))\n",
    "\n",
    "\n",
    "ax.scatter(x_all[~np.isnan(x_all)], y_all[~np.isnan(x_all)], s=30, color='grey', linewidth=0, alpha=0.2, label='All')\n",
    "ax.scatter(x[~np.isnan(x)], y[~np.isnan(x)], color='seagreen', s=25, alpha=0.8, label='Head and neck')\n",
    "# ax.axvline(x=gdsc_drug_df.loc[drug_id, 'log2_max_conc'])\n",
    "\n",
    "ax.set_xlabel('Observed IC50; log2(uM)')\n",
    "ax.set_ylabel('Predicted IC50; log2(uM)')\n",
    "\n",
    "min_val = np.nanmin(x_all)\n",
    "max_val = np.nanmax(x_all)\n",
    "margin = 1\n",
    "y_size = 7.5\n",
    "ax.plot([min_val-margin, max_val+margin], [min_val-margin, max_val+margin], ls=\"--\", c=\".3\")\n",
    "\n",
    "rect = patches.Rectangle((min_val-margin,-y_size),-(min_val-margin) ,y_size,linewidth=0,edgecolor='green',facecolor='lightblue', hatch='///', alpha=0.2)\n",
    "ax.add_patch(rect)\n",
    "\n",
    "plt.xlim((min_val-margin, max_val+margin))\n",
    "plt.ylim((-y_size, y_size))\n",
    "\n",
    "plt.tight_layout()\n",
    "\n",
    "plt.rcParams['legend.title_fontsize'] = 14\n",
    "plt.legend(fontsize=14, handletextpad=0.03, title=\"Afatinib (ERBB2)\")\n",
    "\n",
    "plt.savefig('../figure/Figure2D.svg')"
   ]
  },
  {
   "cell_type": "code",
   "execution_count": null,
   "metadata": {},
   "outputs": [],
   "source": []
  }
 ],
 "metadata": {
  "kernelspec": {
   "display_name": "Python 3",
   "language": "python",
   "name": "python3"
  },
  "language_info": {
   "codemirror_mode": {
    "name": "ipython",
    "version": 3
   },
   "file_extension": ".py",
   "mimetype": "text/x-python",
   "name": "python",
   "nbconvert_exporter": "python",
   "pygments_lexer": "ipython3",
   "version": "3.7.3"
  },
  "toc": {
   "base_numbering": 1,
   "nav_menu": {},
   "number_sections": false,
   "sideBar": true,
   "skip_h1_title": false,
   "title_cell": "Table of Contents",
   "title_sidebar": "Contents",
   "toc_cell": false,
   "toc_position": {},
   "toc_section_display": true,
   "toc_window_display": true
  }
 },
 "nbformat": 4,
 "nbformat_minor": 2
}
