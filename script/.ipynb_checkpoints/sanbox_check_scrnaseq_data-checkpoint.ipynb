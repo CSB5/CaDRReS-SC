{
 "cells": [
  {
   "cell_type": "code",
   "execution_count": 1,
   "metadata": {},
   "outputs": [],
   "source": [
    "import os, pickle, re, glob, time\n",
    "import pandas as pd\n",
    "import numpy as np\n",
    "np.set_printoptions(precision=2)\n",
    "\n",
    "import matplotlib.pyplot as plt\n",
    "import matplotlib.patches as patches\n",
    "import seaborn as sns\n",
    "from scipy import stats\n",
    "from collections import Counter\n",
    "\n",
    "sns.set_style('ticks')\n",
    "pd.set_option('precision', 2)\n",
    "\n",
    "%matplotlib inline\n",
    "import warnings\n",
    "warnings.filterwarnings('ignore')"
   ]
  },
  {
   "cell_type": "markdown",
   "metadata": {},
   "source": [
    "##### Read cell info files"
   ]
  },
  {
   "cell_type": "code",
   "execution_count": 21,
   "metadata": {},
   "outputs": [
    {
     "data": {
      "text/plain": [
       "1241"
      ]
     },
     "execution_count": 21,
     "metadata": {},
     "output_type": "execute_result"
    }
   ],
   "source": [
    "cell_df = pd.read_csv('../data/HN_patient_specific/AS_et_al_cellInfo2.csv', index_col=0)\n",
    "cell_list = sorted(list(cell_df.index))\n",
    "len(cell_list)"
   ]
  },
  {
   "cell_type": "markdown",
   "metadata": {},
   "source": [
    "#### /mnt/projects/sharmaa/ith_2015/Justine/MUX*files"
   ]
  },
  {
   "cell_type": "code",
   "execution_count": 22,
   "metadata": {},
   "outputs": [
    {
     "name": "stdout",
     "output_type": "stream",
     "text": [
      "(57268, 96)\n",
      "(57268, 96)\n",
      "(57268, 96)\n",
      "(57268, 95)\n",
      "(57268, 96)\n"
     ]
    }
   ],
   "source": [
    "df_list = []\n",
    "\n",
    "for fname in glob.glob('../data/HN_patient_specific/star_rsem_output/MUX*/*-count*'):\n",
    "    df = pd.read_csv(fname, sep='\\t', index_col=0)\n",
    "    print (df.shape)\n",
    "    df_list += [df]\n",
    "    \n",
    "count_df = pd.concat(df_list, axis=1)\n",
    "count_df.head()"
   ]
  },
  {
   "cell_type": "code",
   "execution_count": 24,
   "metadata": {},
   "outputs": [
    {
     "data": {
      "text/plain": [
       "Index(['RHO238', 'RHO239', 'RHO240', 'RHO241', 'RHO242', 'RHO243', 'RHO244',\n",
       "       'RHO245', 'RHO246', 'RHO247',\n",
       "       ...\n",
       "       'RHO708', 'RHO709', 'RHO710', 'RHO711', 'RHO712', 'RHO713', 'RHO714',\n",
       "       'RHO715', 'RHO716', 'RHO717'],\n",
       "      dtype='object', length=473)"
      ]
     },
     "execution_count": 24,
     "metadata": {},
     "output_type": "execute_result"
    }
   ],
   "source": [
    "count_df.columns & cell_list"
   ]
  },
  {
   "cell_type": "markdown",
   "metadata": {},
   "source": [
    "##### /mnt/projects/sharmaa/ith_2015/Justine/HN120-182"
   ]
  },
  {
   "cell_type": "code",
   "execution_count": 25,
   "metadata": {},
   "outputs": [],
   "source": [
    "count_df = pd.read_csv('../data/HN_patient_specific/star_rsem_output/HN120-182/countdata.csv', index_col=0)"
   ]
  },
  {
   "cell_type": "code",
   "execution_count": 29,
   "metadata": {},
   "outputs": [
    {
     "data": {
      "text/html": [
       "<div>\n",
       "<style scoped>\n",
       "    .dataframe tbody tr th:only-of-type {\n",
       "        vertical-align: middle;\n",
       "    }\n",
       "\n",
       "    .dataframe tbody tr th {\n",
       "        vertical-align: top;\n",
       "    }\n",
       "\n",
       "    .dataframe thead th {\n",
       "        text-align: right;\n",
       "    }\n",
       "</style>\n",
       "<table border=\"1\" class=\"dataframe\">\n",
       "  <thead>\n",
       "    <tr style=\"text-align: right;\">\n",
       "      <th></th>\n",
       "      <th>RHH2176</th>\n",
       "      <th>RHH2177</th>\n",
       "      <th>RHH2178</th>\n",
       "      <th>RHH2179</th>\n",
       "      <th>RHH2180</th>\n",
       "      <th>RHH2181</th>\n",
       "      <th>RHH2182</th>\n",
       "      <th>RHH2183</th>\n",
       "      <th>RHH2184</th>\n",
       "      <th>RHH2185</th>\n",
       "      <th>...</th>\n",
       "      <th>RHO708</th>\n",
       "      <th>RHO709</th>\n",
       "      <th>RHO710</th>\n",
       "      <th>RHO711</th>\n",
       "      <th>RHO712</th>\n",
       "      <th>RHO713</th>\n",
       "      <th>RHO714</th>\n",
       "      <th>RHO715</th>\n",
       "      <th>RHO716</th>\n",
       "      <th>RHO717</th>\n",
       "    </tr>\n",
       "    <tr>\n",
       "      <th></th>\n",
       "      <th></th>\n",
       "      <th></th>\n",
       "      <th></th>\n",
       "      <th></th>\n",
       "      <th></th>\n",
       "      <th></th>\n",
       "      <th></th>\n",
       "      <th></th>\n",
       "      <th></th>\n",
       "      <th></th>\n",
       "      <th></th>\n",
       "      <th></th>\n",
       "      <th></th>\n",
       "      <th></th>\n",
       "      <th></th>\n",
       "      <th></th>\n",
       "      <th></th>\n",
       "      <th></th>\n",
       "      <th></th>\n",
       "      <th></th>\n",
       "      <th></th>\n",
       "    </tr>\n",
       "  </thead>\n",
       "  <tbody>\n",
       "    <tr>\n",
       "      <th>TSPAN6</th>\n",
       "      <td>2.0</td>\n",
       "      <td>7.0</td>\n",
       "      <td>132.0</td>\n",
       "      <td>58.0</td>\n",
       "      <td>11.0</td>\n",
       "      <td>115.0</td>\n",
       "      <td>2.0</td>\n",
       "      <td>13.0</td>\n",
       "      <td>27.0</td>\n",
       "      <td>1.0</td>\n",
       "      <td>...</td>\n",
       "      <td>295.0</td>\n",
       "      <td>116.0</td>\n",
       "      <td>0.0</td>\n",
       "      <td>121.0</td>\n",
       "      <td>38.0</td>\n",
       "      <td>116.0</td>\n",
       "      <td>234.0</td>\n",
       "      <td>227.0</td>\n",
       "      <td>17.0</td>\n",
       "      <td>71.0</td>\n",
       "    </tr>\n",
       "    <tr>\n",
       "      <th>TNMD</th>\n",
       "      <td>0.0</td>\n",
       "      <td>0.0</td>\n",
       "      <td>0.0</td>\n",
       "      <td>0.0</td>\n",
       "      <td>0.0</td>\n",
       "      <td>0.0</td>\n",
       "      <td>0.0</td>\n",
       "      <td>0.0</td>\n",
       "      <td>0.0</td>\n",
       "      <td>0.0</td>\n",
       "      <td>...</td>\n",
       "      <td>0.0</td>\n",
       "      <td>0.0</td>\n",
       "      <td>0.0</td>\n",
       "      <td>0.0</td>\n",
       "      <td>0.0</td>\n",
       "      <td>0.0</td>\n",
       "      <td>0.0</td>\n",
       "      <td>0.0</td>\n",
       "      <td>0.0</td>\n",
       "      <td>0.0</td>\n",
       "    </tr>\n",
       "    <tr>\n",
       "      <th>DPM1</th>\n",
       "      <td>0.0</td>\n",
       "      <td>1.0</td>\n",
       "      <td>50.0</td>\n",
       "      <td>24.0</td>\n",
       "      <td>24.0</td>\n",
       "      <td>40.0</td>\n",
       "      <td>3.0</td>\n",
       "      <td>3.0</td>\n",
       "      <td>4.0</td>\n",
       "      <td>1.0</td>\n",
       "      <td>...</td>\n",
       "      <td>341.0</td>\n",
       "      <td>11.0</td>\n",
       "      <td>0.0</td>\n",
       "      <td>23.0</td>\n",
       "      <td>16.0</td>\n",
       "      <td>189.0</td>\n",
       "      <td>291.0</td>\n",
       "      <td>121.0</td>\n",
       "      <td>20.0</td>\n",
       "      <td>26.0</td>\n",
       "    </tr>\n",
       "    <tr>\n",
       "      <th>SCYL3</th>\n",
       "      <td>0.0</td>\n",
       "      <td>0.0</td>\n",
       "      <td>36.0</td>\n",
       "      <td>4.0</td>\n",
       "      <td>0.0</td>\n",
       "      <td>0.0</td>\n",
       "      <td>0.0</td>\n",
       "      <td>0.0</td>\n",
       "      <td>0.0</td>\n",
       "      <td>0.0</td>\n",
       "      <td>...</td>\n",
       "      <td>25.0</td>\n",
       "      <td>4.0</td>\n",
       "      <td>0.0</td>\n",
       "      <td>20.0</td>\n",
       "      <td>0.0</td>\n",
       "      <td>0.0</td>\n",
       "      <td>0.0</td>\n",
       "      <td>2.0</td>\n",
       "      <td>0.0</td>\n",
       "      <td>6.0</td>\n",
       "    </tr>\n",
       "    <tr>\n",
       "      <th>C1orf112</th>\n",
       "      <td>0.0</td>\n",
       "      <td>0.0</td>\n",
       "      <td>0.0</td>\n",
       "      <td>4.0</td>\n",
       "      <td>2.0</td>\n",
       "      <td>0.0</td>\n",
       "      <td>9.0</td>\n",
       "      <td>0.0</td>\n",
       "      <td>0.0</td>\n",
       "      <td>0.0</td>\n",
       "      <td>...</td>\n",
       "      <td>10.0</td>\n",
       "      <td>0.0</td>\n",
       "      <td>0.0</td>\n",
       "      <td>1.0</td>\n",
       "      <td>0.0</td>\n",
       "      <td>3.0</td>\n",
       "      <td>1.0</td>\n",
       "      <td>38.0</td>\n",
       "      <td>5.0</td>\n",
       "      <td>0.0</td>\n",
       "    </tr>\n",
       "  </tbody>\n",
       "</table>\n",
       "<p>5 rows × 1247 columns</p>\n",
       "</div>"
      ],
      "text/plain": [
       "          RHH2176  RHH2177  RHH2178  RHH2179  RHH2180  RHH2181  RHH2182  \\\n",
       "                                                                          \n",
       "TSPAN6        2.0      7.0    132.0     58.0     11.0    115.0      2.0   \n",
       "TNMD          0.0      0.0      0.0      0.0      0.0      0.0      0.0   \n",
       "DPM1          0.0      1.0     50.0     24.0     24.0     40.0      3.0   \n",
       "SCYL3         0.0      0.0     36.0      4.0      0.0      0.0      0.0   \n",
       "C1orf112      0.0      0.0      0.0      4.0      2.0      0.0      9.0   \n",
       "\n",
       "          RHH2183  RHH2184  RHH2185  ...  RHO708  RHO709  RHO710  RHO711  \\\n",
       "                                     ...                                   \n",
       "TSPAN6       13.0     27.0      1.0  ...   295.0   116.0     0.0   121.0   \n",
       "TNMD          0.0      0.0      0.0  ...     0.0     0.0     0.0     0.0   \n",
       "DPM1          3.0      4.0      1.0  ...   341.0    11.0     0.0    23.0   \n",
       "SCYL3         0.0      0.0      0.0  ...    25.0     4.0     0.0    20.0   \n",
       "C1orf112      0.0      0.0      0.0  ...    10.0     0.0     0.0     1.0   \n",
       "\n",
       "          RHO712  RHO713  RHO714  RHO715  RHO716  RHO717  \n",
       "                                                          \n",
       "TSPAN6      38.0   116.0   234.0   227.0    17.0    71.0  \n",
       "TNMD         0.0     0.0     0.0     0.0     0.0     0.0  \n",
       "DPM1        16.0   189.0   291.0   121.0    20.0    26.0  \n",
       "SCYL3        0.0     0.0     0.0     2.0     0.0     6.0  \n",
       "C1orf112     0.0     3.0     1.0    38.0     5.0     0.0  \n",
       "\n",
       "[5 rows x 1247 columns]"
      ]
     },
     "execution_count": 29,
     "metadata": {},
     "output_type": "execute_result"
    }
   ],
   "source": [
    "count_df = count_df.set_index(\"mat57[, 1]\")\n",
    "count_df.index.name = ''\n",
    "count_df.head()"
   ]
  },
  {
   "cell_type": "code",
   "execution_count": 30,
   "metadata": {},
   "outputs": [
    {
     "data": {
      "text/plain": [
       "Index(['RHH2176', 'RHH2177', 'RHH2178', 'RHH2179', 'RHH2180', 'RHH2181',\n",
       "       'RHH2182', 'RHH2183', 'RHH2184', 'RHH2185',\n",
       "       ...\n",
       "       'RHO708', 'RHO709', 'RHO710', 'RHO711', 'RHO712', 'RHO713', 'RHO714',\n",
       "       'RHO715', 'RHO716', 'RHO717'],\n",
       "      dtype='object', length=1241)"
      ]
     },
     "execution_count": 30,
     "metadata": {},
     "output_type": "execute_result"
    }
   ],
   "source": [
    "count_df.columns & cell_list"
   ]
  },
  {
   "cell_type": "code",
   "execution_count": null,
   "metadata": {},
   "outputs": [],
   "source": []
  }
 ],
 "metadata": {
  "kernelspec": {
   "display_name": "Python 3",
   "language": "python",
   "name": "python3"
  },
  "language_info": {
   "codemirror_mode": {
    "name": "ipython",
    "version": 3
   },
   "file_extension": ".py",
   "mimetype": "text/x-python",
   "name": "python",
   "nbconvert_exporter": "python",
   "pygments_lexer": "ipython3",
   "version": "3.6.8"
  },
  "toc": {
   "base_numbering": 1,
   "nav_menu": {},
   "number_sections": false,
   "sideBar": true,
   "skip_h1_title": false,
   "title_cell": "Table of Contents",
   "title_sidebar": "Contents",
   "toc_cell": false,
   "toc_position": {},
   "toc_section_display": true,
   "toc_window_display": false
  }
 },
 "nbformat": 4,
 "nbformat_minor": 2
}
